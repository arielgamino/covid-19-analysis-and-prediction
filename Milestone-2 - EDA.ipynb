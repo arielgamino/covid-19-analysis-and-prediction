{
 "cells": [
  {
   "cell_type": "code",
   "execution_count": 1,
   "metadata": {},
   "outputs": [],
   "source": [
    "import pandas as pd\n",
    "import numpy as np\n",
    "import matplotlib.pyplot as plt \n",
    "import plotly.express as px\n",
    "import warnings\n",
    "import ipywidgets as widgets\n",
    "from ipywidgets import interact, interactive, interact_manual\n",
    "import plotly.graph_objects as go\n",
    "\n",
    "# Supress scientific notation/warning\n",
    "pd.set_option('display.float_format', lambda x: '%.5f' % x)\n",
    "warnings.filterwarnings(\"ignore\")"
   ]
  },
  {
   "cell_type": "markdown",
   "metadata": {},
   "source": [
    "## Load Data"
   ]
  },
  {
   "cell_type": "code",
   "execution_count": 2,
   "metadata": {},
   "outputs": [],
   "source": [
    "# Confirmed Global Cases\n",
    "confirmed_df = pd.read_csv(\"https://raw.githubusercontent.com/CSSEGISandData/COVID-19/master/csse_covid_19_data/csse_covid_19_time_series/time_series_covid19_confirmed_global.csv\")\n",
    "# Number of Death Cases - Global\n",
    "deaths_df = pd.read_csv(\"https://raw.githubusercontent.com/CSSEGISandData/COVID-19/master/csse_covid_19_data/csse_covid_19_time_series/time_series_covid19_deaths_global.csv\")\n",
    "# Number of recovered cases - Global\n",
    "recovered_df = pd.read_csv(\"https://raw.githubusercontent.com/CSSEGISandData/COVID-19/master/csse_covid_19_data/csse_covid_19_time_series/time_series_covid19_recovered_global.csv\")\n",
    "# US Confirmed Cases\n",
    "us_confirmed_df = pd.read_csv(\"https://raw.githubusercontent.com/CSSEGISandData/COVID-19/master/csse_covid_19_data/csse_covid_19_time_series/time_series_covid19_confirmed_US.csv\")\n",
    "# US Death Cases\n",
    "us_death_df = pd.read_csv(\"https://raw.githubusercontent.com/CSSEGISandData/COVID-19/master/csse_covid_19_data/csse_covid_19_time_series/time_series_covid19_deaths_US.csv\")\n",
    "# Country-specific Data\n",
    "country_df = pd.read_csv(\"https://raw.githubusercontent.com/CSSEGISandData/COVID-19/web-data/data/cases_country.csv\")"
   ]
  },
  {
   "cell_type": "markdown",
   "metadata": {},
   "source": [
    "### Rename column names to lower case"
   ]
  },
  {
   "cell_type": "code",
   "execution_count": 3,
   "metadata": {},
   "outputs": [],
   "source": [
    "confirmed_df.columns = confirmed_df.columns.str.lower()\n",
    "deaths_df.columns = deaths_df.columns.str.lower()\n",
    "recovered_df.columns = recovered_df.columns.str.lower()\n",
    "us_confirmed_df.columns = us_confirmed_df.columns.str.lower()\n",
    "us_death_df.columns = us_death_df.columns.str.lower()\n",
    "country_df.columns = country_df.columns.str.lower()"
   ]
  },
  {
   "cell_type": "markdown",
   "metadata": {},
   "source": [
    "### Explore the aggregate numbers"
   ]
  },
  {
   "cell_type": "code",
   "execution_count": 4,
   "metadata": {},
   "outputs": [
    {
     "name": "stdout",
     "output_type": "stream",
     "text": [
      "Number of global confirmed cases:31,517,087\n"
     ]
    }
   ],
   "source": [
    "# Number of global confirmed cases. Use last column's value as they are the latest\n",
    "print(f\"Number of global confirmed cases:{confirmed_df.iloc[:,-1:].sum().values[0]:,}\")"
   ]
  },
  {
   "cell_type": "code",
   "execution_count": 5,
   "metadata": {},
   "outputs": [
    {
     "name": "stdout",
     "output_type": "stream",
     "text": [
      "Number of global deads:969,541\n"
     ]
    }
   ],
   "source": [
    "# Number of global deads. Use last column's value as they are the latest\n",
    "print(f\"Number of global deads:{deaths_df.iloc[:,-1:].sum().values[0]:,}\")"
   ]
  },
  {
   "cell_type": "code",
   "execution_count": 6,
   "metadata": {},
   "outputs": [
    {
     "name": "stdout",
     "output_type": "stream",
     "text": [
      "Number of recovered cases:21,624,434\n"
     ]
    }
   ],
   "source": [
    "# Number of global recovered cases. Use last column's value as they are the latest\n",
    "print(f\"Number of recovered cases:{recovered_df.iloc[:,-1:].sum().values[0]:,}\")"
   ]
  },
  {
   "cell_type": "markdown",
   "metadata": {},
   "source": [
    "### Countries Sorted by total number of confirmed cases"
   ]
  },
  {
   "cell_type": "code",
   "execution_count": 7,
   "metadata": {},
   "outputs": [],
   "source": [
    "def highlight_column(s, column_dict):\n",
    "    \"\"\"Change the color in columns if passed on column_dict\"\"\"\n",
    "    if (s.name in column_dict.keys()):\n",
    "        return ['background-color: {}'.format(column_dict[s.name])] * len(s)\n",
    "    return [''] * len(s)"
   ]
  },
  {
   "cell_type": "code",
   "execution_count": 8,
   "metadata": {},
   "outputs": [
    {
     "data": {
      "application/vnd.jupyter.widget-view+json": {
       "model_id": "b42298974e1d4065a45ef37bb3fa6739",
       "version_major": 2,
       "version_minor": 0
      },
      "text/plain": [
       "interactive(children=(IntSlider(value=188, description='row_max', max=564, min=-188), Output()), _dom_classes=…"
      ]
     },
     "metadata": {},
     "output_type": "display_data"
    }
   ],
   "source": [
    "@interact\n",
    "def number_of_rows(row_max=len(country_df)): \n",
    "    if(row_max<0):\n",
    "        row_max=0\n",
    "    return country_df.sort_values(by=\"confirmed\", ascending=False).head(row_max).style.apply(highlight_column,column_dict={'confirmed':'grey','deaths':'red','recovered':'green'})"
   ]
  },
  {
   "cell_type": "code",
   "execution_count": 9,
   "metadata": {},
   "outputs": [
    {
     "data": {
      "application/vnd.jupyter.widget-view+json": {
       "model_id": "988ac27ec79c41b5a0514a84f295b4f9",
       "version_major": 2,
       "version_minor": 0
      },
      "text/plain": [
       "interactive(children=(IntSlider(value=188, description='row_max', max=564, min=-188), Output()), _dom_classes=…"
      ]
     },
     "metadata": {},
     "output_type": "display_data"
    }
   ],
   "source": [
    "@interact\n",
    "def number_of_countries(row_max=len(country_df)): \n",
    "    if(row_max<0):\n",
    "        row_max=0\n",
    "    countries_to_show_df = country_df.sort_values(by=\"confirmed\", ascending=False).head(row_max)\n",
    "    fig = px.scatter(countries_to_show_df, x=\"confirmed\", y=\"deaths\",size=\"deaths\", color=\"country_region\",\n",
    "                 hover_name=\"country_region\", log_x=True, size_max=60)\n",
    "    fig.show()"
   ]
  },
  {
   "cell_type": "code",
   "execution_count": 10,
   "metadata": {},
   "outputs": [],
   "source": [
    "confirmed_df.rename(columns={\"country/region\": \"country\"}, inplace=True)"
   ]
  },
  {
   "cell_type": "code",
   "execution_count": 11,
   "metadata": {},
   "outputs": [],
   "source": [
    "deaths_df.rename(columns={\"country/region\": \"country\"}, inplace=True)"
   ]
  },
  {
   "cell_type": "code",
   "execution_count": 12,
   "metadata": {},
   "outputs": [],
   "source": [
    "# Number of confirmed cases\n",
    "confirmed_df_y=confirmed_df.query(\"country=='US'\").loc[:,'1/22/20'::].values[0]\n",
    "# X values - dates\n",
    "confirmed_df_x=confirmed_df.query(\"country=='US'\").loc[:,'1/22/20'::].columns"
   ]
  },
  {
   "cell_type": "code",
   "execution_count": 13,
   "metadata": {},
   "outputs": [],
   "source": [
    "# Number of deads\n",
    "deaths_df_y=deaths_df.query(\"country=='US'\").loc[:,'1/22/20'::].values[0]\n",
    "# X values - dates\n",
    "deaths_df_x=deaths_df.query(\"country=='US'\").loc[:,'1/22/20'::].columns"
   ]
  },
  {
   "cell_type": "code",
   "execution_count": 16,
   "metadata": {},
   "outputs": [],
   "source": [
    "confirmed_by_country = confirmed_df.groupby(['country']).sum()\n",
    "deaths_by_country = deaths_df.groupby(['country']).sum()"
   ]
  },
  {
   "cell_type": "code",
   "execution_count": 17,
   "metadata": {},
   "outputs": [
    {
     "data": {
      "text/plain": [
       "Index(['Afghanistan', 'Albania', 'Algeria', 'Andorra', 'Angola',\n",
       "       'Antigua and Barbuda', 'Argentina', 'Armenia', 'Australia', 'Austria',\n",
       "       ...\n",
       "       'United Kingdom', 'Uruguay', 'Uzbekistan', 'Venezuela', 'Vietnam',\n",
       "       'West Bank and Gaza', 'Western Sahara', 'Yemen', 'Zambia', 'Zimbabwe'],\n",
       "      dtype='object', name='country', length=188)"
      ]
     },
     "execution_count": 17,
     "metadata": {},
     "output_type": "execute_result"
    }
   ],
   "source": [
    "confirmed_by_country.index"
   ]
  },
  {
   "cell_type": "code",
   "execution_count": 18,
   "metadata": {},
   "outputs": [
    {
     "data": {
      "application/vnd.jupyter.widget-view+json": {
       "model_id": "8b9c376b110743f4a12f4667e7af88ad",
       "version_major": 2,
       "version_minor": 0
      },
      "text/plain": [
       "interactive(children=(Dropdown(description='country', options=('Afghanistan', 'Albania', 'Algeria', 'Andorra',…"
      ]
     },
     "metadata": {},
     "output_type": "display_data"
    }
   ],
   "source": [
    "@interact\n",
    "def show_by_country(country=confirmed_by_country.index): \n",
    "    \"\"\"Show confirmed and deaths per country\"\"\"\n",
    "    # Number of confirmed cases\n",
    "    confirmed_df_y=confirmed_by_country.query(f\"country=='{country}'\").loc[:,'1/22/20'::].values[0]\n",
    "    # X values - dates\n",
    "    confirmed_df_x=confirmed_by_country.query(f\"country=='{country}'\").loc[:,'1/22/20'::].columns\n",
    "    # Number of deads\n",
    "    deaths_df_y=deaths_by_country.query(f\"country=='{country}'\").loc[:,'1/22/20'::].values[0]\n",
    "    # X values - dates\n",
    "    deaths_df_x=deaths_by_country.query(f\"country=='{country}'\").loc[:,'1/22/20'::].columns\n",
    "    fig = go.Figure()\n",
    "    fig.add_trace(go.Scatter(x=confirmed_df_x,y=confirmed_df_y,mode='lines+markers', name='confirmed'))\n",
    "    fig.add_trace(go.Scatter(x=deaths_df_x,y=deaths_df_y,mode='markers',name='deaths'))\n",
    "    fig.show()"
   ]
  },
  {
   "cell_type": "code",
   "execution_count": 23,
   "metadata": {},
   "outputs": [],
   "source": [
    "# Plot top 10 worst hit countries"
   ]
  },
  {
   "cell_type": "code",
   "execution_count": 21,
   "metadata": {},
   "outputs": [
    {
     "data": {
      "text/plain": [
       "Index(['country_region', 'last_update', 'lat', 'long_', 'confirmed', 'deaths',\n",
       "       'recovered', 'active', 'incident_rate', 'people_tested',\n",
       "       'people_hospitalized', 'mortality_rate', 'uid', 'iso3'],\n",
       "      dtype='object')"
      ]
     },
     "execution_count": 21,
     "metadata": {},
     "output_type": "execute_result"
    }
   ],
   "source": [
    "country_df.columns"
   ]
  },
  {
   "cell_type": "code",
   "execution_count": 25,
   "metadata": {},
   "outputs": [
    {
     "data": {
      "application/vnd.plotly.v1+json": {
       "config": {
        "plotlyServerURL": "https://plot.ly"
       },
       "data": [
        {
         "hovertemplate": "<b>%{hovertext}</b><br><br>country_region=US<br>confirmed=%{marker.size}<br>deaths=%{y}<extra></extra>",
         "hovertext": [
          "US"
         ],
         "legendgroup": "US",
         "marker": {
          "color": "#636efa",
          "size": [
           6940721
          ],
          "sizemode": "area",
          "sizeref": 1927.9780555555556,
          "symbol": "circle"
         },
         "mode": "markers",
         "name": "US",
         "orientation": "v",
         "showlegend": true,
         "type": "scatter",
         "x": [
          6940721
         ],
         "xaxis": "x",
         "y": [
          201882
         ],
         "yaxis": "y"
        },
        {
         "hovertemplate": "<b>%{hovertext}</b><br><br>country_region=India<br>confirmed=%{marker.size}<br>deaths=%{y}<extra></extra>",
         "hovertext": [
          "India"
         ],
         "legendgroup": "India",
         "marker": {
          "color": "#EF553B",
          "size": [
           5646010
          ],
          "sizemode": "area",
          "sizeref": 1927.9780555555556,
          "symbol": "circle"
         },
         "mode": "markers",
         "name": "India",
         "orientation": "v",
         "showlegend": true,
         "type": "scatter",
         "x": [
          5646010
         ],
         "xaxis": "x",
         "y": [
          90020
         ],
         "yaxis": "y"
        },
        {
         "hovertemplate": "<b>%{hovertext}</b><br><br>country_region=Brazil<br>confirmed=%{marker.size}<br>deaths=%{y}<extra></extra>",
         "hovertext": [
          "Brazil"
         ],
         "legendgroup": "Brazil",
         "marker": {
          "color": "#00cc96",
          "size": [
           4591364
          ],
          "sizemode": "area",
          "sizeref": 1927.9780555555556,
          "symbol": "circle"
         },
         "mode": "markers",
         "name": "Brazil",
         "orientation": "v",
         "showlegend": true,
         "type": "scatter",
         "x": [
          4591364
         ],
         "xaxis": "x",
         "y": [
          138105
         ],
         "yaxis": "y"
        },
        {
         "hovertemplate": "<b>%{hovertext}</b><br><br>country_region=Russia<br>confirmed=%{marker.size}<br>deaths=%{y}<extra></extra>",
         "hovertext": [
          "Russia"
         ],
         "legendgroup": "Russia",
         "marker": {
          "color": "#ab63fa",
          "size": [
           1117487
          ],
          "sizemode": "area",
          "sizeref": 1927.9780555555556,
          "symbol": "circle"
         },
         "mode": "markers",
         "name": "Russia",
         "orientation": "v",
         "showlegend": true,
         "type": "scatter",
         "x": [
          1117487
         ],
         "xaxis": "x",
         "y": [
          19720
         ],
         "yaxis": "y"
        },
        {
         "hovertemplate": "<b>%{hovertext}</b><br><br>country_region=Colombia<br>confirmed=%{marker.size}<br>deaths=%{y}<extra></extra>",
         "hovertext": [
          "Colombia"
         ],
         "legendgroup": "Colombia",
         "marker": {
          "color": "#FFA15A",
          "size": [
           784268
          ],
          "sizemode": "area",
          "sizeref": 1927.9780555555556,
          "symbol": "circle"
         },
         "mode": "markers",
         "name": "Colombia",
         "orientation": "v",
         "showlegend": true,
         "type": "scatter",
         "x": [
          784268
         ],
         "xaxis": "x",
         "y": [
          24746
         ],
         "yaxis": "y"
        },
        {
         "hovertemplate": "<b>%{hovertext}</b><br><br>country_region=Peru<br>confirmed=%{marker.size}<br>deaths=%{y}<extra></extra>",
         "hovertext": [
          "Peru"
         ],
         "legendgroup": "Peru",
         "marker": {
          "color": "#19d3f3",
          "size": [
           776546
          ],
          "sizemode": "area",
          "sizeref": 1927.9780555555556,
          "symbol": "circle"
         },
         "mode": "markers",
         "name": "Peru",
         "orientation": "v",
         "showlegend": true,
         "type": "scatter",
         "x": [
          776546
         ],
         "xaxis": "x",
         "y": [
          31568
         ],
         "yaxis": "y"
        },
        {
         "hovertemplate": "<b>%{hovertext}</b><br><br>country_region=Mexico<br>confirmed=%{marker.size}<br>deaths=%{y}<extra></extra>",
         "hovertext": [
          "Mexico"
         ],
         "legendgroup": "Mexico",
         "marker": {
          "color": "#FF6692",
          "size": [
           705263
          ],
          "sizemode": "area",
          "sizeref": 1927.9780555555556,
          "symbol": "circle"
         },
         "mode": "markers",
         "name": "Mexico",
         "orientation": "v",
         "showlegend": true,
         "type": "scatter",
         "x": [
          705263
         ],
         "xaxis": "x",
         "y": [
          74348
         ],
         "yaxis": "y"
        },
        {
         "hovertemplate": "<b>%{hovertext}</b><br><br>country_region=Spain<br>confirmed=%{marker.size}<br>deaths=%{y}<extra></extra>",
         "hovertext": [
          "Spain"
         ],
         "legendgroup": "Spain",
         "marker": {
          "color": "#B6E880",
          "size": [
           693556
          ],
          "sizemode": "area",
          "sizeref": 1927.9780555555556,
          "symbol": "circle"
         },
         "mode": "markers",
         "name": "Spain",
         "orientation": "v",
         "showlegend": true,
         "type": "scatter",
         "x": [
          693556
         ],
         "xaxis": "x",
         "y": [
          31034
         ],
         "yaxis": "y"
        },
        {
         "hovertemplate": "<b>%{hovertext}</b><br><br>country_region=South Africa<br>confirmed=%{marker.size}<br>deaths=%{y}<extra></extra>",
         "hovertext": [
          "South Africa"
         ],
         "legendgroup": "South Africa",
         "marker": {
          "color": "#FF97FF",
          "size": [
           665188
          ],
          "sizemode": "area",
          "sizeref": 1927.9780555555556,
          "symbol": "circle"
         },
         "mode": "markers",
         "name": "South Africa",
         "orientation": "v",
         "showlegend": true,
         "type": "scatter",
         "x": [
          665188
         ],
         "xaxis": "x",
         "y": [
          16206
         ],
         "yaxis": "y"
        },
        {
         "hovertemplate": "<b>%{hovertext}</b><br><br>country_region=Argentina<br>confirmed=%{marker.size}<br>deaths=%{y}<extra></extra>",
         "hovertext": [
          "Argentina"
         ],
         "legendgroup": "Argentina",
         "marker": {
          "color": "#FECB52",
          "size": [
           652174
          ],
          "sizemode": "area",
          "sizeref": 1927.9780555555556,
          "symbol": "circle"
         },
         "mode": "markers",
         "name": "Argentina",
         "orientation": "v",
         "showlegend": true,
         "type": "scatter",
         "x": [
          652174
         ],
         "xaxis": "x",
         "y": [
          13952
         ],
         "yaxis": "y"
        }
       ],
       "layout": {
        "legend": {
         "itemsizing": "constant",
         "title": {
          "text": "country_region"
         },
         "tracegroupgap": 0
        },
        "margin": {
         "t": 60
        },
        "template": {
         "data": {
          "bar": [
           {
            "error_x": {
             "color": "#2a3f5f"
            },
            "error_y": {
             "color": "#2a3f5f"
            },
            "marker": {
             "line": {
              "color": "#E5ECF6",
              "width": 0.5
             }
            },
            "type": "bar"
           }
          ],
          "barpolar": [
           {
            "marker": {
             "line": {
              "color": "#E5ECF6",
              "width": 0.5
             }
            },
            "type": "barpolar"
           }
          ],
          "carpet": [
           {
            "aaxis": {
             "endlinecolor": "#2a3f5f",
             "gridcolor": "white",
             "linecolor": "white",
             "minorgridcolor": "white",
             "startlinecolor": "#2a3f5f"
            },
            "baxis": {
             "endlinecolor": "#2a3f5f",
             "gridcolor": "white",
             "linecolor": "white",
             "minorgridcolor": "white",
             "startlinecolor": "#2a3f5f"
            },
            "type": "carpet"
           }
          ],
          "choropleth": [
           {
            "colorbar": {
             "outlinewidth": 0,
             "ticks": ""
            },
            "type": "choropleth"
           }
          ],
          "contour": [
           {
            "colorbar": {
             "outlinewidth": 0,
             "ticks": ""
            },
            "colorscale": [
             [
              0,
              "#0d0887"
             ],
             [
              0.1111111111111111,
              "#46039f"
             ],
             [
              0.2222222222222222,
              "#7201a8"
             ],
             [
              0.3333333333333333,
              "#9c179e"
             ],
             [
              0.4444444444444444,
              "#bd3786"
             ],
             [
              0.5555555555555556,
              "#d8576b"
             ],
             [
              0.6666666666666666,
              "#ed7953"
             ],
             [
              0.7777777777777778,
              "#fb9f3a"
             ],
             [
              0.8888888888888888,
              "#fdca26"
             ],
             [
              1,
              "#f0f921"
             ]
            ],
            "type": "contour"
           }
          ],
          "contourcarpet": [
           {
            "colorbar": {
             "outlinewidth": 0,
             "ticks": ""
            },
            "type": "contourcarpet"
           }
          ],
          "heatmap": [
           {
            "colorbar": {
             "outlinewidth": 0,
             "ticks": ""
            },
            "colorscale": [
             [
              0,
              "#0d0887"
             ],
             [
              0.1111111111111111,
              "#46039f"
             ],
             [
              0.2222222222222222,
              "#7201a8"
             ],
             [
              0.3333333333333333,
              "#9c179e"
             ],
             [
              0.4444444444444444,
              "#bd3786"
             ],
             [
              0.5555555555555556,
              "#d8576b"
             ],
             [
              0.6666666666666666,
              "#ed7953"
             ],
             [
              0.7777777777777778,
              "#fb9f3a"
             ],
             [
              0.8888888888888888,
              "#fdca26"
             ],
             [
              1,
              "#f0f921"
             ]
            ],
            "type": "heatmap"
           }
          ],
          "heatmapgl": [
           {
            "colorbar": {
             "outlinewidth": 0,
             "ticks": ""
            },
            "colorscale": [
             [
              0,
              "#0d0887"
             ],
             [
              0.1111111111111111,
              "#46039f"
             ],
             [
              0.2222222222222222,
              "#7201a8"
             ],
             [
              0.3333333333333333,
              "#9c179e"
             ],
             [
              0.4444444444444444,
              "#bd3786"
             ],
             [
              0.5555555555555556,
              "#d8576b"
             ],
             [
              0.6666666666666666,
              "#ed7953"
             ],
             [
              0.7777777777777778,
              "#fb9f3a"
             ],
             [
              0.8888888888888888,
              "#fdca26"
             ],
             [
              1,
              "#f0f921"
             ]
            ],
            "type": "heatmapgl"
           }
          ],
          "histogram": [
           {
            "marker": {
             "colorbar": {
              "outlinewidth": 0,
              "ticks": ""
             }
            },
            "type": "histogram"
           }
          ],
          "histogram2d": [
           {
            "colorbar": {
             "outlinewidth": 0,
             "ticks": ""
            },
            "colorscale": [
             [
              0,
              "#0d0887"
             ],
             [
              0.1111111111111111,
              "#46039f"
             ],
             [
              0.2222222222222222,
              "#7201a8"
             ],
             [
              0.3333333333333333,
              "#9c179e"
             ],
             [
              0.4444444444444444,
              "#bd3786"
             ],
             [
              0.5555555555555556,
              "#d8576b"
             ],
             [
              0.6666666666666666,
              "#ed7953"
             ],
             [
              0.7777777777777778,
              "#fb9f3a"
             ],
             [
              0.8888888888888888,
              "#fdca26"
             ],
             [
              1,
              "#f0f921"
             ]
            ],
            "type": "histogram2d"
           }
          ],
          "histogram2dcontour": [
           {
            "colorbar": {
             "outlinewidth": 0,
             "ticks": ""
            },
            "colorscale": [
             [
              0,
              "#0d0887"
             ],
             [
              0.1111111111111111,
              "#46039f"
             ],
             [
              0.2222222222222222,
              "#7201a8"
             ],
             [
              0.3333333333333333,
              "#9c179e"
             ],
             [
              0.4444444444444444,
              "#bd3786"
             ],
             [
              0.5555555555555556,
              "#d8576b"
             ],
             [
              0.6666666666666666,
              "#ed7953"
             ],
             [
              0.7777777777777778,
              "#fb9f3a"
             ],
             [
              0.8888888888888888,
              "#fdca26"
             ],
             [
              1,
              "#f0f921"
             ]
            ],
            "type": "histogram2dcontour"
           }
          ],
          "mesh3d": [
           {
            "colorbar": {
             "outlinewidth": 0,
             "ticks": ""
            },
            "type": "mesh3d"
           }
          ],
          "parcoords": [
           {
            "line": {
             "colorbar": {
              "outlinewidth": 0,
              "ticks": ""
             }
            },
            "type": "parcoords"
           }
          ],
          "pie": [
           {
            "automargin": true,
            "type": "pie"
           }
          ],
          "scatter": [
           {
            "marker": {
             "colorbar": {
              "outlinewidth": 0,
              "ticks": ""
             }
            },
            "type": "scatter"
           }
          ],
          "scatter3d": [
           {
            "line": {
             "colorbar": {
              "outlinewidth": 0,
              "ticks": ""
             }
            },
            "marker": {
             "colorbar": {
              "outlinewidth": 0,
              "ticks": ""
             }
            },
            "type": "scatter3d"
           }
          ],
          "scattercarpet": [
           {
            "marker": {
             "colorbar": {
              "outlinewidth": 0,
              "ticks": ""
             }
            },
            "type": "scattercarpet"
           }
          ],
          "scattergeo": [
           {
            "marker": {
             "colorbar": {
              "outlinewidth": 0,
              "ticks": ""
             }
            },
            "type": "scattergeo"
           }
          ],
          "scattergl": [
           {
            "marker": {
             "colorbar": {
              "outlinewidth": 0,
              "ticks": ""
             }
            },
            "type": "scattergl"
           }
          ],
          "scattermapbox": [
           {
            "marker": {
             "colorbar": {
              "outlinewidth": 0,
              "ticks": ""
             }
            },
            "type": "scattermapbox"
           }
          ],
          "scatterpolar": [
           {
            "marker": {
             "colorbar": {
              "outlinewidth": 0,
              "ticks": ""
             }
            },
            "type": "scatterpolar"
           }
          ],
          "scatterpolargl": [
           {
            "marker": {
             "colorbar": {
              "outlinewidth": 0,
              "ticks": ""
             }
            },
            "type": "scatterpolargl"
           }
          ],
          "scatterternary": [
           {
            "marker": {
             "colorbar": {
              "outlinewidth": 0,
              "ticks": ""
             }
            },
            "type": "scatterternary"
           }
          ],
          "surface": [
           {
            "colorbar": {
             "outlinewidth": 0,
             "ticks": ""
            },
            "colorscale": [
             [
              0,
              "#0d0887"
             ],
             [
              0.1111111111111111,
              "#46039f"
             ],
             [
              0.2222222222222222,
              "#7201a8"
             ],
             [
              0.3333333333333333,
              "#9c179e"
             ],
             [
              0.4444444444444444,
              "#bd3786"
             ],
             [
              0.5555555555555556,
              "#d8576b"
             ],
             [
              0.6666666666666666,
              "#ed7953"
             ],
             [
              0.7777777777777778,
              "#fb9f3a"
             ],
             [
              0.8888888888888888,
              "#fdca26"
             ],
             [
              1,
              "#f0f921"
             ]
            ],
            "type": "surface"
           }
          ],
          "table": [
           {
            "cells": {
             "fill": {
              "color": "#EBF0F8"
             },
             "line": {
              "color": "white"
             }
            },
            "header": {
             "fill": {
              "color": "#C8D4E3"
             },
             "line": {
              "color": "white"
             }
            },
            "type": "table"
           }
          ]
         },
         "layout": {
          "annotationdefaults": {
           "arrowcolor": "#2a3f5f",
           "arrowhead": 0,
           "arrowwidth": 1
          },
          "coloraxis": {
           "colorbar": {
            "outlinewidth": 0,
            "ticks": ""
           }
          },
          "colorscale": {
           "diverging": [
            [
             0,
             "#8e0152"
            ],
            [
             0.1,
             "#c51b7d"
            ],
            [
             0.2,
             "#de77ae"
            ],
            [
             0.3,
             "#f1b6da"
            ],
            [
             0.4,
             "#fde0ef"
            ],
            [
             0.5,
             "#f7f7f7"
            ],
            [
             0.6,
             "#e6f5d0"
            ],
            [
             0.7,
             "#b8e186"
            ],
            [
             0.8,
             "#7fbc41"
            ],
            [
             0.9,
             "#4d9221"
            ],
            [
             1,
             "#276419"
            ]
           ],
           "sequential": [
            [
             0,
             "#0d0887"
            ],
            [
             0.1111111111111111,
             "#46039f"
            ],
            [
             0.2222222222222222,
             "#7201a8"
            ],
            [
             0.3333333333333333,
             "#9c179e"
            ],
            [
             0.4444444444444444,
             "#bd3786"
            ],
            [
             0.5555555555555556,
             "#d8576b"
            ],
            [
             0.6666666666666666,
             "#ed7953"
            ],
            [
             0.7777777777777778,
             "#fb9f3a"
            ],
            [
             0.8888888888888888,
             "#fdca26"
            ],
            [
             1,
             "#f0f921"
            ]
           ],
           "sequentialminus": [
            [
             0,
             "#0d0887"
            ],
            [
             0.1111111111111111,
             "#46039f"
            ],
            [
             0.2222222222222222,
             "#7201a8"
            ],
            [
             0.3333333333333333,
             "#9c179e"
            ],
            [
             0.4444444444444444,
             "#bd3786"
            ],
            [
             0.5555555555555556,
             "#d8576b"
            ],
            [
             0.6666666666666666,
             "#ed7953"
            ],
            [
             0.7777777777777778,
             "#fb9f3a"
            ],
            [
             0.8888888888888888,
             "#fdca26"
            ],
            [
             1,
             "#f0f921"
            ]
           ]
          },
          "colorway": [
           "#636efa",
           "#EF553B",
           "#00cc96",
           "#ab63fa",
           "#FFA15A",
           "#19d3f3",
           "#FF6692",
           "#B6E880",
           "#FF97FF",
           "#FECB52"
          ],
          "font": {
           "color": "#2a3f5f"
          },
          "geo": {
           "bgcolor": "white",
           "lakecolor": "white",
           "landcolor": "#E5ECF6",
           "showlakes": true,
           "showland": true,
           "subunitcolor": "white"
          },
          "hoverlabel": {
           "align": "left"
          },
          "hovermode": "closest",
          "mapbox": {
           "style": "light"
          },
          "paper_bgcolor": "white",
          "plot_bgcolor": "#E5ECF6",
          "polar": {
           "angularaxis": {
            "gridcolor": "white",
            "linecolor": "white",
            "ticks": ""
           },
           "bgcolor": "#E5ECF6",
           "radialaxis": {
            "gridcolor": "white",
            "linecolor": "white",
            "ticks": ""
           }
          },
          "scene": {
           "xaxis": {
            "backgroundcolor": "#E5ECF6",
            "gridcolor": "white",
            "gridwidth": 2,
            "linecolor": "white",
            "showbackground": true,
            "ticks": "",
            "zerolinecolor": "white"
           },
           "yaxis": {
            "backgroundcolor": "#E5ECF6",
            "gridcolor": "white",
            "gridwidth": 2,
            "linecolor": "white",
            "showbackground": true,
            "ticks": "",
            "zerolinecolor": "white"
           },
           "zaxis": {
            "backgroundcolor": "#E5ECF6",
            "gridcolor": "white",
            "gridwidth": 2,
            "linecolor": "white",
            "showbackground": true,
            "ticks": "",
            "zerolinecolor": "white"
           }
          },
          "shapedefaults": {
           "line": {
            "color": "#2a3f5f"
           }
          },
          "ternary": {
           "aaxis": {
            "gridcolor": "white",
            "linecolor": "white",
            "ticks": ""
           },
           "baxis": {
            "gridcolor": "white",
            "linecolor": "white",
            "ticks": ""
           },
           "bgcolor": "#E5ECF6",
           "caxis": {
            "gridcolor": "white",
            "linecolor": "white",
            "ticks": ""
           }
          },
          "title": {
           "x": 0.05
          },
          "xaxis": {
           "automargin": true,
           "gridcolor": "white",
           "linecolor": "white",
           "ticks": "",
           "title": {
            "standoff": 15
           },
           "zerolinecolor": "white",
           "zerolinewidth": 2
          },
          "yaxis": {
           "automargin": true,
           "gridcolor": "white",
           "linecolor": "white",
           "ticks": "",
           "title": {
            "standoff": 15
           },
           "zerolinecolor": "white",
           "zerolinewidth": 2
          }
         }
        },
        "xaxis": {
         "anchor": "y",
         "domain": [
          0,
          1
         ],
         "title": {
          "text": "confirmed"
         },
         "type": "log"
        },
        "yaxis": {
         "anchor": "x",
         "domain": [
          0,
          1
         ],
         "title": {
          "text": "deaths"
         }
        }
       }
      },
      "text/html": [
       "<div>                            <div id=\"fa375034-3d65-4e7b-bdb2-0a1aeb29d1f0\" class=\"plotly-graph-div\" style=\"height:525px; width:100%;\"></div>            <script type=\"text/javascript\">                require([\"plotly\"], function(Plotly) {                    window.PLOTLYENV=window.PLOTLYENV || {};                                    if (document.getElementById(\"fa375034-3d65-4e7b-bdb2-0a1aeb29d1f0\")) {                    Plotly.newPlot(                        \"fa375034-3d65-4e7b-bdb2-0a1aeb29d1f0\",                        [{\"hovertemplate\": \"<b>%{hovertext}</b><br><br>country_region=US<br>confirmed=%{marker.size}<br>deaths=%{y}<extra></extra>\", \"hovertext\": [\"US\"], \"legendgroup\": \"US\", \"marker\": {\"color\": \"#636efa\", \"size\": [6940721.0], \"sizemode\": \"area\", \"sizeref\": 1927.9780555555556, \"symbol\": \"circle\"}, \"mode\": \"markers\", \"name\": \"US\", \"orientation\": \"v\", \"showlegend\": true, \"type\": \"scatter\", \"x\": [6940721.0], \"xaxis\": \"x\", \"y\": [201882.0], \"yaxis\": \"y\"}, {\"hovertemplate\": \"<b>%{hovertext}</b><br><br>country_region=India<br>confirmed=%{marker.size}<br>deaths=%{y}<extra></extra>\", \"hovertext\": [\"India\"], \"legendgroup\": \"India\", \"marker\": {\"color\": \"#EF553B\", \"size\": [5646010.0], \"sizemode\": \"area\", \"sizeref\": 1927.9780555555556, \"symbol\": \"circle\"}, \"mode\": \"markers\", \"name\": \"India\", \"orientation\": \"v\", \"showlegend\": true, \"type\": \"scatter\", \"x\": [5646010.0], \"xaxis\": \"x\", \"y\": [90020.0], \"yaxis\": \"y\"}, {\"hovertemplate\": \"<b>%{hovertext}</b><br><br>country_region=Brazil<br>confirmed=%{marker.size}<br>deaths=%{y}<extra></extra>\", \"hovertext\": [\"Brazil\"], \"legendgroup\": \"Brazil\", \"marker\": {\"color\": \"#00cc96\", \"size\": [4591364.0], \"sizemode\": \"area\", \"sizeref\": 1927.9780555555556, \"symbol\": \"circle\"}, \"mode\": \"markers\", \"name\": \"Brazil\", \"orientation\": \"v\", \"showlegend\": true, \"type\": \"scatter\", \"x\": [4591364.0], \"xaxis\": \"x\", \"y\": [138105.0], \"yaxis\": \"y\"}, {\"hovertemplate\": \"<b>%{hovertext}</b><br><br>country_region=Russia<br>confirmed=%{marker.size}<br>deaths=%{y}<extra></extra>\", \"hovertext\": [\"Russia\"], \"legendgroup\": \"Russia\", \"marker\": {\"color\": \"#ab63fa\", \"size\": [1117487.0], \"sizemode\": \"area\", \"sizeref\": 1927.9780555555556, \"symbol\": \"circle\"}, \"mode\": \"markers\", \"name\": \"Russia\", \"orientation\": \"v\", \"showlegend\": true, \"type\": \"scatter\", \"x\": [1117487.0], \"xaxis\": \"x\", \"y\": [19720.0], \"yaxis\": \"y\"}, {\"hovertemplate\": \"<b>%{hovertext}</b><br><br>country_region=Colombia<br>confirmed=%{marker.size}<br>deaths=%{y}<extra></extra>\", \"hovertext\": [\"Colombia\"], \"legendgroup\": \"Colombia\", \"marker\": {\"color\": \"#FFA15A\", \"size\": [784268.0], \"sizemode\": \"area\", \"sizeref\": 1927.9780555555556, \"symbol\": \"circle\"}, \"mode\": \"markers\", \"name\": \"Colombia\", \"orientation\": \"v\", \"showlegend\": true, \"type\": \"scatter\", \"x\": [784268.0], \"xaxis\": \"x\", \"y\": [24746.0], \"yaxis\": \"y\"}, {\"hovertemplate\": \"<b>%{hovertext}</b><br><br>country_region=Peru<br>confirmed=%{marker.size}<br>deaths=%{y}<extra></extra>\", \"hovertext\": [\"Peru\"], \"legendgroup\": \"Peru\", \"marker\": {\"color\": \"#19d3f3\", \"size\": [776546.0], \"sizemode\": \"area\", \"sizeref\": 1927.9780555555556, \"symbol\": \"circle\"}, \"mode\": \"markers\", \"name\": \"Peru\", \"orientation\": \"v\", \"showlegend\": true, \"type\": \"scatter\", \"x\": [776546.0], \"xaxis\": \"x\", \"y\": [31568.0], \"yaxis\": \"y\"}, {\"hovertemplate\": \"<b>%{hovertext}</b><br><br>country_region=Mexico<br>confirmed=%{marker.size}<br>deaths=%{y}<extra></extra>\", \"hovertext\": [\"Mexico\"], \"legendgroup\": \"Mexico\", \"marker\": {\"color\": \"#FF6692\", \"size\": [705263.0], \"sizemode\": \"area\", \"sizeref\": 1927.9780555555556, \"symbol\": \"circle\"}, \"mode\": \"markers\", \"name\": \"Mexico\", \"orientation\": \"v\", \"showlegend\": true, \"type\": \"scatter\", \"x\": [705263.0], \"xaxis\": \"x\", \"y\": [74348.0], \"yaxis\": \"y\"}, {\"hovertemplate\": \"<b>%{hovertext}</b><br><br>country_region=Spain<br>confirmed=%{marker.size}<br>deaths=%{y}<extra></extra>\", \"hovertext\": [\"Spain\"], \"legendgroup\": \"Spain\", \"marker\": {\"color\": \"#B6E880\", \"size\": [693556.0], \"sizemode\": \"area\", \"sizeref\": 1927.9780555555556, \"symbol\": \"circle\"}, \"mode\": \"markers\", \"name\": \"Spain\", \"orientation\": \"v\", \"showlegend\": true, \"type\": \"scatter\", \"x\": [693556.0], \"xaxis\": \"x\", \"y\": [31034.0], \"yaxis\": \"y\"}, {\"hovertemplate\": \"<b>%{hovertext}</b><br><br>country_region=South Africa<br>confirmed=%{marker.size}<br>deaths=%{y}<extra></extra>\", \"hovertext\": [\"South Africa\"], \"legendgroup\": \"South Africa\", \"marker\": {\"color\": \"#FF97FF\", \"size\": [665188.0], \"sizemode\": \"area\", \"sizeref\": 1927.9780555555556, \"symbol\": \"circle\"}, \"mode\": \"markers\", \"name\": \"South Africa\", \"orientation\": \"v\", \"showlegend\": true, \"type\": \"scatter\", \"x\": [665188.0], \"xaxis\": \"x\", \"y\": [16206.0], \"yaxis\": \"y\"}, {\"hovertemplate\": \"<b>%{hovertext}</b><br><br>country_region=Argentina<br>confirmed=%{marker.size}<br>deaths=%{y}<extra></extra>\", \"hovertext\": [\"Argentina\"], \"legendgroup\": \"Argentina\", \"marker\": {\"color\": \"#FECB52\", \"size\": [652174.0], \"sizemode\": \"area\", \"sizeref\": 1927.9780555555556, \"symbol\": \"circle\"}, \"mode\": \"markers\", \"name\": \"Argentina\", \"orientation\": \"v\", \"showlegend\": true, \"type\": \"scatter\", \"x\": [652174.0], \"xaxis\": \"x\", \"y\": [13952.0], \"yaxis\": \"y\"}],                        {\"legend\": {\"itemsizing\": \"constant\", \"title\": {\"text\": \"country_region\"}, \"tracegroupgap\": 0}, \"margin\": {\"t\": 60}, \"template\": {\"data\": {\"bar\": [{\"error_x\": {\"color\": \"#2a3f5f\"}, \"error_y\": {\"color\": \"#2a3f5f\"}, \"marker\": {\"line\": {\"color\": \"#E5ECF6\", \"width\": 0.5}}, \"type\": \"bar\"}], \"barpolar\": [{\"marker\": {\"line\": {\"color\": \"#E5ECF6\", \"width\": 0.5}}, \"type\": \"barpolar\"}], \"carpet\": [{\"aaxis\": {\"endlinecolor\": \"#2a3f5f\", \"gridcolor\": \"white\", \"linecolor\": \"white\", \"minorgridcolor\": \"white\", \"startlinecolor\": \"#2a3f5f\"}, \"baxis\": {\"endlinecolor\": \"#2a3f5f\", \"gridcolor\": \"white\", \"linecolor\": \"white\", \"minorgridcolor\": \"white\", \"startlinecolor\": \"#2a3f5f\"}, \"type\": \"carpet\"}], \"choropleth\": [{\"colorbar\": {\"outlinewidth\": 0, \"ticks\": \"\"}, \"type\": \"choropleth\"}], \"contour\": [{\"colorbar\": {\"outlinewidth\": 0, \"ticks\": \"\"}, \"colorscale\": [[0.0, \"#0d0887\"], [0.1111111111111111, \"#46039f\"], [0.2222222222222222, \"#7201a8\"], [0.3333333333333333, \"#9c179e\"], [0.4444444444444444, \"#bd3786\"], [0.5555555555555556, \"#d8576b\"], [0.6666666666666666, \"#ed7953\"], [0.7777777777777778, \"#fb9f3a\"], [0.8888888888888888, \"#fdca26\"], [1.0, \"#f0f921\"]], \"type\": \"contour\"}], \"contourcarpet\": [{\"colorbar\": {\"outlinewidth\": 0, \"ticks\": \"\"}, \"type\": \"contourcarpet\"}], \"heatmap\": [{\"colorbar\": {\"outlinewidth\": 0, \"ticks\": \"\"}, \"colorscale\": [[0.0, \"#0d0887\"], [0.1111111111111111, \"#46039f\"], [0.2222222222222222, \"#7201a8\"], [0.3333333333333333, \"#9c179e\"], [0.4444444444444444, \"#bd3786\"], [0.5555555555555556, \"#d8576b\"], [0.6666666666666666, \"#ed7953\"], [0.7777777777777778, \"#fb9f3a\"], [0.8888888888888888, \"#fdca26\"], [1.0, \"#f0f921\"]], \"type\": \"heatmap\"}], \"heatmapgl\": [{\"colorbar\": {\"outlinewidth\": 0, \"ticks\": \"\"}, \"colorscale\": [[0.0, \"#0d0887\"], [0.1111111111111111, \"#46039f\"], [0.2222222222222222, \"#7201a8\"], [0.3333333333333333, \"#9c179e\"], [0.4444444444444444, \"#bd3786\"], [0.5555555555555556, \"#d8576b\"], [0.6666666666666666, \"#ed7953\"], [0.7777777777777778, \"#fb9f3a\"], [0.8888888888888888, \"#fdca26\"], [1.0, \"#f0f921\"]], \"type\": \"heatmapgl\"}], \"histogram\": [{\"marker\": {\"colorbar\": {\"outlinewidth\": 0, \"ticks\": \"\"}}, \"type\": \"histogram\"}], \"histogram2d\": [{\"colorbar\": {\"outlinewidth\": 0, \"ticks\": \"\"}, \"colorscale\": [[0.0, \"#0d0887\"], [0.1111111111111111, \"#46039f\"], [0.2222222222222222, \"#7201a8\"], [0.3333333333333333, \"#9c179e\"], [0.4444444444444444, \"#bd3786\"], [0.5555555555555556, \"#d8576b\"], [0.6666666666666666, \"#ed7953\"], [0.7777777777777778, \"#fb9f3a\"], [0.8888888888888888, \"#fdca26\"], [1.0, \"#f0f921\"]], \"type\": \"histogram2d\"}], \"histogram2dcontour\": [{\"colorbar\": {\"outlinewidth\": 0, \"ticks\": \"\"}, \"colorscale\": [[0.0, \"#0d0887\"], [0.1111111111111111, \"#46039f\"], [0.2222222222222222, \"#7201a8\"], [0.3333333333333333, \"#9c179e\"], [0.4444444444444444, \"#bd3786\"], [0.5555555555555556, \"#d8576b\"], [0.6666666666666666, \"#ed7953\"], [0.7777777777777778, \"#fb9f3a\"], [0.8888888888888888, \"#fdca26\"], [1.0, \"#f0f921\"]], \"type\": \"histogram2dcontour\"}], \"mesh3d\": [{\"colorbar\": {\"outlinewidth\": 0, \"ticks\": \"\"}, \"type\": \"mesh3d\"}], \"parcoords\": [{\"line\": {\"colorbar\": {\"outlinewidth\": 0, \"ticks\": \"\"}}, \"type\": \"parcoords\"}], \"pie\": [{\"automargin\": true, \"type\": \"pie\"}], \"scatter\": [{\"marker\": {\"colorbar\": {\"outlinewidth\": 0, \"ticks\": \"\"}}, \"type\": \"scatter\"}], \"scatter3d\": [{\"line\": {\"colorbar\": {\"outlinewidth\": 0, \"ticks\": \"\"}}, \"marker\": {\"colorbar\": {\"outlinewidth\": 0, \"ticks\": \"\"}}, \"type\": \"scatter3d\"}], \"scattercarpet\": [{\"marker\": {\"colorbar\": {\"outlinewidth\": 0, \"ticks\": \"\"}}, \"type\": \"scattercarpet\"}], \"scattergeo\": [{\"marker\": {\"colorbar\": {\"outlinewidth\": 0, \"ticks\": \"\"}}, \"type\": \"scattergeo\"}], \"scattergl\": [{\"marker\": {\"colorbar\": {\"outlinewidth\": 0, \"ticks\": \"\"}}, \"type\": \"scattergl\"}], \"scattermapbox\": [{\"marker\": {\"colorbar\": {\"outlinewidth\": 0, \"ticks\": \"\"}}, \"type\": \"scattermapbox\"}], \"scatterpolar\": [{\"marker\": {\"colorbar\": {\"outlinewidth\": 0, \"ticks\": \"\"}}, \"type\": \"scatterpolar\"}], \"scatterpolargl\": [{\"marker\": {\"colorbar\": {\"outlinewidth\": 0, \"ticks\": \"\"}}, \"type\": \"scatterpolargl\"}], \"scatterternary\": [{\"marker\": {\"colorbar\": {\"outlinewidth\": 0, \"ticks\": \"\"}}, \"type\": \"scatterternary\"}], \"surface\": [{\"colorbar\": {\"outlinewidth\": 0, \"ticks\": \"\"}, \"colorscale\": [[0.0, \"#0d0887\"], [0.1111111111111111, \"#46039f\"], [0.2222222222222222, \"#7201a8\"], [0.3333333333333333, \"#9c179e\"], [0.4444444444444444, \"#bd3786\"], [0.5555555555555556, \"#d8576b\"], [0.6666666666666666, \"#ed7953\"], [0.7777777777777778, \"#fb9f3a\"], [0.8888888888888888, \"#fdca26\"], [1.0, \"#f0f921\"]], \"type\": \"surface\"}], \"table\": [{\"cells\": {\"fill\": {\"color\": \"#EBF0F8\"}, \"line\": {\"color\": \"white\"}}, \"header\": {\"fill\": {\"color\": \"#C8D4E3\"}, \"line\": {\"color\": \"white\"}}, \"type\": \"table\"}]}, \"layout\": {\"annotationdefaults\": {\"arrowcolor\": \"#2a3f5f\", \"arrowhead\": 0, \"arrowwidth\": 1}, \"coloraxis\": {\"colorbar\": {\"outlinewidth\": 0, \"ticks\": \"\"}}, \"colorscale\": {\"diverging\": [[0, \"#8e0152\"], [0.1, \"#c51b7d\"], [0.2, \"#de77ae\"], [0.3, \"#f1b6da\"], [0.4, \"#fde0ef\"], [0.5, \"#f7f7f7\"], [0.6, \"#e6f5d0\"], [0.7, \"#b8e186\"], [0.8, \"#7fbc41\"], [0.9, \"#4d9221\"], [1, \"#276419\"]], \"sequential\": [[0.0, \"#0d0887\"], [0.1111111111111111, \"#46039f\"], [0.2222222222222222, \"#7201a8\"], [0.3333333333333333, \"#9c179e\"], [0.4444444444444444, \"#bd3786\"], [0.5555555555555556, \"#d8576b\"], [0.6666666666666666, \"#ed7953\"], [0.7777777777777778, \"#fb9f3a\"], [0.8888888888888888, \"#fdca26\"], [1.0, \"#f0f921\"]], \"sequentialminus\": [[0.0, \"#0d0887\"], [0.1111111111111111, \"#46039f\"], [0.2222222222222222, \"#7201a8\"], [0.3333333333333333, \"#9c179e\"], [0.4444444444444444, \"#bd3786\"], [0.5555555555555556, \"#d8576b\"], [0.6666666666666666, \"#ed7953\"], [0.7777777777777778, \"#fb9f3a\"], [0.8888888888888888, \"#fdca26\"], [1.0, \"#f0f921\"]]}, \"colorway\": [\"#636efa\", \"#EF553B\", \"#00cc96\", \"#ab63fa\", \"#FFA15A\", \"#19d3f3\", \"#FF6692\", \"#B6E880\", \"#FF97FF\", \"#FECB52\"], \"font\": {\"color\": \"#2a3f5f\"}, \"geo\": {\"bgcolor\": \"white\", \"lakecolor\": \"white\", \"landcolor\": \"#E5ECF6\", \"showlakes\": true, \"showland\": true, \"subunitcolor\": \"white\"}, \"hoverlabel\": {\"align\": \"left\"}, \"hovermode\": \"closest\", \"mapbox\": {\"style\": \"light\"}, \"paper_bgcolor\": \"white\", \"plot_bgcolor\": \"#E5ECF6\", \"polar\": {\"angularaxis\": {\"gridcolor\": \"white\", \"linecolor\": \"white\", \"ticks\": \"\"}, \"bgcolor\": \"#E5ECF6\", \"radialaxis\": {\"gridcolor\": \"white\", \"linecolor\": \"white\", \"ticks\": \"\"}}, \"scene\": {\"xaxis\": {\"backgroundcolor\": \"#E5ECF6\", \"gridcolor\": \"white\", \"gridwidth\": 2, \"linecolor\": \"white\", \"showbackground\": true, \"ticks\": \"\", \"zerolinecolor\": \"white\"}, \"yaxis\": {\"backgroundcolor\": \"#E5ECF6\", \"gridcolor\": \"white\", \"gridwidth\": 2, \"linecolor\": \"white\", \"showbackground\": true, \"ticks\": \"\", \"zerolinecolor\": \"white\"}, \"zaxis\": {\"backgroundcolor\": \"#E5ECF6\", \"gridcolor\": \"white\", \"gridwidth\": 2, \"linecolor\": \"white\", \"showbackground\": true, \"ticks\": \"\", \"zerolinecolor\": \"white\"}}, \"shapedefaults\": {\"line\": {\"color\": \"#2a3f5f\"}}, \"ternary\": {\"aaxis\": {\"gridcolor\": \"white\", \"linecolor\": \"white\", \"ticks\": \"\"}, \"baxis\": {\"gridcolor\": \"white\", \"linecolor\": \"white\", \"ticks\": \"\"}, \"bgcolor\": \"#E5ECF6\", \"caxis\": {\"gridcolor\": \"white\", \"linecolor\": \"white\", \"ticks\": \"\"}}, \"title\": {\"x\": 0.05}, \"xaxis\": {\"automargin\": true, \"gridcolor\": \"white\", \"linecolor\": \"white\", \"ticks\": \"\", \"title\": {\"standoff\": 15}, \"zerolinecolor\": \"white\", \"zerolinewidth\": 2}, \"yaxis\": {\"automargin\": true, \"gridcolor\": \"white\", \"linecolor\": \"white\", \"ticks\": \"\", \"title\": {\"standoff\": 15}, \"zerolinecolor\": \"white\", \"zerolinewidth\": 2}}}, \"xaxis\": {\"anchor\": \"y\", \"domain\": [0.0, 1.0], \"title\": {\"text\": \"confirmed\"}, \"type\": \"log\"}, \"yaxis\": {\"anchor\": \"x\", \"domain\": [0.0, 1.0], \"title\": {\"text\": \"deaths\"}}},                        {\"responsive\": true}                    ).then(function(){\n",
       "                            \n",
       "var gd = document.getElementById('fa375034-3d65-4e7b-bdb2-0a1aeb29d1f0');\n",
       "var x = new MutationObserver(function (mutations, observer) {{\n",
       "        var display = window.getComputedStyle(gd).display;\n",
       "        if (!display || display === 'none') {{\n",
       "            console.log([gd, 'removed!']);\n",
       "            Plotly.purge(gd);\n",
       "            observer.disconnect();\n",
       "        }}\n",
       "}});\n",
       "\n",
       "// Listen for the removal of the full notebook cells\n",
       "var notebookContainer = gd.closest('#notebook-container');\n",
       "if (notebookContainer) {{\n",
       "    x.observe(notebookContainer, {childList: true});\n",
       "}}\n",
       "\n",
       "// Listen for the clearing of the current output cell\n",
       "var outputEl = gd.closest('.output');\n",
       "if (outputEl) {{\n",
       "    x.observe(outputEl, {childList: true});\n",
       "}}\n",
       "\n",
       "                        })                };                });            </script>        </div>"
      ]
     },
     "metadata": {},
     "output_type": "display_data"
    }
   ],
   "source": [
    "#Confirmed Cases\n",
    "top_10_confirmed = country_df.sort_values(by=\"confirmed\", ascending=False).head(10)\n",
    "fig = px.scatter(top_10_confirmed, \n",
    "                 x=\"confirmed\", y=\"deaths\",size=\"confirmed\", color=\"country_region\",\n",
    "                 hover_name=\"country_region\", log_x=True, size_max=60)\n",
    "fig.show()"
   ]
  },
  {
   "cell_type": "code",
   "execution_count": 31,
   "metadata": {},
   "outputs": [
    {
     "data": {
      "application/vnd.plotly.v1+json": {
       "config": {
        "plotlyServerURL": "https://plot.ly"
       },
       "data": [
        {
         "hovertemplate": "<b>%{hovertext}</b><br><br>country_region=US<br>deaths=%{marker.size}<br>confirmed=%{y}<extra></extra>",
         "hovertext": [
          "US"
         ],
         "legendgroup": "US",
         "marker": {
          "color": "#636efa",
          "size": [
           201882
          ],
          "sizemode": "area",
          "sizeref": 56.07833333333333,
          "symbol": "circle"
         },
         "mode": "markers",
         "name": "US",
         "orientation": "v",
         "showlegend": true,
         "type": "scatter",
         "x": [
          201882
         ],
         "xaxis": "x",
         "y": [
          6940721
         ],
         "yaxis": "y"
        },
        {
         "hovertemplate": "<b>%{hovertext}</b><br><br>country_region=Brazil<br>deaths=%{marker.size}<br>confirmed=%{y}<extra></extra>",
         "hovertext": [
          "Brazil"
         ],
         "legendgroup": "Brazil",
         "marker": {
          "color": "#EF553B",
          "size": [
           138105
          ],
          "sizemode": "area",
          "sizeref": 56.07833333333333,
          "symbol": "circle"
         },
         "mode": "markers",
         "name": "Brazil",
         "orientation": "v",
         "showlegend": true,
         "type": "scatter",
         "x": [
          138105
         ],
         "xaxis": "x",
         "y": [
          4591364
         ],
         "yaxis": "y"
        },
        {
         "hovertemplate": "<b>%{hovertext}</b><br><br>country_region=India<br>deaths=%{marker.size}<br>confirmed=%{y}<extra></extra>",
         "hovertext": [
          "India"
         ],
         "legendgroup": "India",
         "marker": {
          "color": "#00cc96",
          "size": [
           90020
          ],
          "sizemode": "area",
          "sizeref": 56.07833333333333,
          "symbol": "circle"
         },
         "mode": "markers",
         "name": "India",
         "orientation": "v",
         "showlegend": true,
         "type": "scatter",
         "x": [
          90020
         ],
         "xaxis": "x",
         "y": [
          5646010
         ],
         "yaxis": "y"
        },
        {
         "hovertemplate": "<b>%{hovertext}</b><br><br>country_region=Mexico<br>deaths=%{marker.size}<br>confirmed=%{y}<extra></extra>",
         "hovertext": [
          "Mexico"
         ],
         "legendgroup": "Mexico",
         "marker": {
          "color": "#ab63fa",
          "size": [
           74348
          ],
          "sizemode": "area",
          "sizeref": 56.07833333333333,
          "symbol": "circle"
         },
         "mode": "markers",
         "name": "Mexico",
         "orientation": "v",
         "showlegend": true,
         "type": "scatter",
         "x": [
          74348
         ],
         "xaxis": "x",
         "y": [
          705263
         ],
         "yaxis": "y"
        },
        {
         "hovertemplate": "<b>%{hovertext}</b><br><br>country_region=United Kingdom<br>deaths=%{marker.size}<br>confirmed=%{y}<extra></extra>",
         "hovertext": [
          "United Kingdom"
         ],
         "legendgroup": "United Kingdom",
         "marker": {
          "color": "#FFA15A",
          "size": [
           41951
          ],
          "sizemode": "area",
          "sizeref": 56.07833333333333,
          "symbol": "circle"
         },
         "mode": "markers",
         "name": "United Kingdom",
         "orientation": "v",
         "showlegend": true,
         "type": "scatter",
         "x": [
          41951
         ],
         "xaxis": "x",
         "y": [
          412240
         ],
         "yaxis": "y"
        },
        {
         "hovertemplate": "<b>%{hovertext}</b><br><br>country_region=Italy<br>deaths=%{marker.size}<br>confirmed=%{y}<extra></extra>",
         "hovertext": [
          "Italy"
         ],
         "legendgroup": "Italy",
         "marker": {
          "color": "#19d3f3",
          "size": [
           35758
          ],
          "sizemode": "area",
          "sizeref": 56.07833333333333,
          "symbol": "circle"
         },
         "mode": "markers",
         "name": "Italy",
         "orientation": "v",
         "showlegend": true,
         "type": "scatter",
         "x": [
          35758
         ],
         "xaxis": "x",
         "y": [
          302537
         ],
         "yaxis": "y"
        },
        {
         "hovertemplate": "<b>%{hovertext}</b><br><br>country_region=Peru<br>deaths=%{marker.size}<br>confirmed=%{y}<extra></extra>",
         "hovertext": [
          "Peru"
         ],
         "legendgroup": "Peru",
         "marker": {
          "color": "#FF6692",
          "size": [
           31568
          ],
          "sizemode": "area",
          "sizeref": 56.07833333333333,
          "symbol": "circle"
         },
         "mode": "markers",
         "name": "Peru",
         "orientation": "v",
         "showlegend": true,
         "type": "scatter",
         "x": [
          31568
         ],
         "xaxis": "x",
         "y": [
          776546
         ],
         "yaxis": "y"
        },
        {
         "hovertemplate": "<b>%{hovertext}</b><br><br>country_region=France<br>deaths=%{marker.size}<br>confirmed=%{y}<extra></extra>",
         "hovertext": [
          "France"
         ],
         "legendgroup": "France",
         "marker": {
          "color": "#B6E880",
          "size": [
           31444
          ],
          "sizemode": "area",
          "sizeref": 56.07833333333333,
          "symbol": "circle"
         },
         "mode": "markers",
         "name": "France",
         "orientation": "v",
         "showlegend": true,
         "type": "scatter",
         "x": [
          31444
         ],
         "xaxis": "x",
         "y": [
          508381
         ],
         "yaxis": "y"
        },
        {
         "hovertemplate": "<b>%{hovertext}</b><br><br>country_region=Spain<br>deaths=%{marker.size}<br>confirmed=%{y}<extra></extra>",
         "hovertext": [
          "Spain"
         ],
         "legendgroup": "Spain",
         "marker": {
          "color": "#FF97FF",
          "size": [
           31034
          ],
          "sizemode": "area",
          "sizeref": 56.07833333333333,
          "symbol": "circle"
         },
         "mode": "markers",
         "name": "Spain",
         "orientation": "v",
         "showlegend": true,
         "type": "scatter",
         "x": [
          31034
         ],
         "xaxis": "x",
         "y": [
          693556
         ],
         "yaxis": "y"
        },
        {
         "hovertemplate": "<b>%{hovertext}</b><br><br>country_region=Iran<br>deaths=%{marker.size}<br>confirmed=%{y}<extra></extra>",
         "hovertext": [
          "Iran"
         ],
         "legendgroup": "Iran",
         "marker": {
          "color": "#FECB52",
          "size": [
           24840
          ],
          "sizemode": "area",
          "sizeref": 56.07833333333333,
          "symbol": "circle"
         },
         "mode": "markers",
         "name": "Iran",
         "orientation": "v",
         "showlegend": true,
         "type": "scatter",
         "x": [
          24840
         ],
         "xaxis": "x",
         "y": [
          432798
         ],
         "yaxis": "y"
        }
       ],
       "layout": {
        "legend": {
         "itemsizing": "constant",
         "title": {
          "text": "country_region"
         },
         "tracegroupgap": 0
        },
        "margin": {
         "t": 60
        },
        "template": {
         "data": {
          "bar": [
           {
            "error_x": {
             "color": "#2a3f5f"
            },
            "error_y": {
             "color": "#2a3f5f"
            },
            "marker": {
             "line": {
              "color": "#E5ECF6",
              "width": 0.5
             }
            },
            "type": "bar"
           }
          ],
          "barpolar": [
           {
            "marker": {
             "line": {
              "color": "#E5ECF6",
              "width": 0.5
             }
            },
            "type": "barpolar"
           }
          ],
          "carpet": [
           {
            "aaxis": {
             "endlinecolor": "#2a3f5f",
             "gridcolor": "white",
             "linecolor": "white",
             "minorgridcolor": "white",
             "startlinecolor": "#2a3f5f"
            },
            "baxis": {
             "endlinecolor": "#2a3f5f",
             "gridcolor": "white",
             "linecolor": "white",
             "minorgridcolor": "white",
             "startlinecolor": "#2a3f5f"
            },
            "type": "carpet"
           }
          ],
          "choropleth": [
           {
            "colorbar": {
             "outlinewidth": 0,
             "ticks": ""
            },
            "type": "choropleth"
           }
          ],
          "contour": [
           {
            "colorbar": {
             "outlinewidth": 0,
             "ticks": ""
            },
            "colorscale": [
             [
              0,
              "#0d0887"
             ],
             [
              0.1111111111111111,
              "#46039f"
             ],
             [
              0.2222222222222222,
              "#7201a8"
             ],
             [
              0.3333333333333333,
              "#9c179e"
             ],
             [
              0.4444444444444444,
              "#bd3786"
             ],
             [
              0.5555555555555556,
              "#d8576b"
             ],
             [
              0.6666666666666666,
              "#ed7953"
             ],
             [
              0.7777777777777778,
              "#fb9f3a"
             ],
             [
              0.8888888888888888,
              "#fdca26"
             ],
             [
              1,
              "#f0f921"
             ]
            ],
            "type": "contour"
           }
          ],
          "contourcarpet": [
           {
            "colorbar": {
             "outlinewidth": 0,
             "ticks": ""
            },
            "type": "contourcarpet"
           }
          ],
          "heatmap": [
           {
            "colorbar": {
             "outlinewidth": 0,
             "ticks": ""
            },
            "colorscale": [
             [
              0,
              "#0d0887"
             ],
             [
              0.1111111111111111,
              "#46039f"
             ],
             [
              0.2222222222222222,
              "#7201a8"
             ],
             [
              0.3333333333333333,
              "#9c179e"
             ],
             [
              0.4444444444444444,
              "#bd3786"
             ],
             [
              0.5555555555555556,
              "#d8576b"
             ],
             [
              0.6666666666666666,
              "#ed7953"
             ],
             [
              0.7777777777777778,
              "#fb9f3a"
             ],
             [
              0.8888888888888888,
              "#fdca26"
             ],
             [
              1,
              "#f0f921"
             ]
            ],
            "type": "heatmap"
           }
          ],
          "heatmapgl": [
           {
            "colorbar": {
             "outlinewidth": 0,
             "ticks": ""
            },
            "colorscale": [
             [
              0,
              "#0d0887"
             ],
             [
              0.1111111111111111,
              "#46039f"
             ],
             [
              0.2222222222222222,
              "#7201a8"
             ],
             [
              0.3333333333333333,
              "#9c179e"
             ],
             [
              0.4444444444444444,
              "#bd3786"
             ],
             [
              0.5555555555555556,
              "#d8576b"
             ],
             [
              0.6666666666666666,
              "#ed7953"
             ],
             [
              0.7777777777777778,
              "#fb9f3a"
             ],
             [
              0.8888888888888888,
              "#fdca26"
             ],
             [
              1,
              "#f0f921"
             ]
            ],
            "type": "heatmapgl"
           }
          ],
          "histogram": [
           {
            "marker": {
             "colorbar": {
              "outlinewidth": 0,
              "ticks": ""
             }
            },
            "type": "histogram"
           }
          ],
          "histogram2d": [
           {
            "colorbar": {
             "outlinewidth": 0,
             "ticks": ""
            },
            "colorscale": [
             [
              0,
              "#0d0887"
             ],
             [
              0.1111111111111111,
              "#46039f"
             ],
             [
              0.2222222222222222,
              "#7201a8"
             ],
             [
              0.3333333333333333,
              "#9c179e"
             ],
             [
              0.4444444444444444,
              "#bd3786"
             ],
             [
              0.5555555555555556,
              "#d8576b"
             ],
             [
              0.6666666666666666,
              "#ed7953"
             ],
             [
              0.7777777777777778,
              "#fb9f3a"
             ],
             [
              0.8888888888888888,
              "#fdca26"
             ],
             [
              1,
              "#f0f921"
             ]
            ],
            "type": "histogram2d"
           }
          ],
          "histogram2dcontour": [
           {
            "colorbar": {
             "outlinewidth": 0,
             "ticks": ""
            },
            "colorscale": [
             [
              0,
              "#0d0887"
             ],
             [
              0.1111111111111111,
              "#46039f"
             ],
             [
              0.2222222222222222,
              "#7201a8"
             ],
             [
              0.3333333333333333,
              "#9c179e"
             ],
             [
              0.4444444444444444,
              "#bd3786"
             ],
             [
              0.5555555555555556,
              "#d8576b"
             ],
             [
              0.6666666666666666,
              "#ed7953"
             ],
             [
              0.7777777777777778,
              "#fb9f3a"
             ],
             [
              0.8888888888888888,
              "#fdca26"
             ],
             [
              1,
              "#f0f921"
             ]
            ],
            "type": "histogram2dcontour"
           }
          ],
          "mesh3d": [
           {
            "colorbar": {
             "outlinewidth": 0,
             "ticks": ""
            },
            "type": "mesh3d"
           }
          ],
          "parcoords": [
           {
            "line": {
             "colorbar": {
              "outlinewidth": 0,
              "ticks": ""
             }
            },
            "type": "parcoords"
           }
          ],
          "pie": [
           {
            "automargin": true,
            "type": "pie"
           }
          ],
          "scatter": [
           {
            "marker": {
             "colorbar": {
              "outlinewidth": 0,
              "ticks": ""
             }
            },
            "type": "scatter"
           }
          ],
          "scatter3d": [
           {
            "line": {
             "colorbar": {
              "outlinewidth": 0,
              "ticks": ""
             }
            },
            "marker": {
             "colorbar": {
              "outlinewidth": 0,
              "ticks": ""
             }
            },
            "type": "scatter3d"
           }
          ],
          "scattercarpet": [
           {
            "marker": {
             "colorbar": {
              "outlinewidth": 0,
              "ticks": ""
             }
            },
            "type": "scattercarpet"
           }
          ],
          "scattergeo": [
           {
            "marker": {
             "colorbar": {
              "outlinewidth": 0,
              "ticks": ""
             }
            },
            "type": "scattergeo"
           }
          ],
          "scattergl": [
           {
            "marker": {
             "colorbar": {
              "outlinewidth": 0,
              "ticks": ""
             }
            },
            "type": "scattergl"
           }
          ],
          "scattermapbox": [
           {
            "marker": {
             "colorbar": {
              "outlinewidth": 0,
              "ticks": ""
             }
            },
            "type": "scattermapbox"
           }
          ],
          "scatterpolar": [
           {
            "marker": {
             "colorbar": {
              "outlinewidth": 0,
              "ticks": ""
             }
            },
            "type": "scatterpolar"
           }
          ],
          "scatterpolargl": [
           {
            "marker": {
             "colorbar": {
              "outlinewidth": 0,
              "ticks": ""
             }
            },
            "type": "scatterpolargl"
           }
          ],
          "scatterternary": [
           {
            "marker": {
             "colorbar": {
              "outlinewidth": 0,
              "ticks": ""
             }
            },
            "type": "scatterternary"
           }
          ],
          "surface": [
           {
            "colorbar": {
             "outlinewidth": 0,
             "ticks": ""
            },
            "colorscale": [
             [
              0,
              "#0d0887"
             ],
             [
              0.1111111111111111,
              "#46039f"
             ],
             [
              0.2222222222222222,
              "#7201a8"
             ],
             [
              0.3333333333333333,
              "#9c179e"
             ],
             [
              0.4444444444444444,
              "#bd3786"
             ],
             [
              0.5555555555555556,
              "#d8576b"
             ],
             [
              0.6666666666666666,
              "#ed7953"
             ],
             [
              0.7777777777777778,
              "#fb9f3a"
             ],
             [
              0.8888888888888888,
              "#fdca26"
             ],
             [
              1,
              "#f0f921"
             ]
            ],
            "type": "surface"
           }
          ],
          "table": [
           {
            "cells": {
             "fill": {
              "color": "#EBF0F8"
             },
             "line": {
              "color": "white"
             }
            },
            "header": {
             "fill": {
              "color": "#C8D4E3"
             },
             "line": {
              "color": "white"
             }
            },
            "type": "table"
           }
          ]
         },
         "layout": {
          "annotationdefaults": {
           "arrowcolor": "#2a3f5f",
           "arrowhead": 0,
           "arrowwidth": 1
          },
          "coloraxis": {
           "colorbar": {
            "outlinewidth": 0,
            "ticks": ""
           }
          },
          "colorscale": {
           "diverging": [
            [
             0,
             "#8e0152"
            ],
            [
             0.1,
             "#c51b7d"
            ],
            [
             0.2,
             "#de77ae"
            ],
            [
             0.3,
             "#f1b6da"
            ],
            [
             0.4,
             "#fde0ef"
            ],
            [
             0.5,
             "#f7f7f7"
            ],
            [
             0.6,
             "#e6f5d0"
            ],
            [
             0.7,
             "#b8e186"
            ],
            [
             0.8,
             "#7fbc41"
            ],
            [
             0.9,
             "#4d9221"
            ],
            [
             1,
             "#276419"
            ]
           ],
           "sequential": [
            [
             0,
             "#0d0887"
            ],
            [
             0.1111111111111111,
             "#46039f"
            ],
            [
             0.2222222222222222,
             "#7201a8"
            ],
            [
             0.3333333333333333,
             "#9c179e"
            ],
            [
             0.4444444444444444,
             "#bd3786"
            ],
            [
             0.5555555555555556,
             "#d8576b"
            ],
            [
             0.6666666666666666,
             "#ed7953"
            ],
            [
             0.7777777777777778,
             "#fb9f3a"
            ],
            [
             0.8888888888888888,
             "#fdca26"
            ],
            [
             1,
             "#f0f921"
            ]
           ],
           "sequentialminus": [
            [
             0,
             "#0d0887"
            ],
            [
             0.1111111111111111,
             "#46039f"
            ],
            [
             0.2222222222222222,
             "#7201a8"
            ],
            [
             0.3333333333333333,
             "#9c179e"
            ],
            [
             0.4444444444444444,
             "#bd3786"
            ],
            [
             0.5555555555555556,
             "#d8576b"
            ],
            [
             0.6666666666666666,
             "#ed7953"
            ],
            [
             0.7777777777777778,
             "#fb9f3a"
            ],
            [
             0.8888888888888888,
             "#fdca26"
            ],
            [
             1,
             "#f0f921"
            ]
           ]
          },
          "colorway": [
           "#636efa",
           "#EF553B",
           "#00cc96",
           "#ab63fa",
           "#FFA15A",
           "#19d3f3",
           "#FF6692",
           "#B6E880",
           "#FF97FF",
           "#FECB52"
          ],
          "font": {
           "color": "#2a3f5f"
          },
          "geo": {
           "bgcolor": "white",
           "lakecolor": "white",
           "landcolor": "#E5ECF6",
           "showlakes": true,
           "showland": true,
           "subunitcolor": "white"
          },
          "hoverlabel": {
           "align": "left"
          },
          "hovermode": "closest",
          "mapbox": {
           "style": "light"
          },
          "paper_bgcolor": "white",
          "plot_bgcolor": "#E5ECF6",
          "polar": {
           "angularaxis": {
            "gridcolor": "white",
            "linecolor": "white",
            "ticks": ""
           },
           "bgcolor": "#E5ECF6",
           "radialaxis": {
            "gridcolor": "white",
            "linecolor": "white",
            "ticks": ""
           }
          },
          "scene": {
           "xaxis": {
            "backgroundcolor": "#E5ECF6",
            "gridcolor": "white",
            "gridwidth": 2,
            "linecolor": "white",
            "showbackground": true,
            "ticks": "",
            "zerolinecolor": "white"
           },
           "yaxis": {
            "backgroundcolor": "#E5ECF6",
            "gridcolor": "white",
            "gridwidth": 2,
            "linecolor": "white",
            "showbackground": true,
            "ticks": "",
            "zerolinecolor": "white"
           },
           "zaxis": {
            "backgroundcolor": "#E5ECF6",
            "gridcolor": "white",
            "gridwidth": 2,
            "linecolor": "white",
            "showbackground": true,
            "ticks": "",
            "zerolinecolor": "white"
           }
          },
          "shapedefaults": {
           "line": {
            "color": "#2a3f5f"
           }
          },
          "ternary": {
           "aaxis": {
            "gridcolor": "white",
            "linecolor": "white",
            "ticks": ""
           },
           "baxis": {
            "gridcolor": "white",
            "linecolor": "white",
            "ticks": ""
           },
           "bgcolor": "#E5ECF6",
           "caxis": {
            "gridcolor": "white",
            "linecolor": "white",
            "ticks": ""
           }
          },
          "title": {
           "x": 0.05
          },
          "xaxis": {
           "automargin": true,
           "gridcolor": "white",
           "linecolor": "white",
           "ticks": "",
           "title": {
            "standoff": 15
           },
           "zerolinecolor": "white",
           "zerolinewidth": 2
          },
          "yaxis": {
           "automargin": true,
           "gridcolor": "white",
           "linecolor": "white",
           "ticks": "",
           "title": {
            "standoff": 15
           },
           "zerolinecolor": "white",
           "zerolinewidth": 2
          }
         }
        },
        "xaxis": {
         "anchor": "y",
         "domain": [
          0,
          1
         ],
         "title": {
          "text": "deaths"
         },
         "type": "log"
        },
        "yaxis": {
         "anchor": "x",
         "domain": [
          0,
          1
         ],
         "title": {
          "text": "confirmed"
         }
        }
       }
      },
      "text/html": [
       "<div>                            <div id=\"aea40982-9fae-40ca-b85f-9eea6374514a\" class=\"plotly-graph-div\" style=\"height:525px; width:100%;\"></div>            <script type=\"text/javascript\">                require([\"plotly\"], function(Plotly) {                    window.PLOTLYENV=window.PLOTLYENV || {};                                    if (document.getElementById(\"aea40982-9fae-40ca-b85f-9eea6374514a\")) {                    Plotly.newPlot(                        \"aea40982-9fae-40ca-b85f-9eea6374514a\",                        [{\"hovertemplate\": \"<b>%{hovertext}</b><br><br>country_region=US<br>deaths=%{marker.size}<br>confirmed=%{y}<extra></extra>\", \"hovertext\": [\"US\"], \"legendgroup\": \"US\", \"marker\": {\"color\": \"#636efa\", \"size\": [201882.0], \"sizemode\": \"area\", \"sizeref\": 56.07833333333333, \"symbol\": \"circle\"}, \"mode\": \"markers\", \"name\": \"US\", \"orientation\": \"v\", \"showlegend\": true, \"type\": \"scatter\", \"x\": [201882.0], \"xaxis\": \"x\", \"y\": [6940721.0], \"yaxis\": \"y\"}, {\"hovertemplate\": \"<b>%{hovertext}</b><br><br>country_region=Brazil<br>deaths=%{marker.size}<br>confirmed=%{y}<extra></extra>\", \"hovertext\": [\"Brazil\"], \"legendgroup\": \"Brazil\", \"marker\": {\"color\": \"#EF553B\", \"size\": [138105.0], \"sizemode\": \"area\", \"sizeref\": 56.07833333333333, \"symbol\": \"circle\"}, \"mode\": \"markers\", \"name\": \"Brazil\", \"orientation\": \"v\", \"showlegend\": true, \"type\": \"scatter\", \"x\": [138105.0], \"xaxis\": \"x\", \"y\": [4591364.0], \"yaxis\": \"y\"}, {\"hovertemplate\": \"<b>%{hovertext}</b><br><br>country_region=India<br>deaths=%{marker.size}<br>confirmed=%{y}<extra></extra>\", \"hovertext\": [\"India\"], \"legendgroup\": \"India\", \"marker\": {\"color\": \"#00cc96\", \"size\": [90020.0], \"sizemode\": \"area\", \"sizeref\": 56.07833333333333, \"symbol\": \"circle\"}, \"mode\": \"markers\", \"name\": \"India\", \"orientation\": \"v\", \"showlegend\": true, \"type\": \"scatter\", \"x\": [90020.0], \"xaxis\": \"x\", \"y\": [5646010.0], \"yaxis\": \"y\"}, {\"hovertemplate\": \"<b>%{hovertext}</b><br><br>country_region=Mexico<br>deaths=%{marker.size}<br>confirmed=%{y}<extra></extra>\", \"hovertext\": [\"Mexico\"], \"legendgroup\": \"Mexico\", \"marker\": {\"color\": \"#ab63fa\", \"size\": [74348.0], \"sizemode\": \"area\", \"sizeref\": 56.07833333333333, \"symbol\": \"circle\"}, \"mode\": \"markers\", \"name\": \"Mexico\", \"orientation\": \"v\", \"showlegend\": true, \"type\": \"scatter\", \"x\": [74348.0], \"xaxis\": \"x\", \"y\": [705263.0], \"yaxis\": \"y\"}, {\"hovertemplate\": \"<b>%{hovertext}</b><br><br>country_region=United Kingdom<br>deaths=%{marker.size}<br>confirmed=%{y}<extra></extra>\", \"hovertext\": [\"United Kingdom\"], \"legendgroup\": \"United Kingdom\", \"marker\": {\"color\": \"#FFA15A\", \"size\": [41951.0], \"sizemode\": \"area\", \"sizeref\": 56.07833333333333, \"symbol\": \"circle\"}, \"mode\": \"markers\", \"name\": \"United Kingdom\", \"orientation\": \"v\", \"showlegend\": true, \"type\": \"scatter\", \"x\": [41951.0], \"xaxis\": \"x\", \"y\": [412240.0], \"yaxis\": \"y\"}, {\"hovertemplate\": \"<b>%{hovertext}</b><br><br>country_region=Italy<br>deaths=%{marker.size}<br>confirmed=%{y}<extra></extra>\", \"hovertext\": [\"Italy\"], \"legendgroup\": \"Italy\", \"marker\": {\"color\": \"#19d3f3\", \"size\": [35758.0], \"sizemode\": \"area\", \"sizeref\": 56.07833333333333, \"symbol\": \"circle\"}, \"mode\": \"markers\", \"name\": \"Italy\", \"orientation\": \"v\", \"showlegend\": true, \"type\": \"scatter\", \"x\": [35758.0], \"xaxis\": \"x\", \"y\": [302537.0], \"yaxis\": \"y\"}, {\"hovertemplate\": \"<b>%{hovertext}</b><br><br>country_region=Peru<br>deaths=%{marker.size}<br>confirmed=%{y}<extra></extra>\", \"hovertext\": [\"Peru\"], \"legendgroup\": \"Peru\", \"marker\": {\"color\": \"#FF6692\", \"size\": [31568.0], \"sizemode\": \"area\", \"sizeref\": 56.07833333333333, \"symbol\": \"circle\"}, \"mode\": \"markers\", \"name\": \"Peru\", \"orientation\": \"v\", \"showlegend\": true, \"type\": \"scatter\", \"x\": [31568.0], \"xaxis\": \"x\", \"y\": [776546.0], \"yaxis\": \"y\"}, {\"hovertemplate\": \"<b>%{hovertext}</b><br><br>country_region=France<br>deaths=%{marker.size}<br>confirmed=%{y}<extra></extra>\", \"hovertext\": [\"France\"], \"legendgroup\": \"France\", \"marker\": {\"color\": \"#B6E880\", \"size\": [31444.0], \"sizemode\": \"area\", \"sizeref\": 56.07833333333333, \"symbol\": \"circle\"}, \"mode\": \"markers\", \"name\": \"France\", \"orientation\": \"v\", \"showlegend\": true, \"type\": \"scatter\", \"x\": [31444.0], \"xaxis\": \"x\", \"y\": [508381.0], \"yaxis\": \"y\"}, {\"hovertemplate\": \"<b>%{hovertext}</b><br><br>country_region=Spain<br>deaths=%{marker.size}<br>confirmed=%{y}<extra></extra>\", \"hovertext\": [\"Spain\"], \"legendgroup\": \"Spain\", \"marker\": {\"color\": \"#FF97FF\", \"size\": [31034.0], \"sizemode\": \"area\", \"sizeref\": 56.07833333333333, \"symbol\": \"circle\"}, \"mode\": \"markers\", \"name\": \"Spain\", \"orientation\": \"v\", \"showlegend\": true, \"type\": \"scatter\", \"x\": [31034.0], \"xaxis\": \"x\", \"y\": [693556.0], \"yaxis\": \"y\"}, {\"hovertemplate\": \"<b>%{hovertext}</b><br><br>country_region=Iran<br>deaths=%{marker.size}<br>confirmed=%{y}<extra></extra>\", \"hovertext\": [\"Iran\"], \"legendgroup\": \"Iran\", \"marker\": {\"color\": \"#FECB52\", \"size\": [24840.0], \"sizemode\": \"area\", \"sizeref\": 56.07833333333333, \"symbol\": \"circle\"}, \"mode\": \"markers\", \"name\": \"Iran\", \"orientation\": \"v\", \"showlegend\": true, \"type\": \"scatter\", \"x\": [24840.0], \"xaxis\": \"x\", \"y\": [432798.0], \"yaxis\": \"y\"}],                        {\"legend\": {\"itemsizing\": \"constant\", \"title\": {\"text\": \"country_region\"}, \"tracegroupgap\": 0}, \"margin\": {\"t\": 60}, \"template\": {\"data\": {\"bar\": [{\"error_x\": {\"color\": \"#2a3f5f\"}, \"error_y\": {\"color\": \"#2a3f5f\"}, \"marker\": {\"line\": {\"color\": \"#E5ECF6\", \"width\": 0.5}}, \"type\": \"bar\"}], \"barpolar\": [{\"marker\": {\"line\": {\"color\": \"#E5ECF6\", \"width\": 0.5}}, \"type\": \"barpolar\"}], \"carpet\": [{\"aaxis\": {\"endlinecolor\": \"#2a3f5f\", \"gridcolor\": \"white\", \"linecolor\": \"white\", \"minorgridcolor\": \"white\", \"startlinecolor\": \"#2a3f5f\"}, \"baxis\": {\"endlinecolor\": \"#2a3f5f\", \"gridcolor\": \"white\", \"linecolor\": \"white\", \"minorgridcolor\": \"white\", \"startlinecolor\": \"#2a3f5f\"}, \"type\": \"carpet\"}], \"choropleth\": [{\"colorbar\": {\"outlinewidth\": 0, \"ticks\": \"\"}, \"type\": \"choropleth\"}], \"contour\": [{\"colorbar\": {\"outlinewidth\": 0, \"ticks\": \"\"}, \"colorscale\": [[0.0, \"#0d0887\"], [0.1111111111111111, \"#46039f\"], [0.2222222222222222, \"#7201a8\"], [0.3333333333333333, \"#9c179e\"], [0.4444444444444444, \"#bd3786\"], [0.5555555555555556, \"#d8576b\"], [0.6666666666666666, \"#ed7953\"], [0.7777777777777778, \"#fb9f3a\"], [0.8888888888888888, \"#fdca26\"], [1.0, \"#f0f921\"]], \"type\": \"contour\"}], \"contourcarpet\": [{\"colorbar\": {\"outlinewidth\": 0, \"ticks\": \"\"}, \"type\": \"contourcarpet\"}], \"heatmap\": [{\"colorbar\": {\"outlinewidth\": 0, \"ticks\": \"\"}, \"colorscale\": [[0.0, \"#0d0887\"], [0.1111111111111111, \"#46039f\"], [0.2222222222222222, \"#7201a8\"], [0.3333333333333333, \"#9c179e\"], [0.4444444444444444, \"#bd3786\"], [0.5555555555555556, \"#d8576b\"], [0.6666666666666666, \"#ed7953\"], [0.7777777777777778, \"#fb9f3a\"], [0.8888888888888888, \"#fdca26\"], [1.0, \"#f0f921\"]], \"type\": \"heatmap\"}], \"heatmapgl\": [{\"colorbar\": {\"outlinewidth\": 0, \"ticks\": \"\"}, \"colorscale\": [[0.0, \"#0d0887\"], [0.1111111111111111, \"#46039f\"], [0.2222222222222222, \"#7201a8\"], [0.3333333333333333, \"#9c179e\"], [0.4444444444444444, \"#bd3786\"], [0.5555555555555556, \"#d8576b\"], [0.6666666666666666, \"#ed7953\"], [0.7777777777777778, \"#fb9f3a\"], [0.8888888888888888, \"#fdca26\"], [1.0, \"#f0f921\"]], \"type\": \"heatmapgl\"}], \"histogram\": [{\"marker\": {\"colorbar\": {\"outlinewidth\": 0, \"ticks\": \"\"}}, \"type\": \"histogram\"}], \"histogram2d\": [{\"colorbar\": {\"outlinewidth\": 0, \"ticks\": \"\"}, \"colorscale\": [[0.0, \"#0d0887\"], [0.1111111111111111, \"#46039f\"], [0.2222222222222222, \"#7201a8\"], [0.3333333333333333, \"#9c179e\"], [0.4444444444444444, \"#bd3786\"], [0.5555555555555556, \"#d8576b\"], [0.6666666666666666, \"#ed7953\"], [0.7777777777777778, \"#fb9f3a\"], [0.8888888888888888, \"#fdca26\"], [1.0, \"#f0f921\"]], \"type\": \"histogram2d\"}], \"histogram2dcontour\": [{\"colorbar\": {\"outlinewidth\": 0, \"ticks\": \"\"}, \"colorscale\": [[0.0, \"#0d0887\"], [0.1111111111111111, \"#46039f\"], [0.2222222222222222, \"#7201a8\"], [0.3333333333333333, \"#9c179e\"], [0.4444444444444444, \"#bd3786\"], [0.5555555555555556, \"#d8576b\"], [0.6666666666666666, \"#ed7953\"], [0.7777777777777778, \"#fb9f3a\"], [0.8888888888888888, \"#fdca26\"], [1.0, \"#f0f921\"]], \"type\": \"histogram2dcontour\"}], \"mesh3d\": [{\"colorbar\": {\"outlinewidth\": 0, \"ticks\": \"\"}, \"type\": \"mesh3d\"}], \"parcoords\": [{\"line\": {\"colorbar\": {\"outlinewidth\": 0, \"ticks\": \"\"}}, \"type\": \"parcoords\"}], \"pie\": [{\"automargin\": true, \"type\": \"pie\"}], \"scatter\": [{\"marker\": {\"colorbar\": {\"outlinewidth\": 0, \"ticks\": \"\"}}, \"type\": \"scatter\"}], \"scatter3d\": [{\"line\": {\"colorbar\": {\"outlinewidth\": 0, \"ticks\": \"\"}}, \"marker\": {\"colorbar\": {\"outlinewidth\": 0, \"ticks\": \"\"}}, \"type\": \"scatter3d\"}], \"scattercarpet\": [{\"marker\": {\"colorbar\": {\"outlinewidth\": 0, \"ticks\": \"\"}}, \"type\": \"scattercarpet\"}], \"scattergeo\": [{\"marker\": {\"colorbar\": {\"outlinewidth\": 0, \"ticks\": \"\"}}, \"type\": \"scattergeo\"}], \"scattergl\": [{\"marker\": {\"colorbar\": {\"outlinewidth\": 0, \"ticks\": \"\"}}, \"type\": \"scattergl\"}], \"scattermapbox\": [{\"marker\": {\"colorbar\": {\"outlinewidth\": 0, \"ticks\": \"\"}}, \"type\": \"scattermapbox\"}], \"scatterpolar\": [{\"marker\": {\"colorbar\": {\"outlinewidth\": 0, \"ticks\": \"\"}}, \"type\": \"scatterpolar\"}], \"scatterpolargl\": [{\"marker\": {\"colorbar\": {\"outlinewidth\": 0, \"ticks\": \"\"}}, \"type\": \"scatterpolargl\"}], \"scatterternary\": [{\"marker\": {\"colorbar\": {\"outlinewidth\": 0, \"ticks\": \"\"}}, \"type\": \"scatterternary\"}], \"surface\": [{\"colorbar\": {\"outlinewidth\": 0, \"ticks\": \"\"}, \"colorscale\": [[0.0, \"#0d0887\"], [0.1111111111111111, \"#46039f\"], [0.2222222222222222, \"#7201a8\"], [0.3333333333333333, \"#9c179e\"], [0.4444444444444444, \"#bd3786\"], [0.5555555555555556, \"#d8576b\"], [0.6666666666666666, \"#ed7953\"], [0.7777777777777778, \"#fb9f3a\"], [0.8888888888888888, \"#fdca26\"], [1.0, \"#f0f921\"]], \"type\": \"surface\"}], \"table\": [{\"cells\": {\"fill\": {\"color\": \"#EBF0F8\"}, \"line\": {\"color\": \"white\"}}, \"header\": {\"fill\": {\"color\": \"#C8D4E3\"}, \"line\": {\"color\": \"white\"}}, \"type\": \"table\"}]}, \"layout\": {\"annotationdefaults\": {\"arrowcolor\": \"#2a3f5f\", \"arrowhead\": 0, \"arrowwidth\": 1}, \"coloraxis\": {\"colorbar\": {\"outlinewidth\": 0, \"ticks\": \"\"}}, \"colorscale\": {\"diverging\": [[0, \"#8e0152\"], [0.1, \"#c51b7d\"], [0.2, \"#de77ae\"], [0.3, \"#f1b6da\"], [0.4, \"#fde0ef\"], [0.5, \"#f7f7f7\"], [0.6, \"#e6f5d0\"], [0.7, \"#b8e186\"], [0.8, \"#7fbc41\"], [0.9, \"#4d9221\"], [1, \"#276419\"]], \"sequential\": [[0.0, \"#0d0887\"], [0.1111111111111111, \"#46039f\"], [0.2222222222222222, \"#7201a8\"], [0.3333333333333333, \"#9c179e\"], [0.4444444444444444, \"#bd3786\"], [0.5555555555555556, \"#d8576b\"], [0.6666666666666666, \"#ed7953\"], [0.7777777777777778, \"#fb9f3a\"], [0.8888888888888888, \"#fdca26\"], [1.0, \"#f0f921\"]], \"sequentialminus\": [[0.0, \"#0d0887\"], [0.1111111111111111, \"#46039f\"], [0.2222222222222222, \"#7201a8\"], [0.3333333333333333, \"#9c179e\"], [0.4444444444444444, \"#bd3786\"], [0.5555555555555556, \"#d8576b\"], [0.6666666666666666, \"#ed7953\"], [0.7777777777777778, \"#fb9f3a\"], [0.8888888888888888, \"#fdca26\"], [1.0, \"#f0f921\"]]}, \"colorway\": [\"#636efa\", \"#EF553B\", \"#00cc96\", \"#ab63fa\", \"#FFA15A\", \"#19d3f3\", \"#FF6692\", \"#B6E880\", \"#FF97FF\", \"#FECB52\"], \"font\": {\"color\": \"#2a3f5f\"}, \"geo\": {\"bgcolor\": \"white\", \"lakecolor\": \"white\", \"landcolor\": \"#E5ECF6\", \"showlakes\": true, \"showland\": true, \"subunitcolor\": \"white\"}, \"hoverlabel\": {\"align\": \"left\"}, \"hovermode\": \"closest\", \"mapbox\": {\"style\": \"light\"}, \"paper_bgcolor\": \"white\", \"plot_bgcolor\": \"#E5ECF6\", \"polar\": {\"angularaxis\": {\"gridcolor\": \"white\", \"linecolor\": \"white\", \"ticks\": \"\"}, \"bgcolor\": \"#E5ECF6\", \"radialaxis\": {\"gridcolor\": \"white\", \"linecolor\": \"white\", \"ticks\": \"\"}}, \"scene\": {\"xaxis\": {\"backgroundcolor\": \"#E5ECF6\", \"gridcolor\": \"white\", \"gridwidth\": 2, \"linecolor\": \"white\", \"showbackground\": true, \"ticks\": \"\", \"zerolinecolor\": \"white\"}, \"yaxis\": {\"backgroundcolor\": \"#E5ECF6\", \"gridcolor\": \"white\", \"gridwidth\": 2, \"linecolor\": \"white\", \"showbackground\": true, \"ticks\": \"\", \"zerolinecolor\": \"white\"}, \"zaxis\": {\"backgroundcolor\": \"#E5ECF6\", \"gridcolor\": \"white\", \"gridwidth\": 2, \"linecolor\": \"white\", \"showbackground\": true, \"ticks\": \"\", \"zerolinecolor\": \"white\"}}, \"shapedefaults\": {\"line\": {\"color\": \"#2a3f5f\"}}, \"ternary\": {\"aaxis\": {\"gridcolor\": \"white\", \"linecolor\": \"white\", \"ticks\": \"\"}, \"baxis\": {\"gridcolor\": \"white\", \"linecolor\": \"white\", \"ticks\": \"\"}, \"bgcolor\": \"#E5ECF6\", \"caxis\": {\"gridcolor\": \"white\", \"linecolor\": \"white\", \"ticks\": \"\"}}, \"title\": {\"x\": 0.05}, \"xaxis\": {\"automargin\": true, \"gridcolor\": \"white\", \"linecolor\": \"white\", \"ticks\": \"\", \"title\": {\"standoff\": 15}, \"zerolinecolor\": \"white\", \"zerolinewidth\": 2}, \"yaxis\": {\"automargin\": true, \"gridcolor\": \"white\", \"linecolor\": \"white\", \"ticks\": \"\", \"title\": {\"standoff\": 15}, \"zerolinecolor\": \"white\", \"zerolinewidth\": 2}}}, \"xaxis\": {\"anchor\": \"y\", \"domain\": [0.0, 1.0], \"title\": {\"text\": \"deaths\"}, \"type\": \"log\"}, \"yaxis\": {\"anchor\": \"x\", \"domain\": [0.0, 1.0], \"title\": {\"text\": \"confirmed\"}}},                        {\"responsive\": true}                    ).then(function(){\n",
       "                            \n",
       "var gd = document.getElementById('aea40982-9fae-40ca-b85f-9eea6374514a');\n",
       "var x = new MutationObserver(function (mutations, observer) {{\n",
       "        var display = window.getComputedStyle(gd).display;\n",
       "        if (!display || display === 'none') {{\n",
       "            console.log([gd, 'removed!']);\n",
       "            Plotly.purge(gd);\n",
       "            observer.disconnect();\n",
       "        }}\n",
       "}});\n",
       "\n",
       "// Listen for the removal of the full notebook cells\n",
       "var notebookContainer = gd.closest('#notebook-container');\n",
       "if (notebookContainer) {{\n",
       "    x.observe(notebookContainer, {childList: true});\n",
       "}}\n",
       "\n",
       "// Listen for the clearing of the current output cell\n",
       "var outputEl = gd.closest('.output');\n",
       "if (outputEl) {{\n",
       "    x.observe(outputEl, {childList: true});\n",
       "}}\n",
       "\n",
       "                        })                };                });            </script>        </div>"
      ]
     },
     "metadata": {},
     "output_type": "display_data"
    }
   ],
   "source": [
    "#Dead Cases\n",
    "top_10_death = country_df.sort_values(by=\"deaths\", ascending=False).head(10)\n",
    "fig = px.scatter(top_10_death, \n",
    "                 x=\"deaths\", y=\"confirmed\",size=\"deaths\", color=\"country_region\",\n",
    "                 hover_name=\"country_region\", log_x=True, size_max=60)\n",
    "fig.show()"
   ]
  },
  {
   "cell_type": "code",
   "execution_count": 30,
   "metadata": {},
   "outputs": [
    {
     "data": {
      "application/vnd.plotly.v1+json": {
       "config": {
        "plotlyServerURL": "https://plot.ly"
       },
       "data": [
        {
         "hovertemplate": "<b>%{hovertext}</b><br><br>country_region=US<br>active=%{marker.size}<br>confirmed=%{y}<extra></extra>",
         "hovertext": [
          "US"
         ],
         "legendgroup": "US",
         "marker": {
          "color": "#636efa",
          "size": [
           4063454
          ],
          "sizemode": "area",
          "sizeref": 1128.7372222222223,
          "symbol": "circle"
         },
         "mode": "markers",
         "name": "US",
         "orientation": "v",
         "showlegend": true,
         "type": "scatter",
         "x": [
          4063454
         ],
         "xaxis": "x",
         "y": [
          6940721
         ],
         "yaxis": "y"
        },
        {
         "hovertemplate": "<b>%{hovertext}</b><br><br>country_region=India<br>active=%{marker.size}<br>confirmed=%{y}<extra></extra>",
         "hovertext": [
          "India"
         ],
         "legendgroup": "India",
         "marker": {
          "color": "#EF553B",
          "size": [
           968377
          ],
          "sizemode": "area",
          "sizeref": 1128.7372222222223,
          "symbol": "circle"
         },
         "mode": "markers",
         "name": "India",
         "orientation": "v",
         "showlegend": true,
         "type": "scatter",
         "x": [
          968377
         ],
         "xaxis": "x",
         "y": [
          5646010
         ],
         "yaxis": "y"
        },
        {
         "hovertemplate": "<b>%{hovertext}</b><br><br>country_region=Spain<br>active=%{marker.size}<br>confirmed=%{y}<extra></extra>",
         "hovertext": [
          "Spain"
         ],
         "legendgroup": "Spain",
         "marker": {
          "color": "#00cc96",
          "size": [
           512146
          ],
          "sizemode": "area",
          "sizeref": 1128.7372222222223,
          "symbol": "circle"
         },
         "mode": "markers",
         "name": "Spain",
         "orientation": "v",
         "showlegend": true,
         "type": "scatter",
         "x": [
          512146
         ],
         "xaxis": "x",
         "y": [
          693556
         ],
         "yaxis": "y"
        },
        {
         "hovertemplate": "<b>%{hovertext}</b><br><br>country_region=Brazil<br>active=%{marker.size}<br>confirmed=%{y}<extra></extra>",
         "hovertext": [
          "Brazil"
         ],
         "legendgroup": "Brazil",
         "marker": {
          "color": "#ab63fa",
          "size": [
           382513
          ],
          "sizemode": "area",
          "sizeref": 1128.7372222222223,
          "symbol": "circle"
         },
         "mode": "markers",
         "name": "Brazil",
         "orientation": "v",
         "showlegend": true,
         "type": "scatter",
         "x": [
          382513
         ],
         "xaxis": "x",
         "y": [
          4591364
         ],
         "yaxis": "y"
        },
        {
         "hovertemplate": "<b>%{hovertext}</b><br><br>country_region=France<br>active=%{marker.size}<br>confirmed=%{y}<extra></extra>",
         "hovertext": [
          "France"
         ],
         "legendgroup": "France",
         "marker": {
          "color": "#FFA15A",
          "size": [
           380578
          ],
          "sizemode": "area",
          "sizeref": 1128.7372222222223,
          "symbol": "circle"
         },
         "mode": "markers",
         "name": "France",
         "orientation": "v",
         "showlegend": true,
         "type": "scatter",
         "x": [
          380578
         ],
         "xaxis": "x",
         "y": [
          508381
         ],
         "yaxis": "y"
        },
        {
         "hovertemplate": "<b>%{hovertext}</b><br><br>country_region=United Kingdom<br>active=%{marker.size}<br>confirmed=%{y}<extra></extra>",
         "hovertext": [
          "United Kingdom"
         ],
         "legendgroup": "United Kingdom",
         "marker": {
          "color": "#19d3f3",
          "size": [
           368050
          ],
          "sizemode": "area",
          "sizeref": 1128.7372222222223,
          "symbol": "circle"
         },
         "mode": "markers",
         "name": "United Kingdom",
         "orientation": "v",
         "showlegend": true,
         "type": "scatter",
         "x": [
          368050
         ],
         "xaxis": "x",
         "y": [
          412240
         ],
         "yaxis": "y"
        },
        {
         "hovertemplate": "<b>%{hovertext}</b><br><br>country_region=Russia<br>active=%{marker.size}<br>confirmed=%{y}<extra></extra>",
         "hovertext": [
          "Russia"
         ],
         "legendgroup": "Russia",
         "marker": {
          "color": "#FF6692",
          "size": [
           177165
          ],
          "sizemode": "area",
          "sizeref": 1128.7372222222223,
          "symbol": "circle"
         },
         "mode": "markers",
         "name": "Russia",
         "orientation": "v",
         "showlegend": true,
         "type": "scatter",
         "x": [
          177165
         ],
         "xaxis": "x",
         "y": [
          1117487
         ],
         "yaxis": "y"
        },
        {
         "hovertemplate": "<b>%{hovertext}</b><br><br>country_region=Argentina<br>active=%{marker.size}<br>confirmed=%{y}<extra></extra>",
         "hovertext": [
          "Argentina"
         ],
         "legendgroup": "Argentina",
         "marker": {
          "color": "#B6E880",
          "size": [
           120994
          ],
          "sizemode": "area",
          "sizeref": 1128.7372222222223,
          "symbol": "circle"
         },
         "mode": "markers",
         "name": "Argentina",
         "orientation": "v",
         "showlegend": true,
         "type": "scatter",
         "x": [
          120994
         ],
         "xaxis": "x",
         "y": [
          652174
         ],
         "yaxis": "y"
        },
        {
         "hovertemplate": "<b>%{hovertext}</b><br><br>country_region=Peru<br>active=%{marker.size}<br>confirmed=%{y}<extra></extra>",
         "hovertext": [
          "Peru"
         ],
         "legendgroup": "Peru",
         "marker": {
          "color": "#FF97FF",
          "size": [
           115884
          ],
          "sizemode": "area",
          "sizeref": 1128.7372222222223,
          "symbol": "circle"
         },
         "mode": "markers",
         "name": "Peru",
         "orientation": "v",
         "showlegend": true,
         "type": "scatter",
         "x": [
          115884
         ],
         "xaxis": "x",
         "y": [
          776546
         ],
         "yaxis": "y"
        },
        {
         "hovertemplate": "<b>%{hovertext}</b><br><br>country_region=Ukraine<br>active=%{marker.size}<br>confirmed=%{y}<extra></extra>",
         "hovertext": [
          "Ukraine"
         ],
         "legendgroup": "Ukraine",
         "marker": {
          "color": "#FECB52",
          "size": [
           100937
          ],
          "sizemode": "area",
          "sizeref": 1128.7372222222223,
          "symbol": "circle"
         },
         "mode": "markers",
         "name": "Ukraine",
         "orientation": "v",
         "showlegend": true,
         "type": "scatter",
         "x": [
          100937
         ],
         "xaxis": "x",
         "y": [
          189488
         ],
         "yaxis": "y"
        }
       ],
       "layout": {
        "legend": {
         "itemsizing": "constant",
         "title": {
          "text": "country_region"
         },
         "tracegroupgap": 0
        },
        "margin": {
         "t": 60
        },
        "template": {
         "data": {
          "bar": [
           {
            "error_x": {
             "color": "#2a3f5f"
            },
            "error_y": {
             "color": "#2a3f5f"
            },
            "marker": {
             "line": {
              "color": "#E5ECF6",
              "width": 0.5
             }
            },
            "type": "bar"
           }
          ],
          "barpolar": [
           {
            "marker": {
             "line": {
              "color": "#E5ECF6",
              "width": 0.5
             }
            },
            "type": "barpolar"
           }
          ],
          "carpet": [
           {
            "aaxis": {
             "endlinecolor": "#2a3f5f",
             "gridcolor": "white",
             "linecolor": "white",
             "minorgridcolor": "white",
             "startlinecolor": "#2a3f5f"
            },
            "baxis": {
             "endlinecolor": "#2a3f5f",
             "gridcolor": "white",
             "linecolor": "white",
             "minorgridcolor": "white",
             "startlinecolor": "#2a3f5f"
            },
            "type": "carpet"
           }
          ],
          "choropleth": [
           {
            "colorbar": {
             "outlinewidth": 0,
             "ticks": ""
            },
            "type": "choropleth"
           }
          ],
          "contour": [
           {
            "colorbar": {
             "outlinewidth": 0,
             "ticks": ""
            },
            "colorscale": [
             [
              0,
              "#0d0887"
             ],
             [
              0.1111111111111111,
              "#46039f"
             ],
             [
              0.2222222222222222,
              "#7201a8"
             ],
             [
              0.3333333333333333,
              "#9c179e"
             ],
             [
              0.4444444444444444,
              "#bd3786"
             ],
             [
              0.5555555555555556,
              "#d8576b"
             ],
             [
              0.6666666666666666,
              "#ed7953"
             ],
             [
              0.7777777777777778,
              "#fb9f3a"
             ],
             [
              0.8888888888888888,
              "#fdca26"
             ],
             [
              1,
              "#f0f921"
             ]
            ],
            "type": "contour"
           }
          ],
          "contourcarpet": [
           {
            "colorbar": {
             "outlinewidth": 0,
             "ticks": ""
            },
            "type": "contourcarpet"
           }
          ],
          "heatmap": [
           {
            "colorbar": {
             "outlinewidth": 0,
             "ticks": ""
            },
            "colorscale": [
             [
              0,
              "#0d0887"
             ],
             [
              0.1111111111111111,
              "#46039f"
             ],
             [
              0.2222222222222222,
              "#7201a8"
             ],
             [
              0.3333333333333333,
              "#9c179e"
             ],
             [
              0.4444444444444444,
              "#bd3786"
             ],
             [
              0.5555555555555556,
              "#d8576b"
             ],
             [
              0.6666666666666666,
              "#ed7953"
             ],
             [
              0.7777777777777778,
              "#fb9f3a"
             ],
             [
              0.8888888888888888,
              "#fdca26"
             ],
             [
              1,
              "#f0f921"
             ]
            ],
            "type": "heatmap"
           }
          ],
          "heatmapgl": [
           {
            "colorbar": {
             "outlinewidth": 0,
             "ticks": ""
            },
            "colorscale": [
             [
              0,
              "#0d0887"
             ],
             [
              0.1111111111111111,
              "#46039f"
             ],
             [
              0.2222222222222222,
              "#7201a8"
             ],
             [
              0.3333333333333333,
              "#9c179e"
             ],
             [
              0.4444444444444444,
              "#bd3786"
             ],
             [
              0.5555555555555556,
              "#d8576b"
             ],
             [
              0.6666666666666666,
              "#ed7953"
             ],
             [
              0.7777777777777778,
              "#fb9f3a"
             ],
             [
              0.8888888888888888,
              "#fdca26"
             ],
             [
              1,
              "#f0f921"
             ]
            ],
            "type": "heatmapgl"
           }
          ],
          "histogram": [
           {
            "marker": {
             "colorbar": {
              "outlinewidth": 0,
              "ticks": ""
             }
            },
            "type": "histogram"
           }
          ],
          "histogram2d": [
           {
            "colorbar": {
             "outlinewidth": 0,
             "ticks": ""
            },
            "colorscale": [
             [
              0,
              "#0d0887"
             ],
             [
              0.1111111111111111,
              "#46039f"
             ],
             [
              0.2222222222222222,
              "#7201a8"
             ],
             [
              0.3333333333333333,
              "#9c179e"
             ],
             [
              0.4444444444444444,
              "#bd3786"
             ],
             [
              0.5555555555555556,
              "#d8576b"
             ],
             [
              0.6666666666666666,
              "#ed7953"
             ],
             [
              0.7777777777777778,
              "#fb9f3a"
             ],
             [
              0.8888888888888888,
              "#fdca26"
             ],
             [
              1,
              "#f0f921"
             ]
            ],
            "type": "histogram2d"
           }
          ],
          "histogram2dcontour": [
           {
            "colorbar": {
             "outlinewidth": 0,
             "ticks": ""
            },
            "colorscale": [
             [
              0,
              "#0d0887"
             ],
             [
              0.1111111111111111,
              "#46039f"
             ],
             [
              0.2222222222222222,
              "#7201a8"
             ],
             [
              0.3333333333333333,
              "#9c179e"
             ],
             [
              0.4444444444444444,
              "#bd3786"
             ],
             [
              0.5555555555555556,
              "#d8576b"
             ],
             [
              0.6666666666666666,
              "#ed7953"
             ],
             [
              0.7777777777777778,
              "#fb9f3a"
             ],
             [
              0.8888888888888888,
              "#fdca26"
             ],
             [
              1,
              "#f0f921"
             ]
            ],
            "type": "histogram2dcontour"
           }
          ],
          "mesh3d": [
           {
            "colorbar": {
             "outlinewidth": 0,
             "ticks": ""
            },
            "type": "mesh3d"
           }
          ],
          "parcoords": [
           {
            "line": {
             "colorbar": {
              "outlinewidth": 0,
              "ticks": ""
             }
            },
            "type": "parcoords"
           }
          ],
          "pie": [
           {
            "automargin": true,
            "type": "pie"
           }
          ],
          "scatter": [
           {
            "marker": {
             "colorbar": {
              "outlinewidth": 0,
              "ticks": ""
             }
            },
            "type": "scatter"
           }
          ],
          "scatter3d": [
           {
            "line": {
             "colorbar": {
              "outlinewidth": 0,
              "ticks": ""
             }
            },
            "marker": {
             "colorbar": {
              "outlinewidth": 0,
              "ticks": ""
             }
            },
            "type": "scatter3d"
           }
          ],
          "scattercarpet": [
           {
            "marker": {
             "colorbar": {
              "outlinewidth": 0,
              "ticks": ""
             }
            },
            "type": "scattercarpet"
           }
          ],
          "scattergeo": [
           {
            "marker": {
             "colorbar": {
              "outlinewidth": 0,
              "ticks": ""
             }
            },
            "type": "scattergeo"
           }
          ],
          "scattergl": [
           {
            "marker": {
             "colorbar": {
              "outlinewidth": 0,
              "ticks": ""
             }
            },
            "type": "scattergl"
           }
          ],
          "scattermapbox": [
           {
            "marker": {
             "colorbar": {
              "outlinewidth": 0,
              "ticks": ""
             }
            },
            "type": "scattermapbox"
           }
          ],
          "scatterpolar": [
           {
            "marker": {
             "colorbar": {
              "outlinewidth": 0,
              "ticks": ""
             }
            },
            "type": "scatterpolar"
           }
          ],
          "scatterpolargl": [
           {
            "marker": {
             "colorbar": {
              "outlinewidth": 0,
              "ticks": ""
             }
            },
            "type": "scatterpolargl"
           }
          ],
          "scatterternary": [
           {
            "marker": {
             "colorbar": {
              "outlinewidth": 0,
              "ticks": ""
             }
            },
            "type": "scatterternary"
           }
          ],
          "surface": [
           {
            "colorbar": {
             "outlinewidth": 0,
             "ticks": ""
            },
            "colorscale": [
             [
              0,
              "#0d0887"
             ],
             [
              0.1111111111111111,
              "#46039f"
             ],
             [
              0.2222222222222222,
              "#7201a8"
             ],
             [
              0.3333333333333333,
              "#9c179e"
             ],
             [
              0.4444444444444444,
              "#bd3786"
             ],
             [
              0.5555555555555556,
              "#d8576b"
             ],
             [
              0.6666666666666666,
              "#ed7953"
             ],
             [
              0.7777777777777778,
              "#fb9f3a"
             ],
             [
              0.8888888888888888,
              "#fdca26"
             ],
             [
              1,
              "#f0f921"
             ]
            ],
            "type": "surface"
           }
          ],
          "table": [
           {
            "cells": {
             "fill": {
              "color": "#EBF0F8"
             },
             "line": {
              "color": "white"
             }
            },
            "header": {
             "fill": {
              "color": "#C8D4E3"
             },
             "line": {
              "color": "white"
             }
            },
            "type": "table"
           }
          ]
         },
         "layout": {
          "annotationdefaults": {
           "arrowcolor": "#2a3f5f",
           "arrowhead": 0,
           "arrowwidth": 1
          },
          "coloraxis": {
           "colorbar": {
            "outlinewidth": 0,
            "ticks": ""
           }
          },
          "colorscale": {
           "diverging": [
            [
             0,
             "#8e0152"
            ],
            [
             0.1,
             "#c51b7d"
            ],
            [
             0.2,
             "#de77ae"
            ],
            [
             0.3,
             "#f1b6da"
            ],
            [
             0.4,
             "#fde0ef"
            ],
            [
             0.5,
             "#f7f7f7"
            ],
            [
             0.6,
             "#e6f5d0"
            ],
            [
             0.7,
             "#b8e186"
            ],
            [
             0.8,
             "#7fbc41"
            ],
            [
             0.9,
             "#4d9221"
            ],
            [
             1,
             "#276419"
            ]
           ],
           "sequential": [
            [
             0,
             "#0d0887"
            ],
            [
             0.1111111111111111,
             "#46039f"
            ],
            [
             0.2222222222222222,
             "#7201a8"
            ],
            [
             0.3333333333333333,
             "#9c179e"
            ],
            [
             0.4444444444444444,
             "#bd3786"
            ],
            [
             0.5555555555555556,
             "#d8576b"
            ],
            [
             0.6666666666666666,
             "#ed7953"
            ],
            [
             0.7777777777777778,
             "#fb9f3a"
            ],
            [
             0.8888888888888888,
             "#fdca26"
            ],
            [
             1,
             "#f0f921"
            ]
           ],
           "sequentialminus": [
            [
             0,
             "#0d0887"
            ],
            [
             0.1111111111111111,
             "#46039f"
            ],
            [
             0.2222222222222222,
             "#7201a8"
            ],
            [
             0.3333333333333333,
             "#9c179e"
            ],
            [
             0.4444444444444444,
             "#bd3786"
            ],
            [
             0.5555555555555556,
             "#d8576b"
            ],
            [
             0.6666666666666666,
             "#ed7953"
            ],
            [
             0.7777777777777778,
             "#fb9f3a"
            ],
            [
             0.8888888888888888,
             "#fdca26"
            ],
            [
             1,
             "#f0f921"
            ]
           ]
          },
          "colorway": [
           "#636efa",
           "#EF553B",
           "#00cc96",
           "#ab63fa",
           "#FFA15A",
           "#19d3f3",
           "#FF6692",
           "#B6E880",
           "#FF97FF",
           "#FECB52"
          ],
          "font": {
           "color": "#2a3f5f"
          },
          "geo": {
           "bgcolor": "white",
           "lakecolor": "white",
           "landcolor": "#E5ECF6",
           "showlakes": true,
           "showland": true,
           "subunitcolor": "white"
          },
          "hoverlabel": {
           "align": "left"
          },
          "hovermode": "closest",
          "mapbox": {
           "style": "light"
          },
          "paper_bgcolor": "white",
          "plot_bgcolor": "#E5ECF6",
          "polar": {
           "angularaxis": {
            "gridcolor": "white",
            "linecolor": "white",
            "ticks": ""
           },
           "bgcolor": "#E5ECF6",
           "radialaxis": {
            "gridcolor": "white",
            "linecolor": "white",
            "ticks": ""
           }
          },
          "scene": {
           "xaxis": {
            "backgroundcolor": "#E5ECF6",
            "gridcolor": "white",
            "gridwidth": 2,
            "linecolor": "white",
            "showbackground": true,
            "ticks": "",
            "zerolinecolor": "white"
           },
           "yaxis": {
            "backgroundcolor": "#E5ECF6",
            "gridcolor": "white",
            "gridwidth": 2,
            "linecolor": "white",
            "showbackground": true,
            "ticks": "",
            "zerolinecolor": "white"
           },
           "zaxis": {
            "backgroundcolor": "#E5ECF6",
            "gridcolor": "white",
            "gridwidth": 2,
            "linecolor": "white",
            "showbackground": true,
            "ticks": "",
            "zerolinecolor": "white"
           }
          },
          "shapedefaults": {
           "line": {
            "color": "#2a3f5f"
           }
          },
          "ternary": {
           "aaxis": {
            "gridcolor": "white",
            "linecolor": "white",
            "ticks": ""
           },
           "baxis": {
            "gridcolor": "white",
            "linecolor": "white",
            "ticks": ""
           },
           "bgcolor": "#E5ECF6",
           "caxis": {
            "gridcolor": "white",
            "linecolor": "white",
            "ticks": ""
           }
          },
          "title": {
           "x": 0.05
          },
          "xaxis": {
           "automargin": true,
           "gridcolor": "white",
           "linecolor": "white",
           "ticks": "",
           "title": {
            "standoff": 15
           },
           "zerolinecolor": "white",
           "zerolinewidth": 2
          },
          "yaxis": {
           "automargin": true,
           "gridcolor": "white",
           "linecolor": "white",
           "ticks": "",
           "title": {
            "standoff": 15
           },
           "zerolinecolor": "white",
           "zerolinewidth": 2
          }
         }
        },
        "xaxis": {
         "anchor": "y",
         "domain": [
          0,
          1
         ],
         "title": {
          "text": "active"
         },
         "type": "log"
        },
        "yaxis": {
         "anchor": "x",
         "domain": [
          0,
          1
         ],
         "title": {
          "text": "confirmed"
         }
        }
       }
      },
      "text/html": [
       "<div>                            <div id=\"cedc31f9-a809-42d7-9338-6422e5896f07\" class=\"plotly-graph-div\" style=\"height:525px; width:100%;\"></div>            <script type=\"text/javascript\">                require([\"plotly\"], function(Plotly) {                    window.PLOTLYENV=window.PLOTLYENV || {};                                    if (document.getElementById(\"cedc31f9-a809-42d7-9338-6422e5896f07\")) {                    Plotly.newPlot(                        \"cedc31f9-a809-42d7-9338-6422e5896f07\",                        [{\"hovertemplate\": \"<b>%{hovertext}</b><br><br>country_region=US<br>active=%{marker.size}<br>confirmed=%{y}<extra></extra>\", \"hovertext\": [\"US\"], \"legendgroup\": \"US\", \"marker\": {\"color\": \"#636efa\", \"size\": [4063454.0], \"sizemode\": \"area\", \"sizeref\": 1128.7372222222223, \"symbol\": \"circle\"}, \"mode\": \"markers\", \"name\": \"US\", \"orientation\": \"v\", \"showlegend\": true, \"type\": \"scatter\", \"x\": [4063454.0], \"xaxis\": \"x\", \"y\": [6940721.0], \"yaxis\": \"y\"}, {\"hovertemplate\": \"<b>%{hovertext}</b><br><br>country_region=India<br>active=%{marker.size}<br>confirmed=%{y}<extra></extra>\", \"hovertext\": [\"India\"], \"legendgroup\": \"India\", \"marker\": {\"color\": \"#EF553B\", \"size\": [968377.0], \"sizemode\": \"area\", \"sizeref\": 1128.7372222222223, \"symbol\": \"circle\"}, \"mode\": \"markers\", \"name\": \"India\", \"orientation\": \"v\", \"showlegend\": true, \"type\": \"scatter\", \"x\": [968377.0], \"xaxis\": \"x\", \"y\": [5646010.0], \"yaxis\": \"y\"}, {\"hovertemplate\": \"<b>%{hovertext}</b><br><br>country_region=Spain<br>active=%{marker.size}<br>confirmed=%{y}<extra></extra>\", \"hovertext\": [\"Spain\"], \"legendgroup\": \"Spain\", \"marker\": {\"color\": \"#00cc96\", \"size\": [512146.0], \"sizemode\": \"area\", \"sizeref\": 1128.7372222222223, \"symbol\": \"circle\"}, \"mode\": \"markers\", \"name\": \"Spain\", \"orientation\": \"v\", \"showlegend\": true, \"type\": \"scatter\", \"x\": [512146.0], \"xaxis\": \"x\", \"y\": [693556.0], \"yaxis\": \"y\"}, {\"hovertemplate\": \"<b>%{hovertext}</b><br><br>country_region=Brazil<br>active=%{marker.size}<br>confirmed=%{y}<extra></extra>\", \"hovertext\": [\"Brazil\"], \"legendgroup\": \"Brazil\", \"marker\": {\"color\": \"#ab63fa\", \"size\": [382513.0], \"sizemode\": \"area\", \"sizeref\": 1128.7372222222223, \"symbol\": \"circle\"}, \"mode\": \"markers\", \"name\": \"Brazil\", \"orientation\": \"v\", \"showlegend\": true, \"type\": \"scatter\", \"x\": [382513.0], \"xaxis\": \"x\", \"y\": [4591364.0], \"yaxis\": \"y\"}, {\"hovertemplate\": \"<b>%{hovertext}</b><br><br>country_region=France<br>active=%{marker.size}<br>confirmed=%{y}<extra></extra>\", \"hovertext\": [\"France\"], \"legendgroup\": \"France\", \"marker\": {\"color\": \"#FFA15A\", \"size\": [380578.0], \"sizemode\": \"area\", \"sizeref\": 1128.7372222222223, \"symbol\": \"circle\"}, \"mode\": \"markers\", \"name\": \"France\", \"orientation\": \"v\", \"showlegend\": true, \"type\": \"scatter\", \"x\": [380578.0], \"xaxis\": \"x\", \"y\": [508381.0], \"yaxis\": \"y\"}, {\"hovertemplate\": \"<b>%{hovertext}</b><br><br>country_region=United Kingdom<br>active=%{marker.size}<br>confirmed=%{y}<extra></extra>\", \"hovertext\": [\"United Kingdom\"], \"legendgroup\": \"United Kingdom\", \"marker\": {\"color\": \"#19d3f3\", \"size\": [368050.0], \"sizemode\": \"area\", \"sizeref\": 1128.7372222222223, \"symbol\": \"circle\"}, \"mode\": \"markers\", \"name\": \"United Kingdom\", \"orientation\": \"v\", \"showlegend\": true, \"type\": \"scatter\", \"x\": [368050.0], \"xaxis\": \"x\", \"y\": [412240.0], \"yaxis\": \"y\"}, {\"hovertemplate\": \"<b>%{hovertext}</b><br><br>country_region=Russia<br>active=%{marker.size}<br>confirmed=%{y}<extra></extra>\", \"hovertext\": [\"Russia\"], \"legendgroup\": \"Russia\", \"marker\": {\"color\": \"#FF6692\", \"size\": [177165.0], \"sizemode\": \"area\", \"sizeref\": 1128.7372222222223, \"symbol\": \"circle\"}, \"mode\": \"markers\", \"name\": \"Russia\", \"orientation\": \"v\", \"showlegend\": true, \"type\": \"scatter\", \"x\": [177165.0], \"xaxis\": \"x\", \"y\": [1117487.0], \"yaxis\": \"y\"}, {\"hovertemplate\": \"<b>%{hovertext}</b><br><br>country_region=Argentina<br>active=%{marker.size}<br>confirmed=%{y}<extra></extra>\", \"hovertext\": [\"Argentina\"], \"legendgroup\": \"Argentina\", \"marker\": {\"color\": \"#B6E880\", \"size\": [120994.0], \"sizemode\": \"area\", \"sizeref\": 1128.7372222222223, \"symbol\": \"circle\"}, \"mode\": \"markers\", \"name\": \"Argentina\", \"orientation\": \"v\", \"showlegend\": true, \"type\": \"scatter\", \"x\": [120994.0], \"xaxis\": \"x\", \"y\": [652174.0], \"yaxis\": \"y\"}, {\"hovertemplate\": \"<b>%{hovertext}</b><br><br>country_region=Peru<br>active=%{marker.size}<br>confirmed=%{y}<extra></extra>\", \"hovertext\": [\"Peru\"], \"legendgroup\": \"Peru\", \"marker\": {\"color\": \"#FF97FF\", \"size\": [115884.0], \"sizemode\": \"area\", \"sizeref\": 1128.7372222222223, \"symbol\": \"circle\"}, \"mode\": \"markers\", \"name\": \"Peru\", \"orientation\": \"v\", \"showlegend\": true, \"type\": \"scatter\", \"x\": [115884.0], \"xaxis\": \"x\", \"y\": [776546.0], \"yaxis\": \"y\"}, {\"hovertemplate\": \"<b>%{hovertext}</b><br><br>country_region=Ukraine<br>active=%{marker.size}<br>confirmed=%{y}<extra></extra>\", \"hovertext\": [\"Ukraine\"], \"legendgroup\": \"Ukraine\", \"marker\": {\"color\": \"#FECB52\", \"size\": [100937.0], \"sizemode\": \"area\", \"sizeref\": 1128.7372222222223, \"symbol\": \"circle\"}, \"mode\": \"markers\", \"name\": \"Ukraine\", \"orientation\": \"v\", \"showlegend\": true, \"type\": \"scatter\", \"x\": [100937.0], \"xaxis\": \"x\", \"y\": [189488.0], \"yaxis\": \"y\"}],                        {\"legend\": {\"itemsizing\": \"constant\", \"title\": {\"text\": \"country_region\"}, \"tracegroupgap\": 0}, \"margin\": {\"t\": 60}, \"template\": {\"data\": {\"bar\": [{\"error_x\": {\"color\": \"#2a3f5f\"}, \"error_y\": {\"color\": \"#2a3f5f\"}, \"marker\": {\"line\": {\"color\": \"#E5ECF6\", \"width\": 0.5}}, \"type\": \"bar\"}], \"barpolar\": [{\"marker\": {\"line\": {\"color\": \"#E5ECF6\", \"width\": 0.5}}, \"type\": \"barpolar\"}], \"carpet\": [{\"aaxis\": {\"endlinecolor\": \"#2a3f5f\", \"gridcolor\": \"white\", \"linecolor\": \"white\", \"minorgridcolor\": \"white\", \"startlinecolor\": \"#2a3f5f\"}, \"baxis\": {\"endlinecolor\": \"#2a3f5f\", \"gridcolor\": \"white\", \"linecolor\": \"white\", \"minorgridcolor\": \"white\", \"startlinecolor\": \"#2a3f5f\"}, \"type\": \"carpet\"}], \"choropleth\": [{\"colorbar\": {\"outlinewidth\": 0, \"ticks\": \"\"}, \"type\": \"choropleth\"}], \"contour\": [{\"colorbar\": {\"outlinewidth\": 0, \"ticks\": \"\"}, \"colorscale\": [[0.0, \"#0d0887\"], [0.1111111111111111, \"#46039f\"], [0.2222222222222222, \"#7201a8\"], [0.3333333333333333, \"#9c179e\"], [0.4444444444444444, \"#bd3786\"], [0.5555555555555556, \"#d8576b\"], [0.6666666666666666, \"#ed7953\"], [0.7777777777777778, \"#fb9f3a\"], [0.8888888888888888, \"#fdca26\"], [1.0, \"#f0f921\"]], \"type\": \"contour\"}], \"contourcarpet\": [{\"colorbar\": {\"outlinewidth\": 0, \"ticks\": \"\"}, \"type\": \"contourcarpet\"}], \"heatmap\": [{\"colorbar\": {\"outlinewidth\": 0, \"ticks\": \"\"}, \"colorscale\": [[0.0, \"#0d0887\"], [0.1111111111111111, \"#46039f\"], [0.2222222222222222, \"#7201a8\"], [0.3333333333333333, \"#9c179e\"], [0.4444444444444444, \"#bd3786\"], [0.5555555555555556, \"#d8576b\"], [0.6666666666666666, \"#ed7953\"], [0.7777777777777778, \"#fb9f3a\"], [0.8888888888888888, \"#fdca26\"], [1.0, \"#f0f921\"]], \"type\": \"heatmap\"}], \"heatmapgl\": [{\"colorbar\": {\"outlinewidth\": 0, \"ticks\": \"\"}, \"colorscale\": [[0.0, \"#0d0887\"], [0.1111111111111111, \"#46039f\"], [0.2222222222222222, \"#7201a8\"], [0.3333333333333333, \"#9c179e\"], [0.4444444444444444, \"#bd3786\"], [0.5555555555555556, \"#d8576b\"], [0.6666666666666666, \"#ed7953\"], [0.7777777777777778, \"#fb9f3a\"], [0.8888888888888888, \"#fdca26\"], [1.0, \"#f0f921\"]], \"type\": \"heatmapgl\"}], \"histogram\": [{\"marker\": {\"colorbar\": {\"outlinewidth\": 0, \"ticks\": \"\"}}, \"type\": \"histogram\"}], \"histogram2d\": [{\"colorbar\": {\"outlinewidth\": 0, \"ticks\": \"\"}, \"colorscale\": [[0.0, \"#0d0887\"], [0.1111111111111111, \"#46039f\"], [0.2222222222222222, \"#7201a8\"], [0.3333333333333333, \"#9c179e\"], [0.4444444444444444, \"#bd3786\"], [0.5555555555555556, \"#d8576b\"], [0.6666666666666666, \"#ed7953\"], [0.7777777777777778, \"#fb9f3a\"], [0.8888888888888888, \"#fdca26\"], [1.0, \"#f0f921\"]], \"type\": \"histogram2d\"}], \"histogram2dcontour\": [{\"colorbar\": {\"outlinewidth\": 0, \"ticks\": \"\"}, \"colorscale\": [[0.0, \"#0d0887\"], [0.1111111111111111, \"#46039f\"], [0.2222222222222222, \"#7201a8\"], [0.3333333333333333, \"#9c179e\"], [0.4444444444444444, \"#bd3786\"], [0.5555555555555556, \"#d8576b\"], [0.6666666666666666, \"#ed7953\"], [0.7777777777777778, \"#fb9f3a\"], [0.8888888888888888, \"#fdca26\"], [1.0, \"#f0f921\"]], \"type\": \"histogram2dcontour\"}], \"mesh3d\": [{\"colorbar\": {\"outlinewidth\": 0, \"ticks\": \"\"}, \"type\": \"mesh3d\"}], \"parcoords\": [{\"line\": {\"colorbar\": {\"outlinewidth\": 0, \"ticks\": \"\"}}, \"type\": \"parcoords\"}], \"pie\": [{\"automargin\": true, \"type\": \"pie\"}], \"scatter\": [{\"marker\": {\"colorbar\": {\"outlinewidth\": 0, \"ticks\": \"\"}}, \"type\": \"scatter\"}], \"scatter3d\": [{\"line\": {\"colorbar\": {\"outlinewidth\": 0, \"ticks\": \"\"}}, \"marker\": {\"colorbar\": {\"outlinewidth\": 0, \"ticks\": \"\"}}, \"type\": \"scatter3d\"}], \"scattercarpet\": [{\"marker\": {\"colorbar\": {\"outlinewidth\": 0, \"ticks\": \"\"}}, \"type\": \"scattercarpet\"}], \"scattergeo\": [{\"marker\": {\"colorbar\": {\"outlinewidth\": 0, \"ticks\": \"\"}}, \"type\": \"scattergeo\"}], \"scattergl\": [{\"marker\": {\"colorbar\": {\"outlinewidth\": 0, \"ticks\": \"\"}}, \"type\": \"scattergl\"}], \"scattermapbox\": [{\"marker\": {\"colorbar\": {\"outlinewidth\": 0, \"ticks\": \"\"}}, \"type\": \"scattermapbox\"}], \"scatterpolar\": [{\"marker\": {\"colorbar\": {\"outlinewidth\": 0, \"ticks\": \"\"}}, \"type\": \"scatterpolar\"}], \"scatterpolargl\": [{\"marker\": {\"colorbar\": {\"outlinewidth\": 0, \"ticks\": \"\"}}, \"type\": \"scatterpolargl\"}], \"scatterternary\": [{\"marker\": {\"colorbar\": {\"outlinewidth\": 0, \"ticks\": \"\"}}, \"type\": \"scatterternary\"}], \"surface\": [{\"colorbar\": {\"outlinewidth\": 0, \"ticks\": \"\"}, \"colorscale\": [[0.0, \"#0d0887\"], [0.1111111111111111, \"#46039f\"], [0.2222222222222222, \"#7201a8\"], [0.3333333333333333, \"#9c179e\"], [0.4444444444444444, \"#bd3786\"], [0.5555555555555556, \"#d8576b\"], [0.6666666666666666, \"#ed7953\"], [0.7777777777777778, \"#fb9f3a\"], [0.8888888888888888, \"#fdca26\"], [1.0, \"#f0f921\"]], \"type\": \"surface\"}], \"table\": [{\"cells\": {\"fill\": {\"color\": \"#EBF0F8\"}, \"line\": {\"color\": \"white\"}}, \"header\": {\"fill\": {\"color\": \"#C8D4E3\"}, \"line\": {\"color\": \"white\"}}, \"type\": \"table\"}]}, \"layout\": {\"annotationdefaults\": {\"arrowcolor\": \"#2a3f5f\", \"arrowhead\": 0, \"arrowwidth\": 1}, \"coloraxis\": {\"colorbar\": {\"outlinewidth\": 0, \"ticks\": \"\"}}, \"colorscale\": {\"diverging\": [[0, \"#8e0152\"], [0.1, \"#c51b7d\"], [0.2, \"#de77ae\"], [0.3, \"#f1b6da\"], [0.4, \"#fde0ef\"], [0.5, \"#f7f7f7\"], [0.6, \"#e6f5d0\"], [0.7, \"#b8e186\"], [0.8, \"#7fbc41\"], [0.9, \"#4d9221\"], [1, \"#276419\"]], \"sequential\": [[0.0, \"#0d0887\"], [0.1111111111111111, \"#46039f\"], [0.2222222222222222, \"#7201a8\"], [0.3333333333333333, \"#9c179e\"], [0.4444444444444444, \"#bd3786\"], [0.5555555555555556, \"#d8576b\"], [0.6666666666666666, \"#ed7953\"], [0.7777777777777778, \"#fb9f3a\"], [0.8888888888888888, \"#fdca26\"], [1.0, \"#f0f921\"]], \"sequentialminus\": [[0.0, \"#0d0887\"], [0.1111111111111111, \"#46039f\"], [0.2222222222222222, \"#7201a8\"], [0.3333333333333333, \"#9c179e\"], [0.4444444444444444, \"#bd3786\"], [0.5555555555555556, \"#d8576b\"], [0.6666666666666666, \"#ed7953\"], [0.7777777777777778, \"#fb9f3a\"], [0.8888888888888888, \"#fdca26\"], [1.0, \"#f0f921\"]]}, \"colorway\": [\"#636efa\", \"#EF553B\", \"#00cc96\", \"#ab63fa\", \"#FFA15A\", \"#19d3f3\", \"#FF6692\", \"#B6E880\", \"#FF97FF\", \"#FECB52\"], \"font\": {\"color\": \"#2a3f5f\"}, \"geo\": {\"bgcolor\": \"white\", \"lakecolor\": \"white\", \"landcolor\": \"#E5ECF6\", \"showlakes\": true, \"showland\": true, \"subunitcolor\": \"white\"}, \"hoverlabel\": {\"align\": \"left\"}, \"hovermode\": \"closest\", \"mapbox\": {\"style\": \"light\"}, \"paper_bgcolor\": \"white\", \"plot_bgcolor\": \"#E5ECF6\", \"polar\": {\"angularaxis\": {\"gridcolor\": \"white\", \"linecolor\": \"white\", \"ticks\": \"\"}, \"bgcolor\": \"#E5ECF6\", \"radialaxis\": {\"gridcolor\": \"white\", \"linecolor\": \"white\", \"ticks\": \"\"}}, \"scene\": {\"xaxis\": {\"backgroundcolor\": \"#E5ECF6\", \"gridcolor\": \"white\", \"gridwidth\": 2, \"linecolor\": \"white\", \"showbackground\": true, \"ticks\": \"\", \"zerolinecolor\": \"white\"}, \"yaxis\": {\"backgroundcolor\": \"#E5ECF6\", \"gridcolor\": \"white\", \"gridwidth\": 2, \"linecolor\": \"white\", \"showbackground\": true, \"ticks\": \"\", \"zerolinecolor\": \"white\"}, \"zaxis\": {\"backgroundcolor\": \"#E5ECF6\", \"gridcolor\": \"white\", \"gridwidth\": 2, \"linecolor\": \"white\", \"showbackground\": true, \"ticks\": \"\", \"zerolinecolor\": \"white\"}}, \"shapedefaults\": {\"line\": {\"color\": \"#2a3f5f\"}}, \"ternary\": {\"aaxis\": {\"gridcolor\": \"white\", \"linecolor\": \"white\", \"ticks\": \"\"}, \"baxis\": {\"gridcolor\": \"white\", \"linecolor\": \"white\", \"ticks\": \"\"}, \"bgcolor\": \"#E5ECF6\", \"caxis\": {\"gridcolor\": \"white\", \"linecolor\": \"white\", \"ticks\": \"\"}}, \"title\": {\"x\": 0.05}, \"xaxis\": {\"automargin\": true, \"gridcolor\": \"white\", \"linecolor\": \"white\", \"ticks\": \"\", \"title\": {\"standoff\": 15}, \"zerolinecolor\": \"white\", \"zerolinewidth\": 2}, \"yaxis\": {\"automargin\": true, \"gridcolor\": \"white\", \"linecolor\": \"white\", \"ticks\": \"\", \"title\": {\"standoff\": 15}, \"zerolinecolor\": \"white\", \"zerolinewidth\": 2}}}, \"xaxis\": {\"anchor\": \"y\", \"domain\": [0.0, 1.0], \"title\": {\"text\": \"active\"}, \"type\": \"log\"}, \"yaxis\": {\"anchor\": \"x\", \"domain\": [0.0, 1.0], \"title\": {\"text\": \"confirmed\"}}},                        {\"responsive\": true}                    ).then(function(){\n",
       "                            \n",
       "var gd = document.getElementById('cedc31f9-a809-42d7-9338-6422e5896f07');\n",
       "var x = new MutationObserver(function (mutations, observer) {{\n",
       "        var display = window.getComputedStyle(gd).display;\n",
       "        if (!display || display === 'none') {{\n",
       "            console.log([gd, 'removed!']);\n",
       "            Plotly.purge(gd);\n",
       "            observer.disconnect();\n",
       "        }}\n",
       "}});\n",
       "\n",
       "// Listen for the removal of the full notebook cells\n",
       "var notebookContainer = gd.closest('#notebook-container');\n",
       "if (notebookContainer) {{\n",
       "    x.observe(notebookContainer, {childList: true});\n",
       "}}\n",
       "\n",
       "// Listen for the clearing of the current output cell\n",
       "var outputEl = gd.closest('.output');\n",
       "if (outputEl) {{\n",
       "    x.observe(outputEl, {childList: true});\n",
       "}}\n",
       "\n",
       "                        })                };                });            </script>        </div>"
      ]
     },
     "metadata": {},
     "output_type": "display_data"
    }
   ],
   "source": [
    "#Active Cases\n",
    "top_10_active = country_df.sort_values(by=\"active\", ascending=False).head(10)\n",
    "fig = px.scatter(top_10_active, \n",
    "                 x=\"active\", y=\"confirmed\",size=\"active\", color=\"country_region\",\n",
    "                 hover_name=\"country_region\", log_x=True, size_max=60)\n",
    "fig.show()"
   ]
  },
  {
   "cell_type": "code",
   "execution_count": 32,
   "metadata": {},
   "outputs": [
    {
     "data": {
      "application/vnd.plotly.v1+json": {
       "config": {
        "plotlyServerURL": "https://plot.ly"
       },
       "data": [
        {
         "hovertemplate": "<b>%{hovertext}</b><br><br>country_region=India<br>recovered=%{marker.size}<br>confirmed=%{y}<extra></extra>",
         "hovertext": [
          "India"
         ],
         "legendgroup": "India",
         "marker": {
          "color": "#636efa",
          "size": [
           4587613
          ],
          "sizemode": "area",
          "sizeref": 1274.3369444444445,
          "symbol": "circle"
         },
         "mode": "markers",
         "name": "India",
         "orientation": "v",
         "showlegend": true,
         "type": "scatter",
         "x": [
          4587613
         ],
         "xaxis": "x",
         "y": [
          5646010
         ],
         "yaxis": "y"
        },
        {
         "hovertemplate": "<b>%{hovertext}</b><br><br>country_region=Brazil<br>recovered=%{marker.size}<br>confirmed=%{y}<extra></extra>",
         "hovertext": [
          "Brazil"
         ],
         "legendgroup": "Brazil",
         "marker": {
          "color": "#EF553B",
          "size": [
           4046827
          ],
          "sizemode": "area",
          "sizeref": 1274.3369444444445,
          "symbol": "circle"
         },
         "mode": "markers",
         "name": "Brazil",
         "orientation": "v",
         "showlegend": true,
         "type": "scatter",
         "x": [
          4046827
         ],
         "xaxis": "x",
         "y": [
          4591364
         ],
         "yaxis": "y"
        },
        {
         "hovertemplate": "<b>%{hovertext}</b><br><br>country_region=US<br>recovered=%{marker.size}<br>confirmed=%{y}<extra></extra>",
         "hovertext": [
          "US"
         ],
         "legendgroup": "US",
         "marker": {
          "color": "#00cc96",
          "size": [
           2670256
          ],
          "sizemode": "area",
          "sizeref": 1274.3369444444445,
          "symbol": "circle"
         },
         "mode": "markers",
         "name": "US",
         "orientation": "v",
         "showlegend": true,
         "type": "scatter",
         "x": [
          2670256
         ],
         "xaxis": "x",
         "y": [
          6940721
         ],
         "yaxis": "y"
        },
        {
         "hovertemplate": "<b>%{hovertext}</b><br><br>country_region=Russia<br>recovered=%{marker.size}<br>confirmed=%{y}<extra></extra>",
         "hovertext": [
          "Russia"
         ],
         "legendgroup": "Russia",
         "marker": {
          "color": "#ab63fa",
          "size": [
           920602
          ],
          "sizemode": "area",
          "sizeref": 1274.3369444444445,
          "symbol": "circle"
         },
         "mode": "markers",
         "name": "Russia",
         "orientation": "v",
         "showlegend": true,
         "type": "scatter",
         "x": [
          920602
         ],
         "xaxis": "x",
         "y": [
          1117487
         ],
         "yaxis": "y"
        },
        {
         "hovertemplate": "<b>%{hovertext}</b><br><br>country_region=Colombia<br>recovered=%{marker.size}<br>confirmed=%{y}<extra></extra>",
         "hovertext": [
          "Colombia"
         ],
         "legendgroup": "Colombia",
         "marker": {
          "color": "#FFA15A",
          "size": [
           662277
          ],
          "sizemode": "area",
          "sizeref": 1274.3369444444445,
          "symbol": "circle"
         },
         "mode": "markers",
         "name": "Colombia",
         "orientation": "v",
         "showlegend": true,
         "type": "scatter",
         "x": [
          662277
         ],
         "xaxis": "x",
         "y": [
          784268
         ],
         "yaxis": "y"
        },
        {
         "hovertemplate": "<b>%{hovertext}</b><br><br>country_region=Peru<br>recovered=%{marker.size}<br>confirmed=%{y}<extra></extra>",
         "hovertext": [
          "Peru"
         ],
         "legendgroup": "Peru",
         "marker": {
          "color": "#19d3f3",
          "size": [
           629094
          ],
          "sizemode": "area",
          "sizeref": 1274.3369444444445,
          "symbol": "circle"
         },
         "mode": "markers",
         "name": "Peru",
         "orientation": "v",
         "showlegend": true,
         "type": "scatter",
         "x": [
          629094
         ],
         "xaxis": "x",
         "y": [
          776546
         ],
         "yaxis": "y"
        },
        {
         "hovertemplate": "<b>%{hovertext}</b><br><br>country_region=Mexico<br>recovered=%{marker.size}<br>confirmed=%{y}<extra></extra>",
         "hovertext": [
          "Mexico"
         ],
         "legendgroup": "Mexico",
         "marker": {
          "color": "#FF6692",
          "size": [
           598953
          ],
          "sizemode": "area",
          "sizeref": 1274.3369444444445,
          "symbol": "circle"
         },
         "mode": "markers",
         "name": "Mexico",
         "orientation": "v",
         "showlegend": true,
         "type": "scatter",
         "x": [
          598953
         ],
         "xaxis": "x",
         "y": [
          705263
         ],
         "yaxis": "y"
        },
        {
         "hovertemplate": "<b>%{hovertext}</b><br><br>country_region=South Africa<br>recovered=%{marker.size}<br>confirmed=%{y}<extra></extra>",
         "hovertext": [
          "South Africa"
         ],
         "legendgroup": "South Africa",
         "marker": {
          "color": "#B6E880",
          "size": [
           594229
          ],
          "sizemode": "area",
          "sizeref": 1274.3369444444445,
          "symbol": "circle"
         },
         "mode": "markers",
         "name": "South Africa",
         "orientation": "v",
         "showlegend": true,
         "type": "scatter",
         "x": [
          594229
         ],
         "xaxis": "x",
         "y": [
          665188
         ],
         "yaxis": "y"
        },
        {
         "hovertemplate": "<b>%{hovertext}</b><br><br>country_region=Argentina<br>recovered=%{marker.size}<br>confirmed=%{y}<extra></extra>",
         "hovertext": [
          "Argentina"
         ],
         "legendgroup": "Argentina",
         "marker": {
          "color": "#FF97FF",
          "size": [
           517228
          ],
          "sizemode": "area",
          "sizeref": 1274.3369444444445,
          "symbol": "circle"
         },
         "mode": "markers",
         "name": "Argentina",
         "orientation": "v",
         "showlegend": true,
         "type": "scatter",
         "x": [
          517228
         ],
         "xaxis": "x",
         "y": [
          652174
         ],
         "yaxis": "y"
        },
        {
         "hovertemplate": "<b>%{hovertext}</b><br><br>country_region=Chile<br>recovered=%{marker.size}<br>confirmed=%{y}<extra></extra>",
         "hovertext": [
          "Chile"
         ],
         "legendgroup": "Chile",
         "marker": {
          "color": "#FECB52",
          "size": [
           425165
          ],
          "sizemode": "area",
          "sizeref": 1274.3369444444445,
          "symbol": "circle"
         },
         "mode": "markers",
         "name": "Chile",
         "orientation": "v",
         "showlegend": true,
         "type": "scatter",
         "x": [
          425165
         ],
         "xaxis": "x",
         "y": [
          449903
         ],
         "yaxis": "y"
        }
       ],
       "layout": {
        "legend": {
         "itemsizing": "constant",
         "title": {
          "text": "country_region"
         },
         "tracegroupgap": 0
        },
        "margin": {
         "t": 60
        },
        "template": {
         "data": {
          "bar": [
           {
            "error_x": {
             "color": "#2a3f5f"
            },
            "error_y": {
             "color": "#2a3f5f"
            },
            "marker": {
             "line": {
              "color": "#E5ECF6",
              "width": 0.5
             }
            },
            "type": "bar"
           }
          ],
          "barpolar": [
           {
            "marker": {
             "line": {
              "color": "#E5ECF6",
              "width": 0.5
             }
            },
            "type": "barpolar"
           }
          ],
          "carpet": [
           {
            "aaxis": {
             "endlinecolor": "#2a3f5f",
             "gridcolor": "white",
             "linecolor": "white",
             "minorgridcolor": "white",
             "startlinecolor": "#2a3f5f"
            },
            "baxis": {
             "endlinecolor": "#2a3f5f",
             "gridcolor": "white",
             "linecolor": "white",
             "minorgridcolor": "white",
             "startlinecolor": "#2a3f5f"
            },
            "type": "carpet"
           }
          ],
          "choropleth": [
           {
            "colorbar": {
             "outlinewidth": 0,
             "ticks": ""
            },
            "type": "choropleth"
           }
          ],
          "contour": [
           {
            "colorbar": {
             "outlinewidth": 0,
             "ticks": ""
            },
            "colorscale": [
             [
              0,
              "#0d0887"
             ],
             [
              0.1111111111111111,
              "#46039f"
             ],
             [
              0.2222222222222222,
              "#7201a8"
             ],
             [
              0.3333333333333333,
              "#9c179e"
             ],
             [
              0.4444444444444444,
              "#bd3786"
             ],
             [
              0.5555555555555556,
              "#d8576b"
             ],
             [
              0.6666666666666666,
              "#ed7953"
             ],
             [
              0.7777777777777778,
              "#fb9f3a"
             ],
             [
              0.8888888888888888,
              "#fdca26"
             ],
             [
              1,
              "#f0f921"
             ]
            ],
            "type": "contour"
           }
          ],
          "contourcarpet": [
           {
            "colorbar": {
             "outlinewidth": 0,
             "ticks": ""
            },
            "type": "contourcarpet"
           }
          ],
          "heatmap": [
           {
            "colorbar": {
             "outlinewidth": 0,
             "ticks": ""
            },
            "colorscale": [
             [
              0,
              "#0d0887"
             ],
             [
              0.1111111111111111,
              "#46039f"
             ],
             [
              0.2222222222222222,
              "#7201a8"
             ],
             [
              0.3333333333333333,
              "#9c179e"
             ],
             [
              0.4444444444444444,
              "#bd3786"
             ],
             [
              0.5555555555555556,
              "#d8576b"
             ],
             [
              0.6666666666666666,
              "#ed7953"
             ],
             [
              0.7777777777777778,
              "#fb9f3a"
             ],
             [
              0.8888888888888888,
              "#fdca26"
             ],
             [
              1,
              "#f0f921"
             ]
            ],
            "type": "heatmap"
           }
          ],
          "heatmapgl": [
           {
            "colorbar": {
             "outlinewidth": 0,
             "ticks": ""
            },
            "colorscale": [
             [
              0,
              "#0d0887"
             ],
             [
              0.1111111111111111,
              "#46039f"
             ],
             [
              0.2222222222222222,
              "#7201a8"
             ],
             [
              0.3333333333333333,
              "#9c179e"
             ],
             [
              0.4444444444444444,
              "#bd3786"
             ],
             [
              0.5555555555555556,
              "#d8576b"
             ],
             [
              0.6666666666666666,
              "#ed7953"
             ],
             [
              0.7777777777777778,
              "#fb9f3a"
             ],
             [
              0.8888888888888888,
              "#fdca26"
             ],
             [
              1,
              "#f0f921"
             ]
            ],
            "type": "heatmapgl"
           }
          ],
          "histogram": [
           {
            "marker": {
             "colorbar": {
              "outlinewidth": 0,
              "ticks": ""
             }
            },
            "type": "histogram"
           }
          ],
          "histogram2d": [
           {
            "colorbar": {
             "outlinewidth": 0,
             "ticks": ""
            },
            "colorscale": [
             [
              0,
              "#0d0887"
             ],
             [
              0.1111111111111111,
              "#46039f"
             ],
             [
              0.2222222222222222,
              "#7201a8"
             ],
             [
              0.3333333333333333,
              "#9c179e"
             ],
             [
              0.4444444444444444,
              "#bd3786"
             ],
             [
              0.5555555555555556,
              "#d8576b"
             ],
             [
              0.6666666666666666,
              "#ed7953"
             ],
             [
              0.7777777777777778,
              "#fb9f3a"
             ],
             [
              0.8888888888888888,
              "#fdca26"
             ],
             [
              1,
              "#f0f921"
             ]
            ],
            "type": "histogram2d"
           }
          ],
          "histogram2dcontour": [
           {
            "colorbar": {
             "outlinewidth": 0,
             "ticks": ""
            },
            "colorscale": [
             [
              0,
              "#0d0887"
             ],
             [
              0.1111111111111111,
              "#46039f"
             ],
             [
              0.2222222222222222,
              "#7201a8"
             ],
             [
              0.3333333333333333,
              "#9c179e"
             ],
             [
              0.4444444444444444,
              "#bd3786"
             ],
             [
              0.5555555555555556,
              "#d8576b"
             ],
             [
              0.6666666666666666,
              "#ed7953"
             ],
             [
              0.7777777777777778,
              "#fb9f3a"
             ],
             [
              0.8888888888888888,
              "#fdca26"
             ],
             [
              1,
              "#f0f921"
             ]
            ],
            "type": "histogram2dcontour"
           }
          ],
          "mesh3d": [
           {
            "colorbar": {
             "outlinewidth": 0,
             "ticks": ""
            },
            "type": "mesh3d"
           }
          ],
          "parcoords": [
           {
            "line": {
             "colorbar": {
              "outlinewidth": 0,
              "ticks": ""
             }
            },
            "type": "parcoords"
           }
          ],
          "pie": [
           {
            "automargin": true,
            "type": "pie"
           }
          ],
          "scatter": [
           {
            "marker": {
             "colorbar": {
              "outlinewidth": 0,
              "ticks": ""
             }
            },
            "type": "scatter"
           }
          ],
          "scatter3d": [
           {
            "line": {
             "colorbar": {
              "outlinewidth": 0,
              "ticks": ""
             }
            },
            "marker": {
             "colorbar": {
              "outlinewidth": 0,
              "ticks": ""
             }
            },
            "type": "scatter3d"
           }
          ],
          "scattercarpet": [
           {
            "marker": {
             "colorbar": {
              "outlinewidth": 0,
              "ticks": ""
             }
            },
            "type": "scattercarpet"
           }
          ],
          "scattergeo": [
           {
            "marker": {
             "colorbar": {
              "outlinewidth": 0,
              "ticks": ""
             }
            },
            "type": "scattergeo"
           }
          ],
          "scattergl": [
           {
            "marker": {
             "colorbar": {
              "outlinewidth": 0,
              "ticks": ""
             }
            },
            "type": "scattergl"
           }
          ],
          "scattermapbox": [
           {
            "marker": {
             "colorbar": {
              "outlinewidth": 0,
              "ticks": ""
             }
            },
            "type": "scattermapbox"
           }
          ],
          "scatterpolar": [
           {
            "marker": {
             "colorbar": {
              "outlinewidth": 0,
              "ticks": ""
             }
            },
            "type": "scatterpolar"
           }
          ],
          "scatterpolargl": [
           {
            "marker": {
             "colorbar": {
              "outlinewidth": 0,
              "ticks": ""
             }
            },
            "type": "scatterpolargl"
           }
          ],
          "scatterternary": [
           {
            "marker": {
             "colorbar": {
              "outlinewidth": 0,
              "ticks": ""
             }
            },
            "type": "scatterternary"
           }
          ],
          "surface": [
           {
            "colorbar": {
             "outlinewidth": 0,
             "ticks": ""
            },
            "colorscale": [
             [
              0,
              "#0d0887"
             ],
             [
              0.1111111111111111,
              "#46039f"
             ],
             [
              0.2222222222222222,
              "#7201a8"
             ],
             [
              0.3333333333333333,
              "#9c179e"
             ],
             [
              0.4444444444444444,
              "#bd3786"
             ],
             [
              0.5555555555555556,
              "#d8576b"
             ],
             [
              0.6666666666666666,
              "#ed7953"
             ],
             [
              0.7777777777777778,
              "#fb9f3a"
             ],
             [
              0.8888888888888888,
              "#fdca26"
             ],
             [
              1,
              "#f0f921"
             ]
            ],
            "type": "surface"
           }
          ],
          "table": [
           {
            "cells": {
             "fill": {
              "color": "#EBF0F8"
             },
             "line": {
              "color": "white"
             }
            },
            "header": {
             "fill": {
              "color": "#C8D4E3"
             },
             "line": {
              "color": "white"
             }
            },
            "type": "table"
           }
          ]
         },
         "layout": {
          "annotationdefaults": {
           "arrowcolor": "#2a3f5f",
           "arrowhead": 0,
           "arrowwidth": 1
          },
          "coloraxis": {
           "colorbar": {
            "outlinewidth": 0,
            "ticks": ""
           }
          },
          "colorscale": {
           "diverging": [
            [
             0,
             "#8e0152"
            ],
            [
             0.1,
             "#c51b7d"
            ],
            [
             0.2,
             "#de77ae"
            ],
            [
             0.3,
             "#f1b6da"
            ],
            [
             0.4,
             "#fde0ef"
            ],
            [
             0.5,
             "#f7f7f7"
            ],
            [
             0.6,
             "#e6f5d0"
            ],
            [
             0.7,
             "#b8e186"
            ],
            [
             0.8,
             "#7fbc41"
            ],
            [
             0.9,
             "#4d9221"
            ],
            [
             1,
             "#276419"
            ]
           ],
           "sequential": [
            [
             0,
             "#0d0887"
            ],
            [
             0.1111111111111111,
             "#46039f"
            ],
            [
             0.2222222222222222,
             "#7201a8"
            ],
            [
             0.3333333333333333,
             "#9c179e"
            ],
            [
             0.4444444444444444,
             "#bd3786"
            ],
            [
             0.5555555555555556,
             "#d8576b"
            ],
            [
             0.6666666666666666,
             "#ed7953"
            ],
            [
             0.7777777777777778,
             "#fb9f3a"
            ],
            [
             0.8888888888888888,
             "#fdca26"
            ],
            [
             1,
             "#f0f921"
            ]
           ],
           "sequentialminus": [
            [
             0,
             "#0d0887"
            ],
            [
             0.1111111111111111,
             "#46039f"
            ],
            [
             0.2222222222222222,
             "#7201a8"
            ],
            [
             0.3333333333333333,
             "#9c179e"
            ],
            [
             0.4444444444444444,
             "#bd3786"
            ],
            [
             0.5555555555555556,
             "#d8576b"
            ],
            [
             0.6666666666666666,
             "#ed7953"
            ],
            [
             0.7777777777777778,
             "#fb9f3a"
            ],
            [
             0.8888888888888888,
             "#fdca26"
            ],
            [
             1,
             "#f0f921"
            ]
           ]
          },
          "colorway": [
           "#636efa",
           "#EF553B",
           "#00cc96",
           "#ab63fa",
           "#FFA15A",
           "#19d3f3",
           "#FF6692",
           "#B6E880",
           "#FF97FF",
           "#FECB52"
          ],
          "font": {
           "color": "#2a3f5f"
          },
          "geo": {
           "bgcolor": "white",
           "lakecolor": "white",
           "landcolor": "#E5ECF6",
           "showlakes": true,
           "showland": true,
           "subunitcolor": "white"
          },
          "hoverlabel": {
           "align": "left"
          },
          "hovermode": "closest",
          "mapbox": {
           "style": "light"
          },
          "paper_bgcolor": "white",
          "plot_bgcolor": "#E5ECF6",
          "polar": {
           "angularaxis": {
            "gridcolor": "white",
            "linecolor": "white",
            "ticks": ""
           },
           "bgcolor": "#E5ECF6",
           "radialaxis": {
            "gridcolor": "white",
            "linecolor": "white",
            "ticks": ""
           }
          },
          "scene": {
           "xaxis": {
            "backgroundcolor": "#E5ECF6",
            "gridcolor": "white",
            "gridwidth": 2,
            "linecolor": "white",
            "showbackground": true,
            "ticks": "",
            "zerolinecolor": "white"
           },
           "yaxis": {
            "backgroundcolor": "#E5ECF6",
            "gridcolor": "white",
            "gridwidth": 2,
            "linecolor": "white",
            "showbackground": true,
            "ticks": "",
            "zerolinecolor": "white"
           },
           "zaxis": {
            "backgroundcolor": "#E5ECF6",
            "gridcolor": "white",
            "gridwidth": 2,
            "linecolor": "white",
            "showbackground": true,
            "ticks": "",
            "zerolinecolor": "white"
           }
          },
          "shapedefaults": {
           "line": {
            "color": "#2a3f5f"
           }
          },
          "ternary": {
           "aaxis": {
            "gridcolor": "white",
            "linecolor": "white",
            "ticks": ""
           },
           "baxis": {
            "gridcolor": "white",
            "linecolor": "white",
            "ticks": ""
           },
           "bgcolor": "#E5ECF6",
           "caxis": {
            "gridcolor": "white",
            "linecolor": "white",
            "ticks": ""
           }
          },
          "title": {
           "x": 0.05
          },
          "xaxis": {
           "automargin": true,
           "gridcolor": "white",
           "linecolor": "white",
           "ticks": "",
           "title": {
            "standoff": 15
           },
           "zerolinecolor": "white",
           "zerolinewidth": 2
          },
          "yaxis": {
           "automargin": true,
           "gridcolor": "white",
           "linecolor": "white",
           "ticks": "",
           "title": {
            "standoff": 15
           },
           "zerolinecolor": "white",
           "zerolinewidth": 2
          }
         }
        },
        "xaxis": {
         "anchor": "y",
         "domain": [
          0,
          1
         ],
         "title": {
          "text": "recovered"
         },
         "type": "log"
        },
        "yaxis": {
         "anchor": "x",
         "domain": [
          0,
          1
         ],
         "title": {
          "text": "confirmed"
         }
        }
       }
      },
      "text/html": [
       "<div>                            <div id=\"46b9cca0-f753-4110-aa6e-7be77af3c00d\" class=\"plotly-graph-div\" style=\"height:525px; width:100%;\"></div>            <script type=\"text/javascript\">                require([\"plotly\"], function(Plotly) {                    window.PLOTLYENV=window.PLOTLYENV || {};                                    if (document.getElementById(\"46b9cca0-f753-4110-aa6e-7be77af3c00d\")) {                    Plotly.newPlot(                        \"46b9cca0-f753-4110-aa6e-7be77af3c00d\",                        [{\"hovertemplate\": \"<b>%{hovertext}</b><br><br>country_region=India<br>recovered=%{marker.size}<br>confirmed=%{y}<extra></extra>\", \"hovertext\": [\"India\"], \"legendgroup\": \"India\", \"marker\": {\"color\": \"#636efa\", \"size\": [4587613.0], \"sizemode\": \"area\", \"sizeref\": 1274.3369444444445, \"symbol\": \"circle\"}, \"mode\": \"markers\", \"name\": \"India\", \"orientation\": \"v\", \"showlegend\": true, \"type\": \"scatter\", \"x\": [4587613.0], \"xaxis\": \"x\", \"y\": [5646010.0], \"yaxis\": \"y\"}, {\"hovertemplate\": \"<b>%{hovertext}</b><br><br>country_region=Brazil<br>recovered=%{marker.size}<br>confirmed=%{y}<extra></extra>\", \"hovertext\": [\"Brazil\"], \"legendgroup\": \"Brazil\", \"marker\": {\"color\": \"#EF553B\", \"size\": [4046827.0], \"sizemode\": \"area\", \"sizeref\": 1274.3369444444445, \"symbol\": \"circle\"}, \"mode\": \"markers\", \"name\": \"Brazil\", \"orientation\": \"v\", \"showlegend\": true, \"type\": \"scatter\", \"x\": [4046827.0], \"xaxis\": \"x\", \"y\": [4591364.0], \"yaxis\": \"y\"}, {\"hovertemplate\": \"<b>%{hovertext}</b><br><br>country_region=US<br>recovered=%{marker.size}<br>confirmed=%{y}<extra></extra>\", \"hovertext\": [\"US\"], \"legendgroup\": \"US\", \"marker\": {\"color\": \"#00cc96\", \"size\": [2670256.0], \"sizemode\": \"area\", \"sizeref\": 1274.3369444444445, \"symbol\": \"circle\"}, \"mode\": \"markers\", \"name\": \"US\", \"orientation\": \"v\", \"showlegend\": true, \"type\": \"scatter\", \"x\": [2670256.0], \"xaxis\": \"x\", \"y\": [6940721.0], \"yaxis\": \"y\"}, {\"hovertemplate\": \"<b>%{hovertext}</b><br><br>country_region=Russia<br>recovered=%{marker.size}<br>confirmed=%{y}<extra></extra>\", \"hovertext\": [\"Russia\"], \"legendgroup\": \"Russia\", \"marker\": {\"color\": \"#ab63fa\", \"size\": [920602.0], \"sizemode\": \"area\", \"sizeref\": 1274.3369444444445, \"symbol\": \"circle\"}, \"mode\": \"markers\", \"name\": \"Russia\", \"orientation\": \"v\", \"showlegend\": true, \"type\": \"scatter\", \"x\": [920602.0], \"xaxis\": \"x\", \"y\": [1117487.0], \"yaxis\": \"y\"}, {\"hovertemplate\": \"<b>%{hovertext}</b><br><br>country_region=Colombia<br>recovered=%{marker.size}<br>confirmed=%{y}<extra></extra>\", \"hovertext\": [\"Colombia\"], \"legendgroup\": \"Colombia\", \"marker\": {\"color\": \"#FFA15A\", \"size\": [662277.0], \"sizemode\": \"area\", \"sizeref\": 1274.3369444444445, \"symbol\": \"circle\"}, \"mode\": \"markers\", \"name\": \"Colombia\", \"orientation\": \"v\", \"showlegend\": true, \"type\": \"scatter\", \"x\": [662277.0], \"xaxis\": \"x\", \"y\": [784268.0], \"yaxis\": \"y\"}, {\"hovertemplate\": \"<b>%{hovertext}</b><br><br>country_region=Peru<br>recovered=%{marker.size}<br>confirmed=%{y}<extra></extra>\", \"hovertext\": [\"Peru\"], \"legendgroup\": \"Peru\", \"marker\": {\"color\": \"#19d3f3\", \"size\": [629094.0], \"sizemode\": \"area\", \"sizeref\": 1274.3369444444445, \"symbol\": \"circle\"}, \"mode\": \"markers\", \"name\": \"Peru\", \"orientation\": \"v\", \"showlegend\": true, \"type\": \"scatter\", \"x\": [629094.0], \"xaxis\": \"x\", \"y\": [776546.0], \"yaxis\": \"y\"}, {\"hovertemplate\": \"<b>%{hovertext}</b><br><br>country_region=Mexico<br>recovered=%{marker.size}<br>confirmed=%{y}<extra></extra>\", \"hovertext\": [\"Mexico\"], \"legendgroup\": \"Mexico\", \"marker\": {\"color\": \"#FF6692\", \"size\": [598953.0], \"sizemode\": \"area\", \"sizeref\": 1274.3369444444445, \"symbol\": \"circle\"}, \"mode\": \"markers\", \"name\": \"Mexico\", \"orientation\": \"v\", \"showlegend\": true, \"type\": \"scatter\", \"x\": [598953.0], \"xaxis\": \"x\", \"y\": [705263.0], \"yaxis\": \"y\"}, {\"hovertemplate\": \"<b>%{hovertext}</b><br><br>country_region=South Africa<br>recovered=%{marker.size}<br>confirmed=%{y}<extra></extra>\", \"hovertext\": [\"South Africa\"], \"legendgroup\": \"South Africa\", \"marker\": {\"color\": \"#B6E880\", \"size\": [594229.0], \"sizemode\": \"area\", \"sizeref\": 1274.3369444444445, \"symbol\": \"circle\"}, \"mode\": \"markers\", \"name\": \"South Africa\", \"orientation\": \"v\", \"showlegend\": true, \"type\": \"scatter\", \"x\": [594229.0], \"xaxis\": \"x\", \"y\": [665188.0], \"yaxis\": \"y\"}, {\"hovertemplate\": \"<b>%{hovertext}</b><br><br>country_region=Argentina<br>recovered=%{marker.size}<br>confirmed=%{y}<extra></extra>\", \"hovertext\": [\"Argentina\"], \"legendgroup\": \"Argentina\", \"marker\": {\"color\": \"#FF97FF\", \"size\": [517228.0], \"sizemode\": \"area\", \"sizeref\": 1274.3369444444445, \"symbol\": \"circle\"}, \"mode\": \"markers\", \"name\": \"Argentina\", \"orientation\": \"v\", \"showlegend\": true, \"type\": \"scatter\", \"x\": [517228.0], \"xaxis\": \"x\", \"y\": [652174.0], \"yaxis\": \"y\"}, {\"hovertemplate\": \"<b>%{hovertext}</b><br><br>country_region=Chile<br>recovered=%{marker.size}<br>confirmed=%{y}<extra></extra>\", \"hovertext\": [\"Chile\"], \"legendgroup\": \"Chile\", \"marker\": {\"color\": \"#FECB52\", \"size\": [425165.0], \"sizemode\": \"area\", \"sizeref\": 1274.3369444444445, \"symbol\": \"circle\"}, \"mode\": \"markers\", \"name\": \"Chile\", \"orientation\": \"v\", \"showlegend\": true, \"type\": \"scatter\", \"x\": [425165.0], \"xaxis\": \"x\", \"y\": [449903.0], \"yaxis\": \"y\"}],                        {\"legend\": {\"itemsizing\": \"constant\", \"title\": {\"text\": \"country_region\"}, \"tracegroupgap\": 0}, \"margin\": {\"t\": 60}, \"template\": {\"data\": {\"bar\": [{\"error_x\": {\"color\": \"#2a3f5f\"}, \"error_y\": {\"color\": \"#2a3f5f\"}, \"marker\": {\"line\": {\"color\": \"#E5ECF6\", \"width\": 0.5}}, \"type\": \"bar\"}], \"barpolar\": [{\"marker\": {\"line\": {\"color\": \"#E5ECF6\", \"width\": 0.5}}, \"type\": \"barpolar\"}], \"carpet\": [{\"aaxis\": {\"endlinecolor\": \"#2a3f5f\", \"gridcolor\": \"white\", \"linecolor\": \"white\", \"minorgridcolor\": \"white\", \"startlinecolor\": \"#2a3f5f\"}, \"baxis\": {\"endlinecolor\": \"#2a3f5f\", \"gridcolor\": \"white\", \"linecolor\": \"white\", \"minorgridcolor\": \"white\", \"startlinecolor\": \"#2a3f5f\"}, \"type\": \"carpet\"}], \"choropleth\": [{\"colorbar\": {\"outlinewidth\": 0, \"ticks\": \"\"}, \"type\": \"choropleth\"}], \"contour\": [{\"colorbar\": {\"outlinewidth\": 0, \"ticks\": \"\"}, \"colorscale\": [[0.0, \"#0d0887\"], [0.1111111111111111, \"#46039f\"], [0.2222222222222222, \"#7201a8\"], [0.3333333333333333, \"#9c179e\"], [0.4444444444444444, \"#bd3786\"], [0.5555555555555556, \"#d8576b\"], [0.6666666666666666, \"#ed7953\"], [0.7777777777777778, \"#fb9f3a\"], [0.8888888888888888, \"#fdca26\"], [1.0, \"#f0f921\"]], \"type\": \"contour\"}], \"contourcarpet\": [{\"colorbar\": {\"outlinewidth\": 0, \"ticks\": \"\"}, \"type\": \"contourcarpet\"}], \"heatmap\": [{\"colorbar\": {\"outlinewidth\": 0, \"ticks\": \"\"}, \"colorscale\": [[0.0, \"#0d0887\"], [0.1111111111111111, \"#46039f\"], [0.2222222222222222, \"#7201a8\"], [0.3333333333333333, \"#9c179e\"], [0.4444444444444444, \"#bd3786\"], [0.5555555555555556, \"#d8576b\"], [0.6666666666666666, \"#ed7953\"], [0.7777777777777778, \"#fb9f3a\"], [0.8888888888888888, \"#fdca26\"], [1.0, \"#f0f921\"]], \"type\": \"heatmap\"}], \"heatmapgl\": [{\"colorbar\": {\"outlinewidth\": 0, \"ticks\": \"\"}, \"colorscale\": [[0.0, \"#0d0887\"], [0.1111111111111111, \"#46039f\"], [0.2222222222222222, \"#7201a8\"], [0.3333333333333333, \"#9c179e\"], [0.4444444444444444, \"#bd3786\"], [0.5555555555555556, \"#d8576b\"], [0.6666666666666666, \"#ed7953\"], [0.7777777777777778, \"#fb9f3a\"], [0.8888888888888888, \"#fdca26\"], [1.0, \"#f0f921\"]], \"type\": \"heatmapgl\"}], \"histogram\": [{\"marker\": {\"colorbar\": {\"outlinewidth\": 0, \"ticks\": \"\"}}, \"type\": \"histogram\"}], \"histogram2d\": [{\"colorbar\": {\"outlinewidth\": 0, \"ticks\": \"\"}, \"colorscale\": [[0.0, \"#0d0887\"], [0.1111111111111111, \"#46039f\"], [0.2222222222222222, \"#7201a8\"], [0.3333333333333333, \"#9c179e\"], [0.4444444444444444, \"#bd3786\"], [0.5555555555555556, \"#d8576b\"], [0.6666666666666666, \"#ed7953\"], [0.7777777777777778, \"#fb9f3a\"], [0.8888888888888888, \"#fdca26\"], [1.0, \"#f0f921\"]], \"type\": \"histogram2d\"}], \"histogram2dcontour\": [{\"colorbar\": {\"outlinewidth\": 0, \"ticks\": \"\"}, \"colorscale\": [[0.0, \"#0d0887\"], [0.1111111111111111, \"#46039f\"], [0.2222222222222222, \"#7201a8\"], [0.3333333333333333, \"#9c179e\"], [0.4444444444444444, \"#bd3786\"], [0.5555555555555556, \"#d8576b\"], [0.6666666666666666, \"#ed7953\"], [0.7777777777777778, \"#fb9f3a\"], [0.8888888888888888, \"#fdca26\"], [1.0, \"#f0f921\"]], \"type\": \"histogram2dcontour\"}], \"mesh3d\": [{\"colorbar\": {\"outlinewidth\": 0, \"ticks\": \"\"}, \"type\": \"mesh3d\"}], \"parcoords\": [{\"line\": {\"colorbar\": {\"outlinewidth\": 0, \"ticks\": \"\"}}, \"type\": \"parcoords\"}], \"pie\": [{\"automargin\": true, \"type\": \"pie\"}], \"scatter\": [{\"marker\": {\"colorbar\": {\"outlinewidth\": 0, \"ticks\": \"\"}}, \"type\": \"scatter\"}], \"scatter3d\": [{\"line\": {\"colorbar\": {\"outlinewidth\": 0, \"ticks\": \"\"}}, \"marker\": {\"colorbar\": {\"outlinewidth\": 0, \"ticks\": \"\"}}, \"type\": \"scatter3d\"}], \"scattercarpet\": [{\"marker\": {\"colorbar\": {\"outlinewidth\": 0, \"ticks\": \"\"}}, \"type\": \"scattercarpet\"}], \"scattergeo\": [{\"marker\": {\"colorbar\": {\"outlinewidth\": 0, \"ticks\": \"\"}}, \"type\": \"scattergeo\"}], \"scattergl\": [{\"marker\": {\"colorbar\": {\"outlinewidth\": 0, \"ticks\": \"\"}}, \"type\": \"scattergl\"}], \"scattermapbox\": [{\"marker\": {\"colorbar\": {\"outlinewidth\": 0, \"ticks\": \"\"}}, \"type\": \"scattermapbox\"}], \"scatterpolar\": [{\"marker\": {\"colorbar\": {\"outlinewidth\": 0, \"ticks\": \"\"}}, \"type\": \"scatterpolar\"}], \"scatterpolargl\": [{\"marker\": {\"colorbar\": {\"outlinewidth\": 0, \"ticks\": \"\"}}, \"type\": \"scatterpolargl\"}], \"scatterternary\": [{\"marker\": {\"colorbar\": {\"outlinewidth\": 0, \"ticks\": \"\"}}, \"type\": \"scatterternary\"}], \"surface\": [{\"colorbar\": {\"outlinewidth\": 0, \"ticks\": \"\"}, \"colorscale\": [[0.0, \"#0d0887\"], [0.1111111111111111, \"#46039f\"], [0.2222222222222222, \"#7201a8\"], [0.3333333333333333, \"#9c179e\"], [0.4444444444444444, \"#bd3786\"], [0.5555555555555556, \"#d8576b\"], [0.6666666666666666, \"#ed7953\"], [0.7777777777777778, \"#fb9f3a\"], [0.8888888888888888, \"#fdca26\"], [1.0, \"#f0f921\"]], \"type\": \"surface\"}], \"table\": [{\"cells\": {\"fill\": {\"color\": \"#EBF0F8\"}, \"line\": {\"color\": \"white\"}}, \"header\": {\"fill\": {\"color\": \"#C8D4E3\"}, \"line\": {\"color\": \"white\"}}, \"type\": \"table\"}]}, \"layout\": {\"annotationdefaults\": {\"arrowcolor\": \"#2a3f5f\", \"arrowhead\": 0, \"arrowwidth\": 1}, \"coloraxis\": {\"colorbar\": {\"outlinewidth\": 0, \"ticks\": \"\"}}, \"colorscale\": {\"diverging\": [[0, \"#8e0152\"], [0.1, \"#c51b7d\"], [0.2, \"#de77ae\"], [0.3, \"#f1b6da\"], [0.4, \"#fde0ef\"], [0.5, \"#f7f7f7\"], [0.6, \"#e6f5d0\"], [0.7, \"#b8e186\"], [0.8, \"#7fbc41\"], [0.9, \"#4d9221\"], [1, \"#276419\"]], \"sequential\": [[0.0, \"#0d0887\"], [0.1111111111111111, \"#46039f\"], [0.2222222222222222, \"#7201a8\"], [0.3333333333333333, \"#9c179e\"], [0.4444444444444444, \"#bd3786\"], [0.5555555555555556, \"#d8576b\"], [0.6666666666666666, \"#ed7953\"], [0.7777777777777778, \"#fb9f3a\"], [0.8888888888888888, \"#fdca26\"], [1.0, \"#f0f921\"]], \"sequentialminus\": [[0.0, \"#0d0887\"], [0.1111111111111111, \"#46039f\"], [0.2222222222222222, \"#7201a8\"], [0.3333333333333333, \"#9c179e\"], [0.4444444444444444, \"#bd3786\"], [0.5555555555555556, \"#d8576b\"], [0.6666666666666666, \"#ed7953\"], [0.7777777777777778, \"#fb9f3a\"], [0.8888888888888888, \"#fdca26\"], [1.0, \"#f0f921\"]]}, \"colorway\": [\"#636efa\", \"#EF553B\", \"#00cc96\", \"#ab63fa\", \"#FFA15A\", \"#19d3f3\", \"#FF6692\", \"#B6E880\", \"#FF97FF\", \"#FECB52\"], \"font\": {\"color\": \"#2a3f5f\"}, \"geo\": {\"bgcolor\": \"white\", \"lakecolor\": \"white\", \"landcolor\": \"#E5ECF6\", \"showlakes\": true, \"showland\": true, \"subunitcolor\": \"white\"}, \"hoverlabel\": {\"align\": \"left\"}, \"hovermode\": \"closest\", \"mapbox\": {\"style\": \"light\"}, \"paper_bgcolor\": \"white\", \"plot_bgcolor\": \"#E5ECF6\", \"polar\": {\"angularaxis\": {\"gridcolor\": \"white\", \"linecolor\": \"white\", \"ticks\": \"\"}, \"bgcolor\": \"#E5ECF6\", \"radialaxis\": {\"gridcolor\": \"white\", \"linecolor\": \"white\", \"ticks\": \"\"}}, \"scene\": {\"xaxis\": {\"backgroundcolor\": \"#E5ECF6\", \"gridcolor\": \"white\", \"gridwidth\": 2, \"linecolor\": \"white\", \"showbackground\": true, \"ticks\": \"\", \"zerolinecolor\": \"white\"}, \"yaxis\": {\"backgroundcolor\": \"#E5ECF6\", \"gridcolor\": \"white\", \"gridwidth\": 2, \"linecolor\": \"white\", \"showbackground\": true, \"ticks\": \"\", \"zerolinecolor\": \"white\"}, \"zaxis\": {\"backgroundcolor\": \"#E5ECF6\", \"gridcolor\": \"white\", \"gridwidth\": 2, \"linecolor\": \"white\", \"showbackground\": true, \"ticks\": \"\", \"zerolinecolor\": \"white\"}}, \"shapedefaults\": {\"line\": {\"color\": \"#2a3f5f\"}}, \"ternary\": {\"aaxis\": {\"gridcolor\": \"white\", \"linecolor\": \"white\", \"ticks\": \"\"}, \"baxis\": {\"gridcolor\": \"white\", \"linecolor\": \"white\", \"ticks\": \"\"}, \"bgcolor\": \"#E5ECF6\", \"caxis\": {\"gridcolor\": \"white\", \"linecolor\": \"white\", \"ticks\": \"\"}}, \"title\": {\"x\": 0.05}, \"xaxis\": {\"automargin\": true, \"gridcolor\": \"white\", \"linecolor\": \"white\", \"ticks\": \"\", \"title\": {\"standoff\": 15}, \"zerolinecolor\": \"white\", \"zerolinewidth\": 2}, \"yaxis\": {\"automargin\": true, \"gridcolor\": \"white\", \"linecolor\": \"white\", \"ticks\": \"\", \"title\": {\"standoff\": 15}, \"zerolinecolor\": \"white\", \"zerolinewidth\": 2}}}, \"xaxis\": {\"anchor\": \"y\", \"domain\": [0.0, 1.0], \"title\": {\"text\": \"recovered\"}, \"type\": \"log\"}, \"yaxis\": {\"anchor\": \"x\", \"domain\": [0.0, 1.0], \"title\": {\"text\": \"confirmed\"}}},                        {\"responsive\": true}                    ).then(function(){\n",
       "                            \n",
       "var gd = document.getElementById('46b9cca0-f753-4110-aa6e-7be77af3c00d');\n",
       "var x = new MutationObserver(function (mutations, observer) {{\n",
       "        var display = window.getComputedStyle(gd).display;\n",
       "        if (!display || display === 'none') {{\n",
       "            console.log([gd, 'removed!']);\n",
       "            Plotly.purge(gd);\n",
       "            observer.disconnect();\n",
       "        }}\n",
       "}});\n",
       "\n",
       "// Listen for the removal of the full notebook cells\n",
       "var notebookContainer = gd.closest('#notebook-container');\n",
       "if (notebookContainer) {{\n",
       "    x.observe(notebookContainer, {childList: true});\n",
       "}}\n",
       "\n",
       "// Listen for the clearing of the current output cell\n",
       "var outputEl = gd.closest('.output');\n",
       "if (outputEl) {{\n",
       "    x.observe(outputEl, {childList: true});\n",
       "}}\n",
       "\n",
       "                        })                };                });            </script>        </div>"
      ]
     },
     "metadata": {},
     "output_type": "display_data"
    }
   ],
   "source": [
    "#Active Cases\n",
    "top_10_recovered = country_df.sort_values(by=\"recovered\", ascending=False).head(10)\n",
    "fig = px.scatter(top_10_recovered, \n",
    "                 x=\"recovered\", y=\"confirmed\",size=\"recovered\", color=\"country_region\",\n",
    "                 hover_name=\"country_region\", log_x=True, size_max=60)\n",
    "fig.show()"
   ]
  },
  {
   "cell_type": "code",
   "execution_count": 34,
   "metadata": {},
   "outputs": [
    {
     "data": {
      "text/html": [
       "<div>\n",
       "<style scoped>\n",
       "    .dataframe tbody tr th:only-of-type {\n",
       "        vertical-align: middle;\n",
       "    }\n",
       "\n",
       "    .dataframe tbody tr th {\n",
       "        vertical-align: top;\n",
       "    }\n",
       "\n",
       "    .dataframe thead th {\n",
       "        text-align: right;\n",
       "    }\n",
       "</style>\n",
       "<table border=\"1\" class=\"dataframe\">\n",
       "  <thead>\n",
       "    <tr style=\"text-align: right;\">\n",
       "      <th></th>\n",
       "      <th>country_region</th>\n",
       "      <th>last_update</th>\n",
       "      <th>lat</th>\n",
       "      <th>long_</th>\n",
       "      <th>confirmed</th>\n",
       "      <th>deaths</th>\n",
       "      <th>recovered</th>\n",
       "      <th>active</th>\n",
       "      <th>incident_rate</th>\n",
       "      <th>people_tested</th>\n",
       "      <th>people_hospitalized</th>\n",
       "      <th>mortality_rate</th>\n",
       "      <th>uid</th>\n",
       "      <th>iso3</th>\n",
       "    </tr>\n",
       "  </thead>\n",
       "  <tbody>\n",
       "    <tr>\n",
       "      <th>185</th>\n",
       "      <td>Yemen</td>\n",
       "      <td>2020-09-23 23:23:49</td>\n",
       "      <td>15.55273</td>\n",
       "      <td>48.51639</td>\n",
       "      <td>2029.00000</td>\n",
       "      <td>586.00000</td>\n",
       "      <td>1245.00000</td>\n",
       "      <td>198.00000</td>\n",
       "      <td>6.80280</td>\n",
       "      <td>nan</td>\n",
       "      <td>nan</td>\n",
       "      <td>28.88122</td>\n",
       "      <td>887</td>\n",
       "      <td>YEM</td>\n",
       "    </tr>\n",
       "    <tr>\n",
       "      <th>104</th>\n",
       "      <td>MS Zaandam</td>\n",
       "      <td>2020-09-23 23:23:49</td>\n",
       "      <td>nan</td>\n",
       "      <td>nan</td>\n",
       "      <td>9.00000</td>\n",
       "      <td>2.00000</td>\n",
       "      <td>nan</td>\n",
       "      <td>7.00000</td>\n",
       "      <td>nan</td>\n",
       "      <td>nan</td>\n",
       "      <td>nan</td>\n",
       "      <td>22.22222</td>\n",
       "      <td>8888</td>\n",
       "      <td>NaN</td>\n",
       "    </tr>\n",
       "    <tr>\n",
       "      <th>85</th>\n",
       "      <td>Italy</td>\n",
       "      <td>2020-09-23 23:23:49</td>\n",
       "      <td>41.87190</td>\n",
       "      <td>12.56740</td>\n",
       "      <td>302537.00000</td>\n",
       "      <td>35758.00000</td>\n",
       "      <td>220665.00000</td>\n",
       "      <td>46114.00000</td>\n",
       "      <td>500.37687</td>\n",
       "      <td>nan</td>\n",
       "      <td>nan</td>\n",
       "      <td>11.81938</td>\n",
       "      <td>380</td>\n",
       "      <td>ITA</td>\n",
       "    </tr>\n",
       "    <tr>\n",
       "      <th>113</th>\n",
       "      <td>Mexico</td>\n",
       "      <td>2020-09-23 23:23:49</td>\n",
       "      <td>23.63450</td>\n",
       "      <td>-102.55280</td>\n",
       "      <td>705263.00000</td>\n",
       "      <td>74348.00000</td>\n",
       "      <td>598953.00000</td>\n",
       "      <td>31962.00000</td>\n",
       "      <td>551.88229</td>\n",
       "      <td>nan</td>\n",
       "      <td>nan</td>\n",
       "      <td>10.54188</td>\n",
       "      <td>484</td>\n",
       "      <td>MEX</td>\n",
       "    </tr>\n",
       "    <tr>\n",
       "      <th>178</th>\n",
       "      <td>United Kingdom</td>\n",
       "      <td>2020-09-23 23:23:49</td>\n",
       "      <td>55.00000</td>\n",
       "      <td>-3.00000</td>\n",
       "      <td>412240.00000</td>\n",
       "      <td>41951.00000</td>\n",
       "      <td>2239.00000</td>\n",
       "      <td>368050.00000</td>\n",
       "      <td>607.25330</td>\n",
       "      <td>nan</td>\n",
       "      <td>nan</td>\n",
       "      <td>10.17635</td>\n",
       "      <td>826</td>\n",
       "      <td>GBR</td>\n",
       "    </tr>\n",
       "  </tbody>\n",
       "</table>\n",
       "</div>"
      ],
      "text/plain": [
       "     country_region          last_update      lat      long_    confirmed  \\\n",
       "185           Yemen  2020-09-23 23:23:49 15.55273   48.51639   2029.00000   \n",
       "104      MS Zaandam  2020-09-23 23:23:49      nan        nan      9.00000   \n",
       "85            Italy  2020-09-23 23:23:49 41.87190   12.56740 302537.00000   \n",
       "113          Mexico  2020-09-23 23:23:49 23.63450 -102.55280 705263.00000   \n",
       "178  United Kingdom  2020-09-23 23:23:49 55.00000   -3.00000 412240.00000   \n",
       "\n",
       "         deaths    recovered       active  incident_rate  people_tested  \\\n",
       "185   586.00000   1245.00000    198.00000        6.80280            nan   \n",
       "104     2.00000          nan      7.00000            nan            nan   \n",
       "85  35758.00000 220665.00000  46114.00000      500.37687            nan   \n",
       "113 74348.00000 598953.00000  31962.00000      551.88229            nan   \n",
       "178 41951.00000   2239.00000 368050.00000      607.25330            nan   \n",
       "\n",
       "     people_hospitalized  mortality_rate   uid iso3  \n",
       "185                  nan        28.88122   887  YEM  \n",
       "104                  nan        22.22222  8888  NaN  \n",
       "85                   nan        11.81938   380  ITA  \n",
       "113                  nan        10.54188   484  MEX  \n",
       "178                  nan        10.17635   826  GBR  "
      ]
     },
     "execution_count": 34,
     "metadata": {},
     "output_type": "execute_result"
    }
   ],
   "source": [
    "country_df.sort_values(by=\"mortality_rate\", ascending=False).head()"
   ]
  },
  {
   "cell_type": "code",
   "execution_count": 35,
   "metadata": {},
   "outputs": [
    {
     "data": {
      "application/vnd.plotly.v1+json": {
       "config": {
        "plotlyServerURL": "https://plot.ly"
       },
       "data": [
        {
         "hovertemplate": "<b>%{hovertext}</b><br><br>country_region=Yemen<br>mortality_rate=%{marker.size}<br>incident_rate=%{y}<extra></extra>",
         "hovertext": [
          "Yemen"
         ],
         "legendgroup": "Yemen",
         "marker": {
          "color": "#636efa",
          "size": [
           28.881222276983728
          ],
          "sizemode": "area",
          "sizeref": 0.00802256174360659,
          "symbol": "circle"
         },
         "mode": "markers",
         "name": "Yemen",
         "orientation": "v",
         "showlegend": true,
         "type": "scatter",
         "x": [
          28.881222276983728
         ],
         "xaxis": "x",
         "y": [
          6.802796811154629
         ],
         "yaxis": "y"
        },
        {
         "hovertemplate": "<b>%{hovertext}</b><br><br>country_region=MS Zaandam<br>mortality_rate=%{marker.size}<br>incident_rate=%{y}<extra></extra>",
         "hovertext": [
          "MS Zaandam"
         ],
         "legendgroup": "MS Zaandam",
         "marker": {
          "color": "#EF553B",
          "size": [
           22.222222222222218
          ],
          "sizemode": "area",
          "sizeref": 0.00802256174360659,
          "symbol": "circle"
         },
         "mode": "markers",
         "name": "MS Zaandam",
         "orientation": "v",
         "showlegend": true,
         "type": "scatter",
         "x": [
          22.222222222222218
         ],
         "xaxis": "x",
         "y": [
          null
         ],
         "yaxis": "y"
        },
        {
         "hovertemplate": "<b>%{hovertext}</b><br><br>country_region=Italy<br>mortality_rate=%{marker.size}<br>incident_rate=%{y}<extra></extra>",
         "hovertext": [
          "Italy"
         ],
         "legendgroup": "Italy",
         "marker": {
          "color": "#00cc96",
          "size": [
           11.81938076995541
          ],
          "sizemode": "area",
          "sizeref": 0.00802256174360659,
          "symbol": "circle"
         },
         "mode": "markers",
         "name": "Italy",
         "orientation": "v",
         "showlegend": true,
         "type": "scatter",
         "x": [
          11.81938076995541
         ],
         "xaxis": "x",
         "y": [
          500.3768658797415
         ],
         "yaxis": "y"
        },
        {
         "hovertemplate": "<b>%{hovertext}</b><br><br>country_region=Mexico<br>mortality_rate=%{marker.size}<br>incident_rate=%{y}<extra></extra>",
         "hovertext": [
          "Mexico"
         ],
         "legendgroup": "Mexico",
         "marker": {
          "color": "#ab63fa",
          "size": [
           10.541882957137977
          ],
          "sizemode": "area",
          "sizeref": 0.00802256174360659,
          "symbol": "circle"
         },
         "mode": "markers",
         "name": "Mexico",
         "orientation": "v",
         "showlegend": true,
         "type": "scatter",
         "x": [
          10.541882957137977
         ],
         "xaxis": "x",
         "y": [
          551.8822943663438
         ],
         "yaxis": "y"
        },
        {
         "hovertemplate": "<b>%{hovertext}</b><br><br>country_region=United Kingdom<br>mortality_rate=%{marker.size}<br>incident_rate=%{y}<extra></extra>",
         "hovertext": [
          "United Kingdom"
         ],
         "legendgroup": "United Kingdom",
         "marker": {
          "color": "#FFA15A",
          "size": [
           10.17635358043858
          ],
          "sizemode": "area",
          "sizeref": 0.00802256174360659,
          "symbol": "circle"
         },
         "mode": "markers",
         "name": "United Kingdom",
         "orientation": "v",
         "showlegend": true,
         "type": "scatter",
         "x": [
          10.17635358043858
         ],
         "xaxis": "x",
         "y": [
          607.2533006950887
         ],
         "yaxis": "y"
        },
        {
         "hovertemplate": "<b>%{hovertext}</b><br><br>country_region=Western Sahara<br>mortality_rate=%{marker.size}<br>incident_rate=%{y}<extra></extra>",
         "hovertext": [
          "Western Sahara"
         ],
         "legendgroup": "Western Sahara",
         "marker": {
          "color": "#19d3f3",
          "size": [
           10
          ],
          "sizemode": "area",
          "sizeref": 0.00802256174360659,
          "symbol": "circle"
         },
         "mode": "markers",
         "name": "Western Sahara",
         "orientation": "v",
         "showlegend": true,
         "type": "scatter",
         "x": [
          10
         ],
         "xaxis": "x",
         "y": [
          1.674116485025028
         ],
         "yaxis": "y"
        },
        {
         "hovertemplate": "<b>%{hovertext}</b><br><br>country_region=Belgium<br>mortality_rate=%{marker.size}<br>incident_rate=%{y}<extra></extra>",
         "hovertext": [
          "Belgium"
         ],
         "legendgroup": "Belgium",
         "marker": {
          "color": "#FF6692",
          "size": [
           9.460589588124607
          ],
          "sizemode": "area",
          "sizeref": 0.00802256174360659,
          "symbol": "circle"
         },
         "mode": "markers",
         "name": "Belgium",
         "orientation": "v",
         "showlegend": true,
         "type": "scatter",
         "x": [
          9.460589588124607
         ],
         "xaxis": "x",
         "y": [
          907.9334466301558
         ],
         "yaxis": "y"
        },
        {
         "hovertemplate": "<b>%{hovertext}</b><br><br>country_region=Ecuador<br>mortality_rate=%{marker.size}<br>incident_rate=%{y}<extra></extra>",
         "hovertext": [
          "Ecuador"
         ],
         "legendgroup": "Ecuador",
         "marker": {
          "color": "#B6E880",
          "size": [
           8.600221722661903
          ],
          "sizemode": "area",
          "sizeref": 0.00802256174360659,
          "symbol": "circle"
         },
         "mode": "markers",
         "name": "Ecuador",
         "orientation": "v",
         "showlegend": true,
         "type": "scatter",
         "x": [
          8.600221722661903
         ],
         "xaxis": "x",
         "y": [
          736.2214944573108
         ],
         "yaxis": "y"
        },
        {
         "hovertemplate": "<b>%{hovertext}</b><br><br>country_region=Chad<br>mortality_rate=%{marker.size}<br>incident_rate=%{y}<extra></extra>",
         "hovertext": [
          "Chad"
         ],
         "legendgroup": "Chad",
         "marker": {
          "color": "#FF97FF",
          "size": [
           7.0446735395189
          ],
          "sizemode": "area",
          "sizeref": 0.00802256174360659,
          "symbol": "circle"
         },
         "mode": "markers",
         "name": "Chad",
         "orientation": "v",
         "showlegend": true,
         "type": "scatter",
         "x": [
          7.0446735395189
         ],
         "xaxis": "x",
         "y": [
          7.086387384671937
         ],
         "yaxis": "y"
        },
        {
         "hovertemplate": "<b>%{hovertext}</b><br><br>country_region=Sweden<br>mortality_rate=%{marker.size}<br>incident_rate=%{y}<extra></extra>",
         "hovertext": [
          "Sweden"
         ],
         "legendgroup": "Sweden",
         "marker": {
          "color": "#FECB52",
          "size": [
           6.5466375506929895
          ],
          "sizemode": "area",
          "sizeref": 0.00802256174360659,
          "symbol": "circle"
         },
         "mode": "markers",
         "name": "Sweden",
         "orientation": "v",
         "showlegend": true,
         "type": "scatter",
         "x": [
          6.5466375506929895
         ],
         "xaxis": "x",
         "y": [
          888.737502809609
         ],
         "yaxis": "y"
        }
       ],
       "layout": {
        "legend": {
         "itemsizing": "constant",
         "title": {
          "text": "country_region"
         },
         "tracegroupgap": 0
        },
        "margin": {
         "t": 60
        },
        "template": {
         "data": {
          "bar": [
           {
            "error_x": {
             "color": "#2a3f5f"
            },
            "error_y": {
             "color": "#2a3f5f"
            },
            "marker": {
             "line": {
              "color": "#E5ECF6",
              "width": 0.5
             }
            },
            "type": "bar"
           }
          ],
          "barpolar": [
           {
            "marker": {
             "line": {
              "color": "#E5ECF6",
              "width": 0.5
             }
            },
            "type": "barpolar"
           }
          ],
          "carpet": [
           {
            "aaxis": {
             "endlinecolor": "#2a3f5f",
             "gridcolor": "white",
             "linecolor": "white",
             "minorgridcolor": "white",
             "startlinecolor": "#2a3f5f"
            },
            "baxis": {
             "endlinecolor": "#2a3f5f",
             "gridcolor": "white",
             "linecolor": "white",
             "minorgridcolor": "white",
             "startlinecolor": "#2a3f5f"
            },
            "type": "carpet"
           }
          ],
          "choropleth": [
           {
            "colorbar": {
             "outlinewidth": 0,
             "ticks": ""
            },
            "type": "choropleth"
           }
          ],
          "contour": [
           {
            "colorbar": {
             "outlinewidth": 0,
             "ticks": ""
            },
            "colorscale": [
             [
              0,
              "#0d0887"
             ],
             [
              0.1111111111111111,
              "#46039f"
             ],
             [
              0.2222222222222222,
              "#7201a8"
             ],
             [
              0.3333333333333333,
              "#9c179e"
             ],
             [
              0.4444444444444444,
              "#bd3786"
             ],
             [
              0.5555555555555556,
              "#d8576b"
             ],
             [
              0.6666666666666666,
              "#ed7953"
             ],
             [
              0.7777777777777778,
              "#fb9f3a"
             ],
             [
              0.8888888888888888,
              "#fdca26"
             ],
             [
              1,
              "#f0f921"
             ]
            ],
            "type": "contour"
           }
          ],
          "contourcarpet": [
           {
            "colorbar": {
             "outlinewidth": 0,
             "ticks": ""
            },
            "type": "contourcarpet"
           }
          ],
          "heatmap": [
           {
            "colorbar": {
             "outlinewidth": 0,
             "ticks": ""
            },
            "colorscale": [
             [
              0,
              "#0d0887"
             ],
             [
              0.1111111111111111,
              "#46039f"
             ],
             [
              0.2222222222222222,
              "#7201a8"
             ],
             [
              0.3333333333333333,
              "#9c179e"
             ],
             [
              0.4444444444444444,
              "#bd3786"
             ],
             [
              0.5555555555555556,
              "#d8576b"
             ],
             [
              0.6666666666666666,
              "#ed7953"
             ],
             [
              0.7777777777777778,
              "#fb9f3a"
             ],
             [
              0.8888888888888888,
              "#fdca26"
             ],
             [
              1,
              "#f0f921"
             ]
            ],
            "type": "heatmap"
           }
          ],
          "heatmapgl": [
           {
            "colorbar": {
             "outlinewidth": 0,
             "ticks": ""
            },
            "colorscale": [
             [
              0,
              "#0d0887"
             ],
             [
              0.1111111111111111,
              "#46039f"
             ],
             [
              0.2222222222222222,
              "#7201a8"
             ],
             [
              0.3333333333333333,
              "#9c179e"
             ],
             [
              0.4444444444444444,
              "#bd3786"
             ],
             [
              0.5555555555555556,
              "#d8576b"
             ],
             [
              0.6666666666666666,
              "#ed7953"
             ],
             [
              0.7777777777777778,
              "#fb9f3a"
             ],
             [
              0.8888888888888888,
              "#fdca26"
             ],
             [
              1,
              "#f0f921"
             ]
            ],
            "type": "heatmapgl"
           }
          ],
          "histogram": [
           {
            "marker": {
             "colorbar": {
              "outlinewidth": 0,
              "ticks": ""
             }
            },
            "type": "histogram"
           }
          ],
          "histogram2d": [
           {
            "colorbar": {
             "outlinewidth": 0,
             "ticks": ""
            },
            "colorscale": [
             [
              0,
              "#0d0887"
             ],
             [
              0.1111111111111111,
              "#46039f"
             ],
             [
              0.2222222222222222,
              "#7201a8"
             ],
             [
              0.3333333333333333,
              "#9c179e"
             ],
             [
              0.4444444444444444,
              "#bd3786"
             ],
             [
              0.5555555555555556,
              "#d8576b"
             ],
             [
              0.6666666666666666,
              "#ed7953"
             ],
             [
              0.7777777777777778,
              "#fb9f3a"
             ],
             [
              0.8888888888888888,
              "#fdca26"
             ],
             [
              1,
              "#f0f921"
             ]
            ],
            "type": "histogram2d"
           }
          ],
          "histogram2dcontour": [
           {
            "colorbar": {
             "outlinewidth": 0,
             "ticks": ""
            },
            "colorscale": [
             [
              0,
              "#0d0887"
             ],
             [
              0.1111111111111111,
              "#46039f"
             ],
             [
              0.2222222222222222,
              "#7201a8"
             ],
             [
              0.3333333333333333,
              "#9c179e"
             ],
             [
              0.4444444444444444,
              "#bd3786"
             ],
             [
              0.5555555555555556,
              "#d8576b"
             ],
             [
              0.6666666666666666,
              "#ed7953"
             ],
             [
              0.7777777777777778,
              "#fb9f3a"
             ],
             [
              0.8888888888888888,
              "#fdca26"
             ],
             [
              1,
              "#f0f921"
             ]
            ],
            "type": "histogram2dcontour"
           }
          ],
          "mesh3d": [
           {
            "colorbar": {
             "outlinewidth": 0,
             "ticks": ""
            },
            "type": "mesh3d"
           }
          ],
          "parcoords": [
           {
            "line": {
             "colorbar": {
              "outlinewidth": 0,
              "ticks": ""
             }
            },
            "type": "parcoords"
           }
          ],
          "pie": [
           {
            "automargin": true,
            "type": "pie"
           }
          ],
          "scatter": [
           {
            "marker": {
             "colorbar": {
              "outlinewidth": 0,
              "ticks": ""
             }
            },
            "type": "scatter"
           }
          ],
          "scatter3d": [
           {
            "line": {
             "colorbar": {
              "outlinewidth": 0,
              "ticks": ""
             }
            },
            "marker": {
             "colorbar": {
              "outlinewidth": 0,
              "ticks": ""
             }
            },
            "type": "scatter3d"
           }
          ],
          "scattercarpet": [
           {
            "marker": {
             "colorbar": {
              "outlinewidth": 0,
              "ticks": ""
             }
            },
            "type": "scattercarpet"
           }
          ],
          "scattergeo": [
           {
            "marker": {
             "colorbar": {
              "outlinewidth": 0,
              "ticks": ""
             }
            },
            "type": "scattergeo"
           }
          ],
          "scattergl": [
           {
            "marker": {
             "colorbar": {
              "outlinewidth": 0,
              "ticks": ""
             }
            },
            "type": "scattergl"
           }
          ],
          "scattermapbox": [
           {
            "marker": {
             "colorbar": {
              "outlinewidth": 0,
              "ticks": ""
             }
            },
            "type": "scattermapbox"
           }
          ],
          "scatterpolar": [
           {
            "marker": {
             "colorbar": {
              "outlinewidth": 0,
              "ticks": ""
             }
            },
            "type": "scatterpolar"
           }
          ],
          "scatterpolargl": [
           {
            "marker": {
             "colorbar": {
              "outlinewidth": 0,
              "ticks": ""
             }
            },
            "type": "scatterpolargl"
           }
          ],
          "scatterternary": [
           {
            "marker": {
             "colorbar": {
              "outlinewidth": 0,
              "ticks": ""
             }
            },
            "type": "scatterternary"
           }
          ],
          "surface": [
           {
            "colorbar": {
             "outlinewidth": 0,
             "ticks": ""
            },
            "colorscale": [
             [
              0,
              "#0d0887"
             ],
             [
              0.1111111111111111,
              "#46039f"
             ],
             [
              0.2222222222222222,
              "#7201a8"
             ],
             [
              0.3333333333333333,
              "#9c179e"
             ],
             [
              0.4444444444444444,
              "#bd3786"
             ],
             [
              0.5555555555555556,
              "#d8576b"
             ],
             [
              0.6666666666666666,
              "#ed7953"
             ],
             [
              0.7777777777777778,
              "#fb9f3a"
             ],
             [
              0.8888888888888888,
              "#fdca26"
             ],
             [
              1,
              "#f0f921"
             ]
            ],
            "type": "surface"
           }
          ],
          "table": [
           {
            "cells": {
             "fill": {
              "color": "#EBF0F8"
             },
             "line": {
              "color": "white"
             }
            },
            "header": {
             "fill": {
              "color": "#C8D4E3"
             },
             "line": {
              "color": "white"
             }
            },
            "type": "table"
           }
          ]
         },
         "layout": {
          "annotationdefaults": {
           "arrowcolor": "#2a3f5f",
           "arrowhead": 0,
           "arrowwidth": 1
          },
          "coloraxis": {
           "colorbar": {
            "outlinewidth": 0,
            "ticks": ""
           }
          },
          "colorscale": {
           "diverging": [
            [
             0,
             "#8e0152"
            ],
            [
             0.1,
             "#c51b7d"
            ],
            [
             0.2,
             "#de77ae"
            ],
            [
             0.3,
             "#f1b6da"
            ],
            [
             0.4,
             "#fde0ef"
            ],
            [
             0.5,
             "#f7f7f7"
            ],
            [
             0.6,
             "#e6f5d0"
            ],
            [
             0.7,
             "#b8e186"
            ],
            [
             0.8,
             "#7fbc41"
            ],
            [
             0.9,
             "#4d9221"
            ],
            [
             1,
             "#276419"
            ]
           ],
           "sequential": [
            [
             0,
             "#0d0887"
            ],
            [
             0.1111111111111111,
             "#46039f"
            ],
            [
             0.2222222222222222,
             "#7201a8"
            ],
            [
             0.3333333333333333,
             "#9c179e"
            ],
            [
             0.4444444444444444,
             "#bd3786"
            ],
            [
             0.5555555555555556,
             "#d8576b"
            ],
            [
             0.6666666666666666,
             "#ed7953"
            ],
            [
             0.7777777777777778,
             "#fb9f3a"
            ],
            [
             0.8888888888888888,
             "#fdca26"
            ],
            [
             1,
             "#f0f921"
            ]
           ],
           "sequentialminus": [
            [
             0,
             "#0d0887"
            ],
            [
             0.1111111111111111,
             "#46039f"
            ],
            [
             0.2222222222222222,
             "#7201a8"
            ],
            [
             0.3333333333333333,
             "#9c179e"
            ],
            [
             0.4444444444444444,
             "#bd3786"
            ],
            [
             0.5555555555555556,
             "#d8576b"
            ],
            [
             0.6666666666666666,
             "#ed7953"
            ],
            [
             0.7777777777777778,
             "#fb9f3a"
            ],
            [
             0.8888888888888888,
             "#fdca26"
            ],
            [
             1,
             "#f0f921"
            ]
           ]
          },
          "colorway": [
           "#636efa",
           "#EF553B",
           "#00cc96",
           "#ab63fa",
           "#FFA15A",
           "#19d3f3",
           "#FF6692",
           "#B6E880",
           "#FF97FF",
           "#FECB52"
          ],
          "font": {
           "color": "#2a3f5f"
          },
          "geo": {
           "bgcolor": "white",
           "lakecolor": "white",
           "landcolor": "#E5ECF6",
           "showlakes": true,
           "showland": true,
           "subunitcolor": "white"
          },
          "hoverlabel": {
           "align": "left"
          },
          "hovermode": "closest",
          "mapbox": {
           "style": "light"
          },
          "paper_bgcolor": "white",
          "plot_bgcolor": "#E5ECF6",
          "polar": {
           "angularaxis": {
            "gridcolor": "white",
            "linecolor": "white",
            "ticks": ""
           },
           "bgcolor": "#E5ECF6",
           "radialaxis": {
            "gridcolor": "white",
            "linecolor": "white",
            "ticks": ""
           }
          },
          "scene": {
           "xaxis": {
            "backgroundcolor": "#E5ECF6",
            "gridcolor": "white",
            "gridwidth": 2,
            "linecolor": "white",
            "showbackground": true,
            "ticks": "",
            "zerolinecolor": "white"
           },
           "yaxis": {
            "backgroundcolor": "#E5ECF6",
            "gridcolor": "white",
            "gridwidth": 2,
            "linecolor": "white",
            "showbackground": true,
            "ticks": "",
            "zerolinecolor": "white"
           },
           "zaxis": {
            "backgroundcolor": "#E5ECF6",
            "gridcolor": "white",
            "gridwidth": 2,
            "linecolor": "white",
            "showbackground": true,
            "ticks": "",
            "zerolinecolor": "white"
           }
          },
          "shapedefaults": {
           "line": {
            "color": "#2a3f5f"
           }
          },
          "ternary": {
           "aaxis": {
            "gridcolor": "white",
            "linecolor": "white",
            "ticks": ""
           },
           "baxis": {
            "gridcolor": "white",
            "linecolor": "white",
            "ticks": ""
           },
           "bgcolor": "#E5ECF6",
           "caxis": {
            "gridcolor": "white",
            "linecolor": "white",
            "ticks": ""
           }
          },
          "title": {
           "x": 0.05
          },
          "xaxis": {
           "automargin": true,
           "gridcolor": "white",
           "linecolor": "white",
           "ticks": "",
           "title": {
            "standoff": 15
           },
           "zerolinecolor": "white",
           "zerolinewidth": 2
          },
          "yaxis": {
           "automargin": true,
           "gridcolor": "white",
           "linecolor": "white",
           "ticks": "",
           "title": {
            "standoff": 15
           },
           "zerolinecolor": "white",
           "zerolinewidth": 2
          }
         }
        },
        "xaxis": {
         "anchor": "y",
         "domain": [
          0,
          1
         ],
         "title": {
          "text": "mortality_rate"
         },
         "type": "log"
        },
        "yaxis": {
         "anchor": "x",
         "domain": [
          0,
          1
         ],
         "title": {
          "text": "incident_rate"
         }
        }
       }
      },
      "text/html": [
       "<div>                            <div id=\"307f08f4-d36b-4b9e-ac60-b93f90d4a93c\" class=\"plotly-graph-div\" style=\"height:525px; width:100%;\"></div>            <script type=\"text/javascript\">                require([\"plotly\"], function(Plotly) {                    window.PLOTLYENV=window.PLOTLYENV || {};                                    if (document.getElementById(\"307f08f4-d36b-4b9e-ac60-b93f90d4a93c\")) {                    Plotly.newPlot(                        \"307f08f4-d36b-4b9e-ac60-b93f90d4a93c\",                        [{\"hovertemplate\": \"<b>%{hovertext}</b><br><br>country_region=Yemen<br>mortality_rate=%{marker.size}<br>incident_rate=%{y}<extra></extra>\", \"hovertext\": [\"Yemen\"], \"legendgroup\": \"Yemen\", \"marker\": {\"color\": \"#636efa\", \"size\": [28.881222276983728], \"sizemode\": \"area\", \"sizeref\": 0.00802256174360659, \"symbol\": \"circle\"}, \"mode\": \"markers\", \"name\": \"Yemen\", \"orientation\": \"v\", \"showlegend\": true, \"type\": \"scatter\", \"x\": [28.881222276983728], \"xaxis\": \"x\", \"y\": [6.802796811154629], \"yaxis\": \"y\"}, {\"hovertemplate\": \"<b>%{hovertext}</b><br><br>country_region=MS Zaandam<br>mortality_rate=%{marker.size}<br>incident_rate=%{y}<extra></extra>\", \"hovertext\": [\"MS Zaandam\"], \"legendgroup\": \"MS Zaandam\", \"marker\": {\"color\": \"#EF553B\", \"size\": [22.222222222222218], \"sizemode\": \"area\", \"sizeref\": 0.00802256174360659, \"symbol\": \"circle\"}, \"mode\": \"markers\", \"name\": \"MS Zaandam\", \"orientation\": \"v\", \"showlegend\": true, \"type\": \"scatter\", \"x\": [22.222222222222218], \"xaxis\": \"x\", \"y\": [null], \"yaxis\": \"y\"}, {\"hovertemplate\": \"<b>%{hovertext}</b><br><br>country_region=Italy<br>mortality_rate=%{marker.size}<br>incident_rate=%{y}<extra></extra>\", \"hovertext\": [\"Italy\"], \"legendgroup\": \"Italy\", \"marker\": {\"color\": \"#00cc96\", \"size\": [11.81938076995541], \"sizemode\": \"area\", \"sizeref\": 0.00802256174360659, \"symbol\": \"circle\"}, \"mode\": \"markers\", \"name\": \"Italy\", \"orientation\": \"v\", \"showlegend\": true, \"type\": \"scatter\", \"x\": [11.81938076995541], \"xaxis\": \"x\", \"y\": [500.3768658797415], \"yaxis\": \"y\"}, {\"hovertemplate\": \"<b>%{hovertext}</b><br><br>country_region=Mexico<br>mortality_rate=%{marker.size}<br>incident_rate=%{y}<extra></extra>\", \"hovertext\": [\"Mexico\"], \"legendgroup\": \"Mexico\", \"marker\": {\"color\": \"#ab63fa\", \"size\": [10.541882957137977], \"sizemode\": \"area\", \"sizeref\": 0.00802256174360659, \"symbol\": \"circle\"}, \"mode\": \"markers\", \"name\": \"Mexico\", \"orientation\": \"v\", \"showlegend\": true, \"type\": \"scatter\", \"x\": [10.541882957137977], \"xaxis\": \"x\", \"y\": [551.8822943663438], \"yaxis\": \"y\"}, {\"hovertemplate\": \"<b>%{hovertext}</b><br><br>country_region=United Kingdom<br>mortality_rate=%{marker.size}<br>incident_rate=%{y}<extra></extra>\", \"hovertext\": [\"United Kingdom\"], \"legendgroup\": \"United Kingdom\", \"marker\": {\"color\": \"#FFA15A\", \"size\": [10.17635358043858], \"sizemode\": \"area\", \"sizeref\": 0.00802256174360659, \"symbol\": \"circle\"}, \"mode\": \"markers\", \"name\": \"United Kingdom\", \"orientation\": \"v\", \"showlegend\": true, \"type\": \"scatter\", \"x\": [10.17635358043858], \"xaxis\": \"x\", \"y\": [607.2533006950887], \"yaxis\": \"y\"}, {\"hovertemplate\": \"<b>%{hovertext}</b><br><br>country_region=Western Sahara<br>mortality_rate=%{marker.size}<br>incident_rate=%{y}<extra></extra>\", \"hovertext\": [\"Western Sahara\"], \"legendgroup\": \"Western Sahara\", \"marker\": {\"color\": \"#19d3f3\", \"size\": [10.0], \"sizemode\": \"area\", \"sizeref\": 0.00802256174360659, \"symbol\": \"circle\"}, \"mode\": \"markers\", \"name\": \"Western Sahara\", \"orientation\": \"v\", \"showlegend\": true, \"type\": \"scatter\", \"x\": [10.0], \"xaxis\": \"x\", \"y\": [1.674116485025028], \"yaxis\": \"y\"}, {\"hovertemplate\": \"<b>%{hovertext}</b><br><br>country_region=Belgium<br>mortality_rate=%{marker.size}<br>incident_rate=%{y}<extra></extra>\", \"hovertext\": [\"Belgium\"], \"legendgroup\": \"Belgium\", \"marker\": {\"color\": \"#FF6692\", \"size\": [9.460589588124607], \"sizemode\": \"area\", \"sizeref\": 0.00802256174360659, \"symbol\": \"circle\"}, \"mode\": \"markers\", \"name\": \"Belgium\", \"orientation\": \"v\", \"showlegend\": true, \"type\": \"scatter\", \"x\": [9.460589588124607], \"xaxis\": \"x\", \"y\": [907.9334466301558], \"yaxis\": \"y\"}, {\"hovertemplate\": \"<b>%{hovertext}</b><br><br>country_region=Ecuador<br>mortality_rate=%{marker.size}<br>incident_rate=%{y}<extra></extra>\", \"hovertext\": [\"Ecuador\"], \"legendgroup\": \"Ecuador\", \"marker\": {\"color\": \"#B6E880\", \"size\": [8.600221722661903], \"sizemode\": \"area\", \"sizeref\": 0.00802256174360659, \"symbol\": \"circle\"}, \"mode\": \"markers\", \"name\": \"Ecuador\", \"orientation\": \"v\", \"showlegend\": true, \"type\": \"scatter\", \"x\": [8.600221722661903], \"xaxis\": \"x\", \"y\": [736.2214944573108], \"yaxis\": \"y\"}, {\"hovertemplate\": \"<b>%{hovertext}</b><br><br>country_region=Chad<br>mortality_rate=%{marker.size}<br>incident_rate=%{y}<extra></extra>\", \"hovertext\": [\"Chad\"], \"legendgroup\": \"Chad\", \"marker\": {\"color\": \"#FF97FF\", \"size\": [7.0446735395189], \"sizemode\": \"area\", \"sizeref\": 0.00802256174360659, \"symbol\": \"circle\"}, \"mode\": \"markers\", \"name\": \"Chad\", \"orientation\": \"v\", \"showlegend\": true, \"type\": \"scatter\", \"x\": [7.0446735395189], \"xaxis\": \"x\", \"y\": [7.086387384671937], \"yaxis\": \"y\"}, {\"hovertemplate\": \"<b>%{hovertext}</b><br><br>country_region=Sweden<br>mortality_rate=%{marker.size}<br>incident_rate=%{y}<extra></extra>\", \"hovertext\": [\"Sweden\"], \"legendgroup\": \"Sweden\", \"marker\": {\"color\": \"#FECB52\", \"size\": [6.5466375506929895], \"sizemode\": \"area\", \"sizeref\": 0.00802256174360659, \"symbol\": \"circle\"}, \"mode\": \"markers\", \"name\": \"Sweden\", \"orientation\": \"v\", \"showlegend\": true, \"type\": \"scatter\", \"x\": [6.5466375506929895], \"xaxis\": \"x\", \"y\": [888.737502809609], \"yaxis\": \"y\"}],                        {\"legend\": {\"itemsizing\": \"constant\", \"title\": {\"text\": \"country_region\"}, \"tracegroupgap\": 0}, \"margin\": {\"t\": 60}, \"template\": {\"data\": {\"bar\": [{\"error_x\": {\"color\": \"#2a3f5f\"}, \"error_y\": {\"color\": \"#2a3f5f\"}, \"marker\": {\"line\": {\"color\": \"#E5ECF6\", \"width\": 0.5}}, \"type\": \"bar\"}], \"barpolar\": [{\"marker\": {\"line\": {\"color\": \"#E5ECF6\", \"width\": 0.5}}, \"type\": \"barpolar\"}], \"carpet\": [{\"aaxis\": {\"endlinecolor\": \"#2a3f5f\", \"gridcolor\": \"white\", \"linecolor\": \"white\", \"minorgridcolor\": \"white\", \"startlinecolor\": \"#2a3f5f\"}, \"baxis\": {\"endlinecolor\": \"#2a3f5f\", \"gridcolor\": \"white\", \"linecolor\": \"white\", \"minorgridcolor\": \"white\", \"startlinecolor\": \"#2a3f5f\"}, \"type\": \"carpet\"}], \"choropleth\": [{\"colorbar\": {\"outlinewidth\": 0, \"ticks\": \"\"}, \"type\": \"choropleth\"}], \"contour\": [{\"colorbar\": {\"outlinewidth\": 0, \"ticks\": \"\"}, \"colorscale\": [[0.0, \"#0d0887\"], [0.1111111111111111, \"#46039f\"], [0.2222222222222222, \"#7201a8\"], [0.3333333333333333, \"#9c179e\"], [0.4444444444444444, \"#bd3786\"], [0.5555555555555556, \"#d8576b\"], [0.6666666666666666, \"#ed7953\"], [0.7777777777777778, \"#fb9f3a\"], [0.8888888888888888, \"#fdca26\"], [1.0, \"#f0f921\"]], \"type\": \"contour\"}], \"contourcarpet\": [{\"colorbar\": {\"outlinewidth\": 0, \"ticks\": \"\"}, \"type\": \"contourcarpet\"}], \"heatmap\": [{\"colorbar\": {\"outlinewidth\": 0, \"ticks\": \"\"}, \"colorscale\": [[0.0, \"#0d0887\"], [0.1111111111111111, \"#46039f\"], [0.2222222222222222, \"#7201a8\"], [0.3333333333333333, \"#9c179e\"], [0.4444444444444444, \"#bd3786\"], [0.5555555555555556, \"#d8576b\"], [0.6666666666666666, \"#ed7953\"], [0.7777777777777778, \"#fb9f3a\"], [0.8888888888888888, \"#fdca26\"], [1.0, \"#f0f921\"]], \"type\": \"heatmap\"}], \"heatmapgl\": [{\"colorbar\": {\"outlinewidth\": 0, \"ticks\": \"\"}, \"colorscale\": [[0.0, \"#0d0887\"], [0.1111111111111111, \"#46039f\"], [0.2222222222222222, \"#7201a8\"], [0.3333333333333333, \"#9c179e\"], [0.4444444444444444, \"#bd3786\"], [0.5555555555555556, \"#d8576b\"], [0.6666666666666666, \"#ed7953\"], [0.7777777777777778, \"#fb9f3a\"], [0.8888888888888888, \"#fdca26\"], [1.0, \"#f0f921\"]], \"type\": \"heatmapgl\"}], \"histogram\": [{\"marker\": {\"colorbar\": {\"outlinewidth\": 0, \"ticks\": \"\"}}, \"type\": \"histogram\"}], \"histogram2d\": [{\"colorbar\": {\"outlinewidth\": 0, \"ticks\": \"\"}, \"colorscale\": [[0.0, \"#0d0887\"], [0.1111111111111111, \"#46039f\"], [0.2222222222222222, \"#7201a8\"], [0.3333333333333333, \"#9c179e\"], [0.4444444444444444, \"#bd3786\"], [0.5555555555555556, \"#d8576b\"], [0.6666666666666666, \"#ed7953\"], [0.7777777777777778, \"#fb9f3a\"], [0.8888888888888888, \"#fdca26\"], [1.0, \"#f0f921\"]], \"type\": \"histogram2d\"}], \"histogram2dcontour\": [{\"colorbar\": {\"outlinewidth\": 0, \"ticks\": \"\"}, \"colorscale\": [[0.0, \"#0d0887\"], [0.1111111111111111, \"#46039f\"], [0.2222222222222222, \"#7201a8\"], [0.3333333333333333, \"#9c179e\"], [0.4444444444444444, \"#bd3786\"], [0.5555555555555556, \"#d8576b\"], [0.6666666666666666, \"#ed7953\"], [0.7777777777777778, \"#fb9f3a\"], [0.8888888888888888, \"#fdca26\"], [1.0, \"#f0f921\"]], \"type\": \"histogram2dcontour\"}], \"mesh3d\": [{\"colorbar\": {\"outlinewidth\": 0, \"ticks\": \"\"}, \"type\": \"mesh3d\"}], \"parcoords\": [{\"line\": {\"colorbar\": {\"outlinewidth\": 0, \"ticks\": \"\"}}, \"type\": \"parcoords\"}], \"pie\": [{\"automargin\": true, \"type\": \"pie\"}], \"scatter\": [{\"marker\": {\"colorbar\": {\"outlinewidth\": 0, \"ticks\": \"\"}}, \"type\": \"scatter\"}], \"scatter3d\": [{\"line\": {\"colorbar\": {\"outlinewidth\": 0, \"ticks\": \"\"}}, \"marker\": {\"colorbar\": {\"outlinewidth\": 0, \"ticks\": \"\"}}, \"type\": \"scatter3d\"}], \"scattercarpet\": [{\"marker\": {\"colorbar\": {\"outlinewidth\": 0, \"ticks\": \"\"}}, \"type\": \"scattercarpet\"}], \"scattergeo\": [{\"marker\": {\"colorbar\": {\"outlinewidth\": 0, \"ticks\": \"\"}}, \"type\": \"scattergeo\"}], \"scattergl\": [{\"marker\": {\"colorbar\": {\"outlinewidth\": 0, \"ticks\": \"\"}}, \"type\": \"scattergl\"}], \"scattermapbox\": [{\"marker\": {\"colorbar\": {\"outlinewidth\": 0, \"ticks\": \"\"}}, \"type\": \"scattermapbox\"}], \"scatterpolar\": [{\"marker\": {\"colorbar\": {\"outlinewidth\": 0, \"ticks\": \"\"}}, \"type\": \"scatterpolar\"}], \"scatterpolargl\": [{\"marker\": {\"colorbar\": {\"outlinewidth\": 0, \"ticks\": \"\"}}, \"type\": \"scatterpolargl\"}], \"scatterternary\": [{\"marker\": {\"colorbar\": {\"outlinewidth\": 0, \"ticks\": \"\"}}, \"type\": \"scatterternary\"}], \"surface\": [{\"colorbar\": {\"outlinewidth\": 0, \"ticks\": \"\"}, \"colorscale\": [[0.0, \"#0d0887\"], [0.1111111111111111, \"#46039f\"], [0.2222222222222222, \"#7201a8\"], [0.3333333333333333, \"#9c179e\"], [0.4444444444444444, \"#bd3786\"], [0.5555555555555556, \"#d8576b\"], [0.6666666666666666, \"#ed7953\"], [0.7777777777777778, \"#fb9f3a\"], [0.8888888888888888, \"#fdca26\"], [1.0, \"#f0f921\"]], \"type\": \"surface\"}], \"table\": [{\"cells\": {\"fill\": {\"color\": \"#EBF0F8\"}, \"line\": {\"color\": \"white\"}}, \"header\": {\"fill\": {\"color\": \"#C8D4E3\"}, \"line\": {\"color\": \"white\"}}, \"type\": \"table\"}]}, \"layout\": {\"annotationdefaults\": {\"arrowcolor\": \"#2a3f5f\", \"arrowhead\": 0, \"arrowwidth\": 1}, \"coloraxis\": {\"colorbar\": {\"outlinewidth\": 0, \"ticks\": \"\"}}, \"colorscale\": {\"diverging\": [[0, \"#8e0152\"], [0.1, \"#c51b7d\"], [0.2, \"#de77ae\"], [0.3, \"#f1b6da\"], [0.4, \"#fde0ef\"], [0.5, \"#f7f7f7\"], [0.6, \"#e6f5d0\"], [0.7, \"#b8e186\"], [0.8, \"#7fbc41\"], [0.9, \"#4d9221\"], [1, \"#276419\"]], \"sequential\": [[0.0, \"#0d0887\"], [0.1111111111111111, \"#46039f\"], [0.2222222222222222, \"#7201a8\"], [0.3333333333333333, \"#9c179e\"], [0.4444444444444444, \"#bd3786\"], [0.5555555555555556, \"#d8576b\"], [0.6666666666666666, \"#ed7953\"], [0.7777777777777778, \"#fb9f3a\"], [0.8888888888888888, \"#fdca26\"], [1.0, \"#f0f921\"]], \"sequentialminus\": [[0.0, \"#0d0887\"], [0.1111111111111111, \"#46039f\"], [0.2222222222222222, \"#7201a8\"], [0.3333333333333333, \"#9c179e\"], [0.4444444444444444, \"#bd3786\"], [0.5555555555555556, \"#d8576b\"], [0.6666666666666666, \"#ed7953\"], [0.7777777777777778, \"#fb9f3a\"], [0.8888888888888888, \"#fdca26\"], [1.0, \"#f0f921\"]]}, \"colorway\": [\"#636efa\", \"#EF553B\", \"#00cc96\", \"#ab63fa\", \"#FFA15A\", \"#19d3f3\", \"#FF6692\", \"#B6E880\", \"#FF97FF\", \"#FECB52\"], \"font\": {\"color\": \"#2a3f5f\"}, \"geo\": {\"bgcolor\": \"white\", \"lakecolor\": \"white\", \"landcolor\": \"#E5ECF6\", \"showlakes\": true, \"showland\": true, \"subunitcolor\": \"white\"}, \"hoverlabel\": {\"align\": \"left\"}, \"hovermode\": \"closest\", \"mapbox\": {\"style\": \"light\"}, \"paper_bgcolor\": \"white\", \"plot_bgcolor\": \"#E5ECF6\", \"polar\": {\"angularaxis\": {\"gridcolor\": \"white\", \"linecolor\": \"white\", \"ticks\": \"\"}, \"bgcolor\": \"#E5ECF6\", \"radialaxis\": {\"gridcolor\": \"white\", \"linecolor\": \"white\", \"ticks\": \"\"}}, \"scene\": {\"xaxis\": {\"backgroundcolor\": \"#E5ECF6\", \"gridcolor\": \"white\", \"gridwidth\": 2, \"linecolor\": \"white\", \"showbackground\": true, \"ticks\": \"\", \"zerolinecolor\": \"white\"}, \"yaxis\": {\"backgroundcolor\": \"#E5ECF6\", \"gridcolor\": \"white\", \"gridwidth\": 2, \"linecolor\": \"white\", \"showbackground\": true, \"ticks\": \"\", \"zerolinecolor\": \"white\"}, \"zaxis\": {\"backgroundcolor\": \"#E5ECF6\", \"gridcolor\": \"white\", \"gridwidth\": 2, \"linecolor\": \"white\", \"showbackground\": true, \"ticks\": \"\", \"zerolinecolor\": \"white\"}}, \"shapedefaults\": {\"line\": {\"color\": \"#2a3f5f\"}}, \"ternary\": {\"aaxis\": {\"gridcolor\": \"white\", \"linecolor\": \"white\", \"ticks\": \"\"}, \"baxis\": {\"gridcolor\": \"white\", \"linecolor\": \"white\", \"ticks\": \"\"}, \"bgcolor\": \"#E5ECF6\", \"caxis\": {\"gridcolor\": \"white\", \"linecolor\": \"white\", \"ticks\": \"\"}}, \"title\": {\"x\": 0.05}, \"xaxis\": {\"automargin\": true, \"gridcolor\": \"white\", \"linecolor\": \"white\", \"ticks\": \"\", \"title\": {\"standoff\": 15}, \"zerolinecolor\": \"white\", \"zerolinewidth\": 2}, \"yaxis\": {\"automargin\": true, \"gridcolor\": \"white\", \"linecolor\": \"white\", \"ticks\": \"\", \"title\": {\"standoff\": 15}, \"zerolinecolor\": \"white\", \"zerolinewidth\": 2}}}, \"xaxis\": {\"anchor\": \"y\", \"domain\": [0.0, 1.0], \"title\": {\"text\": \"mortality_rate\"}, \"type\": \"log\"}, \"yaxis\": {\"anchor\": \"x\", \"domain\": [0.0, 1.0], \"title\": {\"text\": \"incident_rate\"}}},                        {\"responsive\": true}                    ).then(function(){\n",
       "                            \n",
       "var gd = document.getElementById('307f08f4-d36b-4b9e-ac60-b93f90d4a93c');\n",
       "var x = new MutationObserver(function (mutations, observer) {{\n",
       "        var display = window.getComputedStyle(gd).display;\n",
       "        if (!display || display === 'none') {{\n",
       "            console.log([gd, 'removed!']);\n",
       "            Plotly.purge(gd);\n",
       "            observer.disconnect();\n",
       "        }}\n",
       "}});\n",
       "\n",
       "// Listen for the removal of the full notebook cells\n",
       "var notebookContainer = gd.closest('#notebook-container');\n",
       "if (notebookContainer) {{\n",
       "    x.observe(notebookContainer, {childList: true});\n",
       "}}\n",
       "\n",
       "// Listen for the clearing of the current output cell\n",
       "var outputEl = gd.closest('.output');\n",
       "if (outputEl) {{\n",
       "    x.observe(outputEl, {childList: true});\n",
       "}}\n",
       "\n",
       "                        })                };                });            </script>        </div>"
      ]
     },
     "metadata": {},
     "output_type": "display_data"
    }
   ],
   "source": [
    "#Mortality Rate\n",
    "top_10_mortality_rate = country_df.sort_values(by=\"mortality_rate\", ascending=False).head(10)\n",
    "fig = px.scatter(top_10_mortality_rate, \n",
    "                 x=\"mortality_rate\", y=\"incident_rate\",size=\"mortality_rate\", color=\"country_region\",\n",
    "                 hover_name=\"country_region\", log_x=True, size_max=60)\n",
    "fig.show()"
   ]
  },
  {
   "cell_type": "code",
   "execution_count": 40,
   "metadata": {},
   "outputs": [
    {
     "data": {
      "text/html": [
       "<div>\n",
       "<style scoped>\n",
       "    .dataframe tbody tr th:only-of-type {\n",
       "        vertical-align: middle;\n",
       "    }\n",
       "\n",
       "    .dataframe tbody tr th {\n",
       "        vertical-align: top;\n",
       "    }\n",
       "\n",
       "    .dataframe thead th {\n",
       "        text-align: right;\n",
       "    }\n",
       "</style>\n",
       "<table border=\"1\" class=\"dataframe\">\n",
       "  <thead>\n",
       "    <tr style=\"text-align: right;\">\n",
       "      <th></th>\n",
       "      <th>country_region</th>\n",
       "      <th>last_update</th>\n",
       "      <th>lat</th>\n",
       "      <th>long_</th>\n",
       "      <th>confirmed</th>\n",
       "      <th>deaths</th>\n",
       "      <th>recovered</th>\n",
       "      <th>active</th>\n",
       "      <th>incident_rate</th>\n",
       "      <th>people_tested</th>\n",
       "      <th>people_hospitalized</th>\n",
       "      <th>mortality_rate</th>\n",
       "      <th>uid</th>\n",
       "      <th>iso3</th>\n",
       "    </tr>\n",
       "  </thead>\n",
       "  <tbody>\n",
       "    <tr>\n",
       "      <th>0</th>\n",
       "      <td>Afghanistan</td>\n",
       "      <td>2020-09-23 23:23:49</td>\n",
       "      <td>33.93911</td>\n",
       "      <td>67.70995</td>\n",
       "      <td>39145.00000</td>\n",
       "      <td>1446.00000</td>\n",
       "      <td>32610.00000</td>\n",
       "      <td>5089.00000</td>\n",
       "      <td>100.55656</td>\n",
       "      <td>nan</td>\n",
       "      <td>nan</td>\n",
       "      <td>3.69396</td>\n",
       "      <td>4</td>\n",
       "      <td>AFG</td>\n",
       "    </tr>\n",
       "    <tr>\n",
       "      <th>1</th>\n",
       "      <td>Albania</td>\n",
       "      <td>2020-09-23 23:23:49</td>\n",
       "      <td>41.15330</td>\n",
       "      <td>20.16830</td>\n",
       "      <td>12787.00000</td>\n",
       "      <td>370.00000</td>\n",
       "      <td>7139.00000</td>\n",
       "      <td>5278.00000</td>\n",
       "      <td>444.33248</td>\n",
       "      <td>nan</td>\n",
       "      <td>nan</td>\n",
       "      <td>2.89356</td>\n",
       "      <td>8</td>\n",
       "      <td>ALB</td>\n",
       "    </tr>\n",
       "    <tr>\n",
       "      <th>2</th>\n",
       "      <td>Algeria</td>\n",
       "      <td>2020-09-23 23:23:49</td>\n",
       "      <td>28.03390</td>\n",
       "      <td>1.65960</td>\n",
       "      <td>50400.00000</td>\n",
       "      <td>1698.00000</td>\n",
       "      <td>35428.00000</td>\n",
       "      <td>13274.00000</td>\n",
       "      <td>114.93455</td>\n",
       "      <td>nan</td>\n",
       "      <td>nan</td>\n",
       "      <td>3.36905</td>\n",
       "      <td>12</td>\n",
       "      <td>DZA</td>\n",
       "    </tr>\n",
       "    <tr>\n",
       "      <th>3</th>\n",
       "      <td>Andorra</td>\n",
       "      <td>2020-09-23 23:23:49</td>\n",
       "      <td>42.50630</td>\n",
       "      <td>1.52180</td>\n",
       "      <td>1753.00000</td>\n",
       "      <td>53.00000</td>\n",
       "      <td>1203.00000</td>\n",
       "      <td>497.00000</td>\n",
       "      <td>2268.81512</td>\n",
       "      <td>nan</td>\n",
       "      <td>nan</td>\n",
       "      <td>3.02339</td>\n",
       "      <td>20</td>\n",
       "      <td>AND</td>\n",
       "    </tr>\n",
       "    <tr>\n",
       "      <th>4</th>\n",
       "      <td>Angola</td>\n",
       "      <td>2020-09-23 23:23:49</td>\n",
       "      <td>-11.20270</td>\n",
       "      <td>17.87390</td>\n",
       "      <td>4363.00000</td>\n",
       "      <td>159.00000</td>\n",
       "      <td>1473.00000</td>\n",
       "      <td>2731.00000</td>\n",
       "      <td>13.27501</td>\n",
       "      <td>nan</td>\n",
       "      <td>nan</td>\n",
       "      <td>3.64428</td>\n",
       "      <td>24</td>\n",
       "      <td>AGO</td>\n",
       "    </tr>\n",
       "  </tbody>\n",
       "</table>\n",
       "</div>"
      ],
      "text/plain": [
       "  country_region          last_update       lat    long_   confirmed  \\\n",
       "0    Afghanistan  2020-09-23 23:23:49  33.93911 67.70995 39145.00000   \n",
       "1        Albania  2020-09-23 23:23:49  41.15330 20.16830 12787.00000   \n",
       "2        Algeria  2020-09-23 23:23:49  28.03390  1.65960 50400.00000   \n",
       "3        Andorra  2020-09-23 23:23:49  42.50630  1.52180  1753.00000   \n",
       "4         Angola  2020-09-23 23:23:49 -11.20270 17.87390  4363.00000   \n",
       "\n",
       "      deaths   recovered      active  incident_rate  people_tested  \\\n",
       "0 1446.00000 32610.00000  5089.00000      100.55656            nan   \n",
       "1  370.00000  7139.00000  5278.00000      444.33248            nan   \n",
       "2 1698.00000 35428.00000 13274.00000      114.93455            nan   \n",
       "3   53.00000  1203.00000   497.00000     2268.81512            nan   \n",
       "4  159.00000  1473.00000  2731.00000       13.27501            nan   \n",
       "\n",
       "   people_hospitalized  mortality_rate  uid iso3  \n",
       "0                  nan         3.69396    4  AFG  \n",
       "1                  nan         2.89356    8  ALB  \n",
       "2                  nan         3.36905   12  DZA  \n",
       "3                  nan         3.02339   20  AND  \n",
       "4                  nan         3.64428   24  AGO  "
      ]
     },
     "execution_count": 40,
     "metadata": {},
     "output_type": "execute_result"
    }
   ],
   "source": [
    "country_df.head()"
   ]
  },
  {
   "cell_type": "code",
   "execution_count": 105,
   "metadata": {},
   "outputs": [
    {
     "data": {
      "text/plain": [
       "Index(['country_region', 'last_update', 'lat', 'long_', 'confirmed', 'deaths',\n",
       "       'recovered', 'active', 'incident_rate', 'people_tested',\n",
       "       'people_hospitalized', 'mortality_rate', 'uid', 'iso3'],\n",
       "      dtype='object')"
      ]
     },
     "execution_count": 105,
     "metadata": {},
     "output_type": "execute_result"
    }
   ],
   "source": [
    "country_df.columns"
   ]
  },
  {
   "cell_type": "code",
   "execution_count": 37,
   "metadata": {},
   "outputs": [],
   "source": [
    "import folium"
   ]
  },
  {
   "cell_type": "code",
   "execution_count": 79,
   "metadata": {},
   "outputs": [],
   "source": [
    "# Filter only those that have lat and long_ values\n",
    "country_df = country_df[~country_df['lat'].isnull()]\n",
    "country_df = country_df[~country_df['long_'].isnull()]"
   ]
  },
  {
   "cell_type": "code",
   "execution_count": 92,
   "metadata": {},
   "outputs": [
    {
     "name": "stdout",
     "output_type": "stream",
     "text": [
      "6940721.0\n",
      "10.0\n",
      "6940711.0\n",
      "0.005638471332403841 39144.99999855922\n"
     ]
    }
   ],
   "source": [
    "max_confirmed = country_df['confirmed'].max()\n",
    "min_confirmed = country_df['confirmed'].min()\n",
    "print(max_confirmed)\n",
    "print(min_confirmed)\n",
    "print(max_confirmed-min_confirmed)\n",
    "normalized_radius = (39145-min_confirmed)/(max_confirmed-min_confirmed)\n",
    "print(normalized_radius,39145-min_confirmed/(max_confirmed-min_confirmed))"
   ]
  },
  {
   "cell_type": "code",
   "execution_count": 110,
   "metadata": {},
   "outputs": [
    {
     "data": {
      "text/html": [
       "<div style=\"width:100%;\"><div style=\"position:relative;width:100%;height:0;padding-bottom:60%;\"><span style=\"color:#565656\">Make this Notebook Trusted to load map: File -> Trust Notebook</span><iframe src=\"about:blank\" style=\"position:absolute;width:100%;height:100%;left:0;top:0;border:none !important;\" data-html=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 onload=\"this.contentDocument.open();this.contentDocument.write(atob(this.getAttribute('data-html')));this.contentDocument.close();\" allowfullscreen webkitallowfullscreen mozallowfullscreen></iframe></div></div>"
      ],
      "text/plain": [
       "<folium.folium.Map at 0x7fde1af8a290>"
      ]
     },
     "execution_count": 110,
     "metadata": {},
     "output_type": "execute_result"
    }
   ],
   "source": [
    "m = folium.Map()\n",
    "\n",
    "for country_region, lat, long_, confirmed, deaths, recovered,mortality_rate in zip(country_df['country_region'],\n",
    "                                      country_df['lat'],\n",
    "                                      country_df['long_'],\n",
    "                                      country_df['confirmed'],\n",
    "                                      country_df['deaths'],\n",
    "                                      country_df['recovered'],\n",
    "                                      country_df['mortality_rate']\n",
    "                                     ):\n",
    "\n",
    "    folium.Circle(\n",
    "        #Normalize and augment \n",
    "        radius=((confirmed-min_confirmed)/(max_confirmed-min_confirmed))*1000000,\n",
    "        location=[lat, long_],\n",
    "        popup='The Waterfront',\n",
    "        color='crimson',\n",
    "        fill=True,\n",
    "        fill_color = 'red',\n",
    "        tooltip = f\"Country:{country_region}<br/>Confirmed:{confirmed}<br/>Death:{deaths}<br/>Death Rate:{mortality_rate}\"\n",
    "    ).add_to(m)\n",
    "\n",
    "m"
   ]
  },
  {
   "cell_type": "code",
   "execution_count": null,
   "metadata": {},
   "outputs": [],
   "source": []
  },
  {
   "cell_type": "code",
   "execution_count": null,
   "metadata": {},
   "outputs": [],
   "source": []
  },
  {
   "cell_type": "code",
   "execution_count": null,
   "metadata": {},
   "outputs": [],
   "source": []
  },
  {
   "cell_type": "code",
   "execution_count": null,
   "metadata": {},
   "outputs": [],
   "source": []
  }
 ],
 "metadata": {
  "kernelspec": {
   "display_name": "covid-19",
   "language": "python",
   "name": "covid-19"
  },
  "language_info": {
   "codemirror_mode": {
    "name": "ipython",
    "version": 3
   },
   "file_extension": ".py",
   "mimetype": "text/x-python",
   "name": "python",
   "nbconvert_exporter": "python",
   "pygments_lexer": "ipython3",
   "version": "3.7.9"
  }
 },
 "nbformat": 4,
 "nbformat_minor": 4
}
