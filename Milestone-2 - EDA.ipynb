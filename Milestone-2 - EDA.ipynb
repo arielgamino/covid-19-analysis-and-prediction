{
 "cells": [
  {
   "cell_type": "code",
   "execution_count": 1,
   "metadata": {},
   "outputs": [],
   "source": [
    "import pandas as pd\n",
    "import numpy as np\n",
    "import matplotlib.pyplot as plt \n",
    "import plotly.express as px\n",
    "import warnings\n",
    "import ipywidgets as widgets\n",
    "from ipywidgets import interact, interactive, interact_manual\n",
    "import plotly.graph_objects as go\n",
    "import folium\n",
    "\n",
    "# Supress scientific notation/warning\n",
    "pd.set_option('display.float_format', lambda x: '%.5f' % x)\n",
    "warnings.filterwarnings(\"ignore\")"
   ]
  },
  {
   "cell_type": "markdown",
   "metadata": {},
   "source": [
    "## Load Data"
   ]
  },
  {
   "cell_type": "code",
   "execution_count": 2,
   "metadata": {},
   "outputs": [],
   "source": [
    "# Confirmed Global Cases\n",
    "confirmed_df = pd.read_csv(\"https://raw.githubusercontent.com/CSSEGISandData/COVID-19/master/csse_covid_19_data/csse_covid_19_time_series/time_series_covid19_confirmed_global.csv\")\n",
    "# Number of Death Cases - Global\n",
    "deaths_df = pd.read_csv(\"https://raw.githubusercontent.com/CSSEGISandData/COVID-19/master/csse_covid_19_data/csse_covid_19_time_series/time_series_covid19_deaths_global.csv\")\n",
    "# Number of recovered cases - Global\n",
    "recovered_df = pd.read_csv(\"https://raw.githubusercontent.com/CSSEGISandData/COVID-19/master/csse_covid_19_data/csse_covid_19_time_series/time_series_covid19_recovered_global.csv\")\n",
    "# US Confirmed Cases\n",
    "us_confirmed_df = pd.read_csv(\"https://raw.githubusercontent.com/CSSEGISandData/COVID-19/master/csse_covid_19_data/csse_covid_19_time_series/time_series_covid19_confirmed_US.csv\")\n",
    "# US Death Cases\n",
    "us_death_df = pd.read_csv(\"https://raw.githubusercontent.com/CSSEGISandData/COVID-19/master/csse_covid_19_data/csse_covid_19_time_series/time_series_covid19_deaths_US.csv\")\n",
    "# Country-specific Data\n",
    "country_df = pd.read_csv(\"https://raw.githubusercontent.com/CSSEGISandData/COVID-19/web-data/data/cases_country.csv\")"
   ]
  },
  {
   "cell_type": "markdown",
   "metadata": {},
   "source": [
    "### Rename column names to lower case"
   ]
  },
  {
   "cell_type": "code",
   "execution_count": 3,
   "metadata": {},
   "outputs": [],
   "source": [
    "confirmed_df.columns = confirmed_df.columns.str.lower()\n",
    "deaths_df.columns = deaths_df.columns.str.lower()\n",
    "recovered_df.columns = recovered_df.columns.str.lower()\n",
    "us_confirmed_df.columns = us_confirmed_df.columns.str.lower()\n",
    "us_death_df.columns = us_death_df.columns.str.lower()\n",
    "country_df.columns = country_df.columns.str.lower()"
   ]
  },
  {
   "cell_type": "markdown",
   "metadata": {},
   "source": [
    "### Explore the aggregate numbers"
   ]
  },
  {
   "cell_type": "code",
   "execution_count": 4,
   "metadata": {},
   "outputs": [
    {
     "name": "stdout",
     "output_type": "stream",
     "text": [
      "Number of global confirmed cases:33,641,553\n"
     ]
    }
   ],
   "source": [
    "# Number of global confirmed cases. Use last column's value as they are the latest\n",
    "print(f\"Number of global confirmed cases:{confirmed_df.iloc[:,-1:].sum().values[0]:,}\")"
   ]
  },
  {
   "cell_type": "code",
   "execution_count": 5,
   "metadata": {},
   "outputs": [
    {
     "name": "stdout",
     "output_type": "stream",
     "text": [
      "Number of global deads:1,007,755\n"
     ]
    }
   ],
   "source": [
    "# Number of global deads. Use last column's value as they are the latest\n",
    "print(f\"Number of global deads:{deaths_df.iloc[:,-1:].sum().values[0]:,}\")"
   ]
  },
  {
   "cell_type": "code",
   "execution_count": 6,
   "metadata": {},
   "outputs": [
    {
     "name": "stdout",
     "output_type": "stream",
     "text": [
      "Number of recovered cases:23,387,690\n"
     ]
    }
   ],
   "source": [
    "# Number of global recovered cases. Use last column's value as they are the latest\n",
    "print(f\"Number of recovered cases:{recovered_df.iloc[:,-1:].sum().values[0]:,}\")"
   ]
  },
  {
   "cell_type": "markdown",
   "metadata": {},
   "source": [
    "### Countries Sorted by total number of confirmed cases"
   ]
  },
  {
   "cell_type": "code",
   "execution_count": 7,
   "metadata": {},
   "outputs": [],
   "source": [
    "def highlight_column(s, column_dict):\n",
    "    \"\"\"Change the color in columns if passed on column_dict\"\"\"\n",
    "    if (s.name in column_dict.keys()):\n",
    "        return ['background-color: {}'.format(column_dict[s.name])] * len(s)\n",
    "    return [''] * len(s)"
   ]
  },
  {
   "cell_type": "code",
   "execution_count": 8,
   "metadata": {},
   "outputs": [
    {
     "data": {
      "application/vnd.jupyter.widget-view+json": {
       "model_id": "c3d851010a6440cd8844efd9c1bd9a1f",
       "version_major": 2,
       "version_minor": 0
      },
      "text/plain": [
       "interactive(children=(IntSlider(value=188, description='row_max', max=564, min=-188), Output()), _dom_classes=…"
      ]
     },
     "metadata": {},
     "output_type": "display_data"
    }
   ],
   "source": [
    "@interact\n",
    "def number_of_rows(row_max=len(country_df)): \n",
    "    if(row_max<0):\n",
    "        row_max=0\n",
    "    return country_df.sort_values(by=\"confirmed\", ascending=False).head(row_max).style.apply(highlight_column,column_dict={'confirmed':'grey','deaths':'red','recovered':'green'})"
   ]
  },
  {
   "cell_type": "code",
   "execution_count": 9,
   "metadata": {},
   "outputs": [
    {
     "data": {
      "application/vnd.jupyter.widget-view+json": {
       "model_id": "4a5b7ae916104e8986d82ac3bf6ba3a8",
       "version_major": 2,
       "version_minor": 0
      },
      "text/plain": [
       "interactive(children=(IntSlider(value=188, description='row_max', max=564, min=-188), Output()), _dom_classes=…"
      ]
     },
     "metadata": {},
     "output_type": "display_data"
    }
   ],
   "source": [
    "@interact\n",
    "def number_of_countries(row_max=len(country_df)): \n",
    "    if(row_max<0):\n",
    "        row_max=0\n",
    "    countries_to_show_df = country_df.sort_values(by=\"confirmed\", ascending=False).head(row_max)\n",
    "    fig = px.scatter(countries_to_show_df, x=\"confirmed\", y=\"deaths\",size=\"deaths\", color=\"country_region\",\n",
    "                 hover_name=\"country_region\", log_x=True, size_max=60)\n",
    "    fig.show()"
   ]
  },
  {
   "cell_type": "code",
   "execution_count": 10,
   "metadata": {},
   "outputs": [],
   "source": [
    "confirmed_df.rename(columns={\"country/region\": \"country\"}, inplace=True)"
   ]
  },
  {
   "cell_type": "code",
   "execution_count": 11,
   "metadata": {},
   "outputs": [],
   "source": [
    "deaths_df.rename(columns={\"country/region\": \"country\"}, inplace=True)"
   ]
  },
  {
   "cell_type": "code",
   "execution_count": 12,
   "metadata": {},
   "outputs": [],
   "source": [
    "# Number of confirmed cases\n",
    "confirmed_df_y=confirmed_df.query(\"country=='US'\").loc[:,'1/22/20'::].values[0]\n",
    "# X values - dates\n",
    "confirmed_df_x=confirmed_df.query(\"country=='US'\").loc[:,'1/22/20'::].columns"
   ]
  },
  {
   "cell_type": "code",
   "execution_count": 13,
   "metadata": {},
   "outputs": [],
   "source": [
    "# Number of deads\n",
    "deaths_df_y=deaths_df.query(\"country=='US'\").loc[:,'1/22/20'::].values[0]\n",
    "# X values - dates\n",
    "deaths_df_x=deaths_df.query(\"country=='US'\").loc[:,'1/22/20'::].columns"
   ]
  },
  {
   "cell_type": "code",
   "execution_count": 14,
   "metadata": {},
   "outputs": [],
   "source": [
    "confirmed_by_country = confirmed_df.groupby(['country']).sum()\n",
    "deaths_by_country = deaths_df.groupby(['country']).sum()"
   ]
  },
  {
   "cell_type": "code",
   "execution_count": 15,
   "metadata": {},
   "outputs": [
    {
     "data": {
      "application/vnd.jupyter.widget-view+json": {
       "model_id": "20540516de3a418c8447b7fc477a2730",
       "version_major": 2,
       "version_minor": 0
      },
      "text/plain": [
       "interactive(children=(Dropdown(description='country', options=('Afghanistan', 'Albania', 'Algeria', 'Andorra',…"
      ]
     },
     "metadata": {},
     "output_type": "display_data"
    }
   ],
   "source": [
    "@interact\n",
    "def show_by_country(country=confirmed_by_country.index): \n",
    "    \"\"\"Show confirmed and deaths per country\"\"\"\n",
    "    # Number of confirmed cases\n",
    "    confirmed_df_y=confirmed_by_country.query(f\"country=='{country}'\").loc[:,'1/22/20'::].values[0]\n",
    "    # X values - dates\n",
    "    confirmed_df_x=confirmed_by_country.query(f\"country=='{country}'\").loc[:,'1/22/20'::].columns\n",
    "    # Number of deads\n",
    "    deaths_df_y=deaths_by_country.query(f\"country=='{country}'\").loc[:,'1/22/20'::].values[0]\n",
    "    # X values - dates\n",
    "    deaths_df_x=deaths_by_country.query(f\"country=='{country}'\").loc[:,'1/22/20'::].columns\n",
    "    fig = go.Figure()\n",
    "    fig.add_trace(go.Scatter(x=confirmed_df_x,y=confirmed_df_y,mode='lines+markers', name='confirmed'))\n",
    "    fig.add_trace(go.Scatter(x=deaths_df_x,y=deaths_df_y,mode='markers',name='deaths'))\n",
    "    fig.show()"
   ]
  },
  {
   "cell_type": "code",
   "execution_count": 16,
   "metadata": {},
   "outputs": [],
   "source": [
    "# Plot top 10 worst hit countries"
   ]
  },
  {
   "cell_type": "code",
   "execution_count": 16,
   "metadata": {},
   "outputs": [
    {
     "data": {
      "application/vnd.plotly.v1+json": {
       "config": {
        "plotlyServerURL": "https://plot.ly"
       },
       "data": [
        {
         "hovertemplate": "<b>%{hovertext}</b><br><br>country_region=US<br>confirmed=%{marker.size}<br>deaths=%{y}<extra></extra>",
         "hovertext": [
          "US"
         ],
         "legendgroup": "US",
         "marker": {
          "color": "#636efa",
          "size": [
           7229723
          ],
          "sizemode": "area",
          "sizeref": 2008.256388888889,
          "symbol": "circle"
         },
         "mode": "markers",
         "name": "US",
         "orientation": "v",
         "showlegend": true,
         "type": "scatter",
         "x": [
          7229723
         ],
         "xaxis": "x",
         "y": [
          206905
         ],
         "yaxis": "y"
        },
        {
         "hovertemplate": "<b>%{hovertext}</b><br><br>country_region=India<br>confirmed=%{marker.size}<br>deaths=%{y}<extra></extra>",
         "hovertext": [
          "India"
         ],
         "legendgroup": "India",
         "marker": {
          "color": "#EF553B",
          "size": [
           6225763
          ],
          "sizemode": "area",
          "sizeref": 2008.256388888889,
          "symbol": "circle"
         },
         "mode": "markers",
         "name": "India",
         "orientation": "v",
         "showlegend": true,
         "type": "scatter",
         "x": [
          6225763
         ],
         "xaxis": "x",
         "y": [
          97497
         ],
         "yaxis": "y"
        },
        {
         "hovertemplate": "<b>%{hovertext}</b><br><br>country_region=Brazil<br>confirmed=%{marker.size}<br>deaths=%{y}<extra></extra>",
         "hovertext": [
          "Brazil"
         ],
         "legendgroup": "Brazil",
         "marker": {
          "color": "#00cc96",
          "size": [
           4810935
          ],
          "sizemode": "area",
          "sizeref": 2008.256388888889,
          "symbol": "circle"
         },
         "mode": "markers",
         "name": "Brazil",
         "orientation": "v",
         "showlegend": true,
         "type": "scatter",
         "x": [
          4810935
         ],
         "xaxis": "x",
         "y": [
          143952
         ],
         "yaxis": "y"
        },
        {
         "hovertemplate": "<b>%{hovertext}</b><br><br>country_region=Russia<br>confirmed=%{marker.size}<br>deaths=%{y}<extra></extra>",
         "hovertext": [
          "Russia"
         ],
         "legendgroup": "Russia",
         "marker": {
          "color": "#ab63fa",
          "size": [
           1170799
          ],
          "sizemode": "area",
          "sizeref": 2008.256388888889,
          "symbol": "circle"
         },
         "mode": "markers",
         "name": "Russia",
         "orientation": "v",
         "showlegend": true,
         "type": "scatter",
         "x": [
          1170799
         ],
         "xaxis": "x",
         "y": [
          20630
         ],
         "yaxis": "y"
        },
        {
         "hovertemplate": "<b>%{hovertext}</b><br><br>country_region=Colombia<br>confirmed=%{marker.size}<br>deaths=%{y}<extra></extra>",
         "hovertext": [
          "Colombia"
         ],
         "legendgroup": "Colombia",
         "marker": {
          "color": "#FFA15A",
          "size": [
           829679
          ],
          "sizemode": "area",
          "sizeref": 2008.256388888889,
          "symbol": "circle"
         },
         "mode": "markers",
         "name": "Colombia",
         "orientation": "v",
         "showlegend": true,
         "type": "scatter",
         "x": [
          829679
         ],
         "xaxis": "x",
         "y": [
          25998
         ],
         "yaxis": "y"
        },
        {
         "hovertemplate": "<b>%{hovertext}</b><br><br>country_region=Peru<br>confirmed=%{marker.size}<br>deaths=%{y}<extra></extra>",
         "hovertext": [
          "Peru"
         ],
         "legendgroup": "Peru",
         "marker": {
          "color": "#19d3f3",
          "size": [
           811768
          ],
          "sizemode": "area",
          "sizeref": 2008.256388888889,
          "symbol": "circle"
         },
         "mode": "markers",
         "name": "Peru",
         "orientation": "v",
         "showlegend": true,
         "type": "scatter",
         "x": [
          811768
         ],
         "xaxis": "x",
         "y": [
          32396
         ],
         "yaxis": "y"
        },
        {
         "hovertemplate": "<b>%{hovertext}</b><br><br>country_region=Spain<br>confirmed=%{marker.size}<br>deaths=%{y}<extra></extra>",
         "hovertext": [
          "Spain"
         ],
         "legendgroup": "Spain",
         "marker": {
          "color": "#FF6692",
          "size": [
           769188
          ],
          "sizemode": "area",
          "sizeref": 2008.256388888889,
          "symbol": "circle"
         },
         "mode": "markers",
         "name": "Spain",
         "orientation": "v",
         "showlegend": true,
         "type": "scatter",
         "x": [
          769188
         ],
         "xaxis": "x",
         "y": [
          31791
         ],
         "yaxis": "y"
        },
        {
         "hovertemplate": "<b>%{hovertext}</b><br><br>country_region=Argentina<br>confirmed=%{marker.size}<br>deaths=%{y}<extra></extra>",
         "hovertext": [
          "Argentina"
         ],
         "legendgroup": "Argentina",
         "marker": {
          "color": "#B6E880",
          "size": [
           751001
          ],
          "sizemode": "area",
          "sizeref": 2008.256388888889,
          "symbol": "circle"
         },
         "mode": "markers",
         "name": "Argentina",
         "orientation": "v",
         "showlegend": true,
         "type": "scatter",
         "x": [
          751001
         ],
         "xaxis": "x",
         "y": [
          16937
         ],
         "yaxis": "y"
        },
        {
         "hovertemplate": "<b>%{hovertext}</b><br><br>country_region=Mexico<br>confirmed=%{marker.size}<br>deaths=%{y}<extra></extra>",
         "hovertext": [
          "Mexico"
         ],
         "legendgroup": "Mexico",
         "marker": {
          "color": "#FF97FF",
          "size": [
           743216
          ],
          "sizemode": "area",
          "sizeref": 2008.256388888889,
          "symbol": "circle"
         },
         "mode": "markers",
         "name": "Mexico",
         "orientation": "v",
         "showlegend": true,
         "type": "scatter",
         "x": [
          743216
         ],
         "xaxis": "x",
         "y": [
          77646
         ],
         "yaxis": "y"
        },
        {
         "hovertemplate": "<b>%{hovertext}</b><br><br>country_region=South Africa<br>confirmed=%{marker.size}<br>deaths=%{y}<extra></extra>",
         "hovertext": [
          "South Africa"
         ],
         "legendgroup": "South Africa",
         "marker": {
          "color": "#FECB52",
          "size": [
           674339
          ],
          "sizemode": "area",
          "sizeref": 2008.256388888889,
          "symbol": "circle"
         },
         "mode": "markers",
         "name": "South Africa",
         "orientation": "v",
         "showlegend": true,
         "type": "scatter",
         "x": [
          674339
         ],
         "xaxis": "x",
         "y": [
          16734
         ],
         "yaxis": "y"
        }
       ],
       "layout": {
        "legend": {
         "itemsizing": "constant",
         "title": {
          "text": "country_region"
         },
         "tracegroupgap": 0
        },
        "margin": {
         "t": 60
        },
        "template": {
         "data": {
          "bar": [
           {
            "error_x": {
             "color": "#2a3f5f"
            },
            "error_y": {
             "color": "#2a3f5f"
            },
            "marker": {
             "line": {
              "color": "#E5ECF6",
              "width": 0.5
             }
            },
            "type": "bar"
           }
          ],
          "barpolar": [
           {
            "marker": {
             "line": {
              "color": "#E5ECF6",
              "width": 0.5
             }
            },
            "type": "barpolar"
           }
          ],
          "carpet": [
           {
            "aaxis": {
             "endlinecolor": "#2a3f5f",
             "gridcolor": "white",
             "linecolor": "white",
             "minorgridcolor": "white",
             "startlinecolor": "#2a3f5f"
            },
            "baxis": {
             "endlinecolor": "#2a3f5f",
             "gridcolor": "white",
             "linecolor": "white",
             "minorgridcolor": "white",
             "startlinecolor": "#2a3f5f"
            },
            "type": "carpet"
           }
          ],
          "choropleth": [
           {
            "colorbar": {
             "outlinewidth": 0,
             "ticks": ""
            },
            "type": "choropleth"
           }
          ],
          "contour": [
           {
            "colorbar": {
             "outlinewidth": 0,
             "ticks": ""
            },
            "colorscale": [
             [
              0,
              "#0d0887"
             ],
             [
              0.1111111111111111,
              "#46039f"
             ],
             [
              0.2222222222222222,
              "#7201a8"
             ],
             [
              0.3333333333333333,
              "#9c179e"
             ],
             [
              0.4444444444444444,
              "#bd3786"
             ],
             [
              0.5555555555555556,
              "#d8576b"
             ],
             [
              0.6666666666666666,
              "#ed7953"
             ],
             [
              0.7777777777777778,
              "#fb9f3a"
             ],
             [
              0.8888888888888888,
              "#fdca26"
             ],
             [
              1,
              "#f0f921"
             ]
            ],
            "type": "contour"
           }
          ],
          "contourcarpet": [
           {
            "colorbar": {
             "outlinewidth": 0,
             "ticks": ""
            },
            "type": "contourcarpet"
           }
          ],
          "heatmap": [
           {
            "colorbar": {
             "outlinewidth": 0,
             "ticks": ""
            },
            "colorscale": [
             [
              0,
              "#0d0887"
             ],
             [
              0.1111111111111111,
              "#46039f"
             ],
             [
              0.2222222222222222,
              "#7201a8"
             ],
             [
              0.3333333333333333,
              "#9c179e"
             ],
             [
              0.4444444444444444,
              "#bd3786"
             ],
             [
              0.5555555555555556,
              "#d8576b"
             ],
             [
              0.6666666666666666,
              "#ed7953"
             ],
             [
              0.7777777777777778,
              "#fb9f3a"
             ],
             [
              0.8888888888888888,
              "#fdca26"
             ],
             [
              1,
              "#f0f921"
             ]
            ],
            "type": "heatmap"
           }
          ],
          "heatmapgl": [
           {
            "colorbar": {
             "outlinewidth": 0,
             "ticks": ""
            },
            "colorscale": [
             [
              0,
              "#0d0887"
             ],
             [
              0.1111111111111111,
              "#46039f"
             ],
             [
              0.2222222222222222,
              "#7201a8"
             ],
             [
              0.3333333333333333,
              "#9c179e"
             ],
             [
              0.4444444444444444,
              "#bd3786"
             ],
             [
              0.5555555555555556,
              "#d8576b"
             ],
             [
              0.6666666666666666,
              "#ed7953"
             ],
             [
              0.7777777777777778,
              "#fb9f3a"
             ],
             [
              0.8888888888888888,
              "#fdca26"
             ],
             [
              1,
              "#f0f921"
             ]
            ],
            "type": "heatmapgl"
           }
          ],
          "histogram": [
           {
            "marker": {
             "colorbar": {
              "outlinewidth": 0,
              "ticks": ""
             }
            },
            "type": "histogram"
           }
          ],
          "histogram2d": [
           {
            "colorbar": {
             "outlinewidth": 0,
             "ticks": ""
            },
            "colorscale": [
             [
              0,
              "#0d0887"
             ],
             [
              0.1111111111111111,
              "#46039f"
             ],
             [
              0.2222222222222222,
              "#7201a8"
             ],
             [
              0.3333333333333333,
              "#9c179e"
             ],
             [
              0.4444444444444444,
              "#bd3786"
             ],
             [
              0.5555555555555556,
              "#d8576b"
             ],
             [
              0.6666666666666666,
              "#ed7953"
             ],
             [
              0.7777777777777778,
              "#fb9f3a"
             ],
             [
              0.8888888888888888,
              "#fdca26"
             ],
             [
              1,
              "#f0f921"
             ]
            ],
            "type": "histogram2d"
           }
          ],
          "histogram2dcontour": [
           {
            "colorbar": {
             "outlinewidth": 0,
             "ticks": ""
            },
            "colorscale": [
             [
              0,
              "#0d0887"
             ],
             [
              0.1111111111111111,
              "#46039f"
             ],
             [
              0.2222222222222222,
              "#7201a8"
             ],
             [
              0.3333333333333333,
              "#9c179e"
             ],
             [
              0.4444444444444444,
              "#bd3786"
             ],
             [
              0.5555555555555556,
              "#d8576b"
             ],
             [
              0.6666666666666666,
              "#ed7953"
             ],
             [
              0.7777777777777778,
              "#fb9f3a"
             ],
             [
              0.8888888888888888,
              "#fdca26"
             ],
             [
              1,
              "#f0f921"
             ]
            ],
            "type": "histogram2dcontour"
           }
          ],
          "mesh3d": [
           {
            "colorbar": {
             "outlinewidth": 0,
             "ticks": ""
            },
            "type": "mesh3d"
           }
          ],
          "parcoords": [
           {
            "line": {
             "colorbar": {
              "outlinewidth": 0,
              "ticks": ""
             }
            },
            "type": "parcoords"
           }
          ],
          "pie": [
           {
            "automargin": true,
            "type": "pie"
           }
          ],
          "scatter": [
           {
            "marker": {
             "colorbar": {
              "outlinewidth": 0,
              "ticks": ""
             }
            },
            "type": "scatter"
           }
          ],
          "scatter3d": [
           {
            "line": {
             "colorbar": {
              "outlinewidth": 0,
              "ticks": ""
             }
            },
            "marker": {
             "colorbar": {
              "outlinewidth": 0,
              "ticks": ""
             }
            },
            "type": "scatter3d"
           }
          ],
          "scattercarpet": [
           {
            "marker": {
             "colorbar": {
              "outlinewidth": 0,
              "ticks": ""
             }
            },
            "type": "scattercarpet"
           }
          ],
          "scattergeo": [
           {
            "marker": {
             "colorbar": {
              "outlinewidth": 0,
              "ticks": ""
             }
            },
            "type": "scattergeo"
           }
          ],
          "scattergl": [
           {
            "marker": {
             "colorbar": {
              "outlinewidth": 0,
              "ticks": ""
             }
            },
            "type": "scattergl"
           }
          ],
          "scattermapbox": [
           {
            "marker": {
             "colorbar": {
              "outlinewidth": 0,
              "ticks": ""
             }
            },
            "type": "scattermapbox"
           }
          ],
          "scatterpolar": [
           {
            "marker": {
             "colorbar": {
              "outlinewidth": 0,
              "ticks": ""
             }
            },
            "type": "scatterpolar"
           }
          ],
          "scatterpolargl": [
           {
            "marker": {
             "colorbar": {
              "outlinewidth": 0,
              "ticks": ""
             }
            },
            "type": "scatterpolargl"
           }
          ],
          "scatterternary": [
           {
            "marker": {
             "colorbar": {
              "outlinewidth": 0,
              "ticks": ""
             }
            },
            "type": "scatterternary"
           }
          ],
          "surface": [
           {
            "colorbar": {
             "outlinewidth": 0,
             "ticks": ""
            },
            "colorscale": [
             [
              0,
              "#0d0887"
             ],
             [
              0.1111111111111111,
              "#46039f"
             ],
             [
              0.2222222222222222,
              "#7201a8"
             ],
             [
              0.3333333333333333,
              "#9c179e"
             ],
             [
              0.4444444444444444,
              "#bd3786"
             ],
             [
              0.5555555555555556,
              "#d8576b"
             ],
             [
              0.6666666666666666,
              "#ed7953"
             ],
             [
              0.7777777777777778,
              "#fb9f3a"
             ],
             [
              0.8888888888888888,
              "#fdca26"
             ],
             [
              1,
              "#f0f921"
             ]
            ],
            "type": "surface"
           }
          ],
          "table": [
           {
            "cells": {
             "fill": {
              "color": "#EBF0F8"
             },
             "line": {
              "color": "white"
             }
            },
            "header": {
             "fill": {
              "color": "#C8D4E3"
             },
             "line": {
              "color": "white"
             }
            },
            "type": "table"
           }
          ]
         },
         "layout": {
          "annotationdefaults": {
           "arrowcolor": "#2a3f5f",
           "arrowhead": 0,
           "arrowwidth": 1
          },
          "coloraxis": {
           "colorbar": {
            "outlinewidth": 0,
            "ticks": ""
           }
          },
          "colorscale": {
           "diverging": [
            [
             0,
             "#8e0152"
            ],
            [
             0.1,
             "#c51b7d"
            ],
            [
             0.2,
             "#de77ae"
            ],
            [
             0.3,
             "#f1b6da"
            ],
            [
             0.4,
             "#fde0ef"
            ],
            [
             0.5,
             "#f7f7f7"
            ],
            [
             0.6,
             "#e6f5d0"
            ],
            [
             0.7,
             "#b8e186"
            ],
            [
             0.8,
             "#7fbc41"
            ],
            [
             0.9,
             "#4d9221"
            ],
            [
             1,
             "#276419"
            ]
           ],
           "sequential": [
            [
             0,
             "#0d0887"
            ],
            [
             0.1111111111111111,
             "#46039f"
            ],
            [
             0.2222222222222222,
             "#7201a8"
            ],
            [
             0.3333333333333333,
             "#9c179e"
            ],
            [
             0.4444444444444444,
             "#bd3786"
            ],
            [
             0.5555555555555556,
             "#d8576b"
            ],
            [
             0.6666666666666666,
             "#ed7953"
            ],
            [
             0.7777777777777778,
             "#fb9f3a"
            ],
            [
             0.8888888888888888,
             "#fdca26"
            ],
            [
             1,
             "#f0f921"
            ]
           ],
           "sequentialminus": [
            [
             0,
             "#0d0887"
            ],
            [
             0.1111111111111111,
             "#46039f"
            ],
            [
             0.2222222222222222,
             "#7201a8"
            ],
            [
             0.3333333333333333,
             "#9c179e"
            ],
            [
             0.4444444444444444,
             "#bd3786"
            ],
            [
             0.5555555555555556,
             "#d8576b"
            ],
            [
             0.6666666666666666,
             "#ed7953"
            ],
            [
             0.7777777777777778,
             "#fb9f3a"
            ],
            [
             0.8888888888888888,
             "#fdca26"
            ],
            [
             1,
             "#f0f921"
            ]
           ]
          },
          "colorway": [
           "#636efa",
           "#EF553B",
           "#00cc96",
           "#ab63fa",
           "#FFA15A",
           "#19d3f3",
           "#FF6692",
           "#B6E880",
           "#FF97FF",
           "#FECB52"
          ],
          "font": {
           "color": "#2a3f5f"
          },
          "geo": {
           "bgcolor": "white",
           "lakecolor": "white",
           "landcolor": "#E5ECF6",
           "showlakes": true,
           "showland": true,
           "subunitcolor": "white"
          },
          "hoverlabel": {
           "align": "left"
          },
          "hovermode": "closest",
          "mapbox": {
           "style": "light"
          },
          "paper_bgcolor": "white",
          "plot_bgcolor": "#E5ECF6",
          "polar": {
           "angularaxis": {
            "gridcolor": "white",
            "linecolor": "white",
            "ticks": ""
           },
           "bgcolor": "#E5ECF6",
           "radialaxis": {
            "gridcolor": "white",
            "linecolor": "white",
            "ticks": ""
           }
          },
          "scene": {
           "xaxis": {
            "backgroundcolor": "#E5ECF6",
            "gridcolor": "white",
            "gridwidth": 2,
            "linecolor": "white",
            "showbackground": true,
            "ticks": "",
            "zerolinecolor": "white"
           },
           "yaxis": {
            "backgroundcolor": "#E5ECF6",
            "gridcolor": "white",
            "gridwidth": 2,
            "linecolor": "white",
            "showbackground": true,
            "ticks": "",
            "zerolinecolor": "white"
           },
           "zaxis": {
            "backgroundcolor": "#E5ECF6",
            "gridcolor": "white",
            "gridwidth": 2,
            "linecolor": "white",
            "showbackground": true,
            "ticks": "",
            "zerolinecolor": "white"
           }
          },
          "shapedefaults": {
           "line": {
            "color": "#2a3f5f"
           }
          },
          "ternary": {
           "aaxis": {
            "gridcolor": "white",
            "linecolor": "white",
            "ticks": ""
           },
           "baxis": {
            "gridcolor": "white",
            "linecolor": "white",
            "ticks": ""
           },
           "bgcolor": "#E5ECF6",
           "caxis": {
            "gridcolor": "white",
            "linecolor": "white",
            "ticks": ""
           }
          },
          "title": {
           "x": 0.05
          },
          "xaxis": {
           "automargin": true,
           "gridcolor": "white",
           "linecolor": "white",
           "ticks": "",
           "title": {
            "standoff": 15
           },
           "zerolinecolor": "white",
           "zerolinewidth": 2
          },
          "yaxis": {
           "automargin": true,
           "gridcolor": "white",
           "linecolor": "white",
           "ticks": "",
           "title": {
            "standoff": 15
           },
           "zerolinecolor": "white",
           "zerolinewidth": 2
          }
         }
        },
        "xaxis": {
         "anchor": "y",
         "domain": [
          0,
          1
         ],
         "title": {
          "text": "confirmed"
         },
         "type": "log"
        },
        "yaxis": {
         "anchor": "x",
         "domain": [
          0,
          1
         ],
         "title": {
          "text": "deaths"
         }
        }
       }
      },
      "text/html": [
       "<div>                            <div id=\"851e12d2-f2a6-4b07-9919-dac3b672e483\" class=\"plotly-graph-div\" style=\"height:525px; width:100%;\"></div>            <script type=\"text/javascript\">                require([\"plotly\"], function(Plotly) {                    window.PLOTLYENV=window.PLOTLYENV || {};                                    if (document.getElementById(\"851e12d2-f2a6-4b07-9919-dac3b672e483\")) {                    Plotly.newPlot(                        \"851e12d2-f2a6-4b07-9919-dac3b672e483\",                        [{\"hovertemplate\": \"<b>%{hovertext}</b><br><br>country_region=US<br>confirmed=%{marker.size}<br>deaths=%{y}<extra></extra>\", \"hovertext\": [\"US\"], \"legendgroup\": \"US\", \"marker\": {\"color\": \"#636efa\", \"size\": [7229723.0], \"sizemode\": \"area\", \"sizeref\": 2008.256388888889, \"symbol\": \"circle\"}, \"mode\": \"markers\", \"name\": \"US\", \"orientation\": \"v\", \"showlegend\": true, \"type\": \"scatter\", \"x\": [7229723.0], \"xaxis\": \"x\", \"y\": [206905.0], \"yaxis\": \"y\"}, {\"hovertemplate\": \"<b>%{hovertext}</b><br><br>country_region=India<br>confirmed=%{marker.size}<br>deaths=%{y}<extra></extra>\", \"hovertext\": [\"India\"], \"legendgroup\": \"India\", \"marker\": {\"color\": \"#EF553B\", \"size\": [6225763.0], \"sizemode\": \"area\", \"sizeref\": 2008.256388888889, \"symbol\": \"circle\"}, \"mode\": \"markers\", \"name\": \"India\", \"orientation\": \"v\", \"showlegend\": true, \"type\": \"scatter\", \"x\": [6225763.0], \"xaxis\": \"x\", \"y\": [97497.0], \"yaxis\": \"y\"}, {\"hovertemplate\": \"<b>%{hovertext}</b><br><br>country_region=Brazil<br>confirmed=%{marker.size}<br>deaths=%{y}<extra></extra>\", \"hovertext\": [\"Brazil\"], \"legendgroup\": \"Brazil\", \"marker\": {\"color\": \"#00cc96\", \"size\": [4810935.0], \"sizemode\": \"area\", \"sizeref\": 2008.256388888889, \"symbol\": \"circle\"}, \"mode\": \"markers\", \"name\": \"Brazil\", \"orientation\": \"v\", \"showlegend\": true, \"type\": \"scatter\", \"x\": [4810935.0], \"xaxis\": \"x\", \"y\": [143952.0], \"yaxis\": \"y\"}, {\"hovertemplate\": \"<b>%{hovertext}</b><br><br>country_region=Russia<br>confirmed=%{marker.size}<br>deaths=%{y}<extra></extra>\", \"hovertext\": [\"Russia\"], \"legendgroup\": \"Russia\", \"marker\": {\"color\": \"#ab63fa\", \"size\": [1170799.0], \"sizemode\": \"area\", \"sizeref\": 2008.256388888889, \"symbol\": \"circle\"}, \"mode\": \"markers\", \"name\": \"Russia\", \"orientation\": \"v\", \"showlegend\": true, \"type\": \"scatter\", \"x\": [1170799.0], \"xaxis\": \"x\", \"y\": [20630.0], \"yaxis\": \"y\"}, {\"hovertemplate\": \"<b>%{hovertext}</b><br><br>country_region=Colombia<br>confirmed=%{marker.size}<br>deaths=%{y}<extra></extra>\", \"hovertext\": [\"Colombia\"], \"legendgroup\": \"Colombia\", \"marker\": {\"color\": \"#FFA15A\", \"size\": [829679.0], \"sizemode\": \"area\", \"sizeref\": 2008.256388888889, \"symbol\": \"circle\"}, \"mode\": \"markers\", \"name\": \"Colombia\", \"orientation\": \"v\", \"showlegend\": true, \"type\": \"scatter\", \"x\": [829679.0], \"xaxis\": \"x\", \"y\": [25998.0], \"yaxis\": \"y\"}, {\"hovertemplate\": \"<b>%{hovertext}</b><br><br>country_region=Peru<br>confirmed=%{marker.size}<br>deaths=%{y}<extra></extra>\", \"hovertext\": [\"Peru\"], \"legendgroup\": \"Peru\", \"marker\": {\"color\": \"#19d3f3\", \"size\": [811768.0], \"sizemode\": \"area\", \"sizeref\": 2008.256388888889, \"symbol\": \"circle\"}, \"mode\": \"markers\", \"name\": \"Peru\", \"orientation\": \"v\", \"showlegend\": true, \"type\": \"scatter\", \"x\": [811768.0], \"xaxis\": \"x\", \"y\": [32396.0], \"yaxis\": \"y\"}, {\"hovertemplate\": \"<b>%{hovertext}</b><br><br>country_region=Spain<br>confirmed=%{marker.size}<br>deaths=%{y}<extra></extra>\", \"hovertext\": [\"Spain\"], \"legendgroup\": \"Spain\", \"marker\": {\"color\": \"#FF6692\", \"size\": [769188.0], \"sizemode\": \"area\", \"sizeref\": 2008.256388888889, \"symbol\": \"circle\"}, \"mode\": \"markers\", \"name\": \"Spain\", \"orientation\": \"v\", \"showlegend\": true, \"type\": \"scatter\", \"x\": [769188.0], \"xaxis\": \"x\", \"y\": [31791.0], \"yaxis\": \"y\"}, {\"hovertemplate\": \"<b>%{hovertext}</b><br><br>country_region=Argentina<br>confirmed=%{marker.size}<br>deaths=%{y}<extra></extra>\", \"hovertext\": [\"Argentina\"], \"legendgroup\": \"Argentina\", \"marker\": {\"color\": \"#B6E880\", \"size\": [751001.0], \"sizemode\": \"area\", \"sizeref\": 2008.256388888889, \"symbol\": \"circle\"}, \"mode\": \"markers\", \"name\": \"Argentina\", \"orientation\": \"v\", \"showlegend\": true, \"type\": \"scatter\", \"x\": [751001.0], \"xaxis\": \"x\", \"y\": [16937.0], \"yaxis\": \"y\"}, {\"hovertemplate\": \"<b>%{hovertext}</b><br><br>country_region=Mexico<br>confirmed=%{marker.size}<br>deaths=%{y}<extra></extra>\", \"hovertext\": [\"Mexico\"], \"legendgroup\": \"Mexico\", \"marker\": {\"color\": \"#FF97FF\", \"size\": [743216.0], \"sizemode\": \"area\", \"sizeref\": 2008.256388888889, \"symbol\": \"circle\"}, \"mode\": \"markers\", \"name\": \"Mexico\", \"orientation\": \"v\", \"showlegend\": true, \"type\": \"scatter\", \"x\": [743216.0], \"xaxis\": \"x\", \"y\": [77646.0], \"yaxis\": \"y\"}, {\"hovertemplate\": \"<b>%{hovertext}</b><br><br>country_region=South Africa<br>confirmed=%{marker.size}<br>deaths=%{y}<extra></extra>\", \"hovertext\": [\"South Africa\"], \"legendgroup\": \"South Africa\", \"marker\": {\"color\": \"#FECB52\", \"size\": [674339.0], \"sizemode\": \"area\", \"sizeref\": 2008.256388888889, \"symbol\": \"circle\"}, \"mode\": \"markers\", \"name\": \"South Africa\", \"orientation\": \"v\", \"showlegend\": true, \"type\": \"scatter\", \"x\": [674339.0], \"xaxis\": \"x\", \"y\": [16734.0], \"yaxis\": \"y\"}],                        {\"legend\": {\"itemsizing\": \"constant\", \"title\": {\"text\": \"country_region\"}, \"tracegroupgap\": 0}, \"margin\": {\"t\": 60}, \"template\": {\"data\": {\"bar\": [{\"error_x\": {\"color\": \"#2a3f5f\"}, \"error_y\": {\"color\": \"#2a3f5f\"}, \"marker\": {\"line\": {\"color\": \"#E5ECF6\", \"width\": 0.5}}, \"type\": \"bar\"}], \"barpolar\": [{\"marker\": {\"line\": {\"color\": \"#E5ECF6\", \"width\": 0.5}}, \"type\": \"barpolar\"}], \"carpet\": [{\"aaxis\": {\"endlinecolor\": \"#2a3f5f\", \"gridcolor\": \"white\", \"linecolor\": \"white\", \"minorgridcolor\": \"white\", \"startlinecolor\": \"#2a3f5f\"}, \"baxis\": {\"endlinecolor\": \"#2a3f5f\", \"gridcolor\": \"white\", \"linecolor\": \"white\", \"minorgridcolor\": \"white\", \"startlinecolor\": \"#2a3f5f\"}, \"type\": \"carpet\"}], \"choropleth\": [{\"colorbar\": {\"outlinewidth\": 0, \"ticks\": \"\"}, \"type\": \"choropleth\"}], \"contour\": [{\"colorbar\": {\"outlinewidth\": 0, \"ticks\": \"\"}, \"colorscale\": [[0.0, \"#0d0887\"], [0.1111111111111111, \"#46039f\"], [0.2222222222222222, \"#7201a8\"], [0.3333333333333333, \"#9c179e\"], [0.4444444444444444, \"#bd3786\"], [0.5555555555555556, \"#d8576b\"], [0.6666666666666666, \"#ed7953\"], [0.7777777777777778, \"#fb9f3a\"], [0.8888888888888888, \"#fdca26\"], [1.0, \"#f0f921\"]], \"type\": \"contour\"}], \"contourcarpet\": [{\"colorbar\": {\"outlinewidth\": 0, \"ticks\": \"\"}, \"type\": \"contourcarpet\"}], \"heatmap\": [{\"colorbar\": {\"outlinewidth\": 0, \"ticks\": \"\"}, \"colorscale\": [[0.0, \"#0d0887\"], [0.1111111111111111, \"#46039f\"], [0.2222222222222222, \"#7201a8\"], [0.3333333333333333, \"#9c179e\"], [0.4444444444444444, \"#bd3786\"], [0.5555555555555556, \"#d8576b\"], [0.6666666666666666, \"#ed7953\"], [0.7777777777777778, \"#fb9f3a\"], [0.8888888888888888, \"#fdca26\"], [1.0, \"#f0f921\"]], \"type\": \"heatmap\"}], \"heatmapgl\": [{\"colorbar\": {\"outlinewidth\": 0, \"ticks\": \"\"}, \"colorscale\": [[0.0, \"#0d0887\"], [0.1111111111111111, \"#46039f\"], [0.2222222222222222, \"#7201a8\"], [0.3333333333333333, \"#9c179e\"], [0.4444444444444444, \"#bd3786\"], [0.5555555555555556, \"#d8576b\"], [0.6666666666666666, \"#ed7953\"], [0.7777777777777778, \"#fb9f3a\"], [0.8888888888888888, \"#fdca26\"], [1.0, \"#f0f921\"]], \"type\": \"heatmapgl\"}], \"histogram\": [{\"marker\": {\"colorbar\": {\"outlinewidth\": 0, \"ticks\": \"\"}}, \"type\": \"histogram\"}], \"histogram2d\": [{\"colorbar\": {\"outlinewidth\": 0, \"ticks\": \"\"}, \"colorscale\": [[0.0, \"#0d0887\"], [0.1111111111111111, \"#46039f\"], [0.2222222222222222, \"#7201a8\"], [0.3333333333333333, \"#9c179e\"], [0.4444444444444444, \"#bd3786\"], [0.5555555555555556, \"#d8576b\"], [0.6666666666666666, \"#ed7953\"], [0.7777777777777778, \"#fb9f3a\"], [0.8888888888888888, \"#fdca26\"], [1.0, \"#f0f921\"]], \"type\": \"histogram2d\"}], \"histogram2dcontour\": [{\"colorbar\": {\"outlinewidth\": 0, \"ticks\": \"\"}, \"colorscale\": [[0.0, \"#0d0887\"], [0.1111111111111111, \"#46039f\"], [0.2222222222222222, \"#7201a8\"], [0.3333333333333333, \"#9c179e\"], [0.4444444444444444, \"#bd3786\"], [0.5555555555555556, \"#d8576b\"], [0.6666666666666666, \"#ed7953\"], [0.7777777777777778, \"#fb9f3a\"], [0.8888888888888888, \"#fdca26\"], [1.0, \"#f0f921\"]], \"type\": \"histogram2dcontour\"}], \"mesh3d\": [{\"colorbar\": {\"outlinewidth\": 0, \"ticks\": \"\"}, \"type\": \"mesh3d\"}], \"parcoords\": [{\"line\": {\"colorbar\": {\"outlinewidth\": 0, \"ticks\": \"\"}}, \"type\": \"parcoords\"}], \"pie\": [{\"automargin\": true, \"type\": \"pie\"}], \"scatter\": [{\"marker\": {\"colorbar\": {\"outlinewidth\": 0, \"ticks\": \"\"}}, \"type\": \"scatter\"}], \"scatter3d\": [{\"line\": {\"colorbar\": {\"outlinewidth\": 0, \"ticks\": \"\"}}, \"marker\": {\"colorbar\": {\"outlinewidth\": 0, \"ticks\": \"\"}}, \"type\": \"scatter3d\"}], \"scattercarpet\": [{\"marker\": {\"colorbar\": {\"outlinewidth\": 0, \"ticks\": \"\"}}, \"type\": \"scattercarpet\"}], \"scattergeo\": [{\"marker\": {\"colorbar\": {\"outlinewidth\": 0, \"ticks\": \"\"}}, \"type\": \"scattergeo\"}], \"scattergl\": [{\"marker\": {\"colorbar\": {\"outlinewidth\": 0, \"ticks\": \"\"}}, \"type\": \"scattergl\"}], \"scattermapbox\": [{\"marker\": {\"colorbar\": {\"outlinewidth\": 0, \"ticks\": \"\"}}, \"type\": \"scattermapbox\"}], \"scatterpolar\": [{\"marker\": {\"colorbar\": {\"outlinewidth\": 0, \"ticks\": \"\"}}, \"type\": \"scatterpolar\"}], \"scatterpolargl\": [{\"marker\": {\"colorbar\": {\"outlinewidth\": 0, \"ticks\": \"\"}}, \"type\": \"scatterpolargl\"}], \"scatterternary\": [{\"marker\": {\"colorbar\": {\"outlinewidth\": 0, \"ticks\": \"\"}}, \"type\": \"scatterternary\"}], \"surface\": [{\"colorbar\": {\"outlinewidth\": 0, \"ticks\": \"\"}, \"colorscale\": [[0.0, \"#0d0887\"], [0.1111111111111111, \"#46039f\"], [0.2222222222222222, \"#7201a8\"], [0.3333333333333333, \"#9c179e\"], [0.4444444444444444, \"#bd3786\"], [0.5555555555555556, \"#d8576b\"], [0.6666666666666666, \"#ed7953\"], [0.7777777777777778, \"#fb9f3a\"], [0.8888888888888888, \"#fdca26\"], [1.0, \"#f0f921\"]], \"type\": \"surface\"}], \"table\": [{\"cells\": {\"fill\": {\"color\": \"#EBF0F8\"}, \"line\": {\"color\": \"white\"}}, \"header\": {\"fill\": {\"color\": \"#C8D4E3\"}, \"line\": {\"color\": \"white\"}}, \"type\": \"table\"}]}, \"layout\": {\"annotationdefaults\": {\"arrowcolor\": \"#2a3f5f\", \"arrowhead\": 0, \"arrowwidth\": 1}, \"coloraxis\": {\"colorbar\": {\"outlinewidth\": 0, \"ticks\": \"\"}}, \"colorscale\": {\"diverging\": [[0, \"#8e0152\"], [0.1, \"#c51b7d\"], [0.2, \"#de77ae\"], [0.3, \"#f1b6da\"], [0.4, \"#fde0ef\"], [0.5, \"#f7f7f7\"], [0.6, \"#e6f5d0\"], [0.7, \"#b8e186\"], [0.8, \"#7fbc41\"], [0.9, \"#4d9221\"], [1, \"#276419\"]], \"sequential\": [[0.0, \"#0d0887\"], [0.1111111111111111, \"#46039f\"], [0.2222222222222222, \"#7201a8\"], [0.3333333333333333, \"#9c179e\"], [0.4444444444444444, \"#bd3786\"], [0.5555555555555556, \"#d8576b\"], [0.6666666666666666, \"#ed7953\"], [0.7777777777777778, \"#fb9f3a\"], [0.8888888888888888, \"#fdca26\"], [1.0, \"#f0f921\"]], \"sequentialminus\": [[0.0, \"#0d0887\"], [0.1111111111111111, \"#46039f\"], [0.2222222222222222, \"#7201a8\"], [0.3333333333333333, \"#9c179e\"], [0.4444444444444444, \"#bd3786\"], [0.5555555555555556, \"#d8576b\"], [0.6666666666666666, \"#ed7953\"], [0.7777777777777778, \"#fb9f3a\"], [0.8888888888888888, \"#fdca26\"], [1.0, \"#f0f921\"]]}, \"colorway\": [\"#636efa\", \"#EF553B\", \"#00cc96\", \"#ab63fa\", \"#FFA15A\", \"#19d3f3\", \"#FF6692\", \"#B6E880\", \"#FF97FF\", \"#FECB52\"], \"font\": {\"color\": \"#2a3f5f\"}, \"geo\": {\"bgcolor\": \"white\", \"lakecolor\": \"white\", \"landcolor\": \"#E5ECF6\", \"showlakes\": true, \"showland\": true, \"subunitcolor\": \"white\"}, \"hoverlabel\": {\"align\": \"left\"}, \"hovermode\": \"closest\", \"mapbox\": {\"style\": \"light\"}, \"paper_bgcolor\": \"white\", \"plot_bgcolor\": \"#E5ECF6\", \"polar\": {\"angularaxis\": {\"gridcolor\": \"white\", \"linecolor\": \"white\", \"ticks\": \"\"}, \"bgcolor\": \"#E5ECF6\", \"radialaxis\": {\"gridcolor\": \"white\", \"linecolor\": \"white\", \"ticks\": \"\"}}, \"scene\": {\"xaxis\": {\"backgroundcolor\": \"#E5ECF6\", \"gridcolor\": \"white\", \"gridwidth\": 2, \"linecolor\": \"white\", \"showbackground\": true, \"ticks\": \"\", \"zerolinecolor\": \"white\"}, \"yaxis\": {\"backgroundcolor\": \"#E5ECF6\", \"gridcolor\": \"white\", \"gridwidth\": 2, \"linecolor\": \"white\", \"showbackground\": true, \"ticks\": \"\", \"zerolinecolor\": \"white\"}, \"zaxis\": {\"backgroundcolor\": \"#E5ECF6\", \"gridcolor\": \"white\", \"gridwidth\": 2, \"linecolor\": \"white\", \"showbackground\": true, \"ticks\": \"\", \"zerolinecolor\": \"white\"}}, \"shapedefaults\": {\"line\": {\"color\": \"#2a3f5f\"}}, \"ternary\": {\"aaxis\": {\"gridcolor\": \"white\", \"linecolor\": \"white\", \"ticks\": \"\"}, \"baxis\": {\"gridcolor\": \"white\", \"linecolor\": \"white\", \"ticks\": \"\"}, \"bgcolor\": \"#E5ECF6\", \"caxis\": {\"gridcolor\": \"white\", \"linecolor\": \"white\", \"ticks\": \"\"}}, \"title\": {\"x\": 0.05}, \"xaxis\": {\"automargin\": true, \"gridcolor\": \"white\", \"linecolor\": \"white\", \"ticks\": \"\", \"title\": {\"standoff\": 15}, \"zerolinecolor\": \"white\", \"zerolinewidth\": 2}, \"yaxis\": {\"automargin\": true, \"gridcolor\": \"white\", \"linecolor\": \"white\", \"ticks\": \"\", \"title\": {\"standoff\": 15}, \"zerolinecolor\": \"white\", \"zerolinewidth\": 2}}}, \"xaxis\": {\"anchor\": \"y\", \"domain\": [0.0, 1.0], \"title\": {\"text\": \"confirmed\"}, \"type\": \"log\"}, \"yaxis\": {\"anchor\": \"x\", \"domain\": [0.0, 1.0], \"title\": {\"text\": \"deaths\"}}},                        {\"responsive\": true}                    ).then(function(){\n",
       "                            \n",
       "var gd = document.getElementById('851e12d2-f2a6-4b07-9919-dac3b672e483');\n",
       "var x = new MutationObserver(function (mutations, observer) {{\n",
       "        var display = window.getComputedStyle(gd).display;\n",
       "        if (!display || display === 'none') {{\n",
       "            console.log([gd, 'removed!']);\n",
       "            Plotly.purge(gd);\n",
       "            observer.disconnect();\n",
       "        }}\n",
       "}});\n",
       "\n",
       "// Listen for the removal of the full notebook cells\n",
       "var notebookContainer = gd.closest('#notebook-container');\n",
       "if (notebookContainer) {{\n",
       "    x.observe(notebookContainer, {childList: true});\n",
       "}}\n",
       "\n",
       "// Listen for the clearing of the current output cell\n",
       "var outputEl = gd.closest('.output');\n",
       "if (outputEl) {{\n",
       "    x.observe(outputEl, {childList: true});\n",
       "}}\n",
       "\n",
       "                        })                };                });            </script>        </div>"
      ]
     },
     "metadata": {},
     "output_type": "display_data"
    }
   ],
   "source": [
    "#Confirmed Cases\n",
    "top_10_confirmed = country_df.sort_values(by=\"confirmed\", ascending=False).head(10)\n",
    "fig2 = px.scatter(top_10_confirmed, \n",
    "                 x=\"confirmed\", y=\"deaths\",size=\"confirmed\", color=\"country_region\",\n",
    "                 hover_name=\"country_region\", log_x=True, size_max=60)\n",
    "fig2.show()"
   ]
  },
  {
   "cell_type": "code",
   "execution_count": 17,
   "metadata": {},
   "outputs": [
    {
     "data": {
      "application/vnd.plotly.v1+json": {
       "config": {
        "plotlyServerURL": "https://plot.ly"
       },
       "data": [
        {
         "hovertemplate": "<b>%{hovertext}</b><br><br>country_region=US<br>deaths=%{marker.size}<br>confirmed=%{y}<extra></extra>",
         "hovertext": [
          "US"
         ],
         "legendgroup": "US",
         "marker": {
          "color": "#636efa",
          "size": [
           206905
          ],
          "sizemode": "area",
          "sizeref": 57.47361111111111,
          "symbol": "circle"
         },
         "mode": "markers",
         "name": "US",
         "orientation": "v",
         "showlegend": true,
         "type": "scatter",
         "x": [
          206905
         ],
         "xaxis": "x",
         "y": [
          7229723
         ],
         "yaxis": "y"
        },
        {
         "hovertemplate": "<b>%{hovertext}</b><br><br>country_region=Brazil<br>deaths=%{marker.size}<br>confirmed=%{y}<extra></extra>",
         "hovertext": [
          "Brazil"
         ],
         "legendgroup": "Brazil",
         "marker": {
          "color": "#EF553B",
          "size": [
           143952
          ],
          "sizemode": "area",
          "sizeref": 57.47361111111111,
          "symbol": "circle"
         },
         "mode": "markers",
         "name": "Brazil",
         "orientation": "v",
         "showlegend": true,
         "type": "scatter",
         "x": [
          143952
         ],
         "xaxis": "x",
         "y": [
          4810935
         ],
         "yaxis": "y"
        },
        {
         "hovertemplate": "<b>%{hovertext}</b><br><br>country_region=India<br>deaths=%{marker.size}<br>confirmed=%{y}<extra></extra>",
         "hovertext": [
          "India"
         ],
         "legendgroup": "India",
         "marker": {
          "color": "#00cc96",
          "size": [
           97497
          ],
          "sizemode": "area",
          "sizeref": 57.47361111111111,
          "symbol": "circle"
         },
         "mode": "markers",
         "name": "India",
         "orientation": "v",
         "showlegend": true,
         "type": "scatter",
         "x": [
          97497
         ],
         "xaxis": "x",
         "y": [
          6225763
         ],
         "yaxis": "y"
        },
        {
         "hovertemplate": "<b>%{hovertext}</b><br><br>country_region=Mexico<br>deaths=%{marker.size}<br>confirmed=%{y}<extra></extra>",
         "hovertext": [
          "Mexico"
         ],
         "legendgroup": "Mexico",
         "marker": {
          "color": "#ab63fa",
          "size": [
           77646
          ],
          "sizemode": "area",
          "sizeref": 57.47361111111111,
          "symbol": "circle"
         },
         "mode": "markers",
         "name": "Mexico",
         "orientation": "v",
         "showlegend": true,
         "type": "scatter",
         "x": [
          77646
         ],
         "xaxis": "x",
         "y": [
          743216
         ],
         "yaxis": "y"
        },
        {
         "hovertemplate": "<b>%{hovertext}</b><br><br>country_region=United Kingdom<br>deaths=%{marker.size}<br>confirmed=%{y}<extra></extra>",
         "hovertext": [
          "United Kingdom"
         ],
         "legendgroup": "United Kingdom",
         "marker": {
          "color": "#FFA15A",
          "size": [
           42233
          ],
          "sizemode": "area",
          "sizeref": 57.47361111111111,
          "symbol": "circle"
         },
         "mode": "markers",
         "name": "United Kingdom",
         "orientation": "v",
         "showlegend": true,
         "type": "scatter",
         "x": [
          42233
         ],
         "xaxis": "x",
         "y": [
          455846
         ],
         "yaxis": "y"
        },
        {
         "hovertemplate": "<b>%{hovertext}</b><br><br>country_region=Italy<br>deaths=%{marker.size}<br>confirmed=%{y}<extra></extra>",
         "hovertext": [
          "Italy"
         ],
         "legendgroup": "Italy",
         "marker": {
          "color": "#19d3f3",
          "size": [
           35894
          ],
          "sizemode": "area",
          "sizeref": 57.47361111111111,
          "symbol": "circle"
         },
         "mode": "markers",
         "name": "Italy",
         "orientation": "v",
         "showlegend": true,
         "type": "scatter",
         "x": [
          35894
         ],
         "xaxis": "x",
         "y": [
          314861
         ],
         "yaxis": "y"
        },
        {
         "hovertemplate": "<b>%{hovertext}</b><br><br>country_region=Peru<br>deaths=%{marker.size}<br>confirmed=%{y}<extra></extra>",
         "hovertext": [
          "Peru"
         ],
         "legendgroup": "Peru",
         "marker": {
          "color": "#FF6692",
          "size": [
           32396
          ],
          "sizemode": "area",
          "sizeref": 57.47361111111111,
          "symbol": "circle"
         },
         "mode": "markers",
         "name": "Peru",
         "orientation": "v",
         "showlegend": true,
         "type": "scatter",
         "x": [
          32396
         ],
         "xaxis": "x",
         "y": [
          811768
         ],
         "yaxis": "y"
        },
        {
         "hovertemplate": "<b>%{hovertext}</b><br><br>country_region=France<br>deaths=%{marker.size}<br>confirmed=%{y}<extra></extra>",
         "hovertext": [
          "France"
         ],
         "legendgroup": "France",
         "marker": {
          "color": "#B6E880",
          "size": [
           31986
          ],
          "sizemode": "area",
          "sizeref": 57.47361111111111,
          "symbol": "circle"
         },
         "mode": "markers",
         "name": "France",
         "orientation": "v",
         "showlegend": true,
         "type": "scatter",
         "x": [
          31986
         ],
         "xaxis": "x",
         "y": [
          604031
         ],
         "yaxis": "y"
        },
        {
         "hovertemplate": "<b>%{hovertext}</b><br><br>country_region=Spain<br>deaths=%{marker.size}<br>confirmed=%{y}<extra></extra>",
         "hovertext": [
          "Spain"
         ],
         "legendgroup": "Spain",
         "marker": {
          "color": "#FF97FF",
          "size": [
           31791
          ],
          "sizemode": "area",
          "sizeref": 57.47361111111111,
          "symbol": "circle"
         },
         "mode": "markers",
         "name": "Spain",
         "orientation": "v",
         "showlegend": true,
         "type": "scatter",
         "x": [
          31791
         ],
         "xaxis": "x",
         "y": [
          769188
         ],
         "yaxis": "y"
        },
        {
         "hovertemplate": "<b>%{hovertext}</b><br><br>country_region=Iran<br>deaths=%{marker.size}<br>confirmed=%{y}<extra></extra>",
         "hovertext": [
          "Iran"
         ],
         "legendgroup": "Iran",
         "marker": {
          "color": "#FECB52",
          "size": [
           26169
          ],
          "sizemode": "area",
          "sizeref": 57.47361111111111,
          "symbol": "circle"
         },
         "mode": "markers",
         "name": "Iran",
         "orientation": "v",
         "showlegend": true,
         "type": "scatter",
         "x": [
          26169
         ],
         "xaxis": "x",
         "y": [
          457219
         ],
         "yaxis": "y"
        }
       ],
       "layout": {
        "legend": {
         "itemsizing": "constant",
         "title": {
          "text": "country_region"
         },
         "tracegroupgap": 0
        },
        "margin": {
         "t": 60
        },
        "template": {
         "data": {
          "bar": [
           {
            "error_x": {
             "color": "#2a3f5f"
            },
            "error_y": {
             "color": "#2a3f5f"
            },
            "marker": {
             "line": {
              "color": "#E5ECF6",
              "width": 0.5
             }
            },
            "type": "bar"
           }
          ],
          "barpolar": [
           {
            "marker": {
             "line": {
              "color": "#E5ECF6",
              "width": 0.5
             }
            },
            "type": "barpolar"
           }
          ],
          "carpet": [
           {
            "aaxis": {
             "endlinecolor": "#2a3f5f",
             "gridcolor": "white",
             "linecolor": "white",
             "minorgridcolor": "white",
             "startlinecolor": "#2a3f5f"
            },
            "baxis": {
             "endlinecolor": "#2a3f5f",
             "gridcolor": "white",
             "linecolor": "white",
             "minorgridcolor": "white",
             "startlinecolor": "#2a3f5f"
            },
            "type": "carpet"
           }
          ],
          "choropleth": [
           {
            "colorbar": {
             "outlinewidth": 0,
             "ticks": ""
            },
            "type": "choropleth"
           }
          ],
          "contour": [
           {
            "colorbar": {
             "outlinewidth": 0,
             "ticks": ""
            },
            "colorscale": [
             [
              0,
              "#0d0887"
             ],
             [
              0.1111111111111111,
              "#46039f"
             ],
             [
              0.2222222222222222,
              "#7201a8"
             ],
             [
              0.3333333333333333,
              "#9c179e"
             ],
             [
              0.4444444444444444,
              "#bd3786"
             ],
             [
              0.5555555555555556,
              "#d8576b"
             ],
             [
              0.6666666666666666,
              "#ed7953"
             ],
             [
              0.7777777777777778,
              "#fb9f3a"
             ],
             [
              0.8888888888888888,
              "#fdca26"
             ],
             [
              1,
              "#f0f921"
             ]
            ],
            "type": "contour"
           }
          ],
          "contourcarpet": [
           {
            "colorbar": {
             "outlinewidth": 0,
             "ticks": ""
            },
            "type": "contourcarpet"
           }
          ],
          "heatmap": [
           {
            "colorbar": {
             "outlinewidth": 0,
             "ticks": ""
            },
            "colorscale": [
             [
              0,
              "#0d0887"
             ],
             [
              0.1111111111111111,
              "#46039f"
             ],
             [
              0.2222222222222222,
              "#7201a8"
             ],
             [
              0.3333333333333333,
              "#9c179e"
             ],
             [
              0.4444444444444444,
              "#bd3786"
             ],
             [
              0.5555555555555556,
              "#d8576b"
             ],
             [
              0.6666666666666666,
              "#ed7953"
             ],
             [
              0.7777777777777778,
              "#fb9f3a"
             ],
             [
              0.8888888888888888,
              "#fdca26"
             ],
             [
              1,
              "#f0f921"
             ]
            ],
            "type": "heatmap"
           }
          ],
          "heatmapgl": [
           {
            "colorbar": {
             "outlinewidth": 0,
             "ticks": ""
            },
            "colorscale": [
             [
              0,
              "#0d0887"
             ],
             [
              0.1111111111111111,
              "#46039f"
             ],
             [
              0.2222222222222222,
              "#7201a8"
             ],
             [
              0.3333333333333333,
              "#9c179e"
             ],
             [
              0.4444444444444444,
              "#bd3786"
             ],
             [
              0.5555555555555556,
              "#d8576b"
             ],
             [
              0.6666666666666666,
              "#ed7953"
             ],
             [
              0.7777777777777778,
              "#fb9f3a"
             ],
             [
              0.8888888888888888,
              "#fdca26"
             ],
             [
              1,
              "#f0f921"
             ]
            ],
            "type": "heatmapgl"
           }
          ],
          "histogram": [
           {
            "marker": {
             "colorbar": {
              "outlinewidth": 0,
              "ticks": ""
             }
            },
            "type": "histogram"
           }
          ],
          "histogram2d": [
           {
            "colorbar": {
             "outlinewidth": 0,
             "ticks": ""
            },
            "colorscale": [
             [
              0,
              "#0d0887"
             ],
             [
              0.1111111111111111,
              "#46039f"
             ],
             [
              0.2222222222222222,
              "#7201a8"
             ],
             [
              0.3333333333333333,
              "#9c179e"
             ],
             [
              0.4444444444444444,
              "#bd3786"
             ],
             [
              0.5555555555555556,
              "#d8576b"
             ],
             [
              0.6666666666666666,
              "#ed7953"
             ],
             [
              0.7777777777777778,
              "#fb9f3a"
             ],
             [
              0.8888888888888888,
              "#fdca26"
             ],
             [
              1,
              "#f0f921"
             ]
            ],
            "type": "histogram2d"
           }
          ],
          "histogram2dcontour": [
           {
            "colorbar": {
             "outlinewidth": 0,
             "ticks": ""
            },
            "colorscale": [
             [
              0,
              "#0d0887"
             ],
             [
              0.1111111111111111,
              "#46039f"
             ],
             [
              0.2222222222222222,
              "#7201a8"
             ],
             [
              0.3333333333333333,
              "#9c179e"
             ],
             [
              0.4444444444444444,
              "#bd3786"
             ],
             [
              0.5555555555555556,
              "#d8576b"
             ],
             [
              0.6666666666666666,
              "#ed7953"
             ],
             [
              0.7777777777777778,
              "#fb9f3a"
             ],
             [
              0.8888888888888888,
              "#fdca26"
             ],
             [
              1,
              "#f0f921"
             ]
            ],
            "type": "histogram2dcontour"
           }
          ],
          "mesh3d": [
           {
            "colorbar": {
             "outlinewidth": 0,
             "ticks": ""
            },
            "type": "mesh3d"
           }
          ],
          "parcoords": [
           {
            "line": {
             "colorbar": {
              "outlinewidth": 0,
              "ticks": ""
             }
            },
            "type": "parcoords"
           }
          ],
          "pie": [
           {
            "automargin": true,
            "type": "pie"
           }
          ],
          "scatter": [
           {
            "marker": {
             "colorbar": {
              "outlinewidth": 0,
              "ticks": ""
             }
            },
            "type": "scatter"
           }
          ],
          "scatter3d": [
           {
            "line": {
             "colorbar": {
              "outlinewidth": 0,
              "ticks": ""
             }
            },
            "marker": {
             "colorbar": {
              "outlinewidth": 0,
              "ticks": ""
             }
            },
            "type": "scatter3d"
           }
          ],
          "scattercarpet": [
           {
            "marker": {
             "colorbar": {
              "outlinewidth": 0,
              "ticks": ""
             }
            },
            "type": "scattercarpet"
           }
          ],
          "scattergeo": [
           {
            "marker": {
             "colorbar": {
              "outlinewidth": 0,
              "ticks": ""
             }
            },
            "type": "scattergeo"
           }
          ],
          "scattergl": [
           {
            "marker": {
             "colorbar": {
              "outlinewidth": 0,
              "ticks": ""
             }
            },
            "type": "scattergl"
           }
          ],
          "scattermapbox": [
           {
            "marker": {
             "colorbar": {
              "outlinewidth": 0,
              "ticks": ""
             }
            },
            "type": "scattermapbox"
           }
          ],
          "scatterpolar": [
           {
            "marker": {
             "colorbar": {
              "outlinewidth": 0,
              "ticks": ""
             }
            },
            "type": "scatterpolar"
           }
          ],
          "scatterpolargl": [
           {
            "marker": {
             "colorbar": {
              "outlinewidth": 0,
              "ticks": ""
             }
            },
            "type": "scatterpolargl"
           }
          ],
          "scatterternary": [
           {
            "marker": {
             "colorbar": {
              "outlinewidth": 0,
              "ticks": ""
             }
            },
            "type": "scatterternary"
           }
          ],
          "surface": [
           {
            "colorbar": {
             "outlinewidth": 0,
             "ticks": ""
            },
            "colorscale": [
             [
              0,
              "#0d0887"
             ],
             [
              0.1111111111111111,
              "#46039f"
             ],
             [
              0.2222222222222222,
              "#7201a8"
             ],
             [
              0.3333333333333333,
              "#9c179e"
             ],
             [
              0.4444444444444444,
              "#bd3786"
             ],
             [
              0.5555555555555556,
              "#d8576b"
             ],
             [
              0.6666666666666666,
              "#ed7953"
             ],
             [
              0.7777777777777778,
              "#fb9f3a"
             ],
             [
              0.8888888888888888,
              "#fdca26"
             ],
             [
              1,
              "#f0f921"
             ]
            ],
            "type": "surface"
           }
          ],
          "table": [
           {
            "cells": {
             "fill": {
              "color": "#EBF0F8"
             },
             "line": {
              "color": "white"
             }
            },
            "header": {
             "fill": {
              "color": "#C8D4E3"
             },
             "line": {
              "color": "white"
             }
            },
            "type": "table"
           }
          ]
         },
         "layout": {
          "annotationdefaults": {
           "arrowcolor": "#2a3f5f",
           "arrowhead": 0,
           "arrowwidth": 1
          },
          "coloraxis": {
           "colorbar": {
            "outlinewidth": 0,
            "ticks": ""
           }
          },
          "colorscale": {
           "diverging": [
            [
             0,
             "#8e0152"
            ],
            [
             0.1,
             "#c51b7d"
            ],
            [
             0.2,
             "#de77ae"
            ],
            [
             0.3,
             "#f1b6da"
            ],
            [
             0.4,
             "#fde0ef"
            ],
            [
             0.5,
             "#f7f7f7"
            ],
            [
             0.6,
             "#e6f5d0"
            ],
            [
             0.7,
             "#b8e186"
            ],
            [
             0.8,
             "#7fbc41"
            ],
            [
             0.9,
             "#4d9221"
            ],
            [
             1,
             "#276419"
            ]
           ],
           "sequential": [
            [
             0,
             "#0d0887"
            ],
            [
             0.1111111111111111,
             "#46039f"
            ],
            [
             0.2222222222222222,
             "#7201a8"
            ],
            [
             0.3333333333333333,
             "#9c179e"
            ],
            [
             0.4444444444444444,
             "#bd3786"
            ],
            [
             0.5555555555555556,
             "#d8576b"
            ],
            [
             0.6666666666666666,
             "#ed7953"
            ],
            [
             0.7777777777777778,
             "#fb9f3a"
            ],
            [
             0.8888888888888888,
             "#fdca26"
            ],
            [
             1,
             "#f0f921"
            ]
           ],
           "sequentialminus": [
            [
             0,
             "#0d0887"
            ],
            [
             0.1111111111111111,
             "#46039f"
            ],
            [
             0.2222222222222222,
             "#7201a8"
            ],
            [
             0.3333333333333333,
             "#9c179e"
            ],
            [
             0.4444444444444444,
             "#bd3786"
            ],
            [
             0.5555555555555556,
             "#d8576b"
            ],
            [
             0.6666666666666666,
             "#ed7953"
            ],
            [
             0.7777777777777778,
             "#fb9f3a"
            ],
            [
             0.8888888888888888,
             "#fdca26"
            ],
            [
             1,
             "#f0f921"
            ]
           ]
          },
          "colorway": [
           "#636efa",
           "#EF553B",
           "#00cc96",
           "#ab63fa",
           "#FFA15A",
           "#19d3f3",
           "#FF6692",
           "#B6E880",
           "#FF97FF",
           "#FECB52"
          ],
          "font": {
           "color": "#2a3f5f"
          },
          "geo": {
           "bgcolor": "white",
           "lakecolor": "white",
           "landcolor": "#E5ECF6",
           "showlakes": true,
           "showland": true,
           "subunitcolor": "white"
          },
          "hoverlabel": {
           "align": "left"
          },
          "hovermode": "closest",
          "mapbox": {
           "style": "light"
          },
          "paper_bgcolor": "white",
          "plot_bgcolor": "#E5ECF6",
          "polar": {
           "angularaxis": {
            "gridcolor": "white",
            "linecolor": "white",
            "ticks": ""
           },
           "bgcolor": "#E5ECF6",
           "radialaxis": {
            "gridcolor": "white",
            "linecolor": "white",
            "ticks": ""
           }
          },
          "scene": {
           "xaxis": {
            "backgroundcolor": "#E5ECF6",
            "gridcolor": "white",
            "gridwidth": 2,
            "linecolor": "white",
            "showbackground": true,
            "ticks": "",
            "zerolinecolor": "white"
           },
           "yaxis": {
            "backgroundcolor": "#E5ECF6",
            "gridcolor": "white",
            "gridwidth": 2,
            "linecolor": "white",
            "showbackground": true,
            "ticks": "",
            "zerolinecolor": "white"
           },
           "zaxis": {
            "backgroundcolor": "#E5ECF6",
            "gridcolor": "white",
            "gridwidth": 2,
            "linecolor": "white",
            "showbackground": true,
            "ticks": "",
            "zerolinecolor": "white"
           }
          },
          "shapedefaults": {
           "line": {
            "color": "#2a3f5f"
           }
          },
          "ternary": {
           "aaxis": {
            "gridcolor": "white",
            "linecolor": "white",
            "ticks": ""
           },
           "baxis": {
            "gridcolor": "white",
            "linecolor": "white",
            "ticks": ""
           },
           "bgcolor": "#E5ECF6",
           "caxis": {
            "gridcolor": "white",
            "linecolor": "white",
            "ticks": ""
           }
          },
          "title": {
           "x": 0.05
          },
          "xaxis": {
           "automargin": true,
           "gridcolor": "white",
           "linecolor": "white",
           "ticks": "",
           "title": {
            "standoff": 15
           },
           "zerolinecolor": "white",
           "zerolinewidth": 2
          },
          "yaxis": {
           "automargin": true,
           "gridcolor": "white",
           "linecolor": "white",
           "ticks": "",
           "title": {
            "standoff": 15
           },
           "zerolinecolor": "white",
           "zerolinewidth": 2
          }
         }
        },
        "xaxis": {
         "anchor": "y",
         "domain": [
          0,
          1
         ],
         "title": {
          "text": "deaths"
         },
         "type": "log"
        },
        "yaxis": {
         "anchor": "x",
         "domain": [
          0,
          1
         ],
         "title": {
          "text": "confirmed"
         }
        }
       }
      },
      "text/html": [
       "<div>                            <div id=\"8d1da91c-016f-4ab3-b2c6-bdfc3c88547b\" class=\"plotly-graph-div\" style=\"height:525px; width:100%;\"></div>            <script type=\"text/javascript\">                require([\"plotly\"], function(Plotly) {                    window.PLOTLYENV=window.PLOTLYENV || {};                                    if (document.getElementById(\"8d1da91c-016f-4ab3-b2c6-bdfc3c88547b\")) {                    Plotly.newPlot(                        \"8d1da91c-016f-4ab3-b2c6-bdfc3c88547b\",                        [{\"hovertemplate\": \"<b>%{hovertext}</b><br><br>country_region=US<br>deaths=%{marker.size}<br>confirmed=%{y}<extra></extra>\", \"hovertext\": [\"US\"], \"legendgroup\": \"US\", \"marker\": {\"color\": \"#636efa\", \"size\": [206905.0], \"sizemode\": \"area\", \"sizeref\": 57.47361111111111, \"symbol\": \"circle\"}, \"mode\": \"markers\", \"name\": \"US\", \"orientation\": \"v\", \"showlegend\": true, \"type\": \"scatter\", \"x\": [206905.0], \"xaxis\": \"x\", \"y\": [7229723.0], \"yaxis\": \"y\"}, {\"hovertemplate\": \"<b>%{hovertext}</b><br><br>country_region=Brazil<br>deaths=%{marker.size}<br>confirmed=%{y}<extra></extra>\", \"hovertext\": [\"Brazil\"], \"legendgroup\": \"Brazil\", \"marker\": {\"color\": \"#EF553B\", \"size\": [143952.0], \"sizemode\": \"area\", \"sizeref\": 57.47361111111111, \"symbol\": \"circle\"}, \"mode\": \"markers\", \"name\": \"Brazil\", \"orientation\": \"v\", \"showlegend\": true, \"type\": \"scatter\", \"x\": [143952.0], \"xaxis\": \"x\", \"y\": [4810935.0], \"yaxis\": \"y\"}, {\"hovertemplate\": \"<b>%{hovertext}</b><br><br>country_region=India<br>deaths=%{marker.size}<br>confirmed=%{y}<extra></extra>\", \"hovertext\": [\"India\"], \"legendgroup\": \"India\", \"marker\": {\"color\": \"#00cc96\", \"size\": [97497.0], \"sizemode\": \"area\", \"sizeref\": 57.47361111111111, \"symbol\": \"circle\"}, \"mode\": \"markers\", \"name\": \"India\", \"orientation\": \"v\", \"showlegend\": true, \"type\": \"scatter\", \"x\": [97497.0], \"xaxis\": \"x\", \"y\": [6225763.0], \"yaxis\": \"y\"}, {\"hovertemplate\": \"<b>%{hovertext}</b><br><br>country_region=Mexico<br>deaths=%{marker.size}<br>confirmed=%{y}<extra></extra>\", \"hovertext\": [\"Mexico\"], \"legendgroup\": \"Mexico\", \"marker\": {\"color\": \"#ab63fa\", \"size\": [77646.0], \"sizemode\": \"area\", \"sizeref\": 57.47361111111111, \"symbol\": \"circle\"}, \"mode\": \"markers\", \"name\": \"Mexico\", \"orientation\": \"v\", \"showlegend\": true, \"type\": \"scatter\", \"x\": [77646.0], \"xaxis\": \"x\", \"y\": [743216.0], \"yaxis\": \"y\"}, {\"hovertemplate\": \"<b>%{hovertext}</b><br><br>country_region=United Kingdom<br>deaths=%{marker.size}<br>confirmed=%{y}<extra></extra>\", \"hovertext\": [\"United Kingdom\"], \"legendgroup\": \"United Kingdom\", \"marker\": {\"color\": \"#FFA15A\", \"size\": [42233.0], \"sizemode\": \"area\", \"sizeref\": 57.47361111111111, \"symbol\": \"circle\"}, \"mode\": \"markers\", \"name\": \"United Kingdom\", \"orientation\": \"v\", \"showlegend\": true, \"type\": \"scatter\", \"x\": [42233.0], \"xaxis\": \"x\", \"y\": [455846.0], \"yaxis\": \"y\"}, {\"hovertemplate\": \"<b>%{hovertext}</b><br><br>country_region=Italy<br>deaths=%{marker.size}<br>confirmed=%{y}<extra></extra>\", \"hovertext\": [\"Italy\"], \"legendgroup\": \"Italy\", \"marker\": {\"color\": \"#19d3f3\", \"size\": [35894.0], \"sizemode\": \"area\", \"sizeref\": 57.47361111111111, \"symbol\": \"circle\"}, \"mode\": \"markers\", \"name\": \"Italy\", \"orientation\": \"v\", \"showlegend\": true, \"type\": \"scatter\", \"x\": [35894.0], \"xaxis\": \"x\", \"y\": [314861.0], \"yaxis\": \"y\"}, {\"hovertemplate\": \"<b>%{hovertext}</b><br><br>country_region=Peru<br>deaths=%{marker.size}<br>confirmed=%{y}<extra></extra>\", \"hovertext\": [\"Peru\"], \"legendgroup\": \"Peru\", \"marker\": {\"color\": \"#FF6692\", \"size\": [32396.0], \"sizemode\": \"area\", \"sizeref\": 57.47361111111111, \"symbol\": \"circle\"}, \"mode\": \"markers\", \"name\": \"Peru\", \"orientation\": \"v\", \"showlegend\": true, \"type\": \"scatter\", \"x\": [32396.0], \"xaxis\": \"x\", \"y\": [811768.0], \"yaxis\": \"y\"}, {\"hovertemplate\": \"<b>%{hovertext}</b><br><br>country_region=France<br>deaths=%{marker.size}<br>confirmed=%{y}<extra></extra>\", \"hovertext\": [\"France\"], \"legendgroup\": \"France\", \"marker\": {\"color\": \"#B6E880\", \"size\": [31986.0], \"sizemode\": \"area\", \"sizeref\": 57.47361111111111, \"symbol\": \"circle\"}, \"mode\": \"markers\", \"name\": \"France\", \"orientation\": \"v\", \"showlegend\": true, \"type\": \"scatter\", \"x\": [31986.0], \"xaxis\": \"x\", \"y\": [604031.0], \"yaxis\": \"y\"}, {\"hovertemplate\": \"<b>%{hovertext}</b><br><br>country_region=Spain<br>deaths=%{marker.size}<br>confirmed=%{y}<extra></extra>\", \"hovertext\": [\"Spain\"], \"legendgroup\": \"Spain\", \"marker\": {\"color\": \"#FF97FF\", \"size\": [31791.0], \"sizemode\": \"area\", \"sizeref\": 57.47361111111111, \"symbol\": \"circle\"}, \"mode\": \"markers\", \"name\": \"Spain\", \"orientation\": \"v\", \"showlegend\": true, \"type\": \"scatter\", \"x\": [31791.0], \"xaxis\": \"x\", \"y\": [769188.0], \"yaxis\": \"y\"}, {\"hovertemplate\": \"<b>%{hovertext}</b><br><br>country_region=Iran<br>deaths=%{marker.size}<br>confirmed=%{y}<extra></extra>\", \"hovertext\": [\"Iran\"], \"legendgroup\": \"Iran\", \"marker\": {\"color\": \"#FECB52\", \"size\": [26169.0], \"sizemode\": \"area\", \"sizeref\": 57.47361111111111, \"symbol\": \"circle\"}, \"mode\": \"markers\", \"name\": \"Iran\", \"orientation\": \"v\", \"showlegend\": true, \"type\": \"scatter\", \"x\": [26169.0], \"xaxis\": \"x\", \"y\": [457219.0], \"yaxis\": \"y\"}],                        {\"legend\": {\"itemsizing\": \"constant\", \"title\": {\"text\": \"country_region\"}, \"tracegroupgap\": 0}, \"margin\": {\"t\": 60}, \"template\": {\"data\": {\"bar\": [{\"error_x\": {\"color\": \"#2a3f5f\"}, \"error_y\": {\"color\": \"#2a3f5f\"}, \"marker\": {\"line\": {\"color\": \"#E5ECF6\", \"width\": 0.5}}, \"type\": \"bar\"}], \"barpolar\": [{\"marker\": {\"line\": {\"color\": \"#E5ECF6\", \"width\": 0.5}}, \"type\": \"barpolar\"}], \"carpet\": [{\"aaxis\": {\"endlinecolor\": \"#2a3f5f\", \"gridcolor\": \"white\", \"linecolor\": \"white\", \"minorgridcolor\": \"white\", \"startlinecolor\": \"#2a3f5f\"}, \"baxis\": {\"endlinecolor\": \"#2a3f5f\", \"gridcolor\": \"white\", \"linecolor\": \"white\", \"minorgridcolor\": \"white\", \"startlinecolor\": \"#2a3f5f\"}, \"type\": \"carpet\"}], \"choropleth\": [{\"colorbar\": {\"outlinewidth\": 0, \"ticks\": \"\"}, \"type\": \"choropleth\"}], \"contour\": [{\"colorbar\": {\"outlinewidth\": 0, \"ticks\": \"\"}, \"colorscale\": [[0.0, \"#0d0887\"], [0.1111111111111111, \"#46039f\"], [0.2222222222222222, \"#7201a8\"], [0.3333333333333333, \"#9c179e\"], [0.4444444444444444, \"#bd3786\"], [0.5555555555555556, \"#d8576b\"], [0.6666666666666666, \"#ed7953\"], [0.7777777777777778, \"#fb9f3a\"], [0.8888888888888888, \"#fdca26\"], [1.0, \"#f0f921\"]], \"type\": \"contour\"}], \"contourcarpet\": [{\"colorbar\": {\"outlinewidth\": 0, \"ticks\": \"\"}, \"type\": \"contourcarpet\"}], \"heatmap\": [{\"colorbar\": {\"outlinewidth\": 0, \"ticks\": \"\"}, \"colorscale\": [[0.0, \"#0d0887\"], [0.1111111111111111, \"#46039f\"], [0.2222222222222222, \"#7201a8\"], [0.3333333333333333, \"#9c179e\"], [0.4444444444444444, \"#bd3786\"], [0.5555555555555556, \"#d8576b\"], [0.6666666666666666, \"#ed7953\"], [0.7777777777777778, \"#fb9f3a\"], [0.8888888888888888, \"#fdca26\"], [1.0, \"#f0f921\"]], \"type\": \"heatmap\"}], \"heatmapgl\": [{\"colorbar\": {\"outlinewidth\": 0, \"ticks\": \"\"}, \"colorscale\": [[0.0, \"#0d0887\"], [0.1111111111111111, \"#46039f\"], [0.2222222222222222, \"#7201a8\"], [0.3333333333333333, \"#9c179e\"], [0.4444444444444444, \"#bd3786\"], [0.5555555555555556, \"#d8576b\"], [0.6666666666666666, \"#ed7953\"], [0.7777777777777778, \"#fb9f3a\"], [0.8888888888888888, \"#fdca26\"], [1.0, \"#f0f921\"]], \"type\": \"heatmapgl\"}], \"histogram\": [{\"marker\": {\"colorbar\": {\"outlinewidth\": 0, \"ticks\": \"\"}}, \"type\": \"histogram\"}], \"histogram2d\": [{\"colorbar\": {\"outlinewidth\": 0, \"ticks\": \"\"}, \"colorscale\": [[0.0, \"#0d0887\"], [0.1111111111111111, \"#46039f\"], [0.2222222222222222, \"#7201a8\"], [0.3333333333333333, \"#9c179e\"], [0.4444444444444444, \"#bd3786\"], [0.5555555555555556, \"#d8576b\"], [0.6666666666666666, \"#ed7953\"], [0.7777777777777778, \"#fb9f3a\"], [0.8888888888888888, \"#fdca26\"], [1.0, \"#f0f921\"]], \"type\": \"histogram2d\"}], \"histogram2dcontour\": [{\"colorbar\": {\"outlinewidth\": 0, \"ticks\": \"\"}, \"colorscale\": [[0.0, \"#0d0887\"], [0.1111111111111111, \"#46039f\"], [0.2222222222222222, \"#7201a8\"], [0.3333333333333333, \"#9c179e\"], [0.4444444444444444, \"#bd3786\"], [0.5555555555555556, \"#d8576b\"], [0.6666666666666666, \"#ed7953\"], [0.7777777777777778, \"#fb9f3a\"], [0.8888888888888888, \"#fdca26\"], [1.0, \"#f0f921\"]], \"type\": \"histogram2dcontour\"}], \"mesh3d\": [{\"colorbar\": {\"outlinewidth\": 0, \"ticks\": \"\"}, \"type\": \"mesh3d\"}], \"parcoords\": [{\"line\": {\"colorbar\": {\"outlinewidth\": 0, \"ticks\": \"\"}}, \"type\": \"parcoords\"}], \"pie\": [{\"automargin\": true, \"type\": \"pie\"}], \"scatter\": [{\"marker\": {\"colorbar\": {\"outlinewidth\": 0, \"ticks\": \"\"}}, \"type\": \"scatter\"}], \"scatter3d\": [{\"line\": {\"colorbar\": {\"outlinewidth\": 0, \"ticks\": \"\"}}, \"marker\": {\"colorbar\": {\"outlinewidth\": 0, \"ticks\": \"\"}}, \"type\": \"scatter3d\"}], \"scattercarpet\": [{\"marker\": {\"colorbar\": {\"outlinewidth\": 0, \"ticks\": \"\"}}, \"type\": \"scattercarpet\"}], \"scattergeo\": [{\"marker\": {\"colorbar\": {\"outlinewidth\": 0, \"ticks\": \"\"}}, \"type\": \"scattergeo\"}], \"scattergl\": [{\"marker\": {\"colorbar\": {\"outlinewidth\": 0, \"ticks\": \"\"}}, \"type\": \"scattergl\"}], \"scattermapbox\": [{\"marker\": {\"colorbar\": {\"outlinewidth\": 0, \"ticks\": \"\"}}, \"type\": \"scattermapbox\"}], \"scatterpolar\": [{\"marker\": {\"colorbar\": {\"outlinewidth\": 0, \"ticks\": \"\"}}, \"type\": \"scatterpolar\"}], \"scatterpolargl\": [{\"marker\": {\"colorbar\": {\"outlinewidth\": 0, \"ticks\": \"\"}}, \"type\": \"scatterpolargl\"}], \"scatterternary\": [{\"marker\": {\"colorbar\": {\"outlinewidth\": 0, \"ticks\": \"\"}}, \"type\": \"scatterternary\"}], \"surface\": [{\"colorbar\": {\"outlinewidth\": 0, \"ticks\": \"\"}, \"colorscale\": [[0.0, \"#0d0887\"], [0.1111111111111111, \"#46039f\"], [0.2222222222222222, \"#7201a8\"], [0.3333333333333333, \"#9c179e\"], [0.4444444444444444, \"#bd3786\"], [0.5555555555555556, \"#d8576b\"], [0.6666666666666666, \"#ed7953\"], [0.7777777777777778, \"#fb9f3a\"], [0.8888888888888888, \"#fdca26\"], [1.0, \"#f0f921\"]], \"type\": \"surface\"}], \"table\": [{\"cells\": {\"fill\": {\"color\": \"#EBF0F8\"}, \"line\": {\"color\": \"white\"}}, \"header\": {\"fill\": {\"color\": \"#C8D4E3\"}, \"line\": {\"color\": \"white\"}}, \"type\": \"table\"}]}, \"layout\": {\"annotationdefaults\": {\"arrowcolor\": \"#2a3f5f\", \"arrowhead\": 0, \"arrowwidth\": 1}, \"coloraxis\": {\"colorbar\": {\"outlinewidth\": 0, \"ticks\": \"\"}}, \"colorscale\": {\"diverging\": [[0, \"#8e0152\"], [0.1, \"#c51b7d\"], [0.2, \"#de77ae\"], [0.3, \"#f1b6da\"], [0.4, \"#fde0ef\"], [0.5, \"#f7f7f7\"], [0.6, \"#e6f5d0\"], [0.7, \"#b8e186\"], [0.8, \"#7fbc41\"], [0.9, \"#4d9221\"], [1, \"#276419\"]], \"sequential\": [[0.0, \"#0d0887\"], [0.1111111111111111, \"#46039f\"], [0.2222222222222222, \"#7201a8\"], [0.3333333333333333, \"#9c179e\"], [0.4444444444444444, \"#bd3786\"], [0.5555555555555556, \"#d8576b\"], [0.6666666666666666, \"#ed7953\"], [0.7777777777777778, \"#fb9f3a\"], [0.8888888888888888, \"#fdca26\"], [1.0, \"#f0f921\"]], \"sequentialminus\": [[0.0, \"#0d0887\"], [0.1111111111111111, \"#46039f\"], [0.2222222222222222, \"#7201a8\"], [0.3333333333333333, \"#9c179e\"], [0.4444444444444444, \"#bd3786\"], [0.5555555555555556, \"#d8576b\"], [0.6666666666666666, \"#ed7953\"], [0.7777777777777778, \"#fb9f3a\"], [0.8888888888888888, \"#fdca26\"], [1.0, \"#f0f921\"]]}, \"colorway\": [\"#636efa\", \"#EF553B\", \"#00cc96\", \"#ab63fa\", \"#FFA15A\", \"#19d3f3\", \"#FF6692\", \"#B6E880\", \"#FF97FF\", \"#FECB52\"], \"font\": {\"color\": \"#2a3f5f\"}, \"geo\": {\"bgcolor\": \"white\", \"lakecolor\": \"white\", \"landcolor\": \"#E5ECF6\", \"showlakes\": true, \"showland\": true, \"subunitcolor\": \"white\"}, \"hoverlabel\": {\"align\": \"left\"}, \"hovermode\": \"closest\", \"mapbox\": {\"style\": \"light\"}, \"paper_bgcolor\": \"white\", \"plot_bgcolor\": \"#E5ECF6\", \"polar\": {\"angularaxis\": {\"gridcolor\": \"white\", \"linecolor\": \"white\", \"ticks\": \"\"}, \"bgcolor\": \"#E5ECF6\", \"radialaxis\": {\"gridcolor\": \"white\", \"linecolor\": \"white\", \"ticks\": \"\"}}, \"scene\": {\"xaxis\": {\"backgroundcolor\": \"#E5ECF6\", \"gridcolor\": \"white\", \"gridwidth\": 2, \"linecolor\": \"white\", \"showbackground\": true, \"ticks\": \"\", \"zerolinecolor\": \"white\"}, \"yaxis\": {\"backgroundcolor\": \"#E5ECF6\", \"gridcolor\": \"white\", \"gridwidth\": 2, \"linecolor\": \"white\", \"showbackground\": true, \"ticks\": \"\", \"zerolinecolor\": \"white\"}, \"zaxis\": {\"backgroundcolor\": \"#E5ECF6\", \"gridcolor\": \"white\", \"gridwidth\": 2, \"linecolor\": \"white\", \"showbackground\": true, \"ticks\": \"\", \"zerolinecolor\": \"white\"}}, \"shapedefaults\": {\"line\": {\"color\": \"#2a3f5f\"}}, \"ternary\": {\"aaxis\": {\"gridcolor\": \"white\", \"linecolor\": \"white\", \"ticks\": \"\"}, \"baxis\": {\"gridcolor\": \"white\", \"linecolor\": \"white\", \"ticks\": \"\"}, \"bgcolor\": \"#E5ECF6\", \"caxis\": {\"gridcolor\": \"white\", \"linecolor\": \"white\", \"ticks\": \"\"}}, \"title\": {\"x\": 0.05}, \"xaxis\": {\"automargin\": true, \"gridcolor\": \"white\", \"linecolor\": \"white\", \"ticks\": \"\", \"title\": {\"standoff\": 15}, \"zerolinecolor\": \"white\", \"zerolinewidth\": 2}, \"yaxis\": {\"automargin\": true, \"gridcolor\": \"white\", \"linecolor\": \"white\", \"ticks\": \"\", \"title\": {\"standoff\": 15}, \"zerolinecolor\": \"white\", \"zerolinewidth\": 2}}}, \"xaxis\": {\"anchor\": \"y\", \"domain\": [0.0, 1.0], \"title\": {\"text\": \"deaths\"}, \"type\": \"log\"}, \"yaxis\": {\"anchor\": \"x\", \"domain\": [0.0, 1.0], \"title\": {\"text\": \"confirmed\"}}},                        {\"responsive\": true}                    ).then(function(){\n",
       "                            \n",
       "var gd = document.getElementById('8d1da91c-016f-4ab3-b2c6-bdfc3c88547b');\n",
       "var x = new MutationObserver(function (mutations, observer) {{\n",
       "        var display = window.getComputedStyle(gd).display;\n",
       "        if (!display || display === 'none') {{\n",
       "            console.log([gd, 'removed!']);\n",
       "            Plotly.purge(gd);\n",
       "            observer.disconnect();\n",
       "        }}\n",
       "}});\n",
       "\n",
       "// Listen for the removal of the full notebook cells\n",
       "var notebookContainer = gd.closest('#notebook-container');\n",
       "if (notebookContainer) {{\n",
       "    x.observe(notebookContainer, {childList: true});\n",
       "}}\n",
       "\n",
       "// Listen for the clearing of the current output cell\n",
       "var outputEl = gd.closest('.output');\n",
       "if (outputEl) {{\n",
       "    x.observe(outputEl, {childList: true});\n",
       "}}\n",
       "\n",
       "                        })                };                });            </script>        </div>"
      ]
     },
     "metadata": {},
     "output_type": "display_data"
    }
   ],
   "source": [
    "#Dead Cases\n",
    "top_10_death = country_df.sort_values(by=\"deaths\", ascending=False).head(10)\n",
    "fig3 = px.scatter(top_10_death, \n",
    "                 x=\"deaths\", y=\"confirmed\",size=\"deaths\", color=\"country_region\",\n",
    "                 hover_name=\"country_region\", log_x=True, size_max=60)\n",
    "fig3.show()"
   ]
  },
  {
   "cell_type": "code",
   "execution_count": 18,
   "metadata": {},
   "outputs": [
    {
     "data": {
      "application/vnd.plotly.v1+json": {
       "config": {
        "plotlyServerURL": "https://plot.ly"
       },
       "data": [
        {
         "hovertemplate": "<b>%{hovertext}</b><br><br>country_region=US<br>active=%{marker.size}<br>confirmed=%{y}<extra></extra>",
         "hovertext": [
          "US"
         ],
         "legendgroup": "US",
         "marker": {
          "color": "#636efa",
          "size": [
           4182130
          ],
          "sizemode": "area",
          "sizeref": 1161.7027777777778,
          "symbol": "circle"
         },
         "mode": "markers",
         "name": "US",
         "orientation": "v",
         "showlegend": true,
         "type": "scatter",
         "x": [
          4182130
         ],
         "xaxis": "x",
         "y": [
          7229723
         ],
         "yaxis": "y"
        },
        {
         "hovertemplate": "<b>%{hovertext}</b><br><br>country_region=India<br>active=%{marker.size}<br>confirmed=%{y}<extra></extra>",
         "hovertext": [
          "India"
         ],
         "legendgroup": "India",
         "marker": {
          "color": "#EF553B",
          "size": [
           940441
          ],
          "sizemode": "area",
          "sizeref": 1161.7027777777778,
          "symbol": "circle"
         },
         "mode": "markers",
         "name": "India",
         "orientation": "v",
         "showlegend": true,
         "type": "scatter",
         "x": [
          940441
         ],
         "xaxis": "x",
         "y": [
          6225763
         ],
         "yaxis": "y"
        },
        {
         "hovertemplate": "<b>%{hovertext}</b><br><br>country_region=Spain<br>active=%{marker.size}<br>confirmed=%{y}<extra></extra>",
         "hovertext": [
          "Spain"
         ],
         "legendgroup": "Spain",
         "marker": {
          "color": "#00cc96",
          "size": [
           587021
          ],
          "sizemode": "area",
          "sizeref": 1161.7027777777778,
          "symbol": "circle"
         },
         "mode": "markers",
         "name": "Spain",
         "orientation": "v",
         "showlegend": true,
         "type": "scatter",
         "x": [
          587021
         ],
         "xaxis": "x",
         "y": [
          769188
         ],
         "yaxis": "y"
        },
        {
         "hovertemplate": "<b>%{hovertext}</b><br><br>country_region=France<br>active=%{marker.size}<br>confirmed=%{y}<extra></extra>",
         "hovertext": [
          "France"
         ],
         "legendgroup": "France",
         "marker": {
          "color": "#ab63fa",
          "size": [
           472387
          ],
          "sizemode": "area",
          "sizeref": 1161.7027777777778,
          "symbol": "circle"
         },
         "mode": "markers",
         "name": "France",
         "orientation": "v",
         "showlegend": true,
         "type": "scatter",
         "x": [
          472387
         ],
         "xaxis": "x",
         "y": [
          604031
         ],
         "yaxis": "y"
        },
        {
         "hovertemplate": "<b>%{hovertext}</b><br><br>country_region=United Kingdom<br>active=%{marker.size}<br>confirmed=%{y}<extra></extra>",
         "hovertext": [
          "United Kingdom"
         ],
         "legendgroup": "United Kingdom",
         "marker": {
          "color": "#FFA15A",
          "size": [
           411240
          ],
          "sizemode": "area",
          "sizeref": 1161.7027777777778,
          "symbol": "circle"
         },
         "mode": "markers",
         "name": "United Kingdom",
         "orientation": "v",
         "showlegend": true,
         "type": "scatter",
         "x": [
          411240
         ],
         "xaxis": "x",
         "y": [
          455846
         ],
         "yaxis": "y"
        },
        {
         "hovertemplate": "<b>%{hovertext}</b><br><br>country_region=Brazil<br>active=%{marker.size}<br>confirmed=%{y}<extra></extra>",
         "hovertext": [
          "Brazil"
         ],
         "legendgroup": "Brazil",
         "marker": {
          "color": "#19d3f3",
          "size": [
           392209
          ],
          "sizemode": "area",
          "sizeref": 1161.7027777777778,
          "symbol": "circle"
         },
         "mode": "markers",
         "name": "Brazil",
         "orientation": "v",
         "showlegend": true,
         "type": "scatter",
         "x": [
          392209
         ],
         "xaxis": "x",
         "y": [
          4810935
         ],
         "yaxis": "y"
        },
        {
         "hovertemplate": "<b>%{hovertext}</b><br><br>country_region=Russia<br>active=%{marker.size}<br>confirmed=%{y}<extra></extra>",
         "hovertext": [
          "Russia"
         ],
         "legendgroup": "Russia",
         "marker": {
          "color": "#FF6692",
          "size": [
           195381
          ],
          "sizemode": "area",
          "sizeref": 1161.7027777777778,
          "symbol": "circle"
         },
         "mode": "markers",
         "name": "Russia",
         "orientation": "v",
         "showlegend": true,
         "type": "scatter",
         "x": [
          195381
         ],
         "xaxis": "x",
         "y": [
          1170799
         ],
         "yaxis": "y"
        },
        {
         "hovertemplate": "<b>%{hovertext}</b><br><br>country_region=Argentina<br>active=%{marker.size}<br>confirmed=%{y}<extra></extra>",
         "hovertext": [
          "Argentina"
         ],
         "legendgroup": "Argentina",
         "marker": {
          "color": "#B6E880",
          "size": [
           139419
          ],
          "sizemode": "area",
          "sizeref": 1161.7027777777778,
          "symbol": "circle"
         },
         "mode": "markers",
         "name": "Argentina",
         "orientation": "v",
         "showlegend": true,
         "type": "scatter",
         "x": [
          139419
         ],
         "xaxis": "x",
         "y": [
          751001
         ],
         "yaxis": "y"
        },
        {
         "hovertemplate": "<b>%{hovertext}</b><br><br>country_region=Netherlands<br>active=%{marker.size}<br>confirmed=%{y}<extra></extra>",
         "hovertext": [
          "Netherlands"
         ],
         "legendgroup": "Netherlands",
         "marker": {
          "color": "#FF97FF",
          "size": [
           115512
          ],
          "sizemode": "area",
          "sizeref": 1161.7027777777778,
          "symbol": "circle"
         },
         "mode": "markers",
         "name": "Netherlands",
         "orientation": "v",
         "showlegend": true,
         "type": "scatter",
         "x": [
          115512
         ],
         "xaxis": "x",
         "y": [
          125988
         ],
         "yaxis": "y"
        },
        {
         "hovertemplate": "<b>%{hovertext}</b><br><br>country_region=Ukraine<br>active=%{marker.size}<br>confirmed=%{y}<extra></extra>",
         "hovertext": [
          "Ukraine"
         ],
         "legendgroup": "Ukraine",
         "marker": {
          "color": "#FECB52",
          "size": [
           114396
          ],
          "sizemode": "area",
          "sizeref": 1161.7027777777778,
          "symbol": "circle"
         },
         "mode": "markers",
         "name": "Ukraine",
         "orientation": "v",
         "showlegend": true,
         "type": "scatter",
         "x": [
          114396
         ],
         "xaxis": "x",
         "y": [
          214446
         ],
         "yaxis": "y"
        }
       ],
       "layout": {
        "legend": {
         "itemsizing": "constant",
         "title": {
          "text": "country_region"
         },
         "tracegroupgap": 0
        },
        "margin": {
         "t": 60
        },
        "template": {
         "data": {
          "bar": [
           {
            "error_x": {
             "color": "#2a3f5f"
            },
            "error_y": {
             "color": "#2a3f5f"
            },
            "marker": {
             "line": {
              "color": "#E5ECF6",
              "width": 0.5
             }
            },
            "type": "bar"
           }
          ],
          "barpolar": [
           {
            "marker": {
             "line": {
              "color": "#E5ECF6",
              "width": 0.5
             }
            },
            "type": "barpolar"
           }
          ],
          "carpet": [
           {
            "aaxis": {
             "endlinecolor": "#2a3f5f",
             "gridcolor": "white",
             "linecolor": "white",
             "minorgridcolor": "white",
             "startlinecolor": "#2a3f5f"
            },
            "baxis": {
             "endlinecolor": "#2a3f5f",
             "gridcolor": "white",
             "linecolor": "white",
             "minorgridcolor": "white",
             "startlinecolor": "#2a3f5f"
            },
            "type": "carpet"
           }
          ],
          "choropleth": [
           {
            "colorbar": {
             "outlinewidth": 0,
             "ticks": ""
            },
            "type": "choropleth"
           }
          ],
          "contour": [
           {
            "colorbar": {
             "outlinewidth": 0,
             "ticks": ""
            },
            "colorscale": [
             [
              0,
              "#0d0887"
             ],
             [
              0.1111111111111111,
              "#46039f"
             ],
             [
              0.2222222222222222,
              "#7201a8"
             ],
             [
              0.3333333333333333,
              "#9c179e"
             ],
             [
              0.4444444444444444,
              "#bd3786"
             ],
             [
              0.5555555555555556,
              "#d8576b"
             ],
             [
              0.6666666666666666,
              "#ed7953"
             ],
             [
              0.7777777777777778,
              "#fb9f3a"
             ],
             [
              0.8888888888888888,
              "#fdca26"
             ],
             [
              1,
              "#f0f921"
             ]
            ],
            "type": "contour"
           }
          ],
          "contourcarpet": [
           {
            "colorbar": {
             "outlinewidth": 0,
             "ticks": ""
            },
            "type": "contourcarpet"
           }
          ],
          "heatmap": [
           {
            "colorbar": {
             "outlinewidth": 0,
             "ticks": ""
            },
            "colorscale": [
             [
              0,
              "#0d0887"
             ],
             [
              0.1111111111111111,
              "#46039f"
             ],
             [
              0.2222222222222222,
              "#7201a8"
             ],
             [
              0.3333333333333333,
              "#9c179e"
             ],
             [
              0.4444444444444444,
              "#bd3786"
             ],
             [
              0.5555555555555556,
              "#d8576b"
             ],
             [
              0.6666666666666666,
              "#ed7953"
             ],
             [
              0.7777777777777778,
              "#fb9f3a"
             ],
             [
              0.8888888888888888,
              "#fdca26"
             ],
             [
              1,
              "#f0f921"
             ]
            ],
            "type": "heatmap"
           }
          ],
          "heatmapgl": [
           {
            "colorbar": {
             "outlinewidth": 0,
             "ticks": ""
            },
            "colorscale": [
             [
              0,
              "#0d0887"
             ],
             [
              0.1111111111111111,
              "#46039f"
             ],
             [
              0.2222222222222222,
              "#7201a8"
             ],
             [
              0.3333333333333333,
              "#9c179e"
             ],
             [
              0.4444444444444444,
              "#bd3786"
             ],
             [
              0.5555555555555556,
              "#d8576b"
             ],
             [
              0.6666666666666666,
              "#ed7953"
             ],
             [
              0.7777777777777778,
              "#fb9f3a"
             ],
             [
              0.8888888888888888,
              "#fdca26"
             ],
             [
              1,
              "#f0f921"
             ]
            ],
            "type": "heatmapgl"
           }
          ],
          "histogram": [
           {
            "marker": {
             "colorbar": {
              "outlinewidth": 0,
              "ticks": ""
             }
            },
            "type": "histogram"
           }
          ],
          "histogram2d": [
           {
            "colorbar": {
             "outlinewidth": 0,
             "ticks": ""
            },
            "colorscale": [
             [
              0,
              "#0d0887"
             ],
             [
              0.1111111111111111,
              "#46039f"
             ],
             [
              0.2222222222222222,
              "#7201a8"
             ],
             [
              0.3333333333333333,
              "#9c179e"
             ],
             [
              0.4444444444444444,
              "#bd3786"
             ],
             [
              0.5555555555555556,
              "#d8576b"
             ],
             [
              0.6666666666666666,
              "#ed7953"
             ],
             [
              0.7777777777777778,
              "#fb9f3a"
             ],
             [
              0.8888888888888888,
              "#fdca26"
             ],
             [
              1,
              "#f0f921"
             ]
            ],
            "type": "histogram2d"
           }
          ],
          "histogram2dcontour": [
           {
            "colorbar": {
             "outlinewidth": 0,
             "ticks": ""
            },
            "colorscale": [
             [
              0,
              "#0d0887"
             ],
             [
              0.1111111111111111,
              "#46039f"
             ],
             [
              0.2222222222222222,
              "#7201a8"
             ],
             [
              0.3333333333333333,
              "#9c179e"
             ],
             [
              0.4444444444444444,
              "#bd3786"
             ],
             [
              0.5555555555555556,
              "#d8576b"
             ],
             [
              0.6666666666666666,
              "#ed7953"
             ],
             [
              0.7777777777777778,
              "#fb9f3a"
             ],
             [
              0.8888888888888888,
              "#fdca26"
             ],
             [
              1,
              "#f0f921"
             ]
            ],
            "type": "histogram2dcontour"
           }
          ],
          "mesh3d": [
           {
            "colorbar": {
             "outlinewidth": 0,
             "ticks": ""
            },
            "type": "mesh3d"
           }
          ],
          "parcoords": [
           {
            "line": {
             "colorbar": {
              "outlinewidth": 0,
              "ticks": ""
             }
            },
            "type": "parcoords"
           }
          ],
          "pie": [
           {
            "automargin": true,
            "type": "pie"
           }
          ],
          "scatter": [
           {
            "marker": {
             "colorbar": {
              "outlinewidth": 0,
              "ticks": ""
             }
            },
            "type": "scatter"
           }
          ],
          "scatter3d": [
           {
            "line": {
             "colorbar": {
              "outlinewidth": 0,
              "ticks": ""
             }
            },
            "marker": {
             "colorbar": {
              "outlinewidth": 0,
              "ticks": ""
             }
            },
            "type": "scatter3d"
           }
          ],
          "scattercarpet": [
           {
            "marker": {
             "colorbar": {
              "outlinewidth": 0,
              "ticks": ""
             }
            },
            "type": "scattercarpet"
           }
          ],
          "scattergeo": [
           {
            "marker": {
             "colorbar": {
              "outlinewidth": 0,
              "ticks": ""
             }
            },
            "type": "scattergeo"
           }
          ],
          "scattergl": [
           {
            "marker": {
             "colorbar": {
              "outlinewidth": 0,
              "ticks": ""
             }
            },
            "type": "scattergl"
           }
          ],
          "scattermapbox": [
           {
            "marker": {
             "colorbar": {
              "outlinewidth": 0,
              "ticks": ""
             }
            },
            "type": "scattermapbox"
           }
          ],
          "scatterpolar": [
           {
            "marker": {
             "colorbar": {
              "outlinewidth": 0,
              "ticks": ""
             }
            },
            "type": "scatterpolar"
           }
          ],
          "scatterpolargl": [
           {
            "marker": {
             "colorbar": {
              "outlinewidth": 0,
              "ticks": ""
             }
            },
            "type": "scatterpolargl"
           }
          ],
          "scatterternary": [
           {
            "marker": {
             "colorbar": {
              "outlinewidth": 0,
              "ticks": ""
             }
            },
            "type": "scatterternary"
           }
          ],
          "surface": [
           {
            "colorbar": {
             "outlinewidth": 0,
             "ticks": ""
            },
            "colorscale": [
             [
              0,
              "#0d0887"
             ],
             [
              0.1111111111111111,
              "#46039f"
             ],
             [
              0.2222222222222222,
              "#7201a8"
             ],
             [
              0.3333333333333333,
              "#9c179e"
             ],
             [
              0.4444444444444444,
              "#bd3786"
             ],
             [
              0.5555555555555556,
              "#d8576b"
             ],
             [
              0.6666666666666666,
              "#ed7953"
             ],
             [
              0.7777777777777778,
              "#fb9f3a"
             ],
             [
              0.8888888888888888,
              "#fdca26"
             ],
             [
              1,
              "#f0f921"
             ]
            ],
            "type": "surface"
           }
          ],
          "table": [
           {
            "cells": {
             "fill": {
              "color": "#EBF0F8"
             },
             "line": {
              "color": "white"
             }
            },
            "header": {
             "fill": {
              "color": "#C8D4E3"
             },
             "line": {
              "color": "white"
             }
            },
            "type": "table"
           }
          ]
         },
         "layout": {
          "annotationdefaults": {
           "arrowcolor": "#2a3f5f",
           "arrowhead": 0,
           "arrowwidth": 1
          },
          "coloraxis": {
           "colorbar": {
            "outlinewidth": 0,
            "ticks": ""
           }
          },
          "colorscale": {
           "diverging": [
            [
             0,
             "#8e0152"
            ],
            [
             0.1,
             "#c51b7d"
            ],
            [
             0.2,
             "#de77ae"
            ],
            [
             0.3,
             "#f1b6da"
            ],
            [
             0.4,
             "#fde0ef"
            ],
            [
             0.5,
             "#f7f7f7"
            ],
            [
             0.6,
             "#e6f5d0"
            ],
            [
             0.7,
             "#b8e186"
            ],
            [
             0.8,
             "#7fbc41"
            ],
            [
             0.9,
             "#4d9221"
            ],
            [
             1,
             "#276419"
            ]
           ],
           "sequential": [
            [
             0,
             "#0d0887"
            ],
            [
             0.1111111111111111,
             "#46039f"
            ],
            [
             0.2222222222222222,
             "#7201a8"
            ],
            [
             0.3333333333333333,
             "#9c179e"
            ],
            [
             0.4444444444444444,
             "#bd3786"
            ],
            [
             0.5555555555555556,
             "#d8576b"
            ],
            [
             0.6666666666666666,
             "#ed7953"
            ],
            [
             0.7777777777777778,
             "#fb9f3a"
            ],
            [
             0.8888888888888888,
             "#fdca26"
            ],
            [
             1,
             "#f0f921"
            ]
           ],
           "sequentialminus": [
            [
             0,
             "#0d0887"
            ],
            [
             0.1111111111111111,
             "#46039f"
            ],
            [
             0.2222222222222222,
             "#7201a8"
            ],
            [
             0.3333333333333333,
             "#9c179e"
            ],
            [
             0.4444444444444444,
             "#bd3786"
            ],
            [
             0.5555555555555556,
             "#d8576b"
            ],
            [
             0.6666666666666666,
             "#ed7953"
            ],
            [
             0.7777777777777778,
             "#fb9f3a"
            ],
            [
             0.8888888888888888,
             "#fdca26"
            ],
            [
             1,
             "#f0f921"
            ]
           ]
          },
          "colorway": [
           "#636efa",
           "#EF553B",
           "#00cc96",
           "#ab63fa",
           "#FFA15A",
           "#19d3f3",
           "#FF6692",
           "#B6E880",
           "#FF97FF",
           "#FECB52"
          ],
          "font": {
           "color": "#2a3f5f"
          },
          "geo": {
           "bgcolor": "white",
           "lakecolor": "white",
           "landcolor": "#E5ECF6",
           "showlakes": true,
           "showland": true,
           "subunitcolor": "white"
          },
          "hoverlabel": {
           "align": "left"
          },
          "hovermode": "closest",
          "mapbox": {
           "style": "light"
          },
          "paper_bgcolor": "white",
          "plot_bgcolor": "#E5ECF6",
          "polar": {
           "angularaxis": {
            "gridcolor": "white",
            "linecolor": "white",
            "ticks": ""
           },
           "bgcolor": "#E5ECF6",
           "radialaxis": {
            "gridcolor": "white",
            "linecolor": "white",
            "ticks": ""
           }
          },
          "scene": {
           "xaxis": {
            "backgroundcolor": "#E5ECF6",
            "gridcolor": "white",
            "gridwidth": 2,
            "linecolor": "white",
            "showbackground": true,
            "ticks": "",
            "zerolinecolor": "white"
           },
           "yaxis": {
            "backgroundcolor": "#E5ECF6",
            "gridcolor": "white",
            "gridwidth": 2,
            "linecolor": "white",
            "showbackground": true,
            "ticks": "",
            "zerolinecolor": "white"
           },
           "zaxis": {
            "backgroundcolor": "#E5ECF6",
            "gridcolor": "white",
            "gridwidth": 2,
            "linecolor": "white",
            "showbackground": true,
            "ticks": "",
            "zerolinecolor": "white"
           }
          },
          "shapedefaults": {
           "line": {
            "color": "#2a3f5f"
           }
          },
          "ternary": {
           "aaxis": {
            "gridcolor": "white",
            "linecolor": "white",
            "ticks": ""
           },
           "baxis": {
            "gridcolor": "white",
            "linecolor": "white",
            "ticks": ""
           },
           "bgcolor": "#E5ECF6",
           "caxis": {
            "gridcolor": "white",
            "linecolor": "white",
            "ticks": ""
           }
          },
          "title": {
           "x": 0.05
          },
          "xaxis": {
           "automargin": true,
           "gridcolor": "white",
           "linecolor": "white",
           "ticks": "",
           "title": {
            "standoff": 15
           },
           "zerolinecolor": "white",
           "zerolinewidth": 2
          },
          "yaxis": {
           "automargin": true,
           "gridcolor": "white",
           "linecolor": "white",
           "ticks": "",
           "title": {
            "standoff": 15
           },
           "zerolinecolor": "white",
           "zerolinewidth": 2
          }
         }
        },
        "xaxis": {
         "anchor": "y",
         "domain": [
          0,
          1
         ],
         "title": {
          "text": "active"
         },
         "type": "log"
        },
        "yaxis": {
         "anchor": "x",
         "domain": [
          0,
          1
         ],
         "title": {
          "text": "confirmed"
         }
        }
       }
      },
      "text/html": [
       "<div>                            <div id=\"c331d3e0-8503-4148-8611-ab0cab3c5a76\" class=\"plotly-graph-div\" style=\"height:525px; width:100%;\"></div>            <script type=\"text/javascript\">                require([\"plotly\"], function(Plotly) {                    window.PLOTLYENV=window.PLOTLYENV || {};                                    if (document.getElementById(\"c331d3e0-8503-4148-8611-ab0cab3c5a76\")) {                    Plotly.newPlot(                        \"c331d3e0-8503-4148-8611-ab0cab3c5a76\",                        [{\"hovertemplate\": \"<b>%{hovertext}</b><br><br>country_region=US<br>active=%{marker.size}<br>confirmed=%{y}<extra></extra>\", \"hovertext\": [\"US\"], \"legendgroup\": \"US\", \"marker\": {\"color\": \"#636efa\", \"size\": [4182130.0], \"sizemode\": \"area\", \"sizeref\": 1161.7027777777778, \"symbol\": \"circle\"}, \"mode\": \"markers\", \"name\": \"US\", \"orientation\": \"v\", \"showlegend\": true, \"type\": \"scatter\", \"x\": [4182130.0], \"xaxis\": \"x\", \"y\": [7229723.0], \"yaxis\": \"y\"}, {\"hovertemplate\": \"<b>%{hovertext}</b><br><br>country_region=India<br>active=%{marker.size}<br>confirmed=%{y}<extra></extra>\", \"hovertext\": [\"India\"], \"legendgroup\": \"India\", \"marker\": {\"color\": \"#EF553B\", \"size\": [940441.0], \"sizemode\": \"area\", \"sizeref\": 1161.7027777777778, \"symbol\": \"circle\"}, \"mode\": \"markers\", \"name\": \"India\", \"orientation\": \"v\", \"showlegend\": true, \"type\": \"scatter\", \"x\": [940441.0], \"xaxis\": \"x\", \"y\": [6225763.0], \"yaxis\": \"y\"}, {\"hovertemplate\": \"<b>%{hovertext}</b><br><br>country_region=Spain<br>active=%{marker.size}<br>confirmed=%{y}<extra></extra>\", \"hovertext\": [\"Spain\"], \"legendgroup\": \"Spain\", \"marker\": {\"color\": \"#00cc96\", \"size\": [587021.0], \"sizemode\": \"area\", \"sizeref\": 1161.7027777777778, \"symbol\": \"circle\"}, \"mode\": \"markers\", \"name\": \"Spain\", \"orientation\": \"v\", \"showlegend\": true, \"type\": \"scatter\", \"x\": [587021.0], \"xaxis\": \"x\", \"y\": [769188.0], \"yaxis\": \"y\"}, {\"hovertemplate\": \"<b>%{hovertext}</b><br><br>country_region=France<br>active=%{marker.size}<br>confirmed=%{y}<extra></extra>\", \"hovertext\": [\"France\"], \"legendgroup\": \"France\", \"marker\": {\"color\": \"#ab63fa\", \"size\": [472387.0], \"sizemode\": \"area\", \"sizeref\": 1161.7027777777778, \"symbol\": \"circle\"}, \"mode\": \"markers\", \"name\": \"France\", \"orientation\": \"v\", \"showlegend\": true, \"type\": \"scatter\", \"x\": [472387.0], \"xaxis\": \"x\", \"y\": [604031.0], \"yaxis\": \"y\"}, {\"hovertemplate\": \"<b>%{hovertext}</b><br><br>country_region=United Kingdom<br>active=%{marker.size}<br>confirmed=%{y}<extra></extra>\", \"hovertext\": [\"United Kingdom\"], \"legendgroup\": \"United Kingdom\", \"marker\": {\"color\": \"#FFA15A\", \"size\": [411240.0], \"sizemode\": \"area\", \"sizeref\": 1161.7027777777778, \"symbol\": \"circle\"}, \"mode\": \"markers\", \"name\": \"United Kingdom\", \"orientation\": \"v\", \"showlegend\": true, \"type\": \"scatter\", \"x\": [411240.0], \"xaxis\": \"x\", \"y\": [455846.0], \"yaxis\": \"y\"}, {\"hovertemplate\": \"<b>%{hovertext}</b><br><br>country_region=Brazil<br>active=%{marker.size}<br>confirmed=%{y}<extra></extra>\", \"hovertext\": [\"Brazil\"], \"legendgroup\": \"Brazil\", \"marker\": {\"color\": \"#19d3f3\", \"size\": [392209.0], \"sizemode\": \"area\", \"sizeref\": 1161.7027777777778, \"symbol\": \"circle\"}, \"mode\": \"markers\", \"name\": \"Brazil\", \"orientation\": \"v\", \"showlegend\": true, \"type\": \"scatter\", \"x\": [392209.0], \"xaxis\": \"x\", \"y\": [4810935.0], \"yaxis\": \"y\"}, {\"hovertemplate\": \"<b>%{hovertext}</b><br><br>country_region=Russia<br>active=%{marker.size}<br>confirmed=%{y}<extra></extra>\", \"hovertext\": [\"Russia\"], \"legendgroup\": \"Russia\", \"marker\": {\"color\": \"#FF6692\", \"size\": [195381.0], \"sizemode\": \"area\", \"sizeref\": 1161.7027777777778, \"symbol\": \"circle\"}, \"mode\": \"markers\", \"name\": \"Russia\", \"orientation\": \"v\", \"showlegend\": true, \"type\": \"scatter\", \"x\": [195381.0], \"xaxis\": \"x\", \"y\": [1170799.0], \"yaxis\": \"y\"}, {\"hovertemplate\": \"<b>%{hovertext}</b><br><br>country_region=Argentina<br>active=%{marker.size}<br>confirmed=%{y}<extra></extra>\", \"hovertext\": [\"Argentina\"], \"legendgroup\": \"Argentina\", \"marker\": {\"color\": \"#B6E880\", \"size\": [139419.0], \"sizemode\": \"area\", \"sizeref\": 1161.7027777777778, \"symbol\": \"circle\"}, \"mode\": \"markers\", \"name\": \"Argentina\", \"orientation\": \"v\", \"showlegend\": true, \"type\": \"scatter\", \"x\": [139419.0], \"xaxis\": \"x\", \"y\": [751001.0], \"yaxis\": \"y\"}, {\"hovertemplate\": \"<b>%{hovertext}</b><br><br>country_region=Netherlands<br>active=%{marker.size}<br>confirmed=%{y}<extra></extra>\", \"hovertext\": [\"Netherlands\"], \"legendgroup\": \"Netherlands\", \"marker\": {\"color\": \"#FF97FF\", \"size\": [115512.0], \"sizemode\": \"area\", \"sizeref\": 1161.7027777777778, \"symbol\": \"circle\"}, \"mode\": \"markers\", \"name\": \"Netherlands\", \"orientation\": \"v\", \"showlegend\": true, \"type\": \"scatter\", \"x\": [115512.0], \"xaxis\": \"x\", \"y\": [125988.0], \"yaxis\": \"y\"}, {\"hovertemplate\": \"<b>%{hovertext}</b><br><br>country_region=Ukraine<br>active=%{marker.size}<br>confirmed=%{y}<extra></extra>\", \"hovertext\": [\"Ukraine\"], \"legendgroup\": \"Ukraine\", \"marker\": {\"color\": \"#FECB52\", \"size\": [114396.0], \"sizemode\": \"area\", \"sizeref\": 1161.7027777777778, \"symbol\": \"circle\"}, \"mode\": \"markers\", \"name\": \"Ukraine\", \"orientation\": \"v\", \"showlegend\": true, \"type\": \"scatter\", \"x\": [114396.0], \"xaxis\": \"x\", \"y\": [214446.0], \"yaxis\": \"y\"}],                        {\"legend\": {\"itemsizing\": \"constant\", \"title\": {\"text\": \"country_region\"}, \"tracegroupgap\": 0}, \"margin\": {\"t\": 60}, \"template\": {\"data\": {\"bar\": [{\"error_x\": {\"color\": \"#2a3f5f\"}, \"error_y\": {\"color\": \"#2a3f5f\"}, \"marker\": {\"line\": {\"color\": \"#E5ECF6\", \"width\": 0.5}}, \"type\": \"bar\"}], \"barpolar\": [{\"marker\": {\"line\": {\"color\": \"#E5ECF6\", \"width\": 0.5}}, \"type\": \"barpolar\"}], \"carpet\": [{\"aaxis\": {\"endlinecolor\": \"#2a3f5f\", \"gridcolor\": \"white\", \"linecolor\": \"white\", \"minorgridcolor\": \"white\", \"startlinecolor\": \"#2a3f5f\"}, \"baxis\": {\"endlinecolor\": \"#2a3f5f\", \"gridcolor\": \"white\", \"linecolor\": \"white\", \"minorgridcolor\": \"white\", \"startlinecolor\": \"#2a3f5f\"}, \"type\": \"carpet\"}], \"choropleth\": [{\"colorbar\": {\"outlinewidth\": 0, \"ticks\": \"\"}, \"type\": \"choropleth\"}], \"contour\": [{\"colorbar\": {\"outlinewidth\": 0, \"ticks\": \"\"}, \"colorscale\": [[0.0, \"#0d0887\"], [0.1111111111111111, \"#46039f\"], [0.2222222222222222, \"#7201a8\"], [0.3333333333333333, \"#9c179e\"], [0.4444444444444444, \"#bd3786\"], [0.5555555555555556, \"#d8576b\"], [0.6666666666666666, \"#ed7953\"], [0.7777777777777778, \"#fb9f3a\"], [0.8888888888888888, \"#fdca26\"], [1.0, \"#f0f921\"]], \"type\": \"contour\"}], \"contourcarpet\": [{\"colorbar\": {\"outlinewidth\": 0, \"ticks\": \"\"}, \"type\": \"contourcarpet\"}], \"heatmap\": [{\"colorbar\": {\"outlinewidth\": 0, \"ticks\": \"\"}, \"colorscale\": [[0.0, \"#0d0887\"], [0.1111111111111111, \"#46039f\"], [0.2222222222222222, \"#7201a8\"], [0.3333333333333333, \"#9c179e\"], [0.4444444444444444, \"#bd3786\"], [0.5555555555555556, \"#d8576b\"], [0.6666666666666666, \"#ed7953\"], [0.7777777777777778, \"#fb9f3a\"], [0.8888888888888888, \"#fdca26\"], [1.0, \"#f0f921\"]], \"type\": \"heatmap\"}], \"heatmapgl\": [{\"colorbar\": {\"outlinewidth\": 0, \"ticks\": \"\"}, \"colorscale\": [[0.0, \"#0d0887\"], [0.1111111111111111, \"#46039f\"], [0.2222222222222222, \"#7201a8\"], [0.3333333333333333, \"#9c179e\"], [0.4444444444444444, \"#bd3786\"], [0.5555555555555556, \"#d8576b\"], [0.6666666666666666, \"#ed7953\"], [0.7777777777777778, \"#fb9f3a\"], [0.8888888888888888, \"#fdca26\"], [1.0, \"#f0f921\"]], \"type\": \"heatmapgl\"}], \"histogram\": [{\"marker\": {\"colorbar\": {\"outlinewidth\": 0, \"ticks\": \"\"}}, \"type\": \"histogram\"}], \"histogram2d\": [{\"colorbar\": {\"outlinewidth\": 0, \"ticks\": \"\"}, \"colorscale\": [[0.0, \"#0d0887\"], [0.1111111111111111, \"#46039f\"], [0.2222222222222222, \"#7201a8\"], [0.3333333333333333, \"#9c179e\"], [0.4444444444444444, \"#bd3786\"], [0.5555555555555556, \"#d8576b\"], [0.6666666666666666, \"#ed7953\"], [0.7777777777777778, \"#fb9f3a\"], [0.8888888888888888, \"#fdca26\"], [1.0, \"#f0f921\"]], \"type\": \"histogram2d\"}], \"histogram2dcontour\": [{\"colorbar\": {\"outlinewidth\": 0, \"ticks\": \"\"}, \"colorscale\": [[0.0, \"#0d0887\"], [0.1111111111111111, \"#46039f\"], [0.2222222222222222, \"#7201a8\"], [0.3333333333333333, \"#9c179e\"], [0.4444444444444444, \"#bd3786\"], [0.5555555555555556, \"#d8576b\"], [0.6666666666666666, \"#ed7953\"], [0.7777777777777778, \"#fb9f3a\"], [0.8888888888888888, \"#fdca26\"], [1.0, \"#f0f921\"]], \"type\": \"histogram2dcontour\"}], \"mesh3d\": [{\"colorbar\": {\"outlinewidth\": 0, \"ticks\": \"\"}, \"type\": \"mesh3d\"}], \"parcoords\": [{\"line\": {\"colorbar\": {\"outlinewidth\": 0, \"ticks\": \"\"}}, \"type\": \"parcoords\"}], \"pie\": [{\"automargin\": true, \"type\": \"pie\"}], \"scatter\": [{\"marker\": {\"colorbar\": {\"outlinewidth\": 0, \"ticks\": \"\"}}, \"type\": \"scatter\"}], \"scatter3d\": [{\"line\": {\"colorbar\": {\"outlinewidth\": 0, \"ticks\": \"\"}}, \"marker\": {\"colorbar\": {\"outlinewidth\": 0, \"ticks\": \"\"}}, \"type\": \"scatter3d\"}], \"scattercarpet\": [{\"marker\": {\"colorbar\": {\"outlinewidth\": 0, \"ticks\": \"\"}}, \"type\": \"scattercarpet\"}], \"scattergeo\": [{\"marker\": {\"colorbar\": {\"outlinewidth\": 0, \"ticks\": \"\"}}, \"type\": \"scattergeo\"}], \"scattergl\": [{\"marker\": {\"colorbar\": {\"outlinewidth\": 0, \"ticks\": \"\"}}, \"type\": \"scattergl\"}], \"scattermapbox\": [{\"marker\": {\"colorbar\": {\"outlinewidth\": 0, \"ticks\": \"\"}}, \"type\": \"scattermapbox\"}], \"scatterpolar\": [{\"marker\": {\"colorbar\": {\"outlinewidth\": 0, \"ticks\": \"\"}}, \"type\": \"scatterpolar\"}], \"scatterpolargl\": [{\"marker\": {\"colorbar\": {\"outlinewidth\": 0, \"ticks\": \"\"}}, \"type\": \"scatterpolargl\"}], \"scatterternary\": [{\"marker\": {\"colorbar\": {\"outlinewidth\": 0, \"ticks\": \"\"}}, \"type\": \"scatterternary\"}], \"surface\": [{\"colorbar\": {\"outlinewidth\": 0, \"ticks\": \"\"}, \"colorscale\": [[0.0, \"#0d0887\"], [0.1111111111111111, \"#46039f\"], [0.2222222222222222, \"#7201a8\"], [0.3333333333333333, \"#9c179e\"], [0.4444444444444444, \"#bd3786\"], [0.5555555555555556, \"#d8576b\"], [0.6666666666666666, \"#ed7953\"], [0.7777777777777778, \"#fb9f3a\"], [0.8888888888888888, \"#fdca26\"], [1.0, \"#f0f921\"]], \"type\": \"surface\"}], \"table\": [{\"cells\": {\"fill\": {\"color\": \"#EBF0F8\"}, \"line\": {\"color\": \"white\"}}, \"header\": {\"fill\": {\"color\": \"#C8D4E3\"}, \"line\": {\"color\": \"white\"}}, \"type\": \"table\"}]}, \"layout\": {\"annotationdefaults\": {\"arrowcolor\": \"#2a3f5f\", \"arrowhead\": 0, \"arrowwidth\": 1}, \"coloraxis\": {\"colorbar\": {\"outlinewidth\": 0, \"ticks\": \"\"}}, \"colorscale\": {\"diverging\": [[0, \"#8e0152\"], [0.1, \"#c51b7d\"], [0.2, \"#de77ae\"], [0.3, \"#f1b6da\"], [0.4, \"#fde0ef\"], [0.5, \"#f7f7f7\"], [0.6, \"#e6f5d0\"], [0.7, \"#b8e186\"], [0.8, \"#7fbc41\"], [0.9, \"#4d9221\"], [1, \"#276419\"]], \"sequential\": [[0.0, \"#0d0887\"], [0.1111111111111111, \"#46039f\"], [0.2222222222222222, \"#7201a8\"], [0.3333333333333333, \"#9c179e\"], [0.4444444444444444, \"#bd3786\"], [0.5555555555555556, \"#d8576b\"], [0.6666666666666666, \"#ed7953\"], [0.7777777777777778, \"#fb9f3a\"], [0.8888888888888888, \"#fdca26\"], [1.0, \"#f0f921\"]], \"sequentialminus\": [[0.0, \"#0d0887\"], [0.1111111111111111, \"#46039f\"], [0.2222222222222222, \"#7201a8\"], [0.3333333333333333, \"#9c179e\"], [0.4444444444444444, \"#bd3786\"], [0.5555555555555556, \"#d8576b\"], [0.6666666666666666, \"#ed7953\"], [0.7777777777777778, \"#fb9f3a\"], [0.8888888888888888, \"#fdca26\"], [1.0, \"#f0f921\"]]}, \"colorway\": [\"#636efa\", \"#EF553B\", \"#00cc96\", \"#ab63fa\", \"#FFA15A\", \"#19d3f3\", \"#FF6692\", \"#B6E880\", \"#FF97FF\", \"#FECB52\"], \"font\": {\"color\": \"#2a3f5f\"}, \"geo\": {\"bgcolor\": \"white\", \"lakecolor\": \"white\", \"landcolor\": \"#E5ECF6\", \"showlakes\": true, \"showland\": true, \"subunitcolor\": \"white\"}, \"hoverlabel\": {\"align\": \"left\"}, \"hovermode\": \"closest\", \"mapbox\": {\"style\": \"light\"}, \"paper_bgcolor\": \"white\", \"plot_bgcolor\": \"#E5ECF6\", \"polar\": {\"angularaxis\": {\"gridcolor\": \"white\", \"linecolor\": \"white\", \"ticks\": \"\"}, \"bgcolor\": \"#E5ECF6\", \"radialaxis\": {\"gridcolor\": \"white\", \"linecolor\": \"white\", \"ticks\": \"\"}}, \"scene\": {\"xaxis\": {\"backgroundcolor\": \"#E5ECF6\", \"gridcolor\": \"white\", \"gridwidth\": 2, \"linecolor\": \"white\", \"showbackground\": true, \"ticks\": \"\", \"zerolinecolor\": \"white\"}, \"yaxis\": {\"backgroundcolor\": \"#E5ECF6\", \"gridcolor\": \"white\", \"gridwidth\": 2, \"linecolor\": \"white\", \"showbackground\": true, \"ticks\": \"\", \"zerolinecolor\": \"white\"}, \"zaxis\": {\"backgroundcolor\": \"#E5ECF6\", \"gridcolor\": \"white\", \"gridwidth\": 2, \"linecolor\": \"white\", \"showbackground\": true, \"ticks\": \"\", \"zerolinecolor\": \"white\"}}, \"shapedefaults\": {\"line\": {\"color\": \"#2a3f5f\"}}, \"ternary\": {\"aaxis\": {\"gridcolor\": \"white\", \"linecolor\": \"white\", \"ticks\": \"\"}, \"baxis\": {\"gridcolor\": \"white\", \"linecolor\": \"white\", \"ticks\": \"\"}, \"bgcolor\": \"#E5ECF6\", \"caxis\": {\"gridcolor\": \"white\", \"linecolor\": \"white\", \"ticks\": \"\"}}, \"title\": {\"x\": 0.05}, \"xaxis\": {\"automargin\": true, \"gridcolor\": \"white\", \"linecolor\": \"white\", \"ticks\": \"\", \"title\": {\"standoff\": 15}, \"zerolinecolor\": \"white\", \"zerolinewidth\": 2}, \"yaxis\": {\"automargin\": true, \"gridcolor\": \"white\", \"linecolor\": \"white\", \"ticks\": \"\", \"title\": {\"standoff\": 15}, \"zerolinecolor\": \"white\", \"zerolinewidth\": 2}}}, \"xaxis\": {\"anchor\": \"y\", \"domain\": [0.0, 1.0], \"title\": {\"text\": \"active\"}, \"type\": \"log\"}, \"yaxis\": {\"anchor\": \"x\", \"domain\": [0.0, 1.0], \"title\": {\"text\": \"confirmed\"}}},                        {\"responsive\": true}                    ).then(function(){\n",
       "                            \n",
       "var gd = document.getElementById('c331d3e0-8503-4148-8611-ab0cab3c5a76');\n",
       "var x = new MutationObserver(function (mutations, observer) {{\n",
       "        var display = window.getComputedStyle(gd).display;\n",
       "        if (!display || display === 'none') {{\n",
       "            console.log([gd, 'removed!']);\n",
       "            Plotly.purge(gd);\n",
       "            observer.disconnect();\n",
       "        }}\n",
       "}});\n",
       "\n",
       "// Listen for the removal of the full notebook cells\n",
       "var notebookContainer = gd.closest('#notebook-container');\n",
       "if (notebookContainer) {{\n",
       "    x.observe(notebookContainer, {childList: true});\n",
       "}}\n",
       "\n",
       "// Listen for the clearing of the current output cell\n",
       "var outputEl = gd.closest('.output');\n",
       "if (outputEl) {{\n",
       "    x.observe(outputEl, {childList: true});\n",
       "}}\n",
       "\n",
       "                        })                };                });            </script>        </div>"
      ]
     },
     "metadata": {},
     "output_type": "display_data"
    }
   ],
   "source": [
    "#Active Cases\n",
    "top_10_active = country_df.sort_values(by=\"active\", ascending=False).head(10)\n",
    "fig4 = px.scatter(top_10_active, \n",
    "                 x=\"active\", y=\"confirmed\",size=\"active\", color=\"country_region\",\n",
    "                 hover_name=\"country_region\", log_x=True, size_max=60)\n",
    "fig4.show()"
   ]
  },
  {
   "cell_type": "code",
   "execution_count": 19,
   "metadata": {},
   "outputs": [
    {
     "data": {
      "application/vnd.plotly.v1+json": {
       "config": {
        "plotlyServerURL": "https://plot.ly"
       },
       "data": [
        {
         "hovertemplate": "<b>%{hovertext}</b><br><br>country_region=India<br>recovered=%{marker.size}<br>confirmed=%{y}<extra></extra>",
         "hovertext": [
          "India"
         ],
         "legendgroup": "India",
         "marker": {
          "color": "#636efa",
          "size": [
           5187825
          ],
          "sizemode": "area",
          "sizeref": 1441.0625,
          "symbol": "circle"
         },
         "mode": "markers",
         "name": "India",
         "orientation": "v",
         "showlegend": true,
         "type": "scatter",
         "x": [
          5187825
         ],
         "xaxis": "x",
         "y": [
          6225763
         ],
         "yaxis": "y"
        },
        {
         "hovertemplate": "<b>%{hovertext}</b><br><br>country_region=Brazil<br>recovered=%{marker.size}<br>confirmed=%{y}<extra></extra>",
         "hovertext": [
          "Brazil"
         ],
         "legendgroup": "Brazil",
         "marker": {
          "color": "#EF553B",
          "size": [
           4274774
          ],
          "sizemode": "area",
          "sizeref": 1441.0625,
          "symbol": "circle"
         },
         "mode": "markers",
         "name": "Brazil",
         "orientation": "v",
         "showlegend": true,
         "type": "scatter",
         "x": [
          4274774
         ],
         "xaxis": "x",
         "y": [
          4810935
         ],
         "yaxis": "y"
        },
        {
         "hovertemplate": "<b>%{hovertext}</b><br><br>country_region=US<br>recovered=%{marker.size}<br>confirmed=%{y}<extra></extra>",
         "hovertext": [
          "US"
         ],
         "legendgroup": "US",
         "marker": {
          "color": "#00cc96",
          "size": [
           2840688
          ],
          "sizemode": "area",
          "sizeref": 1441.0625,
          "symbol": "circle"
         },
         "mode": "markers",
         "name": "US",
         "orientation": "v",
         "showlegend": true,
         "type": "scatter",
         "x": [
          2840688
         ],
         "xaxis": "x",
         "y": [
          7229723
         ],
         "yaxis": "y"
        },
        {
         "hovertemplate": "<b>%{hovertext}</b><br><br>country_region=Russia<br>recovered=%{marker.size}<br>confirmed=%{y}<extra></extra>",
         "hovertext": [
          "Russia"
         ],
         "legendgroup": "Russia",
         "marker": {
          "color": "#ab63fa",
          "size": [
           954788
          ],
          "sizemode": "area",
          "sizeref": 1441.0625,
          "symbol": "circle"
         },
         "mode": "markers",
         "name": "Russia",
         "orientation": "v",
         "showlegend": true,
         "type": "scatter",
         "x": [
          954788
         ],
         "xaxis": "x",
         "y": [
          1170799
         ],
         "yaxis": "y"
        },
        {
         "hovertemplate": "<b>%{hovertext}</b><br><br>country_region=Colombia<br>recovered=%{marker.size}<br>confirmed=%{y}<extra></extra>",
         "hovertext": [
          "Colombia"
         ],
         "legendgroup": "Colombia",
         "marker": {
          "color": "#FFA15A",
          "size": [
           743653
          ],
          "sizemode": "area",
          "sizeref": 1441.0625,
          "symbol": "circle"
         },
         "mode": "markers",
         "name": "Colombia",
         "orientation": "v",
         "showlegend": true,
         "type": "scatter",
         "x": [
          743653
         ],
         "xaxis": "x",
         "y": [
          829679
         ],
         "yaxis": "y"
        },
        {
         "hovertemplate": "<b>%{hovertext}</b><br><br>country_region=Peru<br>recovered=%{marker.size}<br>confirmed=%{y}<extra></extra>",
         "hovertext": [
          "Peru"
         ],
         "legendgroup": "Peru",
         "marker": {
          "color": "#19d3f3",
          "size": [
           676925
          ],
          "sizemode": "area",
          "sizeref": 1441.0625,
          "symbol": "circle"
         },
         "mode": "markers",
         "name": "Peru",
         "orientation": "v",
         "showlegend": true,
         "type": "scatter",
         "x": [
          676925
         ],
         "xaxis": "x",
         "y": [
          811768
         ],
         "yaxis": "y"
        },
        {
         "hovertemplate": "<b>%{hovertext}</b><br><br>country_region=Mexico<br>recovered=%{marker.size}<br>confirmed=%{y}<extra></extra>",
         "hovertext": [
          "Mexico"
         ],
         "legendgroup": "Mexico",
         "marker": {
          "color": "#FF6692",
          "size": [
           628007
          ],
          "sizemode": "area",
          "sizeref": 1441.0625,
          "symbol": "circle"
         },
         "mode": "markers",
         "name": "Mexico",
         "orientation": "v",
         "showlegend": true,
         "type": "scatter",
         "x": [
          628007
         ],
         "xaxis": "x",
         "y": [
          743216
         ],
         "yaxis": "y"
        },
        {
         "hovertemplate": "<b>%{hovertext}</b><br><br>country_region=South Africa<br>recovered=%{marker.size}<br>confirmed=%{y}<extra></extra>",
         "hovertext": [
          "South Africa"
         ],
         "legendgroup": "South Africa",
         "marker": {
          "color": "#B6E880",
          "size": [
           608112
          ],
          "sizemode": "area",
          "sizeref": 1441.0625,
          "symbol": "circle"
         },
         "mode": "markers",
         "name": "South Africa",
         "orientation": "v",
         "showlegend": true,
         "type": "scatter",
         "x": [
          608112
         ],
         "xaxis": "x",
         "y": [
          674339
         ],
         "yaxis": "y"
        },
        {
         "hovertemplate": "<b>%{hovertext}</b><br><br>country_region=Argentina<br>recovered=%{marker.size}<br>confirmed=%{y}<extra></extra>",
         "hovertext": [
          "Argentina"
         ],
         "legendgroup": "Argentina",
         "marker": {
          "color": "#FF97FF",
          "size": [
           594645
          ],
          "sizemode": "area",
          "sizeref": 1441.0625,
          "symbol": "circle"
         },
         "mode": "markers",
         "name": "Argentina",
         "orientation": "v",
         "showlegend": true,
         "type": "scatter",
         "x": [
          594645
         ],
         "xaxis": "x",
         "y": [
          751001
         ],
         "yaxis": "y"
        },
        {
         "hovertemplate": "<b>%{hovertext}</b><br><br>country_region=Chile<br>recovered=%{marker.size}<br>confirmed=%{y}<extra></extra>",
         "hovertext": [
          "Chile"
         ],
         "legendgroup": "Chile",
         "marker": {
          "color": "#FECB52",
          "size": [
           436589
          ],
          "sizemode": "area",
          "sizeref": 1441.0625,
          "symbol": "circle"
         },
         "mode": "markers",
         "name": "Chile",
         "orientation": "v",
         "showlegend": true,
         "type": "scatter",
         "x": [
          436589
         ],
         "xaxis": "x",
         "y": [
          462991
         ],
         "yaxis": "y"
        }
       ],
       "layout": {
        "legend": {
         "itemsizing": "constant",
         "title": {
          "text": "country_region"
         },
         "tracegroupgap": 0
        },
        "margin": {
         "t": 60
        },
        "template": {
         "data": {
          "bar": [
           {
            "error_x": {
             "color": "#2a3f5f"
            },
            "error_y": {
             "color": "#2a3f5f"
            },
            "marker": {
             "line": {
              "color": "#E5ECF6",
              "width": 0.5
             }
            },
            "type": "bar"
           }
          ],
          "barpolar": [
           {
            "marker": {
             "line": {
              "color": "#E5ECF6",
              "width": 0.5
             }
            },
            "type": "barpolar"
           }
          ],
          "carpet": [
           {
            "aaxis": {
             "endlinecolor": "#2a3f5f",
             "gridcolor": "white",
             "linecolor": "white",
             "minorgridcolor": "white",
             "startlinecolor": "#2a3f5f"
            },
            "baxis": {
             "endlinecolor": "#2a3f5f",
             "gridcolor": "white",
             "linecolor": "white",
             "minorgridcolor": "white",
             "startlinecolor": "#2a3f5f"
            },
            "type": "carpet"
           }
          ],
          "choropleth": [
           {
            "colorbar": {
             "outlinewidth": 0,
             "ticks": ""
            },
            "type": "choropleth"
           }
          ],
          "contour": [
           {
            "colorbar": {
             "outlinewidth": 0,
             "ticks": ""
            },
            "colorscale": [
             [
              0,
              "#0d0887"
             ],
             [
              0.1111111111111111,
              "#46039f"
             ],
             [
              0.2222222222222222,
              "#7201a8"
             ],
             [
              0.3333333333333333,
              "#9c179e"
             ],
             [
              0.4444444444444444,
              "#bd3786"
             ],
             [
              0.5555555555555556,
              "#d8576b"
             ],
             [
              0.6666666666666666,
              "#ed7953"
             ],
             [
              0.7777777777777778,
              "#fb9f3a"
             ],
             [
              0.8888888888888888,
              "#fdca26"
             ],
             [
              1,
              "#f0f921"
             ]
            ],
            "type": "contour"
           }
          ],
          "contourcarpet": [
           {
            "colorbar": {
             "outlinewidth": 0,
             "ticks": ""
            },
            "type": "contourcarpet"
           }
          ],
          "heatmap": [
           {
            "colorbar": {
             "outlinewidth": 0,
             "ticks": ""
            },
            "colorscale": [
             [
              0,
              "#0d0887"
             ],
             [
              0.1111111111111111,
              "#46039f"
             ],
             [
              0.2222222222222222,
              "#7201a8"
             ],
             [
              0.3333333333333333,
              "#9c179e"
             ],
             [
              0.4444444444444444,
              "#bd3786"
             ],
             [
              0.5555555555555556,
              "#d8576b"
             ],
             [
              0.6666666666666666,
              "#ed7953"
             ],
             [
              0.7777777777777778,
              "#fb9f3a"
             ],
             [
              0.8888888888888888,
              "#fdca26"
             ],
             [
              1,
              "#f0f921"
             ]
            ],
            "type": "heatmap"
           }
          ],
          "heatmapgl": [
           {
            "colorbar": {
             "outlinewidth": 0,
             "ticks": ""
            },
            "colorscale": [
             [
              0,
              "#0d0887"
             ],
             [
              0.1111111111111111,
              "#46039f"
             ],
             [
              0.2222222222222222,
              "#7201a8"
             ],
             [
              0.3333333333333333,
              "#9c179e"
             ],
             [
              0.4444444444444444,
              "#bd3786"
             ],
             [
              0.5555555555555556,
              "#d8576b"
             ],
             [
              0.6666666666666666,
              "#ed7953"
             ],
             [
              0.7777777777777778,
              "#fb9f3a"
             ],
             [
              0.8888888888888888,
              "#fdca26"
             ],
             [
              1,
              "#f0f921"
             ]
            ],
            "type": "heatmapgl"
           }
          ],
          "histogram": [
           {
            "marker": {
             "colorbar": {
              "outlinewidth": 0,
              "ticks": ""
             }
            },
            "type": "histogram"
           }
          ],
          "histogram2d": [
           {
            "colorbar": {
             "outlinewidth": 0,
             "ticks": ""
            },
            "colorscale": [
             [
              0,
              "#0d0887"
             ],
             [
              0.1111111111111111,
              "#46039f"
             ],
             [
              0.2222222222222222,
              "#7201a8"
             ],
             [
              0.3333333333333333,
              "#9c179e"
             ],
             [
              0.4444444444444444,
              "#bd3786"
             ],
             [
              0.5555555555555556,
              "#d8576b"
             ],
             [
              0.6666666666666666,
              "#ed7953"
             ],
             [
              0.7777777777777778,
              "#fb9f3a"
             ],
             [
              0.8888888888888888,
              "#fdca26"
             ],
             [
              1,
              "#f0f921"
             ]
            ],
            "type": "histogram2d"
           }
          ],
          "histogram2dcontour": [
           {
            "colorbar": {
             "outlinewidth": 0,
             "ticks": ""
            },
            "colorscale": [
             [
              0,
              "#0d0887"
             ],
             [
              0.1111111111111111,
              "#46039f"
             ],
             [
              0.2222222222222222,
              "#7201a8"
             ],
             [
              0.3333333333333333,
              "#9c179e"
             ],
             [
              0.4444444444444444,
              "#bd3786"
             ],
             [
              0.5555555555555556,
              "#d8576b"
             ],
             [
              0.6666666666666666,
              "#ed7953"
             ],
             [
              0.7777777777777778,
              "#fb9f3a"
             ],
             [
              0.8888888888888888,
              "#fdca26"
             ],
             [
              1,
              "#f0f921"
             ]
            ],
            "type": "histogram2dcontour"
           }
          ],
          "mesh3d": [
           {
            "colorbar": {
             "outlinewidth": 0,
             "ticks": ""
            },
            "type": "mesh3d"
           }
          ],
          "parcoords": [
           {
            "line": {
             "colorbar": {
              "outlinewidth": 0,
              "ticks": ""
             }
            },
            "type": "parcoords"
           }
          ],
          "pie": [
           {
            "automargin": true,
            "type": "pie"
           }
          ],
          "scatter": [
           {
            "marker": {
             "colorbar": {
              "outlinewidth": 0,
              "ticks": ""
             }
            },
            "type": "scatter"
           }
          ],
          "scatter3d": [
           {
            "line": {
             "colorbar": {
              "outlinewidth": 0,
              "ticks": ""
             }
            },
            "marker": {
             "colorbar": {
              "outlinewidth": 0,
              "ticks": ""
             }
            },
            "type": "scatter3d"
           }
          ],
          "scattercarpet": [
           {
            "marker": {
             "colorbar": {
              "outlinewidth": 0,
              "ticks": ""
             }
            },
            "type": "scattercarpet"
           }
          ],
          "scattergeo": [
           {
            "marker": {
             "colorbar": {
              "outlinewidth": 0,
              "ticks": ""
             }
            },
            "type": "scattergeo"
           }
          ],
          "scattergl": [
           {
            "marker": {
             "colorbar": {
              "outlinewidth": 0,
              "ticks": ""
             }
            },
            "type": "scattergl"
           }
          ],
          "scattermapbox": [
           {
            "marker": {
             "colorbar": {
              "outlinewidth": 0,
              "ticks": ""
             }
            },
            "type": "scattermapbox"
           }
          ],
          "scatterpolar": [
           {
            "marker": {
             "colorbar": {
              "outlinewidth": 0,
              "ticks": ""
             }
            },
            "type": "scatterpolar"
           }
          ],
          "scatterpolargl": [
           {
            "marker": {
             "colorbar": {
              "outlinewidth": 0,
              "ticks": ""
             }
            },
            "type": "scatterpolargl"
           }
          ],
          "scatterternary": [
           {
            "marker": {
             "colorbar": {
              "outlinewidth": 0,
              "ticks": ""
             }
            },
            "type": "scatterternary"
           }
          ],
          "surface": [
           {
            "colorbar": {
             "outlinewidth": 0,
             "ticks": ""
            },
            "colorscale": [
             [
              0,
              "#0d0887"
             ],
             [
              0.1111111111111111,
              "#46039f"
             ],
             [
              0.2222222222222222,
              "#7201a8"
             ],
             [
              0.3333333333333333,
              "#9c179e"
             ],
             [
              0.4444444444444444,
              "#bd3786"
             ],
             [
              0.5555555555555556,
              "#d8576b"
             ],
             [
              0.6666666666666666,
              "#ed7953"
             ],
             [
              0.7777777777777778,
              "#fb9f3a"
             ],
             [
              0.8888888888888888,
              "#fdca26"
             ],
             [
              1,
              "#f0f921"
             ]
            ],
            "type": "surface"
           }
          ],
          "table": [
           {
            "cells": {
             "fill": {
              "color": "#EBF0F8"
             },
             "line": {
              "color": "white"
             }
            },
            "header": {
             "fill": {
              "color": "#C8D4E3"
             },
             "line": {
              "color": "white"
             }
            },
            "type": "table"
           }
          ]
         },
         "layout": {
          "annotationdefaults": {
           "arrowcolor": "#2a3f5f",
           "arrowhead": 0,
           "arrowwidth": 1
          },
          "coloraxis": {
           "colorbar": {
            "outlinewidth": 0,
            "ticks": ""
           }
          },
          "colorscale": {
           "diverging": [
            [
             0,
             "#8e0152"
            ],
            [
             0.1,
             "#c51b7d"
            ],
            [
             0.2,
             "#de77ae"
            ],
            [
             0.3,
             "#f1b6da"
            ],
            [
             0.4,
             "#fde0ef"
            ],
            [
             0.5,
             "#f7f7f7"
            ],
            [
             0.6,
             "#e6f5d0"
            ],
            [
             0.7,
             "#b8e186"
            ],
            [
             0.8,
             "#7fbc41"
            ],
            [
             0.9,
             "#4d9221"
            ],
            [
             1,
             "#276419"
            ]
           ],
           "sequential": [
            [
             0,
             "#0d0887"
            ],
            [
             0.1111111111111111,
             "#46039f"
            ],
            [
             0.2222222222222222,
             "#7201a8"
            ],
            [
             0.3333333333333333,
             "#9c179e"
            ],
            [
             0.4444444444444444,
             "#bd3786"
            ],
            [
             0.5555555555555556,
             "#d8576b"
            ],
            [
             0.6666666666666666,
             "#ed7953"
            ],
            [
             0.7777777777777778,
             "#fb9f3a"
            ],
            [
             0.8888888888888888,
             "#fdca26"
            ],
            [
             1,
             "#f0f921"
            ]
           ],
           "sequentialminus": [
            [
             0,
             "#0d0887"
            ],
            [
             0.1111111111111111,
             "#46039f"
            ],
            [
             0.2222222222222222,
             "#7201a8"
            ],
            [
             0.3333333333333333,
             "#9c179e"
            ],
            [
             0.4444444444444444,
             "#bd3786"
            ],
            [
             0.5555555555555556,
             "#d8576b"
            ],
            [
             0.6666666666666666,
             "#ed7953"
            ],
            [
             0.7777777777777778,
             "#fb9f3a"
            ],
            [
             0.8888888888888888,
             "#fdca26"
            ],
            [
             1,
             "#f0f921"
            ]
           ]
          },
          "colorway": [
           "#636efa",
           "#EF553B",
           "#00cc96",
           "#ab63fa",
           "#FFA15A",
           "#19d3f3",
           "#FF6692",
           "#B6E880",
           "#FF97FF",
           "#FECB52"
          ],
          "font": {
           "color": "#2a3f5f"
          },
          "geo": {
           "bgcolor": "white",
           "lakecolor": "white",
           "landcolor": "#E5ECF6",
           "showlakes": true,
           "showland": true,
           "subunitcolor": "white"
          },
          "hoverlabel": {
           "align": "left"
          },
          "hovermode": "closest",
          "mapbox": {
           "style": "light"
          },
          "paper_bgcolor": "white",
          "plot_bgcolor": "#E5ECF6",
          "polar": {
           "angularaxis": {
            "gridcolor": "white",
            "linecolor": "white",
            "ticks": ""
           },
           "bgcolor": "#E5ECF6",
           "radialaxis": {
            "gridcolor": "white",
            "linecolor": "white",
            "ticks": ""
           }
          },
          "scene": {
           "xaxis": {
            "backgroundcolor": "#E5ECF6",
            "gridcolor": "white",
            "gridwidth": 2,
            "linecolor": "white",
            "showbackground": true,
            "ticks": "",
            "zerolinecolor": "white"
           },
           "yaxis": {
            "backgroundcolor": "#E5ECF6",
            "gridcolor": "white",
            "gridwidth": 2,
            "linecolor": "white",
            "showbackground": true,
            "ticks": "",
            "zerolinecolor": "white"
           },
           "zaxis": {
            "backgroundcolor": "#E5ECF6",
            "gridcolor": "white",
            "gridwidth": 2,
            "linecolor": "white",
            "showbackground": true,
            "ticks": "",
            "zerolinecolor": "white"
           }
          },
          "shapedefaults": {
           "line": {
            "color": "#2a3f5f"
           }
          },
          "ternary": {
           "aaxis": {
            "gridcolor": "white",
            "linecolor": "white",
            "ticks": ""
           },
           "baxis": {
            "gridcolor": "white",
            "linecolor": "white",
            "ticks": ""
           },
           "bgcolor": "#E5ECF6",
           "caxis": {
            "gridcolor": "white",
            "linecolor": "white",
            "ticks": ""
           }
          },
          "title": {
           "x": 0.05
          },
          "xaxis": {
           "automargin": true,
           "gridcolor": "white",
           "linecolor": "white",
           "ticks": "",
           "title": {
            "standoff": 15
           },
           "zerolinecolor": "white",
           "zerolinewidth": 2
          },
          "yaxis": {
           "automargin": true,
           "gridcolor": "white",
           "linecolor": "white",
           "ticks": "",
           "title": {
            "standoff": 15
           },
           "zerolinecolor": "white",
           "zerolinewidth": 2
          }
         }
        },
        "xaxis": {
         "anchor": "y",
         "domain": [
          0,
          1
         ],
         "title": {
          "text": "recovered"
         },
         "type": "log"
        },
        "yaxis": {
         "anchor": "x",
         "domain": [
          0,
          1
         ],
         "title": {
          "text": "confirmed"
         }
        }
       }
      },
      "text/html": [
       "<div>                            <div id=\"2de42da1-01e1-42e7-9baa-b73a10185757\" class=\"plotly-graph-div\" style=\"height:525px; width:100%;\"></div>            <script type=\"text/javascript\">                require([\"plotly\"], function(Plotly) {                    window.PLOTLYENV=window.PLOTLYENV || {};                                    if (document.getElementById(\"2de42da1-01e1-42e7-9baa-b73a10185757\")) {                    Plotly.newPlot(                        \"2de42da1-01e1-42e7-9baa-b73a10185757\",                        [{\"hovertemplate\": \"<b>%{hovertext}</b><br><br>country_region=India<br>recovered=%{marker.size}<br>confirmed=%{y}<extra></extra>\", \"hovertext\": [\"India\"], \"legendgroup\": \"India\", \"marker\": {\"color\": \"#636efa\", \"size\": [5187825.0], \"sizemode\": \"area\", \"sizeref\": 1441.0625, \"symbol\": \"circle\"}, \"mode\": \"markers\", \"name\": \"India\", \"orientation\": \"v\", \"showlegend\": true, \"type\": \"scatter\", \"x\": [5187825.0], \"xaxis\": \"x\", \"y\": [6225763.0], \"yaxis\": \"y\"}, {\"hovertemplate\": \"<b>%{hovertext}</b><br><br>country_region=Brazil<br>recovered=%{marker.size}<br>confirmed=%{y}<extra></extra>\", \"hovertext\": [\"Brazil\"], \"legendgroup\": \"Brazil\", \"marker\": {\"color\": \"#EF553B\", \"size\": [4274774.0], \"sizemode\": \"area\", \"sizeref\": 1441.0625, \"symbol\": \"circle\"}, \"mode\": \"markers\", \"name\": \"Brazil\", \"orientation\": \"v\", \"showlegend\": true, \"type\": \"scatter\", \"x\": [4274774.0], \"xaxis\": \"x\", \"y\": [4810935.0], \"yaxis\": \"y\"}, {\"hovertemplate\": \"<b>%{hovertext}</b><br><br>country_region=US<br>recovered=%{marker.size}<br>confirmed=%{y}<extra></extra>\", \"hovertext\": [\"US\"], \"legendgroup\": \"US\", \"marker\": {\"color\": \"#00cc96\", \"size\": [2840688.0], \"sizemode\": \"area\", \"sizeref\": 1441.0625, \"symbol\": \"circle\"}, \"mode\": \"markers\", \"name\": \"US\", \"orientation\": \"v\", \"showlegend\": true, \"type\": \"scatter\", \"x\": [2840688.0], \"xaxis\": \"x\", \"y\": [7229723.0], \"yaxis\": \"y\"}, {\"hovertemplate\": \"<b>%{hovertext}</b><br><br>country_region=Russia<br>recovered=%{marker.size}<br>confirmed=%{y}<extra></extra>\", \"hovertext\": [\"Russia\"], \"legendgroup\": \"Russia\", \"marker\": {\"color\": \"#ab63fa\", \"size\": [954788.0], \"sizemode\": \"area\", \"sizeref\": 1441.0625, \"symbol\": \"circle\"}, \"mode\": \"markers\", \"name\": \"Russia\", \"orientation\": \"v\", \"showlegend\": true, \"type\": \"scatter\", \"x\": [954788.0], \"xaxis\": \"x\", \"y\": [1170799.0], \"yaxis\": \"y\"}, {\"hovertemplate\": \"<b>%{hovertext}</b><br><br>country_region=Colombia<br>recovered=%{marker.size}<br>confirmed=%{y}<extra></extra>\", \"hovertext\": [\"Colombia\"], \"legendgroup\": \"Colombia\", \"marker\": {\"color\": \"#FFA15A\", \"size\": [743653.0], \"sizemode\": \"area\", \"sizeref\": 1441.0625, \"symbol\": \"circle\"}, \"mode\": \"markers\", \"name\": \"Colombia\", \"orientation\": \"v\", \"showlegend\": true, \"type\": \"scatter\", \"x\": [743653.0], \"xaxis\": \"x\", \"y\": [829679.0], \"yaxis\": \"y\"}, {\"hovertemplate\": \"<b>%{hovertext}</b><br><br>country_region=Peru<br>recovered=%{marker.size}<br>confirmed=%{y}<extra></extra>\", \"hovertext\": [\"Peru\"], \"legendgroup\": \"Peru\", \"marker\": {\"color\": \"#19d3f3\", \"size\": [676925.0], \"sizemode\": \"area\", \"sizeref\": 1441.0625, \"symbol\": \"circle\"}, \"mode\": \"markers\", \"name\": \"Peru\", \"orientation\": \"v\", \"showlegend\": true, \"type\": \"scatter\", \"x\": [676925.0], \"xaxis\": \"x\", \"y\": [811768.0], \"yaxis\": \"y\"}, {\"hovertemplate\": \"<b>%{hovertext}</b><br><br>country_region=Mexico<br>recovered=%{marker.size}<br>confirmed=%{y}<extra></extra>\", \"hovertext\": [\"Mexico\"], \"legendgroup\": \"Mexico\", \"marker\": {\"color\": \"#FF6692\", \"size\": [628007.0], \"sizemode\": \"area\", \"sizeref\": 1441.0625, \"symbol\": \"circle\"}, \"mode\": \"markers\", \"name\": \"Mexico\", \"orientation\": \"v\", \"showlegend\": true, \"type\": \"scatter\", \"x\": [628007.0], \"xaxis\": \"x\", \"y\": [743216.0], \"yaxis\": \"y\"}, {\"hovertemplate\": \"<b>%{hovertext}</b><br><br>country_region=South Africa<br>recovered=%{marker.size}<br>confirmed=%{y}<extra></extra>\", \"hovertext\": [\"South Africa\"], \"legendgroup\": \"South Africa\", \"marker\": {\"color\": \"#B6E880\", \"size\": [608112.0], \"sizemode\": \"area\", \"sizeref\": 1441.0625, \"symbol\": \"circle\"}, \"mode\": \"markers\", \"name\": \"South Africa\", \"orientation\": \"v\", \"showlegend\": true, \"type\": \"scatter\", \"x\": [608112.0], \"xaxis\": \"x\", \"y\": [674339.0], \"yaxis\": \"y\"}, {\"hovertemplate\": \"<b>%{hovertext}</b><br><br>country_region=Argentina<br>recovered=%{marker.size}<br>confirmed=%{y}<extra></extra>\", \"hovertext\": [\"Argentina\"], \"legendgroup\": \"Argentina\", \"marker\": {\"color\": \"#FF97FF\", \"size\": [594645.0], \"sizemode\": \"area\", \"sizeref\": 1441.0625, \"symbol\": \"circle\"}, \"mode\": \"markers\", \"name\": \"Argentina\", \"orientation\": \"v\", \"showlegend\": true, \"type\": \"scatter\", \"x\": [594645.0], \"xaxis\": \"x\", \"y\": [751001.0], \"yaxis\": \"y\"}, {\"hovertemplate\": \"<b>%{hovertext}</b><br><br>country_region=Chile<br>recovered=%{marker.size}<br>confirmed=%{y}<extra></extra>\", \"hovertext\": [\"Chile\"], \"legendgroup\": \"Chile\", \"marker\": {\"color\": \"#FECB52\", \"size\": [436589.0], \"sizemode\": \"area\", \"sizeref\": 1441.0625, \"symbol\": \"circle\"}, \"mode\": \"markers\", \"name\": \"Chile\", \"orientation\": \"v\", \"showlegend\": true, \"type\": \"scatter\", \"x\": [436589.0], \"xaxis\": \"x\", \"y\": [462991.0], \"yaxis\": \"y\"}],                        {\"legend\": {\"itemsizing\": \"constant\", \"title\": {\"text\": \"country_region\"}, \"tracegroupgap\": 0}, \"margin\": {\"t\": 60}, \"template\": {\"data\": {\"bar\": [{\"error_x\": {\"color\": \"#2a3f5f\"}, \"error_y\": {\"color\": \"#2a3f5f\"}, \"marker\": {\"line\": {\"color\": \"#E5ECF6\", \"width\": 0.5}}, \"type\": \"bar\"}], \"barpolar\": [{\"marker\": {\"line\": {\"color\": \"#E5ECF6\", \"width\": 0.5}}, \"type\": \"barpolar\"}], \"carpet\": [{\"aaxis\": {\"endlinecolor\": \"#2a3f5f\", \"gridcolor\": \"white\", \"linecolor\": \"white\", \"minorgridcolor\": \"white\", \"startlinecolor\": \"#2a3f5f\"}, \"baxis\": {\"endlinecolor\": \"#2a3f5f\", \"gridcolor\": \"white\", \"linecolor\": \"white\", \"minorgridcolor\": \"white\", \"startlinecolor\": \"#2a3f5f\"}, \"type\": \"carpet\"}], \"choropleth\": [{\"colorbar\": {\"outlinewidth\": 0, \"ticks\": \"\"}, \"type\": \"choropleth\"}], \"contour\": [{\"colorbar\": {\"outlinewidth\": 0, \"ticks\": \"\"}, \"colorscale\": [[0.0, \"#0d0887\"], [0.1111111111111111, \"#46039f\"], [0.2222222222222222, \"#7201a8\"], [0.3333333333333333, \"#9c179e\"], [0.4444444444444444, \"#bd3786\"], [0.5555555555555556, \"#d8576b\"], [0.6666666666666666, \"#ed7953\"], [0.7777777777777778, \"#fb9f3a\"], [0.8888888888888888, \"#fdca26\"], [1.0, \"#f0f921\"]], \"type\": \"contour\"}], \"contourcarpet\": [{\"colorbar\": {\"outlinewidth\": 0, \"ticks\": \"\"}, \"type\": \"contourcarpet\"}], \"heatmap\": [{\"colorbar\": {\"outlinewidth\": 0, \"ticks\": \"\"}, \"colorscale\": [[0.0, \"#0d0887\"], [0.1111111111111111, \"#46039f\"], [0.2222222222222222, \"#7201a8\"], [0.3333333333333333, \"#9c179e\"], [0.4444444444444444, \"#bd3786\"], [0.5555555555555556, \"#d8576b\"], [0.6666666666666666, \"#ed7953\"], [0.7777777777777778, \"#fb9f3a\"], [0.8888888888888888, \"#fdca26\"], [1.0, \"#f0f921\"]], \"type\": \"heatmap\"}], \"heatmapgl\": [{\"colorbar\": {\"outlinewidth\": 0, \"ticks\": \"\"}, \"colorscale\": [[0.0, \"#0d0887\"], [0.1111111111111111, \"#46039f\"], [0.2222222222222222, \"#7201a8\"], [0.3333333333333333, \"#9c179e\"], [0.4444444444444444, \"#bd3786\"], [0.5555555555555556, \"#d8576b\"], [0.6666666666666666, \"#ed7953\"], [0.7777777777777778, \"#fb9f3a\"], [0.8888888888888888, \"#fdca26\"], [1.0, \"#f0f921\"]], \"type\": \"heatmapgl\"}], \"histogram\": [{\"marker\": {\"colorbar\": {\"outlinewidth\": 0, \"ticks\": \"\"}}, \"type\": \"histogram\"}], \"histogram2d\": [{\"colorbar\": {\"outlinewidth\": 0, \"ticks\": \"\"}, \"colorscale\": [[0.0, \"#0d0887\"], [0.1111111111111111, \"#46039f\"], [0.2222222222222222, \"#7201a8\"], [0.3333333333333333, \"#9c179e\"], [0.4444444444444444, \"#bd3786\"], [0.5555555555555556, \"#d8576b\"], [0.6666666666666666, \"#ed7953\"], [0.7777777777777778, \"#fb9f3a\"], [0.8888888888888888, \"#fdca26\"], [1.0, \"#f0f921\"]], \"type\": \"histogram2d\"}], \"histogram2dcontour\": [{\"colorbar\": {\"outlinewidth\": 0, \"ticks\": \"\"}, \"colorscale\": [[0.0, \"#0d0887\"], [0.1111111111111111, \"#46039f\"], [0.2222222222222222, \"#7201a8\"], [0.3333333333333333, \"#9c179e\"], [0.4444444444444444, \"#bd3786\"], [0.5555555555555556, \"#d8576b\"], [0.6666666666666666, \"#ed7953\"], [0.7777777777777778, \"#fb9f3a\"], [0.8888888888888888, \"#fdca26\"], [1.0, \"#f0f921\"]], \"type\": \"histogram2dcontour\"}], \"mesh3d\": [{\"colorbar\": {\"outlinewidth\": 0, \"ticks\": \"\"}, \"type\": \"mesh3d\"}], \"parcoords\": [{\"line\": {\"colorbar\": {\"outlinewidth\": 0, \"ticks\": \"\"}}, \"type\": \"parcoords\"}], \"pie\": [{\"automargin\": true, \"type\": \"pie\"}], \"scatter\": [{\"marker\": {\"colorbar\": {\"outlinewidth\": 0, \"ticks\": \"\"}}, \"type\": \"scatter\"}], \"scatter3d\": [{\"line\": {\"colorbar\": {\"outlinewidth\": 0, \"ticks\": \"\"}}, \"marker\": {\"colorbar\": {\"outlinewidth\": 0, \"ticks\": \"\"}}, \"type\": \"scatter3d\"}], \"scattercarpet\": [{\"marker\": {\"colorbar\": {\"outlinewidth\": 0, \"ticks\": \"\"}}, \"type\": \"scattercarpet\"}], \"scattergeo\": [{\"marker\": {\"colorbar\": {\"outlinewidth\": 0, \"ticks\": \"\"}}, \"type\": \"scattergeo\"}], \"scattergl\": [{\"marker\": {\"colorbar\": {\"outlinewidth\": 0, \"ticks\": \"\"}}, \"type\": \"scattergl\"}], \"scattermapbox\": [{\"marker\": {\"colorbar\": {\"outlinewidth\": 0, \"ticks\": \"\"}}, \"type\": \"scattermapbox\"}], \"scatterpolar\": [{\"marker\": {\"colorbar\": {\"outlinewidth\": 0, \"ticks\": \"\"}}, \"type\": \"scatterpolar\"}], \"scatterpolargl\": [{\"marker\": {\"colorbar\": {\"outlinewidth\": 0, \"ticks\": \"\"}}, \"type\": \"scatterpolargl\"}], \"scatterternary\": [{\"marker\": {\"colorbar\": {\"outlinewidth\": 0, \"ticks\": \"\"}}, \"type\": \"scatterternary\"}], \"surface\": [{\"colorbar\": {\"outlinewidth\": 0, \"ticks\": \"\"}, \"colorscale\": [[0.0, \"#0d0887\"], [0.1111111111111111, \"#46039f\"], [0.2222222222222222, \"#7201a8\"], [0.3333333333333333, \"#9c179e\"], [0.4444444444444444, \"#bd3786\"], [0.5555555555555556, \"#d8576b\"], [0.6666666666666666, \"#ed7953\"], [0.7777777777777778, \"#fb9f3a\"], [0.8888888888888888, \"#fdca26\"], [1.0, \"#f0f921\"]], \"type\": \"surface\"}], \"table\": [{\"cells\": {\"fill\": {\"color\": \"#EBF0F8\"}, \"line\": {\"color\": \"white\"}}, \"header\": {\"fill\": {\"color\": \"#C8D4E3\"}, \"line\": {\"color\": \"white\"}}, \"type\": \"table\"}]}, \"layout\": {\"annotationdefaults\": {\"arrowcolor\": \"#2a3f5f\", \"arrowhead\": 0, \"arrowwidth\": 1}, \"coloraxis\": {\"colorbar\": {\"outlinewidth\": 0, \"ticks\": \"\"}}, \"colorscale\": {\"diverging\": [[0, \"#8e0152\"], [0.1, \"#c51b7d\"], [0.2, \"#de77ae\"], [0.3, \"#f1b6da\"], [0.4, \"#fde0ef\"], [0.5, \"#f7f7f7\"], [0.6, \"#e6f5d0\"], [0.7, \"#b8e186\"], [0.8, \"#7fbc41\"], [0.9, \"#4d9221\"], [1, \"#276419\"]], \"sequential\": [[0.0, \"#0d0887\"], [0.1111111111111111, \"#46039f\"], [0.2222222222222222, \"#7201a8\"], [0.3333333333333333, \"#9c179e\"], [0.4444444444444444, \"#bd3786\"], [0.5555555555555556, \"#d8576b\"], [0.6666666666666666, \"#ed7953\"], [0.7777777777777778, \"#fb9f3a\"], [0.8888888888888888, \"#fdca26\"], [1.0, \"#f0f921\"]], \"sequentialminus\": [[0.0, \"#0d0887\"], [0.1111111111111111, \"#46039f\"], [0.2222222222222222, \"#7201a8\"], [0.3333333333333333, \"#9c179e\"], [0.4444444444444444, \"#bd3786\"], [0.5555555555555556, \"#d8576b\"], [0.6666666666666666, \"#ed7953\"], [0.7777777777777778, \"#fb9f3a\"], [0.8888888888888888, \"#fdca26\"], [1.0, \"#f0f921\"]]}, \"colorway\": [\"#636efa\", \"#EF553B\", \"#00cc96\", \"#ab63fa\", \"#FFA15A\", \"#19d3f3\", \"#FF6692\", \"#B6E880\", \"#FF97FF\", \"#FECB52\"], \"font\": {\"color\": \"#2a3f5f\"}, \"geo\": {\"bgcolor\": \"white\", \"lakecolor\": \"white\", \"landcolor\": \"#E5ECF6\", \"showlakes\": true, \"showland\": true, \"subunitcolor\": \"white\"}, \"hoverlabel\": {\"align\": \"left\"}, \"hovermode\": \"closest\", \"mapbox\": {\"style\": \"light\"}, \"paper_bgcolor\": \"white\", \"plot_bgcolor\": \"#E5ECF6\", \"polar\": {\"angularaxis\": {\"gridcolor\": \"white\", \"linecolor\": \"white\", \"ticks\": \"\"}, \"bgcolor\": \"#E5ECF6\", \"radialaxis\": {\"gridcolor\": \"white\", \"linecolor\": \"white\", \"ticks\": \"\"}}, \"scene\": {\"xaxis\": {\"backgroundcolor\": \"#E5ECF6\", \"gridcolor\": \"white\", \"gridwidth\": 2, \"linecolor\": \"white\", \"showbackground\": true, \"ticks\": \"\", \"zerolinecolor\": \"white\"}, \"yaxis\": {\"backgroundcolor\": \"#E5ECF6\", \"gridcolor\": \"white\", \"gridwidth\": 2, \"linecolor\": \"white\", \"showbackground\": true, \"ticks\": \"\", \"zerolinecolor\": \"white\"}, \"zaxis\": {\"backgroundcolor\": \"#E5ECF6\", \"gridcolor\": \"white\", \"gridwidth\": 2, \"linecolor\": \"white\", \"showbackground\": true, \"ticks\": \"\", \"zerolinecolor\": \"white\"}}, \"shapedefaults\": {\"line\": {\"color\": \"#2a3f5f\"}}, \"ternary\": {\"aaxis\": {\"gridcolor\": \"white\", \"linecolor\": \"white\", \"ticks\": \"\"}, \"baxis\": {\"gridcolor\": \"white\", \"linecolor\": \"white\", \"ticks\": \"\"}, \"bgcolor\": \"#E5ECF6\", \"caxis\": {\"gridcolor\": \"white\", \"linecolor\": \"white\", \"ticks\": \"\"}}, \"title\": {\"x\": 0.05}, \"xaxis\": {\"automargin\": true, \"gridcolor\": \"white\", \"linecolor\": \"white\", \"ticks\": \"\", \"title\": {\"standoff\": 15}, \"zerolinecolor\": \"white\", \"zerolinewidth\": 2}, \"yaxis\": {\"automargin\": true, \"gridcolor\": \"white\", \"linecolor\": \"white\", \"ticks\": \"\", \"title\": {\"standoff\": 15}, \"zerolinecolor\": \"white\", \"zerolinewidth\": 2}}}, \"xaxis\": {\"anchor\": \"y\", \"domain\": [0.0, 1.0], \"title\": {\"text\": \"recovered\"}, \"type\": \"log\"}, \"yaxis\": {\"anchor\": \"x\", \"domain\": [0.0, 1.0], \"title\": {\"text\": \"confirmed\"}}},                        {\"responsive\": true}                    ).then(function(){\n",
       "                            \n",
       "var gd = document.getElementById('2de42da1-01e1-42e7-9baa-b73a10185757');\n",
       "var x = new MutationObserver(function (mutations, observer) {{\n",
       "        var display = window.getComputedStyle(gd).display;\n",
       "        if (!display || display === 'none') {{\n",
       "            console.log([gd, 'removed!']);\n",
       "            Plotly.purge(gd);\n",
       "            observer.disconnect();\n",
       "        }}\n",
       "}});\n",
       "\n",
       "// Listen for the removal of the full notebook cells\n",
       "var notebookContainer = gd.closest('#notebook-container');\n",
       "if (notebookContainer) {{\n",
       "    x.observe(notebookContainer, {childList: true});\n",
       "}}\n",
       "\n",
       "// Listen for the clearing of the current output cell\n",
       "var outputEl = gd.closest('.output');\n",
       "if (outputEl) {{\n",
       "    x.observe(outputEl, {childList: true});\n",
       "}}\n",
       "\n",
       "                        })                };                });            </script>        </div>"
      ]
     },
     "metadata": {},
     "output_type": "display_data"
    }
   ],
   "source": [
    "#Active Cases\n",
    "top_10_recovered = country_df.sort_values(by=\"recovered\", ascending=False).head(10)\n",
    "fig5 = px.scatter(top_10_recovered, \n",
    "                 x=\"recovered\", y=\"confirmed\",size=\"recovered\", color=\"country_region\",\n",
    "                 hover_name=\"country_region\", log_x=True, size_max=60)\n",
    "fig5.show()"
   ]
  },
  {
   "cell_type": "code",
   "execution_count": 20,
   "metadata": {},
   "outputs": [
    {
     "data": {
      "text/html": [
       "<div>\n",
       "<style scoped>\n",
       "    .dataframe tbody tr th:only-of-type {\n",
       "        vertical-align: middle;\n",
       "    }\n",
       "\n",
       "    .dataframe tbody tr th {\n",
       "        vertical-align: top;\n",
       "    }\n",
       "\n",
       "    .dataframe thead th {\n",
       "        text-align: right;\n",
       "    }\n",
       "</style>\n",
       "<table border=\"1\" class=\"dataframe\">\n",
       "  <thead>\n",
       "    <tr style=\"text-align: right;\">\n",
       "      <th></th>\n",
       "      <th>country_region</th>\n",
       "      <th>last_update</th>\n",
       "      <th>lat</th>\n",
       "      <th>long_</th>\n",
       "      <th>confirmed</th>\n",
       "      <th>deaths</th>\n",
       "      <th>recovered</th>\n",
       "      <th>active</th>\n",
       "      <th>incident_rate</th>\n",
       "      <th>people_tested</th>\n",
       "      <th>people_hospitalized</th>\n",
       "      <th>mortality_rate</th>\n",
       "      <th>uid</th>\n",
       "      <th>iso3</th>\n",
       "    </tr>\n",
       "  </thead>\n",
       "  <tbody>\n",
       "    <tr>\n",
       "      <th>185</th>\n",
       "      <td>Yemen</td>\n",
       "      <td>2020-10-01 02:23:36</td>\n",
       "      <td>15.55273</td>\n",
       "      <td>48.51639</td>\n",
       "      <td>2034.00000</td>\n",
       "      <td>587.00000</td>\n",
       "      <td>1286.00000</td>\n",
       "      <td>161.00000</td>\n",
       "      <td>6.81956</td>\n",
       "      <td>nan</td>\n",
       "      <td>nan</td>\n",
       "      <td>28.85939</td>\n",
       "      <td>887</td>\n",
       "      <td>YEM</td>\n",
       "    </tr>\n",
       "    <tr>\n",
       "      <th>104</th>\n",
       "      <td>MS Zaandam</td>\n",
       "      <td>2020-10-01 02:23:36</td>\n",
       "      <td>nan</td>\n",
       "      <td>nan</td>\n",
       "      <td>9.00000</td>\n",
       "      <td>2.00000</td>\n",
       "      <td>nan</td>\n",
       "      <td>7.00000</td>\n",
       "      <td>nan</td>\n",
       "      <td>nan</td>\n",
       "      <td>nan</td>\n",
       "      <td>22.22222</td>\n",
       "      <td>8888</td>\n",
       "      <td>NaN</td>\n",
       "    </tr>\n",
       "    <tr>\n",
       "      <th>85</th>\n",
       "      <td>Italy</td>\n",
       "      <td>2020-10-01 02:23:36</td>\n",
       "      <td>41.87190</td>\n",
       "      <td>12.56740</td>\n",
       "      <td>314861.00000</td>\n",
       "      <td>35894.00000</td>\n",
       "      <td>227704.00000</td>\n",
       "      <td>51263.00000</td>\n",
       "      <td>520.75997</td>\n",
       "      <td>nan</td>\n",
       "      <td>nan</td>\n",
       "      <td>11.39995</td>\n",
       "      <td>380</td>\n",
       "      <td>ITA</td>\n",
       "    </tr>\n",
       "    <tr>\n",
       "      <th>113</th>\n",
       "      <td>Mexico</td>\n",
       "      <td>2020-10-01 02:23:36</td>\n",
       "      <td>23.63450</td>\n",
       "      <td>-102.55280</td>\n",
       "      <td>743216.00000</td>\n",
       "      <td>77646.00000</td>\n",
       "      <td>628007.00000</td>\n",
       "      <td>37563.00000</td>\n",
       "      <td>581.58127</td>\n",
       "      <td>nan</td>\n",
       "      <td>nan</td>\n",
       "      <td>10.44730</td>\n",
       "      <td>484</td>\n",
       "      <td>MEX</td>\n",
       "    </tr>\n",
       "    <tr>\n",
       "      <th>184</th>\n",
       "      <td>Western Sahara</td>\n",
       "      <td>2020-10-01 02:23:36</td>\n",
       "      <td>24.21550</td>\n",
       "      <td>-12.88580</td>\n",
       "      <td>10.00000</td>\n",
       "      <td>1.00000</td>\n",
       "      <td>8.00000</td>\n",
       "      <td>1.00000</td>\n",
       "      <td>1.67412</td>\n",
       "      <td>nan</td>\n",
       "      <td>nan</td>\n",
       "      <td>10.00000</td>\n",
       "      <td>732</td>\n",
       "      <td>ESH</td>\n",
       "    </tr>\n",
       "  </tbody>\n",
       "</table>\n",
       "</div>"
      ],
      "text/plain": [
       "     country_region          last_update      lat      long_    confirmed  \\\n",
       "185           Yemen  2020-10-01 02:23:36 15.55273   48.51639   2034.00000   \n",
       "104      MS Zaandam  2020-10-01 02:23:36      nan        nan      9.00000   \n",
       "85            Italy  2020-10-01 02:23:36 41.87190   12.56740 314861.00000   \n",
       "113          Mexico  2020-10-01 02:23:36 23.63450 -102.55280 743216.00000   \n",
       "184  Western Sahara  2020-10-01 02:23:36 24.21550  -12.88580     10.00000   \n",
       "\n",
       "         deaths    recovered      active  incident_rate  people_tested  \\\n",
       "185   587.00000   1286.00000   161.00000        6.81956            nan   \n",
       "104     2.00000          nan     7.00000            nan            nan   \n",
       "85  35894.00000 227704.00000 51263.00000      520.75997            nan   \n",
       "113 77646.00000 628007.00000 37563.00000      581.58127            nan   \n",
       "184     1.00000      8.00000     1.00000        1.67412            nan   \n",
       "\n",
       "     people_hospitalized  mortality_rate   uid iso3  \n",
       "185                  nan        28.85939   887  YEM  \n",
       "104                  nan        22.22222  8888  NaN  \n",
       "85                   nan        11.39995   380  ITA  \n",
       "113                  nan        10.44730   484  MEX  \n",
       "184                  nan        10.00000   732  ESH  "
      ]
     },
     "execution_count": 20,
     "metadata": {},
     "output_type": "execute_result"
    }
   ],
   "source": [
    "country_df.sort_values(by=\"mortality_rate\", ascending=False).head()"
   ]
  },
  {
   "cell_type": "code",
   "execution_count": 21,
   "metadata": {},
   "outputs": [
    {
     "data": {
      "application/vnd.plotly.v1+json": {
       "config": {
        "plotlyServerURL": "https://plot.ly"
       },
       "data": [
        {
         "hovertemplate": "<b>%{hovertext}</b><br><br>country_region=Yemen<br>mortality_rate=%{marker.size}<br>incident_rate=%{y}<extra></extra>",
         "hovertext": [
          "Yemen"
         ],
         "legendgroup": "Yemen",
         "marker": {
          "color": "#636efa",
          "size": [
           28.85939036381514
          ],
          "sizemode": "area",
          "sizeref": 0.008016497323281984,
          "symbol": "circle"
         },
         "mode": "markers",
         "name": "Yemen",
         "orientation": "v",
         "showlegend": true,
         "type": "scatter",
         "x": [
          28.85939036381514
         ],
         "xaxis": "x",
         "y": [
          6.819560726411294
         ],
         "yaxis": "y"
        },
        {
         "hovertemplate": "<b>%{hovertext}</b><br><br>country_region=MS Zaandam<br>mortality_rate=%{marker.size}<br>incident_rate=%{y}<extra></extra>",
         "hovertext": [
          "MS Zaandam"
         ],
         "legendgroup": "MS Zaandam",
         "marker": {
          "color": "#EF553B",
          "size": [
           22.222222222222218
          ],
          "sizemode": "area",
          "sizeref": 0.008016497323281984,
          "symbol": "circle"
         },
         "mode": "markers",
         "name": "MS Zaandam",
         "orientation": "v",
         "showlegend": true,
         "type": "scatter",
         "x": [
          22.222222222222218
         ],
         "xaxis": "x",
         "y": [
          null
         ],
         "yaxis": "y"
        },
        {
         "hovertemplate": "<b>%{hovertext}</b><br><br>country_region=Italy<br>mortality_rate=%{marker.size}<br>incident_rate=%{y}<extra></extra>",
         "hovertext": [
          "Italy"
         ],
         "legendgroup": "Italy",
         "marker": {
          "color": "#00cc96",
          "size": [
           11.399951089528393
          ],
          "sizemode": "area",
          "sizeref": 0.008016497323281984,
          "symbol": "circle"
         },
         "mode": "markers",
         "name": "Italy",
         "orientation": "v",
         "showlegend": true,
         "type": "scatter",
         "x": [
          11.399951089528393
         ],
         "xaxis": "x",
         "y": [
          520.7599743758988
         ],
         "yaxis": "y"
        },
        {
         "hovertemplate": "<b>%{hovertext}</b><br><br>country_region=Mexico<br>mortality_rate=%{marker.size}<br>incident_rate=%{y}<extra></extra>",
         "hovertext": [
          "Mexico"
         ],
         "legendgroup": "Mexico",
         "marker": {
          "color": "#ab63fa",
          "size": [
           10.447299304643604
          ],
          "sizemode": "area",
          "sizeref": 0.008016497323281984,
          "symbol": "circle"
         },
         "mode": "markers",
         "name": "Mexico",
         "orientation": "v",
         "showlegend": true,
         "type": "scatter",
         "x": [
          10.447299304643604
         ],
         "xaxis": "x",
         "y": [
          581.5812700932513
         ],
         "yaxis": "y"
        },
        {
         "hovertemplate": "<b>%{hovertext}</b><br><br>country_region=Western Sahara<br>mortality_rate=%{marker.size}<br>incident_rate=%{y}<extra></extra>",
         "hovertext": [
          "Western Sahara"
         ],
         "legendgroup": "Western Sahara",
         "marker": {
          "color": "#FFA15A",
          "size": [
           10
          ],
          "sizemode": "area",
          "sizeref": 0.008016497323281984,
          "symbol": "circle"
         },
         "mode": "markers",
         "name": "Western Sahara",
         "orientation": "v",
         "showlegend": true,
         "type": "scatter",
         "x": [
          10
         ],
         "xaxis": "x",
         "y": [
          1.674116485025028
         ],
         "yaxis": "y"
        },
        {
         "hovertemplate": "<b>%{hovertext}</b><br><br>country_region=United Kingdom<br>mortality_rate=%{marker.size}<br>incident_rate=%{y}<extra></extra>",
         "hovertext": [
          "United Kingdom"
         ],
         "legendgroup": "United Kingdom",
         "marker": {
          "color": "#19d3f3",
          "size": [
           9.264751692457539
          ],
          "sizemode": "area",
          "sizeref": 0.008016497323281984,
          "symbol": "circle"
         },
         "mode": "markers",
         "name": "United Kingdom",
         "orientation": "v",
         "showlegend": true,
         "type": "scatter",
         "x": [
          9.264751692457539
         ],
         "xaxis": "x",
         "y": [
          671.4874541739119
         ],
         "yaxis": "y"
        },
        {
         "hovertemplate": "<b>%{hovertext}</b><br><br>country_region=Belgium<br>mortality_rate=%{marker.size}<br>incident_rate=%{y}<extra></extra>",
         "hovertext": [
          "Belgium"
         ],
         "legendgroup": "Belgium",
         "marker": {
          "color": "#FF6692",
          "size": [
           8.539469751953208
          ],
          "sizemode": "area",
          "sizeref": 0.008016497323281984,
          "symbol": "circle"
         },
         "mode": "markers",
         "name": "Belgium",
         "orientation": "v",
         "showlegend": true,
         "type": "scatter",
         "x": [
          8.539469751953208
         ],
         "xaxis": "x",
         "y": [
          1010.5166555992881
         ],
         "yaxis": "y"
        },
        {
         "hovertemplate": "<b>%{hovertext}</b><br><br>country_region=Ecuador<br>mortality_rate=%{marker.size}<br>incident_rate=%{y}<extra></extra>",
         "hovertext": [
          "Ecuador"
         ],
         "legendgroup": "Ecuador",
         "marker": {
          "color": "#B6E880",
          "size": [
           8.285478704386088
          ],
          "sizemode": "area",
          "sizeref": 0.008016497323281984,
          "symbol": "circle"
         },
         "mode": "markers",
         "name": "Ecuador",
         "orientation": "v",
         "showlegend": true,
         "type": "scatter",
         "x": [
          8.285478704386088
         ],
         "xaxis": "x",
         "y": [
          776.7756840366693
         ],
         "yaxis": "y"
        },
        {
         "hovertemplate": "<b>%{hovertext}</b><br><br>country_region=Chad<br>mortality_rate=%{marker.size}<br>incident_rate=%{y}<extra></extra>",
         "hovertext": [
          "Chad"
         ],
         "legendgroup": "Chad",
         "marker": {
          "color": "#FF97FF",
          "size": [
           7.083333333333332
          ],
          "sizemode": "area",
          "sizeref": 0.008016497323281984,
          "symbol": "circle"
         },
         "mode": "markers",
         "name": "Chad",
         "orientation": "v",
         "showlegend": true,
         "type": "scatter",
         "x": [
          7.083333333333332
         ],
         "xaxis": "x",
         "y": [
          7.30555400481643
         ],
         "yaxis": "y"
        },
        {
         "hovertemplate": "<b>%{hovertext}</b><br><br>country_region=Sweden<br>mortality_rate=%{marker.size}<br>incident_rate=%{y}<extra></extra>",
         "hovertext": [
          "Sweden"
         ],
         "legendgroup": "Sweden",
         "marker": {
          "color": "#FECB52",
          "size": [
           6.345907411994013
          ],
          "sizemode": "area",
          "sizeref": 0.008016497323281984,
          "symbol": "circle"
         },
         "mode": "markers",
         "name": "Sweden",
         "orientation": "v",
         "showlegend": true,
         "type": "scatter",
         "x": [
          6.345907411994013
         ],
         "xaxis": "x",
         "y": [
          919.5021026272196
         ],
         "yaxis": "y"
        }
       ],
       "layout": {
        "legend": {
         "itemsizing": "constant",
         "title": {
          "text": "country_region"
         },
         "tracegroupgap": 0
        },
        "margin": {
         "t": 60
        },
        "template": {
         "data": {
          "bar": [
           {
            "error_x": {
             "color": "#2a3f5f"
            },
            "error_y": {
             "color": "#2a3f5f"
            },
            "marker": {
             "line": {
              "color": "#E5ECF6",
              "width": 0.5
             }
            },
            "type": "bar"
           }
          ],
          "barpolar": [
           {
            "marker": {
             "line": {
              "color": "#E5ECF6",
              "width": 0.5
             }
            },
            "type": "barpolar"
           }
          ],
          "carpet": [
           {
            "aaxis": {
             "endlinecolor": "#2a3f5f",
             "gridcolor": "white",
             "linecolor": "white",
             "minorgridcolor": "white",
             "startlinecolor": "#2a3f5f"
            },
            "baxis": {
             "endlinecolor": "#2a3f5f",
             "gridcolor": "white",
             "linecolor": "white",
             "minorgridcolor": "white",
             "startlinecolor": "#2a3f5f"
            },
            "type": "carpet"
           }
          ],
          "choropleth": [
           {
            "colorbar": {
             "outlinewidth": 0,
             "ticks": ""
            },
            "type": "choropleth"
           }
          ],
          "contour": [
           {
            "colorbar": {
             "outlinewidth": 0,
             "ticks": ""
            },
            "colorscale": [
             [
              0,
              "#0d0887"
             ],
             [
              0.1111111111111111,
              "#46039f"
             ],
             [
              0.2222222222222222,
              "#7201a8"
             ],
             [
              0.3333333333333333,
              "#9c179e"
             ],
             [
              0.4444444444444444,
              "#bd3786"
             ],
             [
              0.5555555555555556,
              "#d8576b"
             ],
             [
              0.6666666666666666,
              "#ed7953"
             ],
             [
              0.7777777777777778,
              "#fb9f3a"
             ],
             [
              0.8888888888888888,
              "#fdca26"
             ],
             [
              1,
              "#f0f921"
             ]
            ],
            "type": "contour"
           }
          ],
          "contourcarpet": [
           {
            "colorbar": {
             "outlinewidth": 0,
             "ticks": ""
            },
            "type": "contourcarpet"
           }
          ],
          "heatmap": [
           {
            "colorbar": {
             "outlinewidth": 0,
             "ticks": ""
            },
            "colorscale": [
             [
              0,
              "#0d0887"
             ],
             [
              0.1111111111111111,
              "#46039f"
             ],
             [
              0.2222222222222222,
              "#7201a8"
             ],
             [
              0.3333333333333333,
              "#9c179e"
             ],
             [
              0.4444444444444444,
              "#bd3786"
             ],
             [
              0.5555555555555556,
              "#d8576b"
             ],
             [
              0.6666666666666666,
              "#ed7953"
             ],
             [
              0.7777777777777778,
              "#fb9f3a"
             ],
             [
              0.8888888888888888,
              "#fdca26"
             ],
             [
              1,
              "#f0f921"
             ]
            ],
            "type": "heatmap"
           }
          ],
          "heatmapgl": [
           {
            "colorbar": {
             "outlinewidth": 0,
             "ticks": ""
            },
            "colorscale": [
             [
              0,
              "#0d0887"
             ],
             [
              0.1111111111111111,
              "#46039f"
             ],
             [
              0.2222222222222222,
              "#7201a8"
             ],
             [
              0.3333333333333333,
              "#9c179e"
             ],
             [
              0.4444444444444444,
              "#bd3786"
             ],
             [
              0.5555555555555556,
              "#d8576b"
             ],
             [
              0.6666666666666666,
              "#ed7953"
             ],
             [
              0.7777777777777778,
              "#fb9f3a"
             ],
             [
              0.8888888888888888,
              "#fdca26"
             ],
             [
              1,
              "#f0f921"
             ]
            ],
            "type": "heatmapgl"
           }
          ],
          "histogram": [
           {
            "marker": {
             "colorbar": {
              "outlinewidth": 0,
              "ticks": ""
             }
            },
            "type": "histogram"
           }
          ],
          "histogram2d": [
           {
            "colorbar": {
             "outlinewidth": 0,
             "ticks": ""
            },
            "colorscale": [
             [
              0,
              "#0d0887"
             ],
             [
              0.1111111111111111,
              "#46039f"
             ],
             [
              0.2222222222222222,
              "#7201a8"
             ],
             [
              0.3333333333333333,
              "#9c179e"
             ],
             [
              0.4444444444444444,
              "#bd3786"
             ],
             [
              0.5555555555555556,
              "#d8576b"
             ],
             [
              0.6666666666666666,
              "#ed7953"
             ],
             [
              0.7777777777777778,
              "#fb9f3a"
             ],
             [
              0.8888888888888888,
              "#fdca26"
             ],
             [
              1,
              "#f0f921"
             ]
            ],
            "type": "histogram2d"
           }
          ],
          "histogram2dcontour": [
           {
            "colorbar": {
             "outlinewidth": 0,
             "ticks": ""
            },
            "colorscale": [
             [
              0,
              "#0d0887"
             ],
             [
              0.1111111111111111,
              "#46039f"
             ],
             [
              0.2222222222222222,
              "#7201a8"
             ],
             [
              0.3333333333333333,
              "#9c179e"
             ],
             [
              0.4444444444444444,
              "#bd3786"
             ],
             [
              0.5555555555555556,
              "#d8576b"
             ],
             [
              0.6666666666666666,
              "#ed7953"
             ],
             [
              0.7777777777777778,
              "#fb9f3a"
             ],
             [
              0.8888888888888888,
              "#fdca26"
             ],
             [
              1,
              "#f0f921"
             ]
            ],
            "type": "histogram2dcontour"
           }
          ],
          "mesh3d": [
           {
            "colorbar": {
             "outlinewidth": 0,
             "ticks": ""
            },
            "type": "mesh3d"
           }
          ],
          "parcoords": [
           {
            "line": {
             "colorbar": {
              "outlinewidth": 0,
              "ticks": ""
             }
            },
            "type": "parcoords"
           }
          ],
          "pie": [
           {
            "automargin": true,
            "type": "pie"
           }
          ],
          "scatter": [
           {
            "marker": {
             "colorbar": {
              "outlinewidth": 0,
              "ticks": ""
             }
            },
            "type": "scatter"
           }
          ],
          "scatter3d": [
           {
            "line": {
             "colorbar": {
              "outlinewidth": 0,
              "ticks": ""
             }
            },
            "marker": {
             "colorbar": {
              "outlinewidth": 0,
              "ticks": ""
             }
            },
            "type": "scatter3d"
           }
          ],
          "scattercarpet": [
           {
            "marker": {
             "colorbar": {
              "outlinewidth": 0,
              "ticks": ""
             }
            },
            "type": "scattercarpet"
           }
          ],
          "scattergeo": [
           {
            "marker": {
             "colorbar": {
              "outlinewidth": 0,
              "ticks": ""
             }
            },
            "type": "scattergeo"
           }
          ],
          "scattergl": [
           {
            "marker": {
             "colorbar": {
              "outlinewidth": 0,
              "ticks": ""
             }
            },
            "type": "scattergl"
           }
          ],
          "scattermapbox": [
           {
            "marker": {
             "colorbar": {
              "outlinewidth": 0,
              "ticks": ""
             }
            },
            "type": "scattermapbox"
           }
          ],
          "scatterpolar": [
           {
            "marker": {
             "colorbar": {
              "outlinewidth": 0,
              "ticks": ""
             }
            },
            "type": "scatterpolar"
           }
          ],
          "scatterpolargl": [
           {
            "marker": {
             "colorbar": {
              "outlinewidth": 0,
              "ticks": ""
             }
            },
            "type": "scatterpolargl"
           }
          ],
          "scatterternary": [
           {
            "marker": {
             "colorbar": {
              "outlinewidth": 0,
              "ticks": ""
             }
            },
            "type": "scatterternary"
           }
          ],
          "surface": [
           {
            "colorbar": {
             "outlinewidth": 0,
             "ticks": ""
            },
            "colorscale": [
             [
              0,
              "#0d0887"
             ],
             [
              0.1111111111111111,
              "#46039f"
             ],
             [
              0.2222222222222222,
              "#7201a8"
             ],
             [
              0.3333333333333333,
              "#9c179e"
             ],
             [
              0.4444444444444444,
              "#bd3786"
             ],
             [
              0.5555555555555556,
              "#d8576b"
             ],
             [
              0.6666666666666666,
              "#ed7953"
             ],
             [
              0.7777777777777778,
              "#fb9f3a"
             ],
             [
              0.8888888888888888,
              "#fdca26"
             ],
             [
              1,
              "#f0f921"
             ]
            ],
            "type": "surface"
           }
          ],
          "table": [
           {
            "cells": {
             "fill": {
              "color": "#EBF0F8"
             },
             "line": {
              "color": "white"
             }
            },
            "header": {
             "fill": {
              "color": "#C8D4E3"
             },
             "line": {
              "color": "white"
             }
            },
            "type": "table"
           }
          ]
         },
         "layout": {
          "annotationdefaults": {
           "arrowcolor": "#2a3f5f",
           "arrowhead": 0,
           "arrowwidth": 1
          },
          "coloraxis": {
           "colorbar": {
            "outlinewidth": 0,
            "ticks": ""
           }
          },
          "colorscale": {
           "diverging": [
            [
             0,
             "#8e0152"
            ],
            [
             0.1,
             "#c51b7d"
            ],
            [
             0.2,
             "#de77ae"
            ],
            [
             0.3,
             "#f1b6da"
            ],
            [
             0.4,
             "#fde0ef"
            ],
            [
             0.5,
             "#f7f7f7"
            ],
            [
             0.6,
             "#e6f5d0"
            ],
            [
             0.7,
             "#b8e186"
            ],
            [
             0.8,
             "#7fbc41"
            ],
            [
             0.9,
             "#4d9221"
            ],
            [
             1,
             "#276419"
            ]
           ],
           "sequential": [
            [
             0,
             "#0d0887"
            ],
            [
             0.1111111111111111,
             "#46039f"
            ],
            [
             0.2222222222222222,
             "#7201a8"
            ],
            [
             0.3333333333333333,
             "#9c179e"
            ],
            [
             0.4444444444444444,
             "#bd3786"
            ],
            [
             0.5555555555555556,
             "#d8576b"
            ],
            [
             0.6666666666666666,
             "#ed7953"
            ],
            [
             0.7777777777777778,
             "#fb9f3a"
            ],
            [
             0.8888888888888888,
             "#fdca26"
            ],
            [
             1,
             "#f0f921"
            ]
           ],
           "sequentialminus": [
            [
             0,
             "#0d0887"
            ],
            [
             0.1111111111111111,
             "#46039f"
            ],
            [
             0.2222222222222222,
             "#7201a8"
            ],
            [
             0.3333333333333333,
             "#9c179e"
            ],
            [
             0.4444444444444444,
             "#bd3786"
            ],
            [
             0.5555555555555556,
             "#d8576b"
            ],
            [
             0.6666666666666666,
             "#ed7953"
            ],
            [
             0.7777777777777778,
             "#fb9f3a"
            ],
            [
             0.8888888888888888,
             "#fdca26"
            ],
            [
             1,
             "#f0f921"
            ]
           ]
          },
          "colorway": [
           "#636efa",
           "#EF553B",
           "#00cc96",
           "#ab63fa",
           "#FFA15A",
           "#19d3f3",
           "#FF6692",
           "#B6E880",
           "#FF97FF",
           "#FECB52"
          ],
          "font": {
           "color": "#2a3f5f"
          },
          "geo": {
           "bgcolor": "white",
           "lakecolor": "white",
           "landcolor": "#E5ECF6",
           "showlakes": true,
           "showland": true,
           "subunitcolor": "white"
          },
          "hoverlabel": {
           "align": "left"
          },
          "hovermode": "closest",
          "mapbox": {
           "style": "light"
          },
          "paper_bgcolor": "white",
          "plot_bgcolor": "#E5ECF6",
          "polar": {
           "angularaxis": {
            "gridcolor": "white",
            "linecolor": "white",
            "ticks": ""
           },
           "bgcolor": "#E5ECF6",
           "radialaxis": {
            "gridcolor": "white",
            "linecolor": "white",
            "ticks": ""
           }
          },
          "scene": {
           "xaxis": {
            "backgroundcolor": "#E5ECF6",
            "gridcolor": "white",
            "gridwidth": 2,
            "linecolor": "white",
            "showbackground": true,
            "ticks": "",
            "zerolinecolor": "white"
           },
           "yaxis": {
            "backgroundcolor": "#E5ECF6",
            "gridcolor": "white",
            "gridwidth": 2,
            "linecolor": "white",
            "showbackground": true,
            "ticks": "",
            "zerolinecolor": "white"
           },
           "zaxis": {
            "backgroundcolor": "#E5ECF6",
            "gridcolor": "white",
            "gridwidth": 2,
            "linecolor": "white",
            "showbackground": true,
            "ticks": "",
            "zerolinecolor": "white"
           }
          },
          "shapedefaults": {
           "line": {
            "color": "#2a3f5f"
           }
          },
          "ternary": {
           "aaxis": {
            "gridcolor": "white",
            "linecolor": "white",
            "ticks": ""
           },
           "baxis": {
            "gridcolor": "white",
            "linecolor": "white",
            "ticks": ""
           },
           "bgcolor": "#E5ECF6",
           "caxis": {
            "gridcolor": "white",
            "linecolor": "white",
            "ticks": ""
           }
          },
          "title": {
           "x": 0.05
          },
          "xaxis": {
           "automargin": true,
           "gridcolor": "white",
           "linecolor": "white",
           "ticks": "",
           "title": {
            "standoff": 15
           },
           "zerolinecolor": "white",
           "zerolinewidth": 2
          },
          "yaxis": {
           "automargin": true,
           "gridcolor": "white",
           "linecolor": "white",
           "ticks": "",
           "title": {
            "standoff": 15
           },
           "zerolinecolor": "white",
           "zerolinewidth": 2
          }
         }
        },
        "xaxis": {
         "anchor": "y",
         "domain": [
          0,
          1
         ],
         "title": {
          "text": "mortality_rate"
         },
         "type": "log"
        },
        "yaxis": {
         "anchor": "x",
         "domain": [
          0,
          1
         ],
         "title": {
          "text": "incident_rate"
         }
        }
       }
      },
      "text/html": [
       "<div>                            <div id=\"8830623a-94bb-476b-8fba-96197e617247\" class=\"plotly-graph-div\" style=\"height:525px; width:100%;\"></div>            <script type=\"text/javascript\">                require([\"plotly\"], function(Plotly) {                    window.PLOTLYENV=window.PLOTLYENV || {};                                    if (document.getElementById(\"8830623a-94bb-476b-8fba-96197e617247\")) {                    Plotly.newPlot(                        \"8830623a-94bb-476b-8fba-96197e617247\",                        [{\"hovertemplate\": \"<b>%{hovertext}</b><br><br>country_region=Yemen<br>mortality_rate=%{marker.size}<br>incident_rate=%{y}<extra></extra>\", \"hovertext\": [\"Yemen\"], \"legendgroup\": \"Yemen\", \"marker\": {\"color\": \"#636efa\", \"size\": [28.85939036381514], \"sizemode\": \"area\", \"sizeref\": 0.008016497323281984, \"symbol\": \"circle\"}, \"mode\": \"markers\", \"name\": \"Yemen\", \"orientation\": \"v\", \"showlegend\": true, \"type\": \"scatter\", \"x\": [28.85939036381514], \"xaxis\": \"x\", \"y\": [6.819560726411294], \"yaxis\": \"y\"}, {\"hovertemplate\": \"<b>%{hovertext}</b><br><br>country_region=MS Zaandam<br>mortality_rate=%{marker.size}<br>incident_rate=%{y}<extra></extra>\", \"hovertext\": [\"MS Zaandam\"], \"legendgroup\": \"MS Zaandam\", \"marker\": {\"color\": \"#EF553B\", \"size\": [22.222222222222218], \"sizemode\": \"area\", \"sizeref\": 0.008016497323281984, \"symbol\": \"circle\"}, \"mode\": \"markers\", \"name\": \"MS Zaandam\", \"orientation\": \"v\", \"showlegend\": true, \"type\": \"scatter\", \"x\": [22.222222222222218], \"xaxis\": \"x\", \"y\": [null], \"yaxis\": \"y\"}, {\"hovertemplate\": \"<b>%{hovertext}</b><br><br>country_region=Italy<br>mortality_rate=%{marker.size}<br>incident_rate=%{y}<extra></extra>\", \"hovertext\": [\"Italy\"], \"legendgroup\": \"Italy\", \"marker\": {\"color\": \"#00cc96\", \"size\": [11.399951089528393], \"sizemode\": \"area\", \"sizeref\": 0.008016497323281984, \"symbol\": \"circle\"}, \"mode\": \"markers\", \"name\": \"Italy\", \"orientation\": \"v\", \"showlegend\": true, \"type\": \"scatter\", \"x\": [11.399951089528393], \"xaxis\": \"x\", \"y\": [520.7599743758988], \"yaxis\": \"y\"}, {\"hovertemplate\": \"<b>%{hovertext}</b><br><br>country_region=Mexico<br>mortality_rate=%{marker.size}<br>incident_rate=%{y}<extra></extra>\", \"hovertext\": [\"Mexico\"], \"legendgroup\": \"Mexico\", \"marker\": {\"color\": \"#ab63fa\", \"size\": [10.447299304643604], \"sizemode\": \"area\", \"sizeref\": 0.008016497323281984, \"symbol\": \"circle\"}, \"mode\": \"markers\", \"name\": \"Mexico\", \"orientation\": \"v\", \"showlegend\": true, \"type\": \"scatter\", \"x\": [10.447299304643604], \"xaxis\": \"x\", \"y\": [581.5812700932513], \"yaxis\": \"y\"}, {\"hovertemplate\": \"<b>%{hovertext}</b><br><br>country_region=Western Sahara<br>mortality_rate=%{marker.size}<br>incident_rate=%{y}<extra></extra>\", \"hovertext\": [\"Western Sahara\"], \"legendgroup\": \"Western Sahara\", \"marker\": {\"color\": \"#FFA15A\", \"size\": [10.0], \"sizemode\": \"area\", \"sizeref\": 0.008016497323281984, \"symbol\": \"circle\"}, \"mode\": \"markers\", \"name\": \"Western Sahara\", \"orientation\": \"v\", \"showlegend\": true, \"type\": \"scatter\", \"x\": [10.0], \"xaxis\": \"x\", \"y\": [1.674116485025028], \"yaxis\": \"y\"}, {\"hovertemplate\": \"<b>%{hovertext}</b><br><br>country_region=United Kingdom<br>mortality_rate=%{marker.size}<br>incident_rate=%{y}<extra></extra>\", \"hovertext\": [\"United Kingdom\"], \"legendgroup\": \"United Kingdom\", \"marker\": {\"color\": \"#19d3f3\", \"size\": [9.264751692457539], \"sizemode\": \"area\", \"sizeref\": 0.008016497323281984, \"symbol\": \"circle\"}, \"mode\": \"markers\", \"name\": \"United Kingdom\", \"orientation\": \"v\", \"showlegend\": true, \"type\": \"scatter\", \"x\": [9.264751692457539], \"xaxis\": \"x\", \"y\": [671.4874541739119], \"yaxis\": \"y\"}, {\"hovertemplate\": \"<b>%{hovertext}</b><br><br>country_region=Belgium<br>mortality_rate=%{marker.size}<br>incident_rate=%{y}<extra></extra>\", \"hovertext\": [\"Belgium\"], \"legendgroup\": \"Belgium\", \"marker\": {\"color\": \"#FF6692\", \"size\": [8.539469751953208], \"sizemode\": \"area\", \"sizeref\": 0.008016497323281984, \"symbol\": \"circle\"}, \"mode\": \"markers\", \"name\": \"Belgium\", \"orientation\": \"v\", \"showlegend\": true, \"type\": \"scatter\", \"x\": [8.539469751953208], \"xaxis\": \"x\", \"y\": [1010.5166555992881], \"yaxis\": \"y\"}, {\"hovertemplate\": \"<b>%{hovertext}</b><br><br>country_region=Ecuador<br>mortality_rate=%{marker.size}<br>incident_rate=%{y}<extra></extra>\", \"hovertext\": [\"Ecuador\"], \"legendgroup\": \"Ecuador\", \"marker\": {\"color\": \"#B6E880\", \"size\": [8.285478704386088], \"sizemode\": \"area\", \"sizeref\": 0.008016497323281984, \"symbol\": \"circle\"}, \"mode\": \"markers\", \"name\": \"Ecuador\", \"orientation\": \"v\", \"showlegend\": true, \"type\": \"scatter\", \"x\": [8.285478704386088], \"xaxis\": \"x\", \"y\": [776.7756840366693], \"yaxis\": \"y\"}, {\"hovertemplate\": \"<b>%{hovertext}</b><br><br>country_region=Chad<br>mortality_rate=%{marker.size}<br>incident_rate=%{y}<extra></extra>\", \"hovertext\": [\"Chad\"], \"legendgroup\": \"Chad\", \"marker\": {\"color\": \"#FF97FF\", \"size\": [7.083333333333332], \"sizemode\": \"area\", \"sizeref\": 0.008016497323281984, \"symbol\": \"circle\"}, \"mode\": \"markers\", \"name\": \"Chad\", \"orientation\": \"v\", \"showlegend\": true, \"type\": \"scatter\", \"x\": [7.083333333333332], \"xaxis\": \"x\", \"y\": [7.30555400481643], \"yaxis\": \"y\"}, {\"hovertemplate\": \"<b>%{hovertext}</b><br><br>country_region=Sweden<br>mortality_rate=%{marker.size}<br>incident_rate=%{y}<extra></extra>\", \"hovertext\": [\"Sweden\"], \"legendgroup\": \"Sweden\", \"marker\": {\"color\": \"#FECB52\", \"size\": [6.345907411994013], \"sizemode\": \"area\", \"sizeref\": 0.008016497323281984, \"symbol\": \"circle\"}, \"mode\": \"markers\", \"name\": \"Sweden\", \"orientation\": \"v\", \"showlegend\": true, \"type\": \"scatter\", \"x\": [6.345907411994013], \"xaxis\": \"x\", \"y\": [919.5021026272196], \"yaxis\": \"y\"}],                        {\"legend\": {\"itemsizing\": \"constant\", \"title\": {\"text\": \"country_region\"}, \"tracegroupgap\": 0}, \"margin\": {\"t\": 60}, \"template\": {\"data\": {\"bar\": [{\"error_x\": {\"color\": \"#2a3f5f\"}, \"error_y\": {\"color\": \"#2a3f5f\"}, \"marker\": {\"line\": {\"color\": \"#E5ECF6\", \"width\": 0.5}}, \"type\": \"bar\"}], \"barpolar\": [{\"marker\": {\"line\": {\"color\": \"#E5ECF6\", \"width\": 0.5}}, \"type\": \"barpolar\"}], \"carpet\": [{\"aaxis\": {\"endlinecolor\": \"#2a3f5f\", \"gridcolor\": \"white\", \"linecolor\": \"white\", \"minorgridcolor\": \"white\", \"startlinecolor\": \"#2a3f5f\"}, \"baxis\": {\"endlinecolor\": \"#2a3f5f\", \"gridcolor\": \"white\", \"linecolor\": \"white\", \"minorgridcolor\": \"white\", \"startlinecolor\": \"#2a3f5f\"}, \"type\": \"carpet\"}], \"choropleth\": [{\"colorbar\": {\"outlinewidth\": 0, \"ticks\": \"\"}, \"type\": \"choropleth\"}], \"contour\": [{\"colorbar\": {\"outlinewidth\": 0, \"ticks\": \"\"}, \"colorscale\": [[0.0, \"#0d0887\"], [0.1111111111111111, \"#46039f\"], [0.2222222222222222, \"#7201a8\"], [0.3333333333333333, \"#9c179e\"], [0.4444444444444444, \"#bd3786\"], [0.5555555555555556, \"#d8576b\"], [0.6666666666666666, \"#ed7953\"], [0.7777777777777778, \"#fb9f3a\"], [0.8888888888888888, \"#fdca26\"], [1.0, \"#f0f921\"]], \"type\": \"contour\"}], \"contourcarpet\": [{\"colorbar\": {\"outlinewidth\": 0, \"ticks\": \"\"}, \"type\": \"contourcarpet\"}], \"heatmap\": [{\"colorbar\": {\"outlinewidth\": 0, \"ticks\": \"\"}, \"colorscale\": [[0.0, \"#0d0887\"], [0.1111111111111111, \"#46039f\"], [0.2222222222222222, \"#7201a8\"], [0.3333333333333333, \"#9c179e\"], [0.4444444444444444, \"#bd3786\"], [0.5555555555555556, \"#d8576b\"], [0.6666666666666666, \"#ed7953\"], [0.7777777777777778, \"#fb9f3a\"], [0.8888888888888888, \"#fdca26\"], [1.0, \"#f0f921\"]], \"type\": \"heatmap\"}], \"heatmapgl\": [{\"colorbar\": {\"outlinewidth\": 0, \"ticks\": \"\"}, \"colorscale\": [[0.0, \"#0d0887\"], [0.1111111111111111, \"#46039f\"], [0.2222222222222222, \"#7201a8\"], [0.3333333333333333, \"#9c179e\"], [0.4444444444444444, \"#bd3786\"], [0.5555555555555556, \"#d8576b\"], [0.6666666666666666, \"#ed7953\"], [0.7777777777777778, \"#fb9f3a\"], [0.8888888888888888, \"#fdca26\"], [1.0, \"#f0f921\"]], \"type\": \"heatmapgl\"}], \"histogram\": [{\"marker\": {\"colorbar\": {\"outlinewidth\": 0, \"ticks\": \"\"}}, \"type\": \"histogram\"}], \"histogram2d\": [{\"colorbar\": {\"outlinewidth\": 0, \"ticks\": \"\"}, \"colorscale\": [[0.0, \"#0d0887\"], [0.1111111111111111, \"#46039f\"], [0.2222222222222222, \"#7201a8\"], [0.3333333333333333, \"#9c179e\"], [0.4444444444444444, \"#bd3786\"], [0.5555555555555556, \"#d8576b\"], [0.6666666666666666, \"#ed7953\"], [0.7777777777777778, \"#fb9f3a\"], [0.8888888888888888, \"#fdca26\"], [1.0, \"#f0f921\"]], \"type\": \"histogram2d\"}], \"histogram2dcontour\": [{\"colorbar\": {\"outlinewidth\": 0, \"ticks\": \"\"}, \"colorscale\": [[0.0, \"#0d0887\"], [0.1111111111111111, \"#46039f\"], [0.2222222222222222, \"#7201a8\"], [0.3333333333333333, \"#9c179e\"], [0.4444444444444444, \"#bd3786\"], [0.5555555555555556, \"#d8576b\"], [0.6666666666666666, \"#ed7953\"], [0.7777777777777778, \"#fb9f3a\"], [0.8888888888888888, \"#fdca26\"], [1.0, \"#f0f921\"]], \"type\": \"histogram2dcontour\"}], \"mesh3d\": [{\"colorbar\": {\"outlinewidth\": 0, \"ticks\": \"\"}, \"type\": \"mesh3d\"}], \"parcoords\": [{\"line\": {\"colorbar\": {\"outlinewidth\": 0, \"ticks\": \"\"}}, \"type\": \"parcoords\"}], \"pie\": [{\"automargin\": true, \"type\": \"pie\"}], \"scatter\": [{\"marker\": {\"colorbar\": {\"outlinewidth\": 0, \"ticks\": \"\"}}, \"type\": \"scatter\"}], \"scatter3d\": [{\"line\": {\"colorbar\": {\"outlinewidth\": 0, \"ticks\": \"\"}}, \"marker\": {\"colorbar\": {\"outlinewidth\": 0, \"ticks\": \"\"}}, \"type\": \"scatter3d\"}], \"scattercarpet\": [{\"marker\": {\"colorbar\": {\"outlinewidth\": 0, \"ticks\": \"\"}}, \"type\": \"scattercarpet\"}], \"scattergeo\": [{\"marker\": {\"colorbar\": {\"outlinewidth\": 0, \"ticks\": \"\"}}, \"type\": \"scattergeo\"}], \"scattergl\": [{\"marker\": {\"colorbar\": {\"outlinewidth\": 0, \"ticks\": \"\"}}, \"type\": \"scattergl\"}], \"scattermapbox\": [{\"marker\": {\"colorbar\": {\"outlinewidth\": 0, \"ticks\": \"\"}}, \"type\": \"scattermapbox\"}], \"scatterpolar\": [{\"marker\": {\"colorbar\": {\"outlinewidth\": 0, \"ticks\": \"\"}}, \"type\": \"scatterpolar\"}], \"scatterpolargl\": [{\"marker\": {\"colorbar\": {\"outlinewidth\": 0, \"ticks\": \"\"}}, \"type\": \"scatterpolargl\"}], \"scatterternary\": [{\"marker\": {\"colorbar\": {\"outlinewidth\": 0, \"ticks\": \"\"}}, \"type\": \"scatterternary\"}], \"surface\": [{\"colorbar\": {\"outlinewidth\": 0, \"ticks\": \"\"}, \"colorscale\": [[0.0, \"#0d0887\"], [0.1111111111111111, \"#46039f\"], [0.2222222222222222, \"#7201a8\"], [0.3333333333333333, \"#9c179e\"], [0.4444444444444444, \"#bd3786\"], [0.5555555555555556, \"#d8576b\"], [0.6666666666666666, \"#ed7953\"], [0.7777777777777778, \"#fb9f3a\"], [0.8888888888888888, \"#fdca26\"], [1.0, \"#f0f921\"]], \"type\": \"surface\"}], \"table\": [{\"cells\": {\"fill\": {\"color\": \"#EBF0F8\"}, \"line\": {\"color\": \"white\"}}, \"header\": {\"fill\": {\"color\": \"#C8D4E3\"}, \"line\": {\"color\": \"white\"}}, \"type\": \"table\"}]}, \"layout\": {\"annotationdefaults\": {\"arrowcolor\": \"#2a3f5f\", \"arrowhead\": 0, \"arrowwidth\": 1}, \"coloraxis\": {\"colorbar\": {\"outlinewidth\": 0, \"ticks\": \"\"}}, \"colorscale\": {\"diverging\": [[0, \"#8e0152\"], [0.1, \"#c51b7d\"], [0.2, \"#de77ae\"], [0.3, \"#f1b6da\"], [0.4, \"#fde0ef\"], [0.5, \"#f7f7f7\"], [0.6, \"#e6f5d0\"], [0.7, \"#b8e186\"], [0.8, \"#7fbc41\"], [0.9, \"#4d9221\"], [1, \"#276419\"]], \"sequential\": [[0.0, \"#0d0887\"], [0.1111111111111111, \"#46039f\"], [0.2222222222222222, \"#7201a8\"], [0.3333333333333333, \"#9c179e\"], [0.4444444444444444, \"#bd3786\"], [0.5555555555555556, \"#d8576b\"], [0.6666666666666666, \"#ed7953\"], [0.7777777777777778, \"#fb9f3a\"], [0.8888888888888888, \"#fdca26\"], [1.0, \"#f0f921\"]], \"sequentialminus\": [[0.0, \"#0d0887\"], [0.1111111111111111, \"#46039f\"], [0.2222222222222222, \"#7201a8\"], [0.3333333333333333, \"#9c179e\"], [0.4444444444444444, \"#bd3786\"], [0.5555555555555556, \"#d8576b\"], [0.6666666666666666, \"#ed7953\"], [0.7777777777777778, \"#fb9f3a\"], [0.8888888888888888, \"#fdca26\"], [1.0, \"#f0f921\"]]}, \"colorway\": [\"#636efa\", \"#EF553B\", \"#00cc96\", \"#ab63fa\", \"#FFA15A\", \"#19d3f3\", \"#FF6692\", \"#B6E880\", \"#FF97FF\", \"#FECB52\"], \"font\": {\"color\": \"#2a3f5f\"}, \"geo\": {\"bgcolor\": \"white\", \"lakecolor\": \"white\", \"landcolor\": \"#E5ECF6\", \"showlakes\": true, \"showland\": true, \"subunitcolor\": \"white\"}, \"hoverlabel\": {\"align\": \"left\"}, \"hovermode\": \"closest\", \"mapbox\": {\"style\": \"light\"}, \"paper_bgcolor\": \"white\", \"plot_bgcolor\": \"#E5ECF6\", \"polar\": {\"angularaxis\": {\"gridcolor\": \"white\", \"linecolor\": \"white\", \"ticks\": \"\"}, \"bgcolor\": \"#E5ECF6\", \"radialaxis\": {\"gridcolor\": \"white\", \"linecolor\": \"white\", \"ticks\": \"\"}}, \"scene\": {\"xaxis\": {\"backgroundcolor\": \"#E5ECF6\", \"gridcolor\": \"white\", \"gridwidth\": 2, \"linecolor\": \"white\", \"showbackground\": true, \"ticks\": \"\", \"zerolinecolor\": \"white\"}, \"yaxis\": {\"backgroundcolor\": \"#E5ECF6\", \"gridcolor\": \"white\", \"gridwidth\": 2, \"linecolor\": \"white\", \"showbackground\": true, \"ticks\": \"\", \"zerolinecolor\": \"white\"}, \"zaxis\": {\"backgroundcolor\": \"#E5ECF6\", \"gridcolor\": \"white\", \"gridwidth\": 2, \"linecolor\": \"white\", \"showbackground\": true, \"ticks\": \"\", \"zerolinecolor\": \"white\"}}, \"shapedefaults\": {\"line\": {\"color\": \"#2a3f5f\"}}, \"ternary\": {\"aaxis\": {\"gridcolor\": \"white\", \"linecolor\": \"white\", \"ticks\": \"\"}, \"baxis\": {\"gridcolor\": \"white\", \"linecolor\": \"white\", \"ticks\": \"\"}, \"bgcolor\": \"#E5ECF6\", \"caxis\": {\"gridcolor\": \"white\", \"linecolor\": \"white\", \"ticks\": \"\"}}, \"title\": {\"x\": 0.05}, \"xaxis\": {\"automargin\": true, \"gridcolor\": \"white\", \"linecolor\": \"white\", \"ticks\": \"\", \"title\": {\"standoff\": 15}, \"zerolinecolor\": \"white\", \"zerolinewidth\": 2}, \"yaxis\": {\"automargin\": true, \"gridcolor\": \"white\", \"linecolor\": \"white\", \"ticks\": \"\", \"title\": {\"standoff\": 15}, \"zerolinecolor\": \"white\", \"zerolinewidth\": 2}}}, \"xaxis\": {\"anchor\": \"y\", \"domain\": [0.0, 1.0], \"title\": {\"text\": \"mortality_rate\"}, \"type\": \"log\"}, \"yaxis\": {\"anchor\": \"x\", \"domain\": [0.0, 1.0], \"title\": {\"text\": \"incident_rate\"}}},                        {\"responsive\": true}                    ).then(function(){\n",
       "                            \n",
       "var gd = document.getElementById('8830623a-94bb-476b-8fba-96197e617247');\n",
       "var x = new MutationObserver(function (mutations, observer) {{\n",
       "        var display = window.getComputedStyle(gd).display;\n",
       "        if (!display || display === 'none') {{\n",
       "            console.log([gd, 'removed!']);\n",
       "            Plotly.purge(gd);\n",
       "            observer.disconnect();\n",
       "        }}\n",
       "}});\n",
       "\n",
       "// Listen for the removal of the full notebook cells\n",
       "var notebookContainer = gd.closest('#notebook-container');\n",
       "if (notebookContainer) {{\n",
       "    x.observe(notebookContainer, {childList: true});\n",
       "}}\n",
       "\n",
       "// Listen for the clearing of the current output cell\n",
       "var outputEl = gd.closest('.output');\n",
       "if (outputEl) {{\n",
       "    x.observe(outputEl, {childList: true});\n",
       "}}\n",
       "\n",
       "                        })                };                });            </script>        </div>"
      ]
     },
     "metadata": {},
     "output_type": "display_data"
    }
   ],
   "source": [
    "#Mortality Rate\n",
    "top_10_mortality_rate = country_df.sort_values(by=\"mortality_rate\", ascending=False).head(10)\n",
    "fig6 = px.scatter(top_10_mortality_rate, \n",
    "                 x=\"mortality_rate\", y=\"incident_rate\",size=\"mortality_rate\", color=\"country_region\",\n",
    "                 hover_name=\"country_region\", log_x=True, size_max=60)\n",
    "fig6.show()"
   ]
  },
  {
   "cell_type": "code",
   "execution_count": 22,
   "metadata": {},
   "outputs": [
    {
     "data": {
      "text/html": [
       "<div>\n",
       "<style scoped>\n",
       "    .dataframe tbody tr th:only-of-type {\n",
       "        vertical-align: middle;\n",
       "    }\n",
       "\n",
       "    .dataframe tbody tr th {\n",
       "        vertical-align: top;\n",
       "    }\n",
       "\n",
       "    .dataframe thead th {\n",
       "        text-align: right;\n",
       "    }\n",
       "</style>\n",
       "<table border=\"1\" class=\"dataframe\">\n",
       "  <thead>\n",
       "    <tr style=\"text-align: right;\">\n",
       "      <th></th>\n",
       "      <th>country_region</th>\n",
       "      <th>last_update</th>\n",
       "      <th>lat</th>\n",
       "      <th>long_</th>\n",
       "      <th>confirmed</th>\n",
       "      <th>deaths</th>\n",
       "      <th>recovered</th>\n",
       "      <th>active</th>\n",
       "      <th>incident_rate</th>\n",
       "      <th>people_tested</th>\n",
       "      <th>people_hospitalized</th>\n",
       "      <th>mortality_rate</th>\n",
       "      <th>uid</th>\n",
       "      <th>iso3</th>\n",
       "    </tr>\n",
       "  </thead>\n",
       "  <tbody>\n",
       "    <tr>\n",
       "      <th>0</th>\n",
       "      <td>Afghanistan</td>\n",
       "      <td>2020-10-01 02:23:36</td>\n",
       "      <td>33.93911</td>\n",
       "      <td>67.70995</td>\n",
       "      <td>39268.00000</td>\n",
       "      <td>1458.00000</td>\n",
       "      <td>32789.00000</td>\n",
       "      <td>5021.00000</td>\n",
       "      <td>100.87252</td>\n",
       "      <td>nan</td>\n",
       "      <td>nan</td>\n",
       "      <td>3.71295</td>\n",
       "      <td>4</td>\n",
       "      <td>AFG</td>\n",
       "    </tr>\n",
       "    <tr>\n",
       "      <th>1</th>\n",
       "      <td>Albania</td>\n",
       "      <td>2020-10-01 02:23:36</td>\n",
       "      <td>41.15330</td>\n",
       "      <td>20.16830</td>\n",
       "      <td>13649.00000</td>\n",
       "      <td>387.00000</td>\n",
       "      <td>7847.00000</td>\n",
       "      <td>5415.00000</td>\n",
       "      <td>474.28591</td>\n",
       "      <td>nan</td>\n",
       "      <td>nan</td>\n",
       "      <td>2.83537</td>\n",
       "      <td>8</td>\n",
       "      <td>ALB</td>\n",
       "    </tr>\n",
       "    <tr>\n",
       "      <th>2</th>\n",
       "      <td>Algeria</td>\n",
       "      <td>2020-10-01 02:23:36</td>\n",
       "      <td>28.03390</td>\n",
       "      <td>1.65960</td>\n",
       "      <td>51530.00000</td>\n",
       "      <td>1736.00000</td>\n",
       "      <td>36174.00000</td>\n",
       "      <td>13620.00000</td>\n",
       "      <td>117.51146</td>\n",
       "      <td>nan</td>\n",
       "      <td>nan</td>\n",
       "      <td>3.36891</td>\n",
       "      <td>12</td>\n",
       "      <td>DZA</td>\n",
       "    </tr>\n",
       "    <tr>\n",
       "      <th>3</th>\n",
       "      <td>Andorra</td>\n",
       "      <td>2020-10-01 02:23:36</td>\n",
       "      <td>42.50630</td>\n",
       "      <td>1.52180</td>\n",
       "      <td>2050.00000</td>\n",
       "      <td>53.00000</td>\n",
       "      <td>1432.00000</td>\n",
       "      <td>565.00000</td>\n",
       "      <td>2653.20650</td>\n",
       "      <td>nan</td>\n",
       "      <td>nan</td>\n",
       "      <td>2.58537</td>\n",
       "      <td>20</td>\n",
       "      <td>AND</td>\n",
       "    </tr>\n",
       "    <tr>\n",
       "      <th>4</th>\n",
       "      <td>Angola</td>\n",
       "      <td>2020-10-01 02:23:36</td>\n",
       "      <td>-11.20270</td>\n",
       "      <td>17.87390</td>\n",
       "      <td>4972.00000</td>\n",
       "      <td>183.00000</td>\n",
       "      <td>1941.00000</td>\n",
       "      <td>2848.00000</td>\n",
       "      <td>15.12797</td>\n",
       "      <td>nan</td>\n",
       "      <td>nan</td>\n",
       "      <td>3.68061</td>\n",
       "      <td>24</td>\n",
       "      <td>AGO</td>\n",
       "    </tr>\n",
       "  </tbody>\n",
       "</table>\n",
       "</div>"
      ],
      "text/plain": [
       "  country_region          last_update       lat    long_   confirmed  \\\n",
       "0    Afghanistan  2020-10-01 02:23:36  33.93911 67.70995 39268.00000   \n",
       "1        Albania  2020-10-01 02:23:36  41.15330 20.16830 13649.00000   \n",
       "2        Algeria  2020-10-01 02:23:36  28.03390  1.65960 51530.00000   \n",
       "3        Andorra  2020-10-01 02:23:36  42.50630  1.52180  2050.00000   \n",
       "4         Angola  2020-10-01 02:23:36 -11.20270 17.87390  4972.00000   \n",
       "\n",
       "      deaths   recovered      active  incident_rate  people_tested  \\\n",
       "0 1458.00000 32789.00000  5021.00000      100.87252            nan   \n",
       "1  387.00000  7847.00000  5415.00000      474.28591            nan   \n",
       "2 1736.00000 36174.00000 13620.00000      117.51146            nan   \n",
       "3   53.00000  1432.00000   565.00000     2653.20650            nan   \n",
       "4  183.00000  1941.00000  2848.00000       15.12797            nan   \n",
       "\n",
       "   people_hospitalized  mortality_rate  uid iso3  \n",
       "0                  nan         3.71295    4  AFG  \n",
       "1                  nan         2.83537    8  ALB  \n",
       "2                  nan         3.36891   12  DZA  \n",
       "3                  nan         2.58537   20  AND  \n",
       "4                  nan         3.68061   24  AGO  "
      ]
     },
     "execution_count": 22,
     "metadata": {},
     "output_type": "execute_result"
    }
   ],
   "source": [
    "country_df.head()"
   ]
  },
  {
   "cell_type": "code",
   "execution_count": 23,
   "metadata": {},
   "outputs": [
    {
     "data": {
      "text/plain": [
       "Index(['country_region', 'last_update', 'lat', 'long_', 'confirmed', 'deaths',\n",
       "       'recovered', 'active', 'incident_rate', 'people_tested',\n",
       "       'people_hospitalized', 'mortality_rate', 'uid', 'iso3'],\n",
       "      dtype='object')"
      ]
     },
     "execution_count": 23,
     "metadata": {},
     "output_type": "execute_result"
    }
   ],
   "source": [
    "country_df.columns"
   ]
  },
  {
   "cell_type": "code",
   "execution_count": 24,
   "metadata": {},
   "outputs": [],
   "source": [
    "import folium"
   ]
  },
  {
   "cell_type": "code",
   "execution_count": 25,
   "metadata": {},
   "outputs": [],
   "source": [
    "# Filter only those that have lat and long_ values\n",
    "country_df = country_df[~country_df['lat'].isnull()]\n",
    "country_df = country_df[~country_df['long_'].isnull()]"
   ]
  },
  {
   "cell_type": "code",
   "execution_count": 26,
   "metadata": {},
   "outputs": [
    {
     "name": "stdout",
     "output_type": "stream",
     "text": [
      "7229723.0\n",
      "10.0\n",
      "7229713.0\n",
      "0.005413077946524295 39144.99999861682\n"
     ]
    }
   ],
   "source": [
    "max_confirmed = country_df['confirmed'].max()\n",
    "min_confirmed = country_df['confirmed'].min()\n",
    "print(max_confirmed)\n",
    "print(min_confirmed)\n",
    "print(max_confirmed-min_confirmed)\n",
    "normalized_radius = (39145-min_confirmed)/(max_confirmed-min_confirmed)\n",
    "print(normalized_radius,39145-min_confirmed/(max_confirmed-min_confirmed))"
   ]
  },
  {
   "cell_type": "code",
   "execution_count": 28,
   "metadata": {},
   "outputs": [
    {
     "data": {
      "text/html": [
       "<div style=\"width:100%;\"><div style=\"position:relative;width:100%;height:0;padding-bottom:60%;\"><span style=\"color:#565656\">Make this Notebook Trusted to load map: File -> Trust Notebook</span><iframe src=\"about:blank\" style=\"position:absolute;width:100%;height:100%;left:0;top:0;border:none !important;\" data-html=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 onload=\"this.contentDocument.open();this.contentDocument.write(atob(this.getAttribute('data-html')));this.contentDocument.close();\" allowfullscreen webkitallowfullscreen mozallowfullscreen></iframe></div></div>"
      ],
      "text/plain": [
       "<folium.folium.Map at 0x7f5d1d23d090>"
      ]
     },
     "execution_count": 28,
     "metadata": {},
     "output_type": "execute_result"
    }
   ],
   "source": [
    "m = folium.Map()\n",
    "\n",
    "for country_region, lat, long_, confirmed, deaths, recovered,mortality_rate in zip(country_df['country_region'],\n",
    "                                      country_df['lat'],\n",
    "                                      country_df['long_'],\n",
    "                                      country_df['confirmed'],\n",
    "                                      country_df['deaths'],\n",
    "                                      country_df['recovered'],\n",
    "                                      country_df['mortality_rate']\n",
    "                                     ):\n",
    "\n",
    "    folium.Circle(\n",
    "        #Normalize and augment \n",
    "        radius=((confirmed-min_confirmed)/(max_confirmed-min_confirmed))*1000000,\n",
    "        location=[lat, long_],\n",
    "        popup=country_region,\n",
    "        color='crimson',\n",
    "        fill=True,\n",
    "        fill_color = 'red',\n",
    "        tooltip = f\"Country:{country_region}<br/>Confirmed:{confirmed}<br/>Death:{deaths}<br/>Death Rate:{mortality_rate}\"\n",
    "    ).add_to(m)\n",
    "\n",
    "m"
   ]
  },
  {
   "cell_type": "markdown",
   "metadata": {},
   "source": [
    "## Forecasting"
   ]
  },
  {
   "cell_type": "code",
   "execution_count": null,
   "metadata": {},
   "outputs": [],
   "source": []
  },
  {
   "cell_type": "code",
   "execution_count": null,
   "metadata": {},
   "outputs": [],
   "source": []
  },
  {
   "cell_type": "code",
   "execution_count": null,
   "metadata": {},
   "outputs": [],
   "source": []
  },
  {
   "cell_type": "code",
   "execution_count": null,
   "metadata": {},
   "outputs": [],
   "source": [
    "def get_country_data(country_name, df):\n",
    "    \"\"\"Given a country name, return the Series with information\"\"\"    \n",
    "    results = None    \n",
    "    if(country_name in df.index):  \n",
    "        results = df.loc[country_name]\n",
    "        # Convert index to DateTime\n",
    "        results.index = pd.to_datetime(results.index)\n",
    "    return results"
   ]
  },
  {
   "cell_type": "code",
   "execution_count": null,
   "metadata": {},
   "outputs": [],
   "source": [
    "# Display confirmed cases of Canada (sample)\n",
    "series = get_country_data(\"World\", world_confirmed_df)\n",
    "series.plot()\n",
    "pyplot.show()"
   ]
  },
  {
   "cell_type": "code",
   "execution_count": null,
   "metadata": {},
   "outputs": [],
   "source": [
    "def calculate_mse(series,train_size=65, arima_order=(10,1,0)):\n",
    "    \"\"\"Given a series, calculate the mse given the arima_order\"\"\"\n",
    "    # Split train, test and predict\n",
    "    X = series.values\n",
    "    # Split train/test in rouhgly 65%/35%\n",
    "    up_to = int(len(X) * 0.65)\n",
    "    train, test = X[0:up_to], X[up_to:len(X)]\n",
    "    # initial historical (train) data\n",
    "    history = [x for x in train]\n",
    "    # To keep track of predictions\n",
    "    predictions = []\n",
    "    for t in tqdm(range(len(test))):\n",
    "        model = ARIMA(history, order=(10,1,0))\n",
    "        model_fit = model.fit(disp=0)\t\n",
    "        yhat = model_fit.forecast()[0]\n",
    "        predictions.append(yhat)\n",
    "        actual = test[t] \n",
    "        # Append real value to history \n",
    "        history.append(actual)\n",
    "        # Uncomment if print desired \n",
    "        #print(f'Prediction={yhat}, Expected={actual}')\n",
    "    # Calculate MSE    \n",
    "    error = mean_squared_error(test, predictions)\n",
    "    print('Test MSE: %.3f' % error)\n",
    "    # plot\n",
    "    pyplot.plot(test)\n",
    "    pyplot.plot(predictions, color='red')\n",
    "    pyplot.show()"
   ]
  },
  {
   "cell_type": "code",
   "execution_count": null,
   "metadata": {},
   "outputs": [],
   "source": []
  },
  {
   "cell_type": "code",
   "execution_count": null,
   "metadata": {},
   "outputs": [],
   "source": []
  },
  {
   "cell_type": "code",
   "execution_count": null,
   "metadata": {},
   "outputs": [],
   "source": []
  },
  {
   "cell_type": "code",
   "execution_count": null,
   "metadata": {},
   "outputs": [],
   "source": []
  },
  {
   "cell_type": "code",
   "execution_count": null,
   "metadata": {},
   "outputs": [],
   "source": []
  }
 ],
 "metadata": {
  "kernelspec": {
   "display_name": "covid-19",
   "language": "python",
   "name": "covid-19"
  },
  "language_info": {
   "codemirror_mode": {
    "name": "ipython",
    "version": 3
   },
   "file_extension": ".py",
   "mimetype": "text/x-python",
   "name": "python",
   "nbconvert_exporter": "python",
   "pygments_lexer": "ipython3",
   "version": "3.7.9"
  }
 },
 "nbformat": 4,
 "nbformat_minor": 4
}
