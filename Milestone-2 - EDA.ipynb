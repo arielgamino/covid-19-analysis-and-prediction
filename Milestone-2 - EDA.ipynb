{
 "cells": [
  {
   "cell_type": "code",
   "execution_count": 1,
   "metadata": {},
   "outputs": [],
   "source": [
    "import pandas as pd\n",
    "import numpy as np\n",
    "import matplotlib.pyplot as plt \n",
    "import plotly.express as px\n",
    "import warnings\n",
    "import ipywidgets as widgets\n",
    "from ipywidgets import interact, interactive, interact_manual\n",
    "import plotly.graph_objects as go\n",
    "import folium\n",
    "\n",
    "# Supress scientific notation/warning\n",
    "pd.set_option('display.float_format', lambda x: '%.5f' % x)\n",
    "warnings.filterwarnings(\"ignore\")"
   ]
  },
  {
   "cell_type": "markdown",
   "metadata": {},
   "source": [
    "## Load Data"
   ]
  },
  {
   "cell_type": "code",
   "execution_count": 2,
   "metadata": {},
   "outputs": [],
   "source": [
    "# Confirmed Global Cases\n",
    "confirmed_df = pd.read_csv(\"https://raw.githubusercontent.com/CSSEGISandData/COVID-19/master/csse_covid_19_data/csse_covid_19_time_series/time_series_covid19_confirmed_global.csv\")\n",
    "# Number of Death Cases - Global\n",
    "deaths_df = pd.read_csv(\"https://raw.githubusercontent.com/CSSEGISandData/COVID-19/master/csse_covid_19_data/csse_covid_19_time_series/time_series_covid19_deaths_global.csv\")\n",
    "# Number of recovered cases - Global\n",
    "recovered_df = pd.read_csv(\"https://raw.githubusercontent.com/CSSEGISandData/COVID-19/master/csse_covid_19_data/csse_covid_19_time_series/time_series_covid19_recovered_global.csv\")\n",
    "# US Confirmed Cases\n",
    "us_confirmed_df = pd.read_csv(\"https://raw.githubusercontent.com/CSSEGISandData/COVID-19/master/csse_covid_19_data/csse_covid_19_time_series/time_series_covid19_confirmed_US.csv\")\n",
    "# US Death Cases\n",
    "us_death_df = pd.read_csv(\"https://raw.githubusercontent.com/CSSEGISandData/COVID-19/master/csse_covid_19_data/csse_covid_19_time_series/time_series_covid19_deaths_US.csv\")\n",
    "# Country-specific Data\n",
    "country_df = pd.read_csv(\"https://raw.githubusercontent.com/CSSEGISandData/COVID-19/web-data/data/cases_country.csv\")"
   ]
  },
  {
   "cell_type": "markdown",
   "metadata": {},
   "source": [
    "### Rename column names to lower case"
   ]
  },
  {
   "cell_type": "code",
   "execution_count": 3,
   "metadata": {},
   "outputs": [],
   "source": [
    "confirmed_df.columns = confirmed_df.columns.str.lower()\n",
    "deaths_df.columns = deaths_df.columns.str.lower()\n",
    "recovered_df.columns = recovered_df.columns.str.lower()\n",
    "us_confirmed_df.columns = us_confirmed_df.columns.str.lower()\n",
    "us_death_df.columns = us_death_df.columns.str.lower()\n",
    "country_df.columns = country_df.columns.str.lower()"
   ]
  },
  {
   "cell_type": "markdown",
   "metadata": {},
   "source": [
    "### Explore the aggregate numbers"
   ]
  },
  {
   "cell_type": "code",
   "execution_count": 4,
   "metadata": {},
   "outputs": [
    {
     "name": "stdout",
     "output_type": "stream",
     "text": [
      "Number of global confirmed cases:32,840,012\n"
     ]
    }
   ],
   "source": [
    "# Number of global confirmed cases. Use last column's value as they are the latest\n",
    "print(f\"Number of global confirmed cases:{confirmed_df.iloc[:,-1:].sum().values[0]:,}\")"
   ]
  },
  {
   "cell_type": "code",
   "execution_count": 5,
   "metadata": {},
   "outputs": [
    {
     "name": "stdout",
     "output_type": "stream",
     "text": [
      "Number of global deads:994,143\n"
     ]
    }
   ],
   "source": [
    "# Number of global deads. Use last column's value as they are the latest\n",
    "print(f\"Number of global deads:{deaths_df.iloc[:,-1:].sum().values[0]:,}\")"
   ]
  },
  {
   "cell_type": "code",
   "execution_count": 6,
   "metadata": {},
   "outputs": [
    {
     "name": "stdout",
     "output_type": "stream",
     "text": [
      "Number of recovered cases:22,715,380\n"
     ]
    }
   ],
   "source": [
    "# Number of global recovered cases. Use last column's value as they are the latest\n",
    "print(f\"Number of recovered cases:{recovered_df.iloc[:,-1:].sum().values[0]:,}\")"
   ]
  },
  {
   "cell_type": "markdown",
   "metadata": {},
   "source": [
    "### Countries Sorted by total number of confirmed cases"
   ]
  },
  {
   "cell_type": "code",
   "execution_count": 7,
   "metadata": {},
   "outputs": [],
   "source": [
    "def highlight_column(s, column_dict):\n",
    "    \"\"\"Change the color in columns if passed on column_dict\"\"\"\n",
    "    if (s.name in column_dict.keys()):\n",
    "        return ['background-color: {}'.format(column_dict[s.name])] * len(s)\n",
    "    return [''] * len(s)"
   ]
  },
  {
   "cell_type": "code",
   "execution_count": 8,
   "metadata": {},
   "outputs": [
    {
     "data": {
      "application/vnd.jupyter.widget-view+json": {
       "model_id": "c0178d27d91e4d3883fd9773a4516653",
       "version_major": 2,
       "version_minor": 0
      },
      "text/plain": [
       "interactive(children=(IntSlider(value=188, description='row_max', max=564, min=-188), Output()), _dom_classes=…"
      ]
     },
     "metadata": {},
     "output_type": "display_data"
    }
   ],
   "source": [
    "@interact\n",
    "def number_of_rows(row_max=len(country_df)): \n",
    "    if(row_max<0):\n",
    "        row_max=0\n",
    "    return country_df.sort_values(by=\"confirmed\", ascending=False).head(row_max).style.apply(highlight_column,column_dict={'confirmed':'grey','deaths':'red','recovered':'green'})"
   ]
  },
  {
   "cell_type": "code",
   "execution_count": 9,
   "metadata": {},
   "outputs": [
    {
     "data": {
      "application/vnd.jupyter.widget-view+json": {
       "model_id": "89a4b9747ba345a194c2f05c98b49644",
       "version_major": 2,
       "version_minor": 0
      },
      "text/plain": [
       "interactive(children=(IntSlider(value=188, description='row_max', max=564, min=-188), Output()), _dom_classes=…"
      ]
     },
     "metadata": {},
     "output_type": "display_data"
    }
   ],
   "source": [
    "@interact\n",
    "def number_of_countries(row_max=len(country_df)): \n",
    "    if(row_max<0):\n",
    "        row_max=0\n",
    "    countries_to_show_df = country_df.sort_values(by=\"confirmed\", ascending=False).head(row_max)\n",
    "    fig = px.scatter(countries_to_show_df, x=\"confirmed\", y=\"deaths\",size=\"deaths\", color=\"country_region\",\n",
    "                 hover_name=\"country_region\", log_x=True, size_max=60)\n",
    "    fig.show()"
   ]
  },
  {
   "cell_type": "code",
   "execution_count": 10,
   "metadata": {},
   "outputs": [],
   "source": [
    "confirmed_df.rename(columns={\"country/region\": \"country\"}, inplace=True)"
   ]
  },
  {
   "cell_type": "code",
   "execution_count": 11,
   "metadata": {},
   "outputs": [],
   "source": [
    "deaths_df.rename(columns={\"country/region\": \"country\"}, inplace=True)"
   ]
  },
  {
   "cell_type": "code",
   "execution_count": 12,
   "metadata": {},
   "outputs": [],
   "source": [
    "# Number of confirmed cases\n",
    "confirmed_df_y=confirmed_df.query(\"country=='US'\").loc[:,'1/22/20'::].values[0]\n",
    "# X values - dates\n",
    "confirmed_df_x=confirmed_df.query(\"country=='US'\").loc[:,'1/22/20'::].columns"
   ]
  },
  {
   "cell_type": "code",
   "execution_count": 13,
   "metadata": {},
   "outputs": [],
   "source": [
    "# Number of deads\n",
    "deaths_df_y=deaths_df.query(\"country=='US'\").loc[:,'1/22/20'::].values[0]\n",
    "# X values - dates\n",
    "deaths_df_x=deaths_df.query(\"country=='US'\").loc[:,'1/22/20'::].columns"
   ]
  },
  {
   "cell_type": "code",
   "execution_count": 14,
   "metadata": {},
   "outputs": [],
   "source": [
    "confirmed_by_country = confirmed_df.groupby(['country']).sum()\n",
    "deaths_by_country = deaths_df.groupby(['country']).sum()"
   ]
  },
  {
   "cell_type": "code",
   "execution_count": 16,
   "metadata": {},
   "outputs": [
    {
     "data": {
      "application/vnd.jupyter.widget-view+json": {
       "model_id": "c077e53bdae64e9aaf912fbd4d37db2e",
       "version_major": 2,
       "version_minor": 0
      },
      "text/plain": [
       "interactive(children=(Dropdown(description='country', options=('Afghanistan', 'Albania', 'Algeria', 'Andorra',…"
      ]
     },
     "metadata": {},
     "output_type": "display_data"
    }
   ],
   "source": [
    "@interact\n",
    "def show_by_country(country=confirmed_by_country.index): \n",
    "    \"\"\"Show confirmed and deaths per country\"\"\"\n",
    "    # Number of confirmed cases\n",
    "    confirmed_df_y=confirmed_by_country.query(f\"country=='{country}'\").loc[:,'1/22/20'::].values[0]\n",
    "    # X values - dates\n",
    "    confirmed_df_x=confirmed_by_country.query(f\"country=='{country}'\").loc[:,'1/22/20'::].columns\n",
    "    # Number of deads\n",
    "    deaths_df_y=deaths_by_country.query(f\"country=='{country}'\").loc[:,'1/22/20'::].values[0]\n",
    "    # X values - dates\n",
    "    deaths_df_x=deaths_by_country.query(f\"country=='{country}'\").loc[:,'1/22/20'::].columns\n",
    "    fig = go.Figure()\n",
    "    fig.add_trace(go.Scatter(x=confirmed_df_x,y=confirmed_df_y,mode='lines+markers', name='confirmed'))\n",
    "    fig.add_trace(go.Scatter(x=deaths_df_x,y=deaths_df_y,mode='markers',name='deaths'))\n",
    "    fig.show()"
   ]
  },
  {
   "cell_type": "code",
   "execution_count": 17,
   "metadata": {},
   "outputs": [],
   "source": [
    "# Plot top 10 worst hit countries"
   ]
  },
  {
   "cell_type": "code",
   "execution_count": 19,
   "metadata": {},
   "outputs": [
    {
     "data": {
      "application/vnd.plotly.v1+json": {
       "config": {
        "plotlyServerURL": "https://plot.ly"
       },
       "data": [
        {
         "hovertemplate": "<b>%{hovertext}</b><br><br>country_region=US<br>confirmed=%{marker.size}<br>deaths=%{y}<extra></extra>",
         "hovertext": [
          "US"
         ],
         "legendgroup": "US",
         "marker": {
          "color": "#636efa",
          "size": [
           7094145
          ],
          "sizemode": "area",
          "sizeref": 1970.5958333333333,
          "symbol": "circle"
         },
         "mode": "markers",
         "name": "US",
         "orientation": "v",
         "showlegend": true,
         "type": "scatter",
         "x": [
          7094145
         ],
         "xaxis": "x",
         "y": [
          204607
         ],
         "yaxis": "y"
        },
        {
         "hovertemplate": "<b>%{hovertext}</b><br><br>country_region=India<br>confirmed=%{marker.size}<br>deaths=%{y}<extra></extra>",
         "hovertext": [
          "India"
         ],
         "legendgroup": "India",
         "marker": {
          "color": "#EF553B",
          "size": [
           5992532
          ],
          "sizemode": "area",
          "sizeref": 1970.5958333333333,
          "symbol": "circle"
         },
         "mode": "markers",
         "name": "India",
         "orientation": "v",
         "showlegend": true,
         "type": "scatter",
         "x": [
          5992532
         ],
         "xaxis": "x",
         "y": [
          94503
         ],
         "yaxis": "y"
        },
        {
         "hovertemplate": "<b>%{hovertext}</b><br><br>country_region=Brazil<br>confirmed=%{marker.size}<br>deaths=%{y}<extra></extra>",
         "hovertext": [
          "Brazil"
         ],
         "legendgroup": "Brazil",
         "marker": {
          "color": "#00cc96",
          "size": [
           4717991
          ],
          "sizemode": "area",
          "sizeref": 1970.5958333333333,
          "symbol": "circle"
         },
         "mode": "markers",
         "name": "Brazil",
         "orientation": "v",
         "showlegend": true,
         "type": "scatter",
         "x": [
          4717991
         ],
         "xaxis": "x",
         "y": [
          141406
         ],
         "yaxis": "y"
        },
        {
         "hovertemplate": "<b>%{hovertext}</b><br><br>country_region=Russia<br>confirmed=%{marker.size}<br>deaths=%{y}<extra></extra>",
         "hovertext": [
          "Russia"
         ],
         "legendgroup": "Russia",
         "marker": {
          "color": "#ab63fa",
          "size": [
           1146273
          ],
          "sizemode": "area",
          "sizeref": 1970.5958333333333,
          "symbol": "circle"
         },
         "mode": "markers",
         "name": "Russia",
         "orientation": "v",
         "showlegend": true,
         "type": "scatter",
         "x": [
          1146273
         ],
         "xaxis": "x",
         "y": [
          20239
         ],
         "yaxis": "y"
        },
        {
         "hovertemplate": "<b>%{hovertext}</b><br><br>country_region=Colombia<br>confirmed=%{marker.size}<br>deaths=%{y}<extra></extra>",
         "hovertext": [
          "Colombia"
         ],
         "legendgroup": "Colombia",
         "marker": {
          "color": "#FFA15A",
          "size": [
           806038
          ],
          "sizemode": "area",
          "sizeref": 1970.5958333333333,
          "symbol": "circle"
         },
         "mode": "markers",
         "name": "Colombia",
         "orientation": "v",
         "showlegend": true,
         "type": "scatter",
         "x": [
          806038
         ],
         "xaxis": "x",
         "y": [
          25296
         ],
         "yaxis": "y"
        },
        {
         "hovertemplate": "<b>%{hovertext}</b><br><br>country_region=Peru<br>confirmed=%{marker.size}<br>deaths=%{y}<extra></extra>",
         "hovertext": [
          "Peru"
         ],
         "legendgroup": "Peru",
         "marker": {
          "color": "#19d3f3",
          "size": [
           800142
          ],
          "sizemode": "area",
          "sizeref": 1970.5958333333333,
          "symbol": "circle"
         },
         "mode": "markers",
         "name": "Peru",
         "orientation": "v",
         "showlegend": true,
         "type": "scatter",
         "x": [
          800142
         ],
         "xaxis": "x",
         "y": [
          32142
         ],
         "yaxis": "y"
        },
        {
         "hovertemplate": "<b>%{hovertext}</b><br><br>country_region=Mexico<br>confirmed=%{marker.size}<br>deaths=%{y}<extra></extra>",
         "hovertext": [
          "Mexico"
         ],
         "legendgroup": "Mexico",
         "marker": {
          "color": "#FF6692",
          "size": [
           726431
          ],
          "sizemode": "area",
          "sizeref": 1970.5958333333333,
          "symbol": "circle"
         },
         "mode": "markers",
         "name": "Mexico",
         "orientation": "v",
         "showlegend": true,
         "type": "scatter",
         "x": [
          726431
         ],
         "xaxis": "x",
         "y": [
          76243
         ],
         "yaxis": "y"
        },
        {
         "hovertemplate": "<b>%{hovertext}</b><br><br>country_region=Spain<br>confirmed=%{marker.size}<br>deaths=%{y}<extra></extra>",
         "hovertext": [
          "Spain"
         ],
         "legendgroup": "Spain",
         "marker": {
          "color": "#B6E880",
          "size": [
           716481
          ],
          "sizemode": "area",
          "sizeref": 1970.5958333333333,
          "symbol": "circle"
         },
         "mode": "markers",
         "name": "Spain",
         "orientation": "v",
         "showlegend": true,
         "type": "scatter",
         "x": [
          716481
         ],
         "xaxis": "x",
         "y": [
          31232
         ],
         "yaxis": "y"
        },
        {
         "hovertemplate": "<b>%{hovertext}</b><br><br>country_region=Argentina<br>confirmed=%{marker.size}<br>deaths=%{y}<extra></extra>",
         "hovertext": [
          "Argentina"
         ],
         "legendgroup": "Argentina",
         "marker": {
          "color": "#FF97FF",
          "size": [
           702484
          ],
          "sizemode": "area",
          "sizeref": 1970.5958333333333,
          "symbol": "circle"
         },
         "mode": "markers",
         "name": "Argentina",
         "orientation": "v",
         "showlegend": true,
         "type": "scatter",
         "x": [
          702484
         ],
         "xaxis": "x",
         "y": [
          15543
         ],
         "yaxis": "y"
        },
        {
         "hovertemplate": "<b>%{hovertext}</b><br><br>country_region=South Africa<br>confirmed=%{marker.size}<br>deaths=%{y}<extra></extra>",
         "hovertext": [
          "South Africa"
         ],
         "legendgroup": "South Africa",
         "marker": {
          "color": "#FECB52",
          "size": [
           669498
          ],
          "sizemode": "area",
          "sizeref": 1970.5958333333333,
          "symbol": "circle"
         },
         "mode": "markers",
         "name": "South Africa",
         "orientation": "v",
         "showlegend": true,
         "type": "scatter",
         "x": [
          669498
         ],
         "xaxis": "x",
         "y": [
          16376
         ],
         "yaxis": "y"
        }
       ],
       "layout": {
        "legend": {
         "itemsizing": "constant",
         "title": {
          "text": "country_region"
         },
         "tracegroupgap": 0
        },
        "margin": {
         "t": 60
        },
        "template": {
         "data": {
          "bar": [
           {
            "error_x": {
             "color": "#2a3f5f"
            },
            "error_y": {
             "color": "#2a3f5f"
            },
            "marker": {
             "line": {
              "color": "#E5ECF6",
              "width": 0.5
             }
            },
            "type": "bar"
           }
          ],
          "barpolar": [
           {
            "marker": {
             "line": {
              "color": "#E5ECF6",
              "width": 0.5
             }
            },
            "type": "barpolar"
           }
          ],
          "carpet": [
           {
            "aaxis": {
             "endlinecolor": "#2a3f5f",
             "gridcolor": "white",
             "linecolor": "white",
             "minorgridcolor": "white",
             "startlinecolor": "#2a3f5f"
            },
            "baxis": {
             "endlinecolor": "#2a3f5f",
             "gridcolor": "white",
             "linecolor": "white",
             "minorgridcolor": "white",
             "startlinecolor": "#2a3f5f"
            },
            "type": "carpet"
           }
          ],
          "choropleth": [
           {
            "colorbar": {
             "outlinewidth": 0,
             "ticks": ""
            },
            "type": "choropleth"
           }
          ],
          "contour": [
           {
            "colorbar": {
             "outlinewidth": 0,
             "ticks": ""
            },
            "colorscale": [
             [
              0,
              "#0d0887"
             ],
             [
              0.1111111111111111,
              "#46039f"
             ],
             [
              0.2222222222222222,
              "#7201a8"
             ],
             [
              0.3333333333333333,
              "#9c179e"
             ],
             [
              0.4444444444444444,
              "#bd3786"
             ],
             [
              0.5555555555555556,
              "#d8576b"
             ],
             [
              0.6666666666666666,
              "#ed7953"
             ],
             [
              0.7777777777777778,
              "#fb9f3a"
             ],
             [
              0.8888888888888888,
              "#fdca26"
             ],
             [
              1,
              "#f0f921"
             ]
            ],
            "type": "contour"
           }
          ],
          "contourcarpet": [
           {
            "colorbar": {
             "outlinewidth": 0,
             "ticks": ""
            },
            "type": "contourcarpet"
           }
          ],
          "heatmap": [
           {
            "colorbar": {
             "outlinewidth": 0,
             "ticks": ""
            },
            "colorscale": [
             [
              0,
              "#0d0887"
             ],
             [
              0.1111111111111111,
              "#46039f"
             ],
             [
              0.2222222222222222,
              "#7201a8"
             ],
             [
              0.3333333333333333,
              "#9c179e"
             ],
             [
              0.4444444444444444,
              "#bd3786"
             ],
             [
              0.5555555555555556,
              "#d8576b"
             ],
             [
              0.6666666666666666,
              "#ed7953"
             ],
             [
              0.7777777777777778,
              "#fb9f3a"
             ],
             [
              0.8888888888888888,
              "#fdca26"
             ],
             [
              1,
              "#f0f921"
             ]
            ],
            "type": "heatmap"
           }
          ],
          "heatmapgl": [
           {
            "colorbar": {
             "outlinewidth": 0,
             "ticks": ""
            },
            "colorscale": [
             [
              0,
              "#0d0887"
             ],
             [
              0.1111111111111111,
              "#46039f"
             ],
             [
              0.2222222222222222,
              "#7201a8"
             ],
             [
              0.3333333333333333,
              "#9c179e"
             ],
             [
              0.4444444444444444,
              "#bd3786"
             ],
             [
              0.5555555555555556,
              "#d8576b"
             ],
             [
              0.6666666666666666,
              "#ed7953"
             ],
             [
              0.7777777777777778,
              "#fb9f3a"
             ],
             [
              0.8888888888888888,
              "#fdca26"
             ],
             [
              1,
              "#f0f921"
             ]
            ],
            "type": "heatmapgl"
           }
          ],
          "histogram": [
           {
            "marker": {
             "colorbar": {
              "outlinewidth": 0,
              "ticks": ""
             }
            },
            "type": "histogram"
           }
          ],
          "histogram2d": [
           {
            "colorbar": {
             "outlinewidth": 0,
             "ticks": ""
            },
            "colorscale": [
             [
              0,
              "#0d0887"
             ],
             [
              0.1111111111111111,
              "#46039f"
             ],
             [
              0.2222222222222222,
              "#7201a8"
             ],
             [
              0.3333333333333333,
              "#9c179e"
             ],
             [
              0.4444444444444444,
              "#bd3786"
             ],
             [
              0.5555555555555556,
              "#d8576b"
             ],
             [
              0.6666666666666666,
              "#ed7953"
             ],
             [
              0.7777777777777778,
              "#fb9f3a"
             ],
             [
              0.8888888888888888,
              "#fdca26"
             ],
             [
              1,
              "#f0f921"
             ]
            ],
            "type": "histogram2d"
           }
          ],
          "histogram2dcontour": [
           {
            "colorbar": {
             "outlinewidth": 0,
             "ticks": ""
            },
            "colorscale": [
             [
              0,
              "#0d0887"
             ],
             [
              0.1111111111111111,
              "#46039f"
             ],
             [
              0.2222222222222222,
              "#7201a8"
             ],
             [
              0.3333333333333333,
              "#9c179e"
             ],
             [
              0.4444444444444444,
              "#bd3786"
             ],
             [
              0.5555555555555556,
              "#d8576b"
             ],
             [
              0.6666666666666666,
              "#ed7953"
             ],
             [
              0.7777777777777778,
              "#fb9f3a"
             ],
             [
              0.8888888888888888,
              "#fdca26"
             ],
             [
              1,
              "#f0f921"
             ]
            ],
            "type": "histogram2dcontour"
           }
          ],
          "mesh3d": [
           {
            "colorbar": {
             "outlinewidth": 0,
             "ticks": ""
            },
            "type": "mesh3d"
           }
          ],
          "parcoords": [
           {
            "line": {
             "colorbar": {
              "outlinewidth": 0,
              "ticks": ""
             }
            },
            "type": "parcoords"
           }
          ],
          "pie": [
           {
            "automargin": true,
            "type": "pie"
           }
          ],
          "scatter": [
           {
            "marker": {
             "colorbar": {
              "outlinewidth": 0,
              "ticks": ""
             }
            },
            "type": "scatter"
           }
          ],
          "scatter3d": [
           {
            "line": {
             "colorbar": {
              "outlinewidth": 0,
              "ticks": ""
             }
            },
            "marker": {
             "colorbar": {
              "outlinewidth": 0,
              "ticks": ""
             }
            },
            "type": "scatter3d"
           }
          ],
          "scattercarpet": [
           {
            "marker": {
             "colorbar": {
              "outlinewidth": 0,
              "ticks": ""
             }
            },
            "type": "scattercarpet"
           }
          ],
          "scattergeo": [
           {
            "marker": {
             "colorbar": {
              "outlinewidth": 0,
              "ticks": ""
             }
            },
            "type": "scattergeo"
           }
          ],
          "scattergl": [
           {
            "marker": {
             "colorbar": {
              "outlinewidth": 0,
              "ticks": ""
             }
            },
            "type": "scattergl"
           }
          ],
          "scattermapbox": [
           {
            "marker": {
             "colorbar": {
              "outlinewidth": 0,
              "ticks": ""
             }
            },
            "type": "scattermapbox"
           }
          ],
          "scatterpolar": [
           {
            "marker": {
             "colorbar": {
              "outlinewidth": 0,
              "ticks": ""
             }
            },
            "type": "scatterpolar"
           }
          ],
          "scatterpolargl": [
           {
            "marker": {
             "colorbar": {
              "outlinewidth": 0,
              "ticks": ""
             }
            },
            "type": "scatterpolargl"
           }
          ],
          "scatterternary": [
           {
            "marker": {
             "colorbar": {
              "outlinewidth": 0,
              "ticks": ""
             }
            },
            "type": "scatterternary"
           }
          ],
          "surface": [
           {
            "colorbar": {
             "outlinewidth": 0,
             "ticks": ""
            },
            "colorscale": [
             [
              0,
              "#0d0887"
             ],
             [
              0.1111111111111111,
              "#46039f"
             ],
             [
              0.2222222222222222,
              "#7201a8"
             ],
             [
              0.3333333333333333,
              "#9c179e"
             ],
             [
              0.4444444444444444,
              "#bd3786"
             ],
             [
              0.5555555555555556,
              "#d8576b"
             ],
             [
              0.6666666666666666,
              "#ed7953"
             ],
             [
              0.7777777777777778,
              "#fb9f3a"
             ],
             [
              0.8888888888888888,
              "#fdca26"
             ],
             [
              1,
              "#f0f921"
             ]
            ],
            "type": "surface"
           }
          ],
          "table": [
           {
            "cells": {
             "fill": {
              "color": "#EBF0F8"
             },
             "line": {
              "color": "white"
             }
            },
            "header": {
             "fill": {
              "color": "#C8D4E3"
             },
             "line": {
              "color": "white"
             }
            },
            "type": "table"
           }
          ]
         },
         "layout": {
          "annotationdefaults": {
           "arrowcolor": "#2a3f5f",
           "arrowhead": 0,
           "arrowwidth": 1
          },
          "coloraxis": {
           "colorbar": {
            "outlinewidth": 0,
            "ticks": ""
           }
          },
          "colorscale": {
           "diverging": [
            [
             0,
             "#8e0152"
            ],
            [
             0.1,
             "#c51b7d"
            ],
            [
             0.2,
             "#de77ae"
            ],
            [
             0.3,
             "#f1b6da"
            ],
            [
             0.4,
             "#fde0ef"
            ],
            [
             0.5,
             "#f7f7f7"
            ],
            [
             0.6,
             "#e6f5d0"
            ],
            [
             0.7,
             "#b8e186"
            ],
            [
             0.8,
             "#7fbc41"
            ],
            [
             0.9,
             "#4d9221"
            ],
            [
             1,
             "#276419"
            ]
           ],
           "sequential": [
            [
             0,
             "#0d0887"
            ],
            [
             0.1111111111111111,
             "#46039f"
            ],
            [
             0.2222222222222222,
             "#7201a8"
            ],
            [
             0.3333333333333333,
             "#9c179e"
            ],
            [
             0.4444444444444444,
             "#bd3786"
            ],
            [
             0.5555555555555556,
             "#d8576b"
            ],
            [
             0.6666666666666666,
             "#ed7953"
            ],
            [
             0.7777777777777778,
             "#fb9f3a"
            ],
            [
             0.8888888888888888,
             "#fdca26"
            ],
            [
             1,
             "#f0f921"
            ]
           ],
           "sequentialminus": [
            [
             0,
             "#0d0887"
            ],
            [
             0.1111111111111111,
             "#46039f"
            ],
            [
             0.2222222222222222,
             "#7201a8"
            ],
            [
             0.3333333333333333,
             "#9c179e"
            ],
            [
             0.4444444444444444,
             "#bd3786"
            ],
            [
             0.5555555555555556,
             "#d8576b"
            ],
            [
             0.6666666666666666,
             "#ed7953"
            ],
            [
             0.7777777777777778,
             "#fb9f3a"
            ],
            [
             0.8888888888888888,
             "#fdca26"
            ],
            [
             1,
             "#f0f921"
            ]
           ]
          },
          "colorway": [
           "#636efa",
           "#EF553B",
           "#00cc96",
           "#ab63fa",
           "#FFA15A",
           "#19d3f3",
           "#FF6692",
           "#B6E880",
           "#FF97FF",
           "#FECB52"
          ],
          "font": {
           "color": "#2a3f5f"
          },
          "geo": {
           "bgcolor": "white",
           "lakecolor": "white",
           "landcolor": "#E5ECF6",
           "showlakes": true,
           "showland": true,
           "subunitcolor": "white"
          },
          "hoverlabel": {
           "align": "left"
          },
          "hovermode": "closest",
          "mapbox": {
           "style": "light"
          },
          "paper_bgcolor": "white",
          "plot_bgcolor": "#E5ECF6",
          "polar": {
           "angularaxis": {
            "gridcolor": "white",
            "linecolor": "white",
            "ticks": ""
           },
           "bgcolor": "#E5ECF6",
           "radialaxis": {
            "gridcolor": "white",
            "linecolor": "white",
            "ticks": ""
           }
          },
          "scene": {
           "xaxis": {
            "backgroundcolor": "#E5ECF6",
            "gridcolor": "white",
            "gridwidth": 2,
            "linecolor": "white",
            "showbackground": true,
            "ticks": "",
            "zerolinecolor": "white"
           },
           "yaxis": {
            "backgroundcolor": "#E5ECF6",
            "gridcolor": "white",
            "gridwidth": 2,
            "linecolor": "white",
            "showbackground": true,
            "ticks": "",
            "zerolinecolor": "white"
           },
           "zaxis": {
            "backgroundcolor": "#E5ECF6",
            "gridcolor": "white",
            "gridwidth": 2,
            "linecolor": "white",
            "showbackground": true,
            "ticks": "",
            "zerolinecolor": "white"
           }
          },
          "shapedefaults": {
           "line": {
            "color": "#2a3f5f"
           }
          },
          "ternary": {
           "aaxis": {
            "gridcolor": "white",
            "linecolor": "white",
            "ticks": ""
           },
           "baxis": {
            "gridcolor": "white",
            "linecolor": "white",
            "ticks": ""
           },
           "bgcolor": "#E5ECF6",
           "caxis": {
            "gridcolor": "white",
            "linecolor": "white",
            "ticks": ""
           }
          },
          "title": {
           "x": 0.05
          },
          "xaxis": {
           "automargin": true,
           "gridcolor": "white",
           "linecolor": "white",
           "ticks": "",
           "title": {
            "standoff": 15
           },
           "zerolinecolor": "white",
           "zerolinewidth": 2
          },
          "yaxis": {
           "automargin": true,
           "gridcolor": "white",
           "linecolor": "white",
           "ticks": "",
           "title": {
            "standoff": 15
           },
           "zerolinecolor": "white",
           "zerolinewidth": 2
          }
         }
        },
        "xaxis": {
         "anchor": "y",
         "domain": [
          0,
          1
         ],
         "title": {
          "text": "confirmed"
         },
         "type": "log"
        },
        "yaxis": {
         "anchor": "x",
         "domain": [
          0,
          1
         ],
         "title": {
          "text": "deaths"
         }
        }
       }
      },
      "text/html": [
       "<div>                            <div id=\"b36956d9-3e34-4f80-bf1e-7b8385fef53e\" class=\"plotly-graph-div\" style=\"height:525px; width:100%;\"></div>            <script type=\"text/javascript\">                require([\"plotly\"], function(Plotly) {                    window.PLOTLYENV=window.PLOTLYENV || {};                                    if (document.getElementById(\"b36956d9-3e34-4f80-bf1e-7b8385fef53e\")) {                    Plotly.newPlot(                        \"b36956d9-3e34-4f80-bf1e-7b8385fef53e\",                        [{\"hovertemplate\": \"<b>%{hovertext}</b><br><br>country_region=US<br>confirmed=%{marker.size}<br>deaths=%{y}<extra></extra>\", \"hovertext\": [\"US\"], \"legendgroup\": \"US\", \"marker\": {\"color\": \"#636efa\", \"size\": [7094145.0], \"sizemode\": \"area\", \"sizeref\": 1970.5958333333333, \"symbol\": \"circle\"}, \"mode\": \"markers\", \"name\": \"US\", \"orientation\": \"v\", \"showlegend\": true, \"type\": \"scatter\", \"x\": [7094145.0], \"xaxis\": \"x\", \"y\": [204607.0], \"yaxis\": \"y\"}, {\"hovertemplate\": \"<b>%{hovertext}</b><br><br>country_region=India<br>confirmed=%{marker.size}<br>deaths=%{y}<extra></extra>\", \"hovertext\": [\"India\"], \"legendgroup\": \"India\", \"marker\": {\"color\": \"#EF553B\", \"size\": [5992532.0], \"sizemode\": \"area\", \"sizeref\": 1970.5958333333333, \"symbol\": \"circle\"}, \"mode\": \"markers\", \"name\": \"India\", \"orientation\": \"v\", \"showlegend\": true, \"type\": \"scatter\", \"x\": [5992532.0], \"xaxis\": \"x\", \"y\": [94503.0], \"yaxis\": \"y\"}, {\"hovertemplate\": \"<b>%{hovertext}</b><br><br>country_region=Brazil<br>confirmed=%{marker.size}<br>deaths=%{y}<extra></extra>\", \"hovertext\": [\"Brazil\"], \"legendgroup\": \"Brazil\", \"marker\": {\"color\": \"#00cc96\", \"size\": [4717991.0], \"sizemode\": \"area\", \"sizeref\": 1970.5958333333333, \"symbol\": \"circle\"}, \"mode\": \"markers\", \"name\": \"Brazil\", \"orientation\": \"v\", \"showlegend\": true, \"type\": \"scatter\", \"x\": [4717991.0], \"xaxis\": \"x\", \"y\": [141406.0], \"yaxis\": \"y\"}, {\"hovertemplate\": \"<b>%{hovertext}</b><br><br>country_region=Russia<br>confirmed=%{marker.size}<br>deaths=%{y}<extra></extra>\", \"hovertext\": [\"Russia\"], \"legendgroup\": \"Russia\", \"marker\": {\"color\": \"#ab63fa\", \"size\": [1146273.0], \"sizemode\": \"area\", \"sizeref\": 1970.5958333333333, \"symbol\": \"circle\"}, \"mode\": \"markers\", \"name\": \"Russia\", \"orientation\": \"v\", \"showlegend\": true, \"type\": \"scatter\", \"x\": [1146273.0], \"xaxis\": \"x\", \"y\": [20239.0], \"yaxis\": \"y\"}, {\"hovertemplate\": \"<b>%{hovertext}</b><br><br>country_region=Colombia<br>confirmed=%{marker.size}<br>deaths=%{y}<extra></extra>\", \"hovertext\": [\"Colombia\"], \"legendgroup\": \"Colombia\", \"marker\": {\"color\": \"#FFA15A\", \"size\": [806038.0], \"sizemode\": \"area\", \"sizeref\": 1970.5958333333333, \"symbol\": \"circle\"}, \"mode\": \"markers\", \"name\": \"Colombia\", \"orientation\": \"v\", \"showlegend\": true, \"type\": \"scatter\", \"x\": [806038.0], \"xaxis\": \"x\", \"y\": [25296.0], \"yaxis\": \"y\"}, {\"hovertemplate\": \"<b>%{hovertext}</b><br><br>country_region=Peru<br>confirmed=%{marker.size}<br>deaths=%{y}<extra></extra>\", \"hovertext\": [\"Peru\"], \"legendgroup\": \"Peru\", \"marker\": {\"color\": \"#19d3f3\", \"size\": [800142.0], \"sizemode\": \"area\", \"sizeref\": 1970.5958333333333, \"symbol\": \"circle\"}, \"mode\": \"markers\", \"name\": \"Peru\", \"orientation\": \"v\", \"showlegend\": true, \"type\": \"scatter\", \"x\": [800142.0], \"xaxis\": \"x\", \"y\": [32142.0], \"yaxis\": \"y\"}, {\"hovertemplate\": \"<b>%{hovertext}</b><br><br>country_region=Mexico<br>confirmed=%{marker.size}<br>deaths=%{y}<extra></extra>\", \"hovertext\": [\"Mexico\"], \"legendgroup\": \"Mexico\", \"marker\": {\"color\": \"#FF6692\", \"size\": [726431.0], \"sizemode\": \"area\", \"sizeref\": 1970.5958333333333, \"symbol\": \"circle\"}, \"mode\": \"markers\", \"name\": \"Mexico\", \"orientation\": \"v\", \"showlegend\": true, \"type\": \"scatter\", \"x\": [726431.0], \"xaxis\": \"x\", \"y\": [76243.0], \"yaxis\": \"y\"}, {\"hovertemplate\": \"<b>%{hovertext}</b><br><br>country_region=Spain<br>confirmed=%{marker.size}<br>deaths=%{y}<extra></extra>\", \"hovertext\": [\"Spain\"], \"legendgroup\": \"Spain\", \"marker\": {\"color\": \"#B6E880\", \"size\": [716481.0], \"sizemode\": \"area\", \"sizeref\": 1970.5958333333333, \"symbol\": \"circle\"}, \"mode\": \"markers\", \"name\": \"Spain\", \"orientation\": \"v\", \"showlegend\": true, \"type\": \"scatter\", \"x\": [716481.0], \"xaxis\": \"x\", \"y\": [31232.0], \"yaxis\": \"y\"}, {\"hovertemplate\": \"<b>%{hovertext}</b><br><br>country_region=Argentina<br>confirmed=%{marker.size}<br>deaths=%{y}<extra></extra>\", \"hovertext\": [\"Argentina\"], \"legendgroup\": \"Argentina\", \"marker\": {\"color\": \"#FF97FF\", \"size\": [702484.0], \"sizemode\": \"area\", \"sizeref\": 1970.5958333333333, \"symbol\": \"circle\"}, \"mode\": \"markers\", \"name\": \"Argentina\", \"orientation\": \"v\", \"showlegend\": true, \"type\": \"scatter\", \"x\": [702484.0], \"xaxis\": \"x\", \"y\": [15543.0], \"yaxis\": \"y\"}, {\"hovertemplate\": \"<b>%{hovertext}</b><br><br>country_region=South Africa<br>confirmed=%{marker.size}<br>deaths=%{y}<extra></extra>\", \"hovertext\": [\"South Africa\"], \"legendgroup\": \"South Africa\", \"marker\": {\"color\": \"#FECB52\", \"size\": [669498.0], \"sizemode\": \"area\", \"sizeref\": 1970.5958333333333, \"symbol\": \"circle\"}, \"mode\": \"markers\", \"name\": \"South Africa\", \"orientation\": \"v\", \"showlegend\": true, \"type\": \"scatter\", \"x\": [669498.0], \"xaxis\": \"x\", \"y\": [16376.0], \"yaxis\": \"y\"}],                        {\"legend\": {\"itemsizing\": \"constant\", \"title\": {\"text\": \"country_region\"}, \"tracegroupgap\": 0}, \"margin\": {\"t\": 60}, \"template\": {\"data\": {\"bar\": [{\"error_x\": {\"color\": \"#2a3f5f\"}, \"error_y\": {\"color\": \"#2a3f5f\"}, \"marker\": {\"line\": {\"color\": \"#E5ECF6\", \"width\": 0.5}}, \"type\": \"bar\"}], \"barpolar\": [{\"marker\": {\"line\": {\"color\": \"#E5ECF6\", \"width\": 0.5}}, \"type\": \"barpolar\"}], \"carpet\": [{\"aaxis\": {\"endlinecolor\": \"#2a3f5f\", \"gridcolor\": \"white\", \"linecolor\": \"white\", \"minorgridcolor\": \"white\", \"startlinecolor\": \"#2a3f5f\"}, \"baxis\": {\"endlinecolor\": \"#2a3f5f\", \"gridcolor\": \"white\", \"linecolor\": \"white\", \"minorgridcolor\": \"white\", \"startlinecolor\": \"#2a3f5f\"}, \"type\": \"carpet\"}], \"choropleth\": [{\"colorbar\": {\"outlinewidth\": 0, \"ticks\": \"\"}, \"type\": \"choropleth\"}], \"contour\": [{\"colorbar\": {\"outlinewidth\": 0, \"ticks\": \"\"}, \"colorscale\": [[0.0, \"#0d0887\"], [0.1111111111111111, \"#46039f\"], [0.2222222222222222, \"#7201a8\"], [0.3333333333333333, \"#9c179e\"], [0.4444444444444444, \"#bd3786\"], [0.5555555555555556, \"#d8576b\"], [0.6666666666666666, \"#ed7953\"], [0.7777777777777778, \"#fb9f3a\"], [0.8888888888888888, \"#fdca26\"], [1.0, \"#f0f921\"]], \"type\": \"contour\"}], \"contourcarpet\": [{\"colorbar\": {\"outlinewidth\": 0, \"ticks\": \"\"}, \"type\": \"contourcarpet\"}], \"heatmap\": [{\"colorbar\": {\"outlinewidth\": 0, \"ticks\": \"\"}, \"colorscale\": [[0.0, \"#0d0887\"], [0.1111111111111111, \"#46039f\"], [0.2222222222222222, \"#7201a8\"], [0.3333333333333333, \"#9c179e\"], [0.4444444444444444, \"#bd3786\"], [0.5555555555555556, \"#d8576b\"], [0.6666666666666666, \"#ed7953\"], [0.7777777777777778, \"#fb9f3a\"], [0.8888888888888888, \"#fdca26\"], [1.0, \"#f0f921\"]], \"type\": \"heatmap\"}], \"heatmapgl\": [{\"colorbar\": {\"outlinewidth\": 0, \"ticks\": \"\"}, \"colorscale\": [[0.0, \"#0d0887\"], [0.1111111111111111, \"#46039f\"], [0.2222222222222222, \"#7201a8\"], [0.3333333333333333, \"#9c179e\"], [0.4444444444444444, \"#bd3786\"], [0.5555555555555556, \"#d8576b\"], [0.6666666666666666, \"#ed7953\"], [0.7777777777777778, \"#fb9f3a\"], [0.8888888888888888, \"#fdca26\"], [1.0, \"#f0f921\"]], \"type\": \"heatmapgl\"}], \"histogram\": [{\"marker\": {\"colorbar\": {\"outlinewidth\": 0, \"ticks\": \"\"}}, \"type\": \"histogram\"}], \"histogram2d\": [{\"colorbar\": {\"outlinewidth\": 0, \"ticks\": \"\"}, \"colorscale\": [[0.0, \"#0d0887\"], [0.1111111111111111, \"#46039f\"], [0.2222222222222222, \"#7201a8\"], [0.3333333333333333, \"#9c179e\"], [0.4444444444444444, \"#bd3786\"], [0.5555555555555556, \"#d8576b\"], [0.6666666666666666, \"#ed7953\"], [0.7777777777777778, \"#fb9f3a\"], [0.8888888888888888, \"#fdca26\"], [1.0, \"#f0f921\"]], \"type\": \"histogram2d\"}], \"histogram2dcontour\": [{\"colorbar\": {\"outlinewidth\": 0, \"ticks\": \"\"}, \"colorscale\": [[0.0, \"#0d0887\"], [0.1111111111111111, \"#46039f\"], [0.2222222222222222, \"#7201a8\"], [0.3333333333333333, \"#9c179e\"], [0.4444444444444444, \"#bd3786\"], [0.5555555555555556, \"#d8576b\"], [0.6666666666666666, \"#ed7953\"], [0.7777777777777778, \"#fb9f3a\"], [0.8888888888888888, \"#fdca26\"], [1.0, \"#f0f921\"]], \"type\": \"histogram2dcontour\"}], \"mesh3d\": [{\"colorbar\": {\"outlinewidth\": 0, \"ticks\": \"\"}, \"type\": \"mesh3d\"}], \"parcoords\": [{\"line\": {\"colorbar\": {\"outlinewidth\": 0, \"ticks\": \"\"}}, \"type\": \"parcoords\"}], \"pie\": [{\"automargin\": true, \"type\": \"pie\"}], \"scatter\": [{\"marker\": {\"colorbar\": {\"outlinewidth\": 0, \"ticks\": \"\"}}, \"type\": \"scatter\"}], \"scatter3d\": [{\"line\": {\"colorbar\": {\"outlinewidth\": 0, \"ticks\": \"\"}}, \"marker\": {\"colorbar\": {\"outlinewidth\": 0, \"ticks\": \"\"}}, \"type\": \"scatter3d\"}], \"scattercarpet\": [{\"marker\": {\"colorbar\": {\"outlinewidth\": 0, \"ticks\": \"\"}}, \"type\": \"scattercarpet\"}], \"scattergeo\": [{\"marker\": {\"colorbar\": {\"outlinewidth\": 0, \"ticks\": \"\"}}, \"type\": \"scattergeo\"}], \"scattergl\": [{\"marker\": {\"colorbar\": {\"outlinewidth\": 0, \"ticks\": \"\"}}, \"type\": \"scattergl\"}], \"scattermapbox\": [{\"marker\": {\"colorbar\": {\"outlinewidth\": 0, \"ticks\": \"\"}}, \"type\": \"scattermapbox\"}], \"scatterpolar\": [{\"marker\": {\"colorbar\": {\"outlinewidth\": 0, \"ticks\": \"\"}}, \"type\": \"scatterpolar\"}], \"scatterpolargl\": [{\"marker\": {\"colorbar\": {\"outlinewidth\": 0, \"ticks\": \"\"}}, \"type\": \"scatterpolargl\"}], \"scatterternary\": [{\"marker\": {\"colorbar\": {\"outlinewidth\": 0, \"ticks\": \"\"}}, \"type\": \"scatterternary\"}], \"surface\": [{\"colorbar\": {\"outlinewidth\": 0, \"ticks\": \"\"}, \"colorscale\": [[0.0, \"#0d0887\"], [0.1111111111111111, \"#46039f\"], [0.2222222222222222, \"#7201a8\"], [0.3333333333333333, \"#9c179e\"], [0.4444444444444444, \"#bd3786\"], [0.5555555555555556, \"#d8576b\"], [0.6666666666666666, \"#ed7953\"], [0.7777777777777778, \"#fb9f3a\"], [0.8888888888888888, \"#fdca26\"], [1.0, \"#f0f921\"]], \"type\": \"surface\"}], \"table\": [{\"cells\": {\"fill\": {\"color\": \"#EBF0F8\"}, \"line\": {\"color\": \"white\"}}, \"header\": {\"fill\": {\"color\": \"#C8D4E3\"}, \"line\": {\"color\": \"white\"}}, \"type\": \"table\"}]}, \"layout\": {\"annotationdefaults\": {\"arrowcolor\": \"#2a3f5f\", \"arrowhead\": 0, \"arrowwidth\": 1}, \"coloraxis\": {\"colorbar\": {\"outlinewidth\": 0, \"ticks\": \"\"}}, \"colorscale\": {\"diverging\": [[0, \"#8e0152\"], [0.1, \"#c51b7d\"], [0.2, \"#de77ae\"], [0.3, \"#f1b6da\"], [0.4, \"#fde0ef\"], [0.5, \"#f7f7f7\"], [0.6, \"#e6f5d0\"], [0.7, \"#b8e186\"], [0.8, \"#7fbc41\"], [0.9, \"#4d9221\"], [1, \"#276419\"]], \"sequential\": [[0.0, \"#0d0887\"], [0.1111111111111111, \"#46039f\"], [0.2222222222222222, \"#7201a8\"], [0.3333333333333333, \"#9c179e\"], [0.4444444444444444, \"#bd3786\"], [0.5555555555555556, \"#d8576b\"], [0.6666666666666666, \"#ed7953\"], [0.7777777777777778, \"#fb9f3a\"], [0.8888888888888888, \"#fdca26\"], [1.0, \"#f0f921\"]], \"sequentialminus\": [[0.0, \"#0d0887\"], [0.1111111111111111, \"#46039f\"], [0.2222222222222222, \"#7201a8\"], [0.3333333333333333, \"#9c179e\"], [0.4444444444444444, \"#bd3786\"], [0.5555555555555556, \"#d8576b\"], [0.6666666666666666, \"#ed7953\"], [0.7777777777777778, \"#fb9f3a\"], [0.8888888888888888, \"#fdca26\"], [1.0, \"#f0f921\"]]}, \"colorway\": [\"#636efa\", \"#EF553B\", \"#00cc96\", \"#ab63fa\", \"#FFA15A\", \"#19d3f3\", \"#FF6692\", \"#B6E880\", \"#FF97FF\", \"#FECB52\"], \"font\": {\"color\": \"#2a3f5f\"}, \"geo\": {\"bgcolor\": \"white\", \"lakecolor\": \"white\", \"landcolor\": \"#E5ECF6\", \"showlakes\": true, \"showland\": true, \"subunitcolor\": \"white\"}, \"hoverlabel\": {\"align\": \"left\"}, \"hovermode\": \"closest\", \"mapbox\": {\"style\": \"light\"}, \"paper_bgcolor\": \"white\", \"plot_bgcolor\": \"#E5ECF6\", \"polar\": {\"angularaxis\": {\"gridcolor\": \"white\", \"linecolor\": \"white\", \"ticks\": \"\"}, \"bgcolor\": \"#E5ECF6\", \"radialaxis\": {\"gridcolor\": \"white\", \"linecolor\": \"white\", \"ticks\": \"\"}}, \"scene\": {\"xaxis\": {\"backgroundcolor\": \"#E5ECF6\", \"gridcolor\": \"white\", \"gridwidth\": 2, \"linecolor\": \"white\", \"showbackground\": true, \"ticks\": \"\", \"zerolinecolor\": \"white\"}, \"yaxis\": {\"backgroundcolor\": \"#E5ECF6\", \"gridcolor\": \"white\", \"gridwidth\": 2, \"linecolor\": \"white\", \"showbackground\": true, \"ticks\": \"\", \"zerolinecolor\": \"white\"}, \"zaxis\": {\"backgroundcolor\": \"#E5ECF6\", \"gridcolor\": \"white\", \"gridwidth\": 2, \"linecolor\": \"white\", \"showbackground\": true, \"ticks\": \"\", \"zerolinecolor\": \"white\"}}, \"shapedefaults\": {\"line\": {\"color\": \"#2a3f5f\"}}, \"ternary\": {\"aaxis\": {\"gridcolor\": \"white\", \"linecolor\": \"white\", \"ticks\": \"\"}, \"baxis\": {\"gridcolor\": \"white\", \"linecolor\": \"white\", \"ticks\": \"\"}, \"bgcolor\": \"#E5ECF6\", \"caxis\": {\"gridcolor\": \"white\", \"linecolor\": \"white\", \"ticks\": \"\"}}, \"title\": {\"x\": 0.05}, \"xaxis\": {\"automargin\": true, \"gridcolor\": \"white\", \"linecolor\": \"white\", \"ticks\": \"\", \"title\": {\"standoff\": 15}, \"zerolinecolor\": \"white\", \"zerolinewidth\": 2}, \"yaxis\": {\"automargin\": true, \"gridcolor\": \"white\", \"linecolor\": \"white\", \"ticks\": \"\", \"title\": {\"standoff\": 15}, \"zerolinecolor\": \"white\", \"zerolinewidth\": 2}}}, \"xaxis\": {\"anchor\": \"y\", \"domain\": [0.0, 1.0], \"title\": {\"text\": \"confirmed\"}, \"type\": \"log\"}, \"yaxis\": {\"anchor\": \"x\", \"domain\": [0.0, 1.0], \"title\": {\"text\": \"deaths\"}}},                        {\"responsive\": true}                    ).then(function(){\n",
       "                            \n",
       "var gd = document.getElementById('b36956d9-3e34-4f80-bf1e-7b8385fef53e');\n",
       "var x = new MutationObserver(function (mutations, observer) {{\n",
       "        var display = window.getComputedStyle(gd).display;\n",
       "        if (!display || display === 'none') {{\n",
       "            console.log([gd, 'removed!']);\n",
       "            Plotly.purge(gd);\n",
       "            observer.disconnect();\n",
       "        }}\n",
       "}});\n",
       "\n",
       "// Listen for the removal of the full notebook cells\n",
       "var notebookContainer = gd.closest('#notebook-container');\n",
       "if (notebookContainer) {{\n",
       "    x.observe(notebookContainer, {childList: true});\n",
       "}}\n",
       "\n",
       "// Listen for the clearing of the current output cell\n",
       "var outputEl = gd.closest('.output');\n",
       "if (outputEl) {{\n",
       "    x.observe(outputEl, {childList: true});\n",
       "}}\n",
       "\n",
       "                        })                };                });            </script>        </div>"
      ]
     },
     "metadata": {},
     "output_type": "display_data"
    }
   ],
   "source": [
    "#Confirmed Cases\n",
    "top_10_confirmed = country_df.sort_values(by=\"confirmed\", ascending=False).head(10)\n",
    "fig = px.scatter(top_10_confirmed, \n",
    "                 x=\"confirmed\", y=\"deaths\",size=\"confirmed\", color=\"country_region\",\n",
    "                 hover_name=\"country_region\", log_x=True, size_max=60)\n",
    "fig.show()"
   ]
  },
  {
   "cell_type": "code",
   "execution_count": 20,
   "metadata": {},
   "outputs": [
    {
     "data": {
      "application/vnd.plotly.v1+json": {
       "config": {
        "plotlyServerURL": "https://plot.ly"
       },
       "data": [
        {
         "hovertemplate": "<b>%{hovertext}</b><br><br>country_region=US<br>deaths=%{marker.size}<br>confirmed=%{y}<extra></extra>",
         "hovertext": [
          "US"
         ],
         "legendgroup": "US",
         "marker": {
          "color": "#636efa",
          "size": [
           204607
          ],
          "sizemode": "area",
          "sizeref": 56.835277777777776,
          "symbol": "circle"
         },
         "mode": "markers",
         "name": "US",
         "orientation": "v",
         "showlegend": true,
         "type": "scatter",
         "x": [
          204607
         ],
         "xaxis": "x",
         "y": [
          7094145
         ],
         "yaxis": "y"
        },
        {
         "hovertemplate": "<b>%{hovertext}</b><br><br>country_region=Brazil<br>deaths=%{marker.size}<br>confirmed=%{y}<extra></extra>",
         "hovertext": [
          "Brazil"
         ],
         "legendgroup": "Brazil",
         "marker": {
          "color": "#EF553B",
          "size": [
           141406
          ],
          "sizemode": "area",
          "sizeref": 56.835277777777776,
          "symbol": "circle"
         },
         "mode": "markers",
         "name": "Brazil",
         "orientation": "v",
         "showlegend": true,
         "type": "scatter",
         "x": [
          141406
         ],
         "xaxis": "x",
         "y": [
          4717991
         ],
         "yaxis": "y"
        },
        {
         "hovertemplate": "<b>%{hovertext}</b><br><br>country_region=India<br>deaths=%{marker.size}<br>confirmed=%{y}<extra></extra>",
         "hovertext": [
          "India"
         ],
         "legendgroup": "India",
         "marker": {
          "color": "#00cc96",
          "size": [
           94503
          ],
          "sizemode": "area",
          "sizeref": 56.835277777777776,
          "symbol": "circle"
         },
         "mode": "markers",
         "name": "India",
         "orientation": "v",
         "showlegend": true,
         "type": "scatter",
         "x": [
          94503
         ],
         "xaxis": "x",
         "y": [
          5992532
         ],
         "yaxis": "y"
        },
        {
         "hovertemplate": "<b>%{hovertext}</b><br><br>country_region=Mexico<br>deaths=%{marker.size}<br>confirmed=%{y}<extra></extra>",
         "hovertext": [
          "Mexico"
         ],
         "legendgroup": "Mexico",
         "marker": {
          "color": "#ab63fa",
          "size": [
           76243
          ],
          "sizemode": "area",
          "sizeref": 56.835277777777776,
          "symbol": "circle"
         },
         "mode": "markers",
         "name": "Mexico",
         "orientation": "v",
         "showlegend": true,
         "type": "scatter",
         "x": [
          76243
         ],
         "xaxis": "x",
         "y": [
          726431
         ],
         "yaxis": "y"
        },
        {
         "hovertemplate": "<b>%{hovertext}</b><br><br>country_region=United Kingdom<br>deaths=%{marker.size}<br>confirmed=%{y}<extra></extra>",
         "hovertext": [
          "United Kingdom"
         ],
         "legendgroup": "United Kingdom",
         "marker": {
          "color": "#FFA15A",
          "size": [
           42077
          ],
          "sizemode": "area",
          "sizeref": 56.835277777777776,
          "symbol": "circle"
         },
         "mode": "markers",
         "name": "United Kingdom",
         "orientation": "v",
         "showlegend": true,
         "type": "scatter",
         "x": [
          42077
         ],
         "xaxis": "x",
         "y": [
          437516
         ],
         "yaxis": "y"
        },
        {
         "hovertemplate": "<b>%{hovertext}</b><br><br>country_region=Italy<br>deaths=%{marker.size}<br>confirmed=%{y}<extra></extra>",
         "hovertext": [
          "Italy"
         ],
         "legendgroup": "Italy",
         "marker": {
          "color": "#19d3f3",
          "size": [
           35835
          ],
          "sizemode": "area",
          "sizeref": 56.835277777777776,
          "symbol": "circle"
         },
         "mode": "markers",
         "name": "Italy",
         "orientation": "v",
         "showlegend": true,
         "type": "scatter",
         "x": [
          35835
         ],
         "xaxis": "x",
         "y": [
          309870
         ],
         "yaxis": "y"
        },
        {
         "hovertemplate": "<b>%{hovertext}</b><br><br>country_region=Peru<br>deaths=%{marker.size}<br>confirmed=%{y}<extra></extra>",
         "hovertext": [
          "Peru"
         ],
         "legendgroup": "Peru",
         "marker": {
          "color": "#FF6692",
          "size": [
           32142
          ],
          "sizemode": "area",
          "sizeref": 56.835277777777776,
          "symbol": "circle"
         },
         "mode": "markers",
         "name": "Peru",
         "orientation": "v",
         "showlegend": true,
         "type": "scatter",
         "x": [
          32142
         ],
         "xaxis": "x",
         "y": [
          800142
         ],
         "yaxis": "y"
        },
        {
         "hovertemplate": "<b>%{hovertext}</b><br><br>country_region=France<br>deaths=%{marker.size}<br>confirmed=%{y}<extra></extra>",
         "hovertext": [
          "France"
         ],
         "legendgroup": "France",
         "marker": {
          "color": "#B6E880",
          "size": [
           31675
          ],
          "sizemode": "area",
          "sizeref": 56.835277777777776,
          "symbol": "circle"
         },
         "mode": "markers",
         "name": "France",
         "orientation": "v",
         "showlegend": true,
         "type": "scatter",
         "x": [
          31675
         ],
         "xaxis": "x",
         "y": [
          552473
         ],
         "yaxis": "y"
        },
        {
         "hovertemplate": "<b>%{hovertext}</b><br><br>country_region=Spain<br>deaths=%{marker.size}<br>confirmed=%{y}<extra></extra>",
         "hovertext": [
          "Spain"
         ],
         "legendgroup": "Spain",
         "marker": {
          "color": "#FF97FF",
          "size": [
           31232
          ],
          "sizemode": "area",
          "sizeref": 56.835277777777776,
          "symbol": "circle"
         },
         "mode": "markers",
         "name": "Spain",
         "orientation": "v",
         "showlegend": true,
         "type": "scatter",
         "x": [
          31232
         ],
         "xaxis": "x",
         "y": [
          716481
         ],
         "yaxis": "y"
        },
        {
         "hovertemplate": "<b>%{hovertext}</b><br><br>country_region=Iran<br>deaths=%{marker.size}<br>confirmed=%{y}<extra></extra>",
         "hovertext": [
          "Iran"
         ],
         "legendgroup": "Iran",
         "marker": {
          "color": "#FECB52",
          "size": [
           25589
          ],
          "sizemode": "area",
          "sizeref": 56.835277777777776,
          "symbol": "circle"
         },
         "mode": "markers",
         "name": "Iran",
         "orientation": "v",
         "showlegend": true,
         "type": "scatter",
         "x": [
          25589
         ],
         "xaxis": "x",
         "y": [
          446448
         ],
         "yaxis": "y"
        }
       ],
       "layout": {
        "legend": {
         "itemsizing": "constant",
         "title": {
          "text": "country_region"
         },
         "tracegroupgap": 0
        },
        "margin": {
         "t": 60
        },
        "template": {
         "data": {
          "bar": [
           {
            "error_x": {
             "color": "#2a3f5f"
            },
            "error_y": {
             "color": "#2a3f5f"
            },
            "marker": {
             "line": {
              "color": "#E5ECF6",
              "width": 0.5
             }
            },
            "type": "bar"
           }
          ],
          "barpolar": [
           {
            "marker": {
             "line": {
              "color": "#E5ECF6",
              "width": 0.5
             }
            },
            "type": "barpolar"
           }
          ],
          "carpet": [
           {
            "aaxis": {
             "endlinecolor": "#2a3f5f",
             "gridcolor": "white",
             "linecolor": "white",
             "minorgridcolor": "white",
             "startlinecolor": "#2a3f5f"
            },
            "baxis": {
             "endlinecolor": "#2a3f5f",
             "gridcolor": "white",
             "linecolor": "white",
             "minorgridcolor": "white",
             "startlinecolor": "#2a3f5f"
            },
            "type": "carpet"
           }
          ],
          "choropleth": [
           {
            "colorbar": {
             "outlinewidth": 0,
             "ticks": ""
            },
            "type": "choropleth"
           }
          ],
          "contour": [
           {
            "colorbar": {
             "outlinewidth": 0,
             "ticks": ""
            },
            "colorscale": [
             [
              0,
              "#0d0887"
             ],
             [
              0.1111111111111111,
              "#46039f"
             ],
             [
              0.2222222222222222,
              "#7201a8"
             ],
             [
              0.3333333333333333,
              "#9c179e"
             ],
             [
              0.4444444444444444,
              "#bd3786"
             ],
             [
              0.5555555555555556,
              "#d8576b"
             ],
             [
              0.6666666666666666,
              "#ed7953"
             ],
             [
              0.7777777777777778,
              "#fb9f3a"
             ],
             [
              0.8888888888888888,
              "#fdca26"
             ],
             [
              1,
              "#f0f921"
             ]
            ],
            "type": "contour"
           }
          ],
          "contourcarpet": [
           {
            "colorbar": {
             "outlinewidth": 0,
             "ticks": ""
            },
            "type": "contourcarpet"
           }
          ],
          "heatmap": [
           {
            "colorbar": {
             "outlinewidth": 0,
             "ticks": ""
            },
            "colorscale": [
             [
              0,
              "#0d0887"
             ],
             [
              0.1111111111111111,
              "#46039f"
             ],
             [
              0.2222222222222222,
              "#7201a8"
             ],
             [
              0.3333333333333333,
              "#9c179e"
             ],
             [
              0.4444444444444444,
              "#bd3786"
             ],
             [
              0.5555555555555556,
              "#d8576b"
             ],
             [
              0.6666666666666666,
              "#ed7953"
             ],
             [
              0.7777777777777778,
              "#fb9f3a"
             ],
             [
              0.8888888888888888,
              "#fdca26"
             ],
             [
              1,
              "#f0f921"
             ]
            ],
            "type": "heatmap"
           }
          ],
          "heatmapgl": [
           {
            "colorbar": {
             "outlinewidth": 0,
             "ticks": ""
            },
            "colorscale": [
             [
              0,
              "#0d0887"
             ],
             [
              0.1111111111111111,
              "#46039f"
             ],
             [
              0.2222222222222222,
              "#7201a8"
             ],
             [
              0.3333333333333333,
              "#9c179e"
             ],
             [
              0.4444444444444444,
              "#bd3786"
             ],
             [
              0.5555555555555556,
              "#d8576b"
             ],
             [
              0.6666666666666666,
              "#ed7953"
             ],
             [
              0.7777777777777778,
              "#fb9f3a"
             ],
             [
              0.8888888888888888,
              "#fdca26"
             ],
             [
              1,
              "#f0f921"
             ]
            ],
            "type": "heatmapgl"
           }
          ],
          "histogram": [
           {
            "marker": {
             "colorbar": {
              "outlinewidth": 0,
              "ticks": ""
             }
            },
            "type": "histogram"
           }
          ],
          "histogram2d": [
           {
            "colorbar": {
             "outlinewidth": 0,
             "ticks": ""
            },
            "colorscale": [
             [
              0,
              "#0d0887"
             ],
             [
              0.1111111111111111,
              "#46039f"
             ],
             [
              0.2222222222222222,
              "#7201a8"
             ],
             [
              0.3333333333333333,
              "#9c179e"
             ],
             [
              0.4444444444444444,
              "#bd3786"
             ],
             [
              0.5555555555555556,
              "#d8576b"
             ],
             [
              0.6666666666666666,
              "#ed7953"
             ],
             [
              0.7777777777777778,
              "#fb9f3a"
             ],
             [
              0.8888888888888888,
              "#fdca26"
             ],
             [
              1,
              "#f0f921"
             ]
            ],
            "type": "histogram2d"
           }
          ],
          "histogram2dcontour": [
           {
            "colorbar": {
             "outlinewidth": 0,
             "ticks": ""
            },
            "colorscale": [
             [
              0,
              "#0d0887"
             ],
             [
              0.1111111111111111,
              "#46039f"
             ],
             [
              0.2222222222222222,
              "#7201a8"
             ],
             [
              0.3333333333333333,
              "#9c179e"
             ],
             [
              0.4444444444444444,
              "#bd3786"
             ],
             [
              0.5555555555555556,
              "#d8576b"
             ],
             [
              0.6666666666666666,
              "#ed7953"
             ],
             [
              0.7777777777777778,
              "#fb9f3a"
             ],
             [
              0.8888888888888888,
              "#fdca26"
             ],
             [
              1,
              "#f0f921"
             ]
            ],
            "type": "histogram2dcontour"
           }
          ],
          "mesh3d": [
           {
            "colorbar": {
             "outlinewidth": 0,
             "ticks": ""
            },
            "type": "mesh3d"
           }
          ],
          "parcoords": [
           {
            "line": {
             "colorbar": {
              "outlinewidth": 0,
              "ticks": ""
             }
            },
            "type": "parcoords"
           }
          ],
          "pie": [
           {
            "automargin": true,
            "type": "pie"
           }
          ],
          "scatter": [
           {
            "marker": {
             "colorbar": {
              "outlinewidth": 0,
              "ticks": ""
             }
            },
            "type": "scatter"
           }
          ],
          "scatter3d": [
           {
            "line": {
             "colorbar": {
              "outlinewidth": 0,
              "ticks": ""
             }
            },
            "marker": {
             "colorbar": {
              "outlinewidth": 0,
              "ticks": ""
             }
            },
            "type": "scatter3d"
           }
          ],
          "scattercarpet": [
           {
            "marker": {
             "colorbar": {
              "outlinewidth": 0,
              "ticks": ""
             }
            },
            "type": "scattercarpet"
           }
          ],
          "scattergeo": [
           {
            "marker": {
             "colorbar": {
              "outlinewidth": 0,
              "ticks": ""
             }
            },
            "type": "scattergeo"
           }
          ],
          "scattergl": [
           {
            "marker": {
             "colorbar": {
              "outlinewidth": 0,
              "ticks": ""
             }
            },
            "type": "scattergl"
           }
          ],
          "scattermapbox": [
           {
            "marker": {
             "colorbar": {
              "outlinewidth": 0,
              "ticks": ""
             }
            },
            "type": "scattermapbox"
           }
          ],
          "scatterpolar": [
           {
            "marker": {
             "colorbar": {
              "outlinewidth": 0,
              "ticks": ""
             }
            },
            "type": "scatterpolar"
           }
          ],
          "scatterpolargl": [
           {
            "marker": {
             "colorbar": {
              "outlinewidth": 0,
              "ticks": ""
             }
            },
            "type": "scatterpolargl"
           }
          ],
          "scatterternary": [
           {
            "marker": {
             "colorbar": {
              "outlinewidth": 0,
              "ticks": ""
             }
            },
            "type": "scatterternary"
           }
          ],
          "surface": [
           {
            "colorbar": {
             "outlinewidth": 0,
             "ticks": ""
            },
            "colorscale": [
             [
              0,
              "#0d0887"
             ],
             [
              0.1111111111111111,
              "#46039f"
             ],
             [
              0.2222222222222222,
              "#7201a8"
             ],
             [
              0.3333333333333333,
              "#9c179e"
             ],
             [
              0.4444444444444444,
              "#bd3786"
             ],
             [
              0.5555555555555556,
              "#d8576b"
             ],
             [
              0.6666666666666666,
              "#ed7953"
             ],
             [
              0.7777777777777778,
              "#fb9f3a"
             ],
             [
              0.8888888888888888,
              "#fdca26"
             ],
             [
              1,
              "#f0f921"
             ]
            ],
            "type": "surface"
           }
          ],
          "table": [
           {
            "cells": {
             "fill": {
              "color": "#EBF0F8"
             },
             "line": {
              "color": "white"
             }
            },
            "header": {
             "fill": {
              "color": "#C8D4E3"
             },
             "line": {
              "color": "white"
             }
            },
            "type": "table"
           }
          ]
         },
         "layout": {
          "annotationdefaults": {
           "arrowcolor": "#2a3f5f",
           "arrowhead": 0,
           "arrowwidth": 1
          },
          "coloraxis": {
           "colorbar": {
            "outlinewidth": 0,
            "ticks": ""
           }
          },
          "colorscale": {
           "diverging": [
            [
             0,
             "#8e0152"
            ],
            [
             0.1,
             "#c51b7d"
            ],
            [
             0.2,
             "#de77ae"
            ],
            [
             0.3,
             "#f1b6da"
            ],
            [
             0.4,
             "#fde0ef"
            ],
            [
             0.5,
             "#f7f7f7"
            ],
            [
             0.6,
             "#e6f5d0"
            ],
            [
             0.7,
             "#b8e186"
            ],
            [
             0.8,
             "#7fbc41"
            ],
            [
             0.9,
             "#4d9221"
            ],
            [
             1,
             "#276419"
            ]
           ],
           "sequential": [
            [
             0,
             "#0d0887"
            ],
            [
             0.1111111111111111,
             "#46039f"
            ],
            [
             0.2222222222222222,
             "#7201a8"
            ],
            [
             0.3333333333333333,
             "#9c179e"
            ],
            [
             0.4444444444444444,
             "#bd3786"
            ],
            [
             0.5555555555555556,
             "#d8576b"
            ],
            [
             0.6666666666666666,
             "#ed7953"
            ],
            [
             0.7777777777777778,
             "#fb9f3a"
            ],
            [
             0.8888888888888888,
             "#fdca26"
            ],
            [
             1,
             "#f0f921"
            ]
           ],
           "sequentialminus": [
            [
             0,
             "#0d0887"
            ],
            [
             0.1111111111111111,
             "#46039f"
            ],
            [
             0.2222222222222222,
             "#7201a8"
            ],
            [
             0.3333333333333333,
             "#9c179e"
            ],
            [
             0.4444444444444444,
             "#bd3786"
            ],
            [
             0.5555555555555556,
             "#d8576b"
            ],
            [
             0.6666666666666666,
             "#ed7953"
            ],
            [
             0.7777777777777778,
             "#fb9f3a"
            ],
            [
             0.8888888888888888,
             "#fdca26"
            ],
            [
             1,
             "#f0f921"
            ]
           ]
          },
          "colorway": [
           "#636efa",
           "#EF553B",
           "#00cc96",
           "#ab63fa",
           "#FFA15A",
           "#19d3f3",
           "#FF6692",
           "#B6E880",
           "#FF97FF",
           "#FECB52"
          ],
          "font": {
           "color": "#2a3f5f"
          },
          "geo": {
           "bgcolor": "white",
           "lakecolor": "white",
           "landcolor": "#E5ECF6",
           "showlakes": true,
           "showland": true,
           "subunitcolor": "white"
          },
          "hoverlabel": {
           "align": "left"
          },
          "hovermode": "closest",
          "mapbox": {
           "style": "light"
          },
          "paper_bgcolor": "white",
          "plot_bgcolor": "#E5ECF6",
          "polar": {
           "angularaxis": {
            "gridcolor": "white",
            "linecolor": "white",
            "ticks": ""
           },
           "bgcolor": "#E5ECF6",
           "radialaxis": {
            "gridcolor": "white",
            "linecolor": "white",
            "ticks": ""
           }
          },
          "scene": {
           "xaxis": {
            "backgroundcolor": "#E5ECF6",
            "gridcolor": "white",
            "gridwidth": 2,
            "linecolor": "white",
            "showbackground": true,
            "ticks": "",
            "zerolinecolor": "white"
           },
           "yaxis": {
            "backgroundcolor": "#E5ECF6",
            "gridcolor": "white",
            "gridwidth": 2,
            "linecolor": "white",
            "showbackground": true,
            "ticks": "",
            "zerolinecolor": "white"
           },
           "zaxis": {
            "backgroundcolor": "#E5ECF6",
            "gridcolor": "white",
            "gridwidth": 2,
            "linecolor": "white",
            "showbackground": true,
            "ticks": "",
            "zerolinecolor": "white"
           }
          },
          "shapedefaults": {
           "line": {
            "color": "#2a3f5f"
           }
          },
          "ternary": {
           "aaxis": {
            "gridcolor": "white",
            "linecolor": "white",
            "ticks": ""
           },
           "baxis": {
            "gridcolor": "white",
            "linecolor": "white",
            "ticks": ""
           },
           "bgcolor": "#E5ECF6",
           "caxis": {
            "gridcolor": "white",
            "linecolor": "white",
            "ticks": ""
           }
          },
          "title": {
           "x": 0.05
          },
          "xaxis": {
           "automargin": true,
           "gridcolor": "white",
           "linecolor": "white",
           "ticks": "",
           "title": {
            "standoff": 15
           },
           "zerolinecolor": "white",
           "zerolinewidth": 2
          },
          "yaxis": {
           "automargin": true,
           "gridcolor": "white",
           "linecolor": "white",
           "ticks": "",
           "title": {
            "standoff": 15
           },
           "zerolinecolor": "white",
           "zerolinewidth": 2
          }
         }
        },
        "xaxis": {
         "anchor": "y",
         "domain": [
          0,
          1
         ],
         "title": {
          "text": "deaths"
         },
         "type": "log"
        },
        "yaxis": {
         "anchor": "x",
         "domain": [
          0,
          1
         ],
         "title": {
          "text": "confirmed"
         }
        }
       }
      },
      "text/html": [
       "<div>                            <div id=\"1afd0f63-51ae-4d26-a055-d2c46e3b6cd7\" class=\"plotly-graph-div\" style=\"height:525px; width:100%;\"></div>            <script type=\"text/javascript\">                require([\"plotly\"], function(Plotly) {                    window.PLOTLYENV=window.PLOTLYENV || {};                                    if (document.getElementById(\"1afd0f63-51ae-4d26-a055-d2c46e3b6cd7\")) {                    Plotly.newPlot(                        \"1afd0f63-51ae-4d26-a055-d2c46e3b6cd7\",                        [{\"hovertemplate\": \"<b>%{hovertext}</b><br><br>country_region=US<br>deaths=%{marker.size}<br>confirmed=%{y}<extra></extra>\", \"hovertext\": [\"US\"], \"legendgroup\": \"US\", \"marker\": {\"color\": \"#636efa\", \"size\": [204607.0], \"sizemode\": \"area\", \"sizeref\": 56.835277777777776, \"symbol\": \"circle\"}, \"mode\": \"markers\", \"name\": \"US\", \"orientation\": \"v\", \"showlegend\": true, \"type\": \"scatter\", \"x\": [204607.0], \"xaxis\": \"x\", \"y\": [7094145.0], \"yaxis\": \"y\"}, {\"hovertemplate\": \"<b>%{hovertext}</b><br><br>country_region=Brazil<br>deaths=%{marker.size}<br>confirmed=%{y}<extra></extra>\", \"hovertext\": [\"Brazil\"], \"legendgroup\": \"Brazil\", \"marker\": {\"color\": \"#EF553B\", \"size\": [141406.0], \"sizemode\": \"area\", \"sizeref\": 56.835277777777776, \"symbol\": \"circle\"}, \"mode\": \"markers\", \"name\": \"Brazil\", \"orientation\": \"v\", \"showlegend\": true, \"type\": \"scatter\", \"x\": [141406.0], \"xaxis\": \"x\", \"y\": [4717991.0], \"yaxis\": \"y\"}, {\"hovertemplate\": \"<b>%{hovertext}</b><br><br>country_region=India<br>deaths=%{marker.size}<br>confirmed=%{y}<extra></extra>\", \"hovertext\": [\"India\"], \"legendgroup\": \"India\", \"marker\": {\"color\": \"#00cc96\", \"size\": [94503.0], \"sizemode\": \"area\", \"sizeref\": 56.835277777777776, \"symbol\": \"circle\"}, \"mode\": \"markers\", \"name\": \"India\", \"orientation\": \"v\", \"showlegend\": true, \"type\": \"scatter\", \"x\": [94503.0], \"xaxis\": \"x\", \"y\": [5992532.0], \"yaxis\": \"y\"}, {\"hovertemplate\": \"<b>%{hovertext}</b><br><br>country_region=Mexico<br>deaths=%{marker.size}<br>confirmed=%{y}<extra></extra>\", \"hovertext\": [\"Mexico\"], \"legendgroup\": \"Mexico\", \"marker\": {\"color\": \"#ab63fa\", \"size\": [76243.0], \"sizemode\": \"area\", \"sizeref\": 56.835277777777776, \"symbol\": \"circle\"}, \"mode\": \"markers\", \"name\": \"Mexico\", \"orientation\": \"v\", \"showlegend\": true, \"type\": \"scatter\", \"x\": [76243.0], \"xaxis\": \"x\", \"y\": [726431.0], \"yaxis\": \"y\"}, {\"hovertemplate\": \"<b>%{hovertext}</b><br><br>country_region=United Kingdom<br>deaths=%{marker.size}<br>confirmed=%{y}<extra></extra>\", \"hovertext\": [\"United Kingdom\"], \"legendgroup\": \"United Kingdom\", \"marker\": {\"color\": \"#FFA15A\", \"size\": [42077.0], \"sizemode\": \"area\", \"sizeref\": 56.835277777777776, \"symbol\": \"circle\"}, \"mode\": \"markers\", \"name\": \"United Kingdom\", \"orientation\": \"v\", \"showlegend\": true, \"type\": \"scatter\", \"x\": [42077.0], \"xaxis\": \"x\", \"y\": [437516.0], \"yaxis\": \"y\"}, {\"hovertemplate\": \"<b>%{hovertext}</b><br><br>country_region=Italy<br>deaths=%{marker.size}<br>confirmed=%{y}<extra></extra>\", \"hovertext\": [\"Italy\"], \"legendgroup\": \"Italy\", \"marker\": {\"color\": \"#19d3f3\", \"size\": [35835.0], \"sizemode\": \"area\", \"sizeref\": 56.835277777777776, \"symbol\": \"circle\"}, \"mode\": \"markers\", \"name\": \"Italy\", \"orientation\": \"v\", \"showlegend\": true, \"type\": \"scatter\", \"x\": [35835.0], \"xaxis\": \"x\", \"y\": [309870.0], \"yaxis\": \"y\"}, {\"hovertemplate\": \"<b>%{hovertext}</b><br><br>country_region=Peru<br>deaths=%{marker.size}<br>confirmed=%{y}<extra></extra>\", \"hovertext\": [\"Peru\"], \"legendgroup\": \"Peru\", \"marker\": {\"color\": \"#FF6692\", \"size\": [32142.0], \"sizemode\": \"area\", \"sizeref\": 56.835277777777776, \"symbol\": \"circle\"}, \"mode\": \"markers\", \"name\": \"Peru\", \"orientation\": \"v\", \"showlegend\": true, \"type\": \"scatter\", \"x\": [32142.0], \"xaxis\": \"x\", \"y\": [800142.0], \"yaxis\": \"y\"}, {\"hovertemplate\": \"<b>%{hovertext}</b><br><br>country_region=France<br>deaths=%{marker.size}<br>confirmed=%{y}<extra></extra>\", \"hovertext\": [\"France\"], \"legendgroup\": \"France\", \"marker\": {\"color\": \"#B6E880\", \"size\": [31675.0], \"sizemode\": \"area\", \"sizeref\": 56.835277777777776, \"symbol\": \"circle\"}, \"mode\": \"markers\", \"name\": \"France\", \"orientation\": \"v\", \"showlegend\": true, \"type\": \"scatter\", \"x\": [31675.0], \"xaxis\": \"x\", \"y\": [552473.0], \"yaxis\": \"y\"}, {\"hovertemplate\": \"<b>%{hovertext}</b><br><br>country_region=Spain<br>deaths=%{marker.size}<br>confirmed=%{y}<extra></extra>\", \"hovertext\": [\"Spain\"], \"legendgroup\": \"Spain\", \"marker\": {\"color\": \"#FF97FF\", \"size\": [31232.0], \"sizemode\": \"area\", \"sizeref\": 56.835277777777776, \"symbol\": \"circle\"}, \"mode\": \"markers\", \"name\": \"Spain\", \"orientation\": \"v\", \"showlegend\": true, \"type\": \"scatter\", \"x\": [31232.0], \"xaxis\": \"x\", \"y\": [716481.0], \"yaxis\": \"y\"}, {\"hovertemplate\": \"<b>%{hovertext}</b><br><br>country_region=Iran<br>deaths=%{marker.size}<br>confirmed=%{y}<extra></extra>\", \"hovertext\": [\"Iran\"], \"legendgroup\": \"Iran\", \"marker\": {\"color\": \"#FECB52\", \"size\": [25589.0], \"sizemode\": \"area\", \"sizeref\": 56.835277777777776, \"symbol\": \"circle\"}, \"mode\": \"markers\", \"name\": \"Iran\", \"orientation\": \"v\", \"showlegend\": true, \"type\": \"scatter\", \"x\": [25589.0], \"xaxis\": \"x\", \"y\": [446448.0], \"yaxis\": \"y\"}],                        {\"legend\": {\"itemsizing\": \"constant\", \"title\": {\"text\": \"country_region\"}, \"tracegroupgap\": 0}, \"margin\": {\"t\": 60}, \"template\": {\"data\": {\"bar\": [{\"error_x\": {\"color\": \"#2a3f5f\"}, \"error_y\": {\"color\": \"#2a3f5f\"}, \"marker\": {\"line\": {\"color\": \"#E5ECF6\", \"width\": 0.5}}, \"type\": \"bar\"}], \"barpolar\": [{\"marker\": {\"line\": {\"color\": \"#E5ECF6\", \"width\": 0.5}}, \"type\": \"barpolar\"}], \"carpet\": [{\"aaxis\": {\"endlinecolor\": \"#2a3f5f\", \"gridcolor\": \"white\", \"linecolor\": \"white\", \"minorgridcolor\": \"white\", \"startlinecolor\": \"#2a3f5f\"}, \"baxis\": {\"endlinecolor\": \"#2a3f5f\", \"gridcolor\": \"white\", \"linecolor\": \"white\", \"minorgridcolor\": \"white\", \"startlinecolor\": \"#2a3f5f\"}, \"type\": \"carpet\"}], \"choropleth\": [{\"colorbar\": {\"outlinewidth\": 0, \"ticks\": \"\"}, \"type\": \"choropleth\"}], \"contour\": [{\"colorbar\": {\"outlinewidth\": 0, \"ticks\": \"\"}, \"colorscale\": [[0.0, \"#0d0887\"], [0.1111111111111111, \"#46039f\"], [0.2222222222222222, \"#7201a8\"], [0.3333333333333333, \"#9c179e\"], [0.4444444444444444, \"#bd3786\"], [0.5555555555555556, \"#d8576b\"], [0.6666666666666666, \"#ed7953\"], [0.7777777777777778, \"#fb9f3a\"], [0.8888888888888888, \"#fdca26\"], [1.0, \"#f0f921\"]], \"type\": \"contour\"}], \"contourcarpet\": [{\"colorbar\": {\"outlinewidth\": 0, \"ticks\": \"\"}, \"type\": \"contourcarpet\"}], \"heatmap\": [{\"colorbar\": {\"outlinewidth\": 0, \"ticks\": \"\"}, \"colorscale\": [[0.0, \"#0d0887\"], [0.1111111111111111, \"#46039f\"], [0.2222222222222222, \"#7201a8\"], [0.3333333333333333, \"#9c179e\"], [0.4444444444444444, \"#bd3786\"], [0.5555555555555556, \"#d8576b\"], [0.6666666666666666, \"#ed7953\"], [0.7777777777777778, \"#fb9f3a\"], [0.8888888888888888, \"#fdca26\"], [1.0, \"#f0f921\"]], \"type\": \"heatmap\"}], \"heatmapgl\": [{\"colorbar\": {\"outlinewidth\": 0, \"ticks\": \"\"}, \"colorscale\": [[0.0, \"#0d0887\"], [0.1111111111111111, \"#46039f\"], [0.2222222222222222, \"#7201a8\"], [0.3333333333333333, \"#9c179e\"], [0.4444444444444444, \"#bd3786\"], [0.5555555555555556, \"#d8576b\"], [0.6666666666666666, \"#ed7953\"], [0.7777777777777778, \"#fb9f3a\"], [0.8888888888888888, \"#fdca26\"], [1.0, \"#f0f921\"]], \"type\": \"heatmapgl\"}], \"histogram\": [{\"marker\": {\"colorbar\": {\"outlinewidth\": 0, \"ticks\": \"\"}}, \"type\": \"histogram\"}], \"histogram2d\": [{\"colorbar\": {\"outlinewidth\": 0, \"ticks\": \"\"}, \"colorscale\": [[0.0, \"#0d0887\"], [0.1111111111111111, \"#46039f\"], [0.2222222222222222, \"#7201a8\"], [0.3333333333333333, \"#9c179e\"], [0.4444444444444444, \"#bd3786\"], [0.5555555555555556, \"#d8576b\"], [0.6666666666666666, \"#ed7953\"], [0.7777777777777778, \"#fb9f3a\"], [0.8888888888888888, \"#fdca26\"], [1.0, \"#f0f921\"]], \"type\": \"histogram2d\"}], \"histogram2dcontour\": [{\"colorbar\": {\"outlinewidth\": 0, \"ticks\": \"\"}, \"colorscale\": [[0.0, \"#0d0887\"], [0.1111111111111111, \"#46039f\"], [0.2222222222222222, \"#7201a8\"], [0.3333333333333333, \"#9c179e\"], [0.4444444444444444, \"#bd3786\"], [0.5555555555555556, \"#d8576b\"], [0.6666666666666666, \"#ed7953\"], [0.7777777777777778, \"#fb9f3a\"], [0.8888888888888888, \"#fdca26\"], [1.0, \"#f0f921\"]], \"type\": \"histogram2dcontour\"}], \"mesh3d\": [{\"colorbar\": {\"outlinewidth\": 0, \"ticks\": \"\"}, \"type\": \"mesh3d\"}], \"parcoords\": [{\"line\": {\"colorbar\": {\"outlinewidth\": 0, \"ticks\": \"\"}}, \"type\": \"parcoords\"}], \"pie\": [{\"automargin\": true, \"type\": \"pie\"}], \"scatter\": [{\"marker\": {\"colorbar\": {\"outlinewidth\": 0, \"ticks\": \"\"}}, \"type\": \"scatter\"}], \"scatter3d\": [{\"line\": {\"colorbar\": {\"outlinewidth\": 0, \"ticks\": \"\"}}, \"marker\": {\"colorbar\": {\"outlinewidth\": 0, \"ticks\": \"\"}}, \"type\": \"scatter3d\"}], \"scattercarpet\": [{\"marker\": {\"colorbar\": {\"outlinewidth\": 0, \"ticks\": \"\"}}, \"type\": \"scattercarpet\"}], \"scattergeo\": [{\"marker\": {\"colorbar\": {\"outlinewidth\": 0, \"ticks\": \"\"}}, \"type\": \"scattergeo\"}], \"scattergl\": [{\"marker\": {\"colorbar\": {\"outlinewidth\": 0, \"ticks\": \"\"}}, \"type\": \"scattergl\"}], \"scattermapbox\": [{\"marker\": {\"colorbar\": {\"outlinewidth\": 0, \"ticks\": \"\"}}, \"type\": \"scattermapbox\"}], \"scatterpolar\": [{\"marker\": {\"colorbar\": {\"outlinewidth\": 0, \"ticks\": \"\"}}, \"type\": \"scatterpolar\"}], \"scatterpolargl\": [{\"marker\": {\"colorbar\": {\"outlinewidth\": 0, \"ticks\": \"\"}}, \"type\": \"scatterpolargl\"}], \"scatterternary\": [{\"marker\": {\"colorbar\": {\"outlinewidth\": 0, \"ticks\": \"\"}}, \"type\": \"scatterternary\"}], \"surface\": [{\"colorbar\": {\"outlinewidth\": 0, \"ticks\": \"\"}, \"colorscale\": [[0.0, \"#0d0887\"], [0.1111111111111111, \"#46039f\"], [0.2222222222222222, \"#7201a8\"], [0.3333333333333333, \"#9c179e\"], [0.4444444444444444, \"#bd3786\"], [0.5555555555555556, \"#d8576b\"], [0.6666666666666666, \"#ed7953\"], [0.7777777777777778, \"#fb9f3a\"], [0.8888888888888888, \"#fdca26\"], [1.0, \"#f0f921\"]], \"type\": \"surface\"}], \"table\": [{\"cells\": {\"fill\": {\"color\": \"#EBF0F8\"}, \"line\": {\"color\": \"white\"}}, \"header\": {\"fill\": {\"color\": \"#C8D4E3\"}, \"line\": {\"color\": \"white\"}}, \"type\": \"table\"}]}, \"layout\": {\"annotationdefaults\": {\"arrowcolor\": \"#2a3f5f\", \"arrowhead\": 0, \"arrowwidth\": 1}, \"coloraxis\": {\"colorbar\": {\"outlinewidth\": 0, \"ticks\": \"\"}}, \"colorscale\": {\"diverging\": [[0, \"#8e0152\"], [0.1, \"#c51b7d\"], [0.2, \"#de77ae\"], [0.3, \"#f1b6da\"], [0.4, \"#fde0ef\"], [0.5, \"#f7f7f7\"], [0.6, \"#e6f5d0\"], [0.7, \"#b8e186\"], [0.8, \"#7fbc41\"], [0.9, \"#4d9221\"], [1, \"#276419\"]], \"sequential\": [[0.0, \"#0d0887\"], [0.1111111111111111, \"#46039f\"], [0.2222222222222222, \"#7201a8\"], [0.3333333333333333, \"#9c179e\"], [0.4444444444444444, \"#bd3786\"], [0.5555555555555556, \"#d8576b\"], [0.6666666666666666, \"#ed7953\"], [0.7777777777777778, \"#fb9f3a\"], [0.8888888888888888, \"#fdca26\"], [1.0, \"#f0f921\"]], \"sequentialminus\": [[0.0, \"#0d0887\"], [0.1111111111111111, \"#46039f\"], [0.2222222222222222, \"#7201a8\"], [0.3333333333333333, \"#9c179e\"], [0.4444444444444444, \"#bd3786\"], [0.5555555555555556, \"#d8576b\"], [0.6666666666666666, \"#ed7953\"], [0.7777777777777778, \"#fb9f3a\"], [0.8888888888888888, \"#fdca26\"], [1.0, \"#f0f921\"]]}, \"colorway\": [\"#636efa\", \"#EF553B\", \"#00cc96\", \"#ab63fa\", \"#FFA15A\", \"#19d3f3\", \"#FF6692\", \"#B6E880\", \"#FF97FF\", \"#FECB52\"], \"font\": {\"color\": \"#2a3f5f\"}, \"geo\": {\"bgcolor\": \"white\", \"lakecolor\": \"white\", \"landcolor\": \"#E5ECF6\", \"showlakes\": true, \"showland\": true, \"subunitcolor\": \"white\"}, \"hoverlabel\": {\"align\": \"left\"}, \"hovermode\": \"closest\", \"mapbox\": {\"style\": \"light\"}, \"paper_bgcolor\": \"white\", \"plot_bgcolor\": \"#E5ECF6\", \"polar\": {\"angularaxis\": {\"gridcolor\": \"white\", \"linecolor\": \"white\", \"ticks\": \"\"}, \"bgcolor\": \"#E5ECF6\", \"radialaxis\": {\"gridcolor\": \"white\", \"linecolor\": \"white\", \"ticks\": \"\"}}, \"scene\": {\"xaxis\": {\"backgroundcolor\": \"#E5ECF6\", \"gridcolor\": \"white\", \"gridwidth\": 2, \"linecolor\": \"white\", \"showbackground\": true, \"ticks\": \"\", \"zerolinecolor\": \"white\"}, \"yaxis\": {\"backgroundcolor\": \"#E5ECF6\", \"gridcolor\": \"white\", \"gridwidth\": 2, \"linecolor\": \"white\", \"showbackground\": true, \"ticks\": \"\", \"zerolinecolor\": \"white\"}, \"zaxis\": {\"backgroundcolor\": \"#E5ECF6\", \"gridcolor\": \"white\", \"gridwidth\": 2, \"linecolor\": \"white\", \"showbackground\": true, \"ticks\": \"\", \"zerolinecolor\": \"white\"}}, \"shapedefaults\": {\"line\": {\"color\": \"#2a3f5f\"}}, \"ternary\": {\"aaxis\": {\"gridcolor\": \"white\", \"linecolor\": \"white\", \"ticks\": \"\"}, \"baxis\": {\"gridcolor\": \"white\", \"linecolor\": \"white\", \"ticks\": \"\"}, \"bgcolor\": \"#E5ECF6\", \"caxis\": {\"gridcolor\": \"white\", \"linecolor\": \"white\", \"ticks\": \"\"}}, \"title\": {\"x\": 0.05}, \"xaxis\": {\"automargin\": true, \"gridcolor\": \"white\", \"linecolor\": \"white\", \"ticks\": \"\", \"title\": {\"standoff\": 15}, \"zerolinecolor\": \"white\", \"zerolinewidth\": 2}, \"yaxis\": {\"automargin\": true, \"gridcolor\": \"white\", \"linecolor\": \"white\", \"ticks\": \"\", \"title\": {\"standoff\": 15}, \"zerolinecolor\": \"white\", \"zerolinewidth\": 2}}}, \"xaxis\": {\"anchor\": \"y\", \"domain\": [0.0, 1.0], \"title\": {\"text\": \"deaths\"}, \"type\": \"log\"}, \"yaxis\": {\"anchor\": \"x\", \"domain\": [0.0, 1.0], \"title\": {\"text\": \"confirmed\"}}},                        {\"responsive\": true}                    ).then(function(){\n",
       "                            \n",
       "var gd = document.getElementById('1afd0f63-51ae-4d26-a055-d2c46e3b6cd7');\n",
       "var x = new MutationObserver(function (mutations, observer) {{\n",
       "        var display = window.getComputedStyle(gd).display;\n",
       "        if (!display || display === 'none') {{\n",
       "            console.log([gd, 'removed!']);\n",
       "            Plotly.purge(gd);\n",
       "            observer.disconnect();\n",
       "        }}\n",
       "}});\n",
       "\n",
       "// Listen for the removal of the full notebook cells\n",
       "var notebookContainer = gd.closest('#notebook-container');\n",
       "if (notebookContainer) {{\n",
       "    x.observe(notebookContainer, {childList: true});\n",
       "}}\n",
       "\n",
       "// Listen for the clearing of the current output cell\n",
       "var outputEl = gd.closest('.output');\n",
       "if (outputEl) {{\n",
       "    x.observe(outputEl, {childList: true});\n",
       "}}\n",
       "\n",
       "                        })                };                });            </script>        </div>"
      ]
     },
     "metadata": {},
     "output_type": "display_data"
    }
   ],
   "source": [
    "#Dead Cases\n",
    "top_10_death = country_df.sort_values(by=\"deaths\", ascending=False).head(10)\n",
    "fig = px.scatter(top_10_death, \n",
    "                 x=\"deaths\", y=\"confirmed\",size=\"deaths\", color=\"country_region\",\n",
    "                 hover_name=\"country_region\", log_x=True, size_max=60)\n",
    "fig.show()"
   ]
  },
  {
   "cell_type": "code",
   "execution_count": 21,
   "metadata": {},
   "outputs": [
    {
     "data": {
      "application/vnd.plotly.v1+json": {
       "config": {
        "plotlyServerURL": "https://plot.ly"
       },
       "data": [
        {
         "hovertemplate": "<b>%{hovertext}</b><br><br>country_region=US<br>active=%{marker.size}<br>confirmed=%{y}<extra></extra>",
         "hovertext": [
          "US"
         ],
         "legendgroup": "US",
         "marker": {
          "color": "#636efa",
          "size": [
           4139079
          ],
          "sizemode": "area",
          "sizeref": 1149.7441666666666,
          "symbol": "circle"
         },
         "mode": "markers",
         "name": "US",
         "orientation": "v",
         "showlegend": true,
         "type": "scatter",
         "x": [
          4139079
         ],
         "xaxis": "x",
         "y": [
          7094145
         ],
         "yaxis": "y"
        },
        {
         "hovertemplate": "<b>%{hovertext}</b><br><br>country_region=India<br>active=%{marker.size}<br>confirmed=%{y}<extra></extra>",
         "hovertext": [
          "India"
         ],
         "legendgroup": "India",
         "marker": {
          "color": "#EF553B",
          "size": [
           956402
          ],
          "sizemode": "area",
          "sizeref": 1149.7441666666666,
          "symbol": "circle"
         },
         "mode": "markers",
         "name": "India",
         "orientation": "v",
         "showlegend": true,
         "type": "scatter",
         "x": [
          956402
         ],
         "xaxis": "x",
         "y": [
          5992532
         ],
         "yaxis": "y"
        },
        {
         "hovertemplate": "<b>%{hovertext}</b><br><br>country_region=Spain<br>active=%{marker.size}<br>confirmed=%{y}<extra></extra>",
         "hovertext": [
          "Spain"
         ],
         "legendgroup": "Spain",
         "marker": {
          "color": "#00cc96",
          "size": [
           534873
          ],
          "sizemode": "area",
          "sizeref": 1149.7441666666666,
          "symbol": "circle"
         },
         "mode": "markers",
         "name": "Spain",
         "orientation": "v",
         "showlegend": true,
         "type": "scatter",
         "x": [
          534873
         ],
         "xaxis": "x",
         "y": [
          716481
         ],
         "yaxis": "y"
        },
        {
         "hovertemplate": "<b>%{hovertext}</b><br><br>country_region=France<br>active=%{marker.size}<br>confirmed=%{y}<extra></extra>",
         "hovertext": [
          "France"
         ],
         "legendgroup": "France",
         "marker": {
          "color": "#ab63fa",
          "size": [
           423985
          ],
          "sizemode": "area",
          "sizeref": 1149.7441666666666,
          "symbol": "circle"
         },
         "mode": "markers",
         "name": "France",
         "orientation": "v",
         "showlegend": true,
         "type": "scatter",
         "x": [
          423985
         ],
         "xaxis": "x",
         "y": [
          552473
         ],
         "yaxis": "y"
        },
        {
         "hovertemplate": "<b>%{hovertext}</b><br><br>country_region=Brazil<br>active=%{marker.size}<br>confirmed=%{y}<extra></extra>",
         "hovertext": [
          "Brazil"
         ],
         "legendgroup": "Brazil",
         "marker": {
          "color": "#FFA15A",
          "size": [
           423278
          ],
          "sizemode": "area",
          "sizeref": 1149.7441666666666,
          "symbol": "circle"
         },
         "mode": "markers",
         "name": "Brazil",
         "orientation": "v",
         "showlegend": true,
         "type": "scatter",
         "x": [
          423278
         ],
         "xaxis": "x",
         "y": [
          4717991
         ],
         "yaxis": "y"
        },
        {
         "hovertemplate": "<b>%{hovertext}</b><br><br>country_region=United Kingdom<br>active=%{marker.size}<br>confirmed=%{y}<extra></extra>",
         "hovertext": [
          "United Kingdom"
         ],
         "legendgroup": "United Kingdom",
         "marker": {
          "color": "#19d3f3",
          "size": [
           393100
          ],
          "sizemode": "area",
          "sizeref": 1149.7441666666666,
          "symbol": "circle"
         },
         "mode": "markers",
         "name": "United Kingdom",
         "orientation": "v",
         "showlegend": true,
         "type": "scatter",
         "x": [
          393100
         ],
         "xaxis": "x",
         "y": [
          437516
         ],
         "yaxis": "y"
        },
        {
         "hovertemplate": "<b>%{hovertext}</b><br><br>country_region=Russia<br>active=%{marker.size}<br>confirmed=%{y}<extra></extra>",
         "hovertext": [
          "Russia"
         ],
         "legendgroup": "Russia",
         "marker": {
          "color": "#FF6692",
          "size": [
           186113
          ],
          "sizemode": "area",
          "sizeref": 1149.7441666666666,
          "symbol": "circle"
         },
         "mode": "markers",
         "name": "Russia",
         "orientation": "v",
         "showlegend": true,
         "type": "scatter",
         "x": [
          186113
         ],
         "xaxis": "x",
         "y": [
          1146273
         ],
         "yaxis": "y"
        },
        {
         "hovertemplate": "<b>%{hovertext}</b><br><br>country_region=Argentina<br>active=%{marker.size}<br>confirmed=%{y}<extra></extra>",
         "hovertext": [
          "Argentina"
         ],
         "legendgroup": "Argentina",
         "marker": {
          "color": "#B6E880",
          "size": [
           130452
          ],
          "sizemode": "area",
          "sizeref": 1149.7441666666666,
          "symbol": "circle"
         },
         "mode": "markers",
         "name": "Argentina",
         "orientation": "v",
         "showlegend": true,
         "type": "scatter",
         "x": [
          130452
         ],
         "xaxis": "x",
         "y": [
          702484
         ],
         "yaxis": "y"
        },
        {
         "hovertemplate": "<b>%{hovertext}</b><br><br>country_region=Peru<br>active=%{marker.size}<br>confirmed=%{y}<extra></extra>",
         "hovertext": [
          "Peru"
         ],
         "legendgroup": "Peru",
         "marker": {
          "color": "#FF97FF",
          "size": [
           110164
          ],
          "sizemode": "area",
          "sizeref": 1149.7441666666666,
          "symbol": "circle"
         },
         "mode": "markers",
         "name": "Peru",
         "orientation": "v",
         "showlegend": true,
         "type": "scatter",
         "x": [
          110164
         ],
         "xaxis": "x",
         "y": [
          800142
         ],
         "yaxis": "y"
        },
        {
         "hovertemplate": "<b>%{hovertext}</b><br><br>country_region=Ukraine<br>active=%{marker.size}<br>confirmed=%{y}<extra></extra>",
         "hovertext": [
          "Ukraine"
         ],
         "legendgroup": "Ukraine",
         "marker": {
          "color": "#FECB52",
          "size": [
           108576
          ],
          "sizemode": "area",
          "sizeref": 1149.7441666666666,
          "symbol": "circle"
         },
         "mode": "markers",
         "name": "Ukraine",
         "orientation": "v",
         "showlegend": true,
         "type": "scatter",
         "x": [
          108576
         ],
         "xaxis": "x",
         "y": [
          203799
         ],
         "yaxis": "y"
        }
       ],
       "layout": {
        "legend": {
         "itemsizing": "constant",
         "title": {
          "text": "country_region"
         },
         "tracegroupgap": 0
        },
        "margin": {
         "t": 60
        },
        "template": {
         "data": {
          "bar": [
           {
            "error_x": {
             "color": "#2a3f5f"
            },
            "error_y": {
             "color": "#2a3f5f"
            },
            "marker": {
             "line": {
              "color": "#E5ECF6",
              "width": 0.5
             }
            },
            "type": "bar"
           }
          ],
          "barpolar": [
           {
            "marker": {
             "line": {
              "color": "#E5ECF6",
              "width": 0.5
             }
            },
            "type": "barpolar"
           }
          ],
          "carpet": [
           {
            "aaxis": {
             "endlinecolor": "#2a3f5f",
             "gridcolor": "white",
             "linecolor": "white",
             "minorgridcolor": "white",
             "startlinecolor": "#2a3f5f"
            },
            "baxis": {
             "endlinecolor": "#2a3f5f",
             "gridcolor": "white",
             "linecolor": "white",
             "minorgridcolor": "white",
             "startlinecolor": "#2a3f5f"
            },
            "type": "carpet"
           }
          ],
          "choropleth": [
           {
            "colorbar": {
             "outlinewidth": 0,
             "ticks": ""
            },
            "type": "choropleth"
           }
          ],
          "contour": [
           {
            "colorbar": {
             "outlinewidth": 0,
             "ticks": ""
            },
            "colorscale": [
             [
              0,
              "#0d0887"
             ],
             [
              0.1111111111111111,
              "#46039f"
             ],
             [
              0.2222222222222222,
              "#7201a8"
             ],
             [
              0.3333333333333333,
              "#9c179e"
             ],
             [
              0.4444444444444444,
              "#bd3786"
             ],
             [
              0.5555555555555556,
              "#d8576b"
             ],
             [
              0.6666666666666666,
              "#ed7953"
             ],
             [
              0.7777777777777778,
              "#fb9f3a"
             ],
             [
              0.8888888888888888,
              "#fdca26"
             ],
             [
              1,
              "#f0f921"
             ]
            ],
            "type": "contour"
           }
          ],
          "contourcarpet": [
           {
            "colorbar": {
             "outlinewidth": 0,
             "ticks": ""
            },
            "type": "contourcarpet"
           }
          ],
          "heatmap": [
           {
            "colorbar": {
             "outlinewidth": 0,
             "ticks": ""
            },
            "colorscale": [
             [
              0,
              "#0d0887"
             ],
             [
              0.1111111111111111,
              "#46039f"
             ],
             [
              0.2222222222222222,
              "#7201a8"
             ],
             [
              0.3333333333333333,
              "#9c179e"
             ],
             [
              0.4444444444444444,
              "#bd3786"
             ],
             [
              0.5555555555555556,
              "#d8576b"
             ],
             [
              0.6666666666666666,
              "#ed7953"
             ],
             [
              0.7777777777777778,
              "#fb9f3a"
             ],
             [
              0.8888888888888888,
              "#fdca26"
             ],
             [
              1,
              "#f0f921"
             ]
            ],
            "type": "heatmap"
           }
          ],
          "heatmapgl": [
           {
            "colorbar": {
             "outlinewidth": 0,
             "ticks": ""
            },
            "colorscale": [
             [
              0,
              "#0d0887"
             ],
             [
              0.1111111111111111,
              "#46039f"
             ],
             [
              0.2222222222222222,
              "#7201a8"
             ],
             [
              0.3333333333333333,
              "#9c179e"
             ],
             [
              0.4444444444444444,
              "#bd3786"
             ],
             [
              0.5555555555555556,
              "#d8576b"
             ],
             [
              0.6666666666666666,
              "#ed7953"
             ],
             [
              0.7777777777777778,
              "#fb9f3a"
             ],
             [
              0.8888888888888888,
              "#fdca26"
             ],
             [
              1,
              "#f0f921"
             ]
            ],
            "type": "heatmapgl"
           }
          ],
          "histogram": [
           {
            "marker": {
             "colorbar": {
              "outlinewidth": 0,
              "ticks": ""
             }
            },
            "type": "histogram"
           }
          ],
          "histogram2d": [
           {
            "colorbar": {
             "outlinewidth": 0,
             "ticks": ""
            },
            "colorscale": [
             [
              0,
              "#0d0887"
             ],
             [
              0.1111111111111111,
              "#46039f"
             ],
             [
              0.2222222222222222,
              "#7201a8"
             ],
             [
              0.3333333333333333,
              "#9c179e"
             ],
             [
              0.4444444444444444,
              "#bd3786"
             ],
             [
              0.5555555555555556,
              "#d8576b"
             ],
             [
              0.6666666666666666,
              "#ed7953"
             ],
             [
              0.7777777777777778,
              "#fb9f3a"
             ],
             [
              0.8888888888888888,
              "#fdca26"
             ],
             [
              1,
              "#f0f921"
             ]
            ],
            "type": "histogram2d"
           }
          ],
          "histogram2dcontour": [
           {
            "colorbar": {
             "outlinewidth": 0,
             "ticks": ""
            },
            "colorscale": [
             [
              0,
              "#0d0887"
             ],
             [
              0.1111111111111111,
              "#46039f"
             ],
             [
              0.2222222222222222,
              "#7201a8"
             ],
             [
              0.3333333333333333,
              "#9c179e"
             ],
             [
              0.4444444444444444,
              "#bd3786"
             ],
             [
              0.5555555555555556,
              "#d8576b"
             ],
             [
              0.6666666666666666,
              "#ed7953"
             ],
             [
              0.7777777777777778,
              "#fb9f3a"
             ],
             [
              0.8888888888888888,
              "#fdca26"
             ],
             [
              1,
              "#f0f921"
             ]
            ],
            "type": "histogram2dcontour"
           }
          ],
          "mesh3d": [
           {
            "colorbar": {
             "outlinewidth": 0,
             "ticks": ""
            },
            "type": "mesh3d"
           }
          ],
          "parcoords": [
           {
            "line": {
             "colorbar": {
              "outlinewidth": 0,
              "ticks": ""
             }
            },
            "type": "parcoords"
           }
          ],
          "pie": [
           {
            "automargin": true,
            "type": "pie"
           }
          ],
          "scatter": [
           {
            "marker": {
             "colorbar": {
              "outlinewidth": 0,
              "ticks": ""
             }
            },
            "type": "scatter"
           }
          ],
          "scatter3d": [
           {
            "line": {
             "colorbar": {
              "outlinewidth": 0,
              "ticks": ""
             }
            },
            "marker": {
             "colorbar": {
              "outlinewidth": 0,
              "ticks": ""
             }
            },
            "type": "scatter3d"
           }
          ],
          "scattercarpet": [
           {
            "marker": {
             "colorbar": {
              "outlinewidth": 0,
              "ticks": ""
             }
            },
            "type": "scattercarpet"
           }
          ],
          "scattergeo": [
           {
            "marker": {
             "colorbar": {
              "outlinewidth": 0,
              "ticks": ""
             }
            },
            "type": "scattergeo"
           }
          ],
          "scattergl": [
           {
            "marker": {
             "colorbar": {
              "outlinewidth": 0,
              "ticks": ""
             }
            },
            "type": "scattergl"
           }
          ],
          "scattermapbox": [
           {
            "marker": {
             "colorbar": {
              "outlinewidth": 0,
              "ticks": ""
             }
            },
            "type": "scattermapbox"
           }
          ],
          "scatterpolar": [
           {
            "marker": {
             "colorbar": {
              "outlinewidth": 0,
              "ticks": ""
             }
            },
            "type": "scatterpolar"
           }
          ],
          "scatterpolargl": [
           {
            "marker": {
             "colorbar": {
              "outlinewidth": 0,
              "ticks": ""
             }
            },
            "type": "scatterpolargl"
           }
          ],
          "scatterternary": [
           {
            "marker": {
             "colorbar": {
              "outlinewidth": 0,
              "ticks": ""
             }
            },
            "type": "scatterternary"
           }
          ],
          "surface": [
           {
            "colorbar": {
             "outlinewidth": 0,
             "ticks": ""
            },
            "colorscale": [
             [
              0,
              "#0d0887"
             ],
             [
              0.1111111111111111,
              "#46039f"
             ],
             [
              0.2222222222222222,
              "#7201a8"
             ],
             [
              0.3333333333333333,
              "#9c179e"
             ],
             [
              0.4444444444444444,
              "#bd3786"
             ],
             [
              0.5555555555555556,
              "#d8576b"
             ],
             [
              0.6666666666666666,
              "#ed7953"
             ],
             [
              0.7777777777777778,
              "#fb9f3a"
             ],
             [
              0.8888888888888888,
              "#fdca26"
             ],
             [
              1,
              "#f0f921"
             ]
            ],
            "type": "surface"
           }
          ],
          "table": [
           {
            "cells": {
             "fill": {
              "color": "#EBF0F8"
             },
             "line": {
              "color": "white"
             }
            },
            "header": {
             "fill": {
              "color": "#C8D4E3"
             },
             "line": {
              "color": "white"
             }
            },
            "type": "table"
           }
          ]
         },
         "layout": {
          "annotationdefaults": {
           "arrowcolor": "#2a3f5f",
           "arrowhead": 0,
           "arrowwidth": 1
          },
          "coloraxis": {
           "colorbar": {
            "outlinewidth": 0,
            "ticks": ""
           }
          },
          "colorscale": {
           "diverging": [
            [
             0,
             "#8e0152"
            ],
            [
             0.1,
             "#c51b7d"
            ],
            [
             0.2,
             "#de77ae"
            ],
            [
             0.3,
             "#f1b6da"
            ],
            [
             0.4,
             "#fde0ef"
            ],
            [
             0.5,
             "#f7f7f7"
            ],
            [
             0.6,
             "#e6f5d0"
            ],
            [
             0.7,
             "#b8e186"
            ],
            [
             0.8,
             "#7fbc41"
            ],
            [
             0.9,
             "#4d9221"
            ],
            [
             1,
             "#276419"
            ]
           ],
           "sequential": [
            [
             0,
             "#0d0887"
            ],
            [
             0.1111111111111111,
             "#46039f"
            ],
            [
             0.2222222222222222,
             "#7201a8"
            ],
            [
             0.3333333333333333,
             "#9c179e"
            ],
            [
             0.4444444444444444,
             "#bd3786"
            ],
            [
             0.5555555555555556,
             "#d8576b"
            ],
            [
             0.6666666666666666,
             "#ed7953"
            ],
            [
             0.7777777777777778,
             "#fb9f3a"
            ],
            [
             0.8888888888888888,
             "#fdca26"
            ],
            [
             1,
             "#f0f921"
            ]
           ],
           "sequentialminus": [
            [
             0,
             "#0d0887"
            ],
            [
             0.1111111111111111,
             "#46039f"
            ],
            [
             0.2222222222222222,
             "#7201a8"
            ],
            [
             0.3333333333333333,
             "#9c179e"
            ],
            [
             0.4444444444444444,
             "#bd3786"
            ],
            [
             0.5555555555555556,
             "#d8576b"
            ],
            [
             0.6666666666666666,
             "#ed7953"
            ],
            [
             0.7777777777777778,
             "#fb9f3a"
            ],
            [
             0.8888888888888888,
             "#fdca26"
            ],
            [
             1,
             "#f0f921"
            ]
           ]
          },
          "colorway": [
           "#636efa",
           "#EF553B",
           "#00cc96",
           "#ab63fa",
           "#FFA15A",
           "#19d3f3",
           "#FF6692",
           "#B6E880",
           "#FF97FF",
           "#FECB52"
          ],
          "font": {
           "color": "#2a3f5f"
          },
          "geo": {
           "bgcolor": "white",
           "lakecolor": "white",
           "landcolor": "#E5ECF6",
           "showlakes": true,
           "showland": true,
           "subunitcolor": "white"
          },
          "hoverlabel": {
           "align": "left"
          },
          "hovermode": "closest",
          "mapbox": {
           "style": "light"
          },
          "paper_bgcolor": "white",
          "plot_bgcolor": "#E5ECF6",
          "polar": {
           "angularaxis": {
            "gridcolor": "white",
            "linecolor": "white",
            "ticks": ""
           },
           "bgcolor": "#E5ECF6",
           "radialaxis": {
            "gridcolor": "white",
            "linecolor": "white",
            "ticks": ""
           }
          },
          "scene": {
           "xaxis": {
            "backgroundcolor": "#E5ECF6",
            "gridcolor": "white",
            "gridwidth": 2,
            "linecolor": "white",
            "showbackground": true,
            "ticks": "",
            "zerolinecolor": "white"
           },
           "yaxis": {
            "backgroundcolor": "#E5ECF6",
            "gridcolor": "white",
            "gridwidth": 2,
            "linecolor": "white",
            "showbackground": true,
            "ticks": "",
            "zerolinecolor": "white"
           },
           "zaxis": {
            "backgroundcolor": "#E5ECF6",
            "gridcolor": "white",
            "gridwidth": 2,
            "linecolor": "white",
            "showbackground": true,
            "ticks": "",
            "zerolinecolor": "white"
           }
          },
          "shapedefaults": {
           "line": {
            "color": "#2a3f5f"
           }
          },
          "ternary": {
           "aaxis": {
            "gridcolor": "white",
            "linecolor": "white",
            "ticks": ""
           },
           "baxis": {
            "gridcolor": "white",
            "linecolor": "white",
            "ticks": ""
           },
           "bgcolor": "#E5ECF6",
           "caxis": {
            "gridcolor": "white",
            "linecolor": "white",
            "ticks": ""
           }
          },
          "title": {
           "x": 0.05
          },
          "xaxis": {
           "automargin": true,
           "gridcolor": "white",
           "linecolor": "white",
           "ticks": "",
           "title": {
            "standoff": 15
           },
           "zerolinecolor": "white",
           "zerolinewidth": 2
          },
          "yaxis": {
           "automargin": true,
           "gridcolor": "white",
           "linecolor": "white",
           "ticks": "",
           "title": {
            "standoff": 15
           },
           "zerolinecolor": "white",
           "zerolinewidth": 2
          }
         }
        },
        "xaxis": {
         "anchor": "y",
         "domain": [
          0,
          1
         ],
         "title": {
          "text": "active"
         },
         "type": "log"
        },
        "yaxis": {
         "anchor": "x",
         "domain": [
          0,
          1
         ],
         "title": {
          "text": "confirmed"
         }
        }
       }
      },
      "text/html": [
       "<div>                            <div id=\"b0f23619-8d55-4b0d-90c8-6fb75a8551b1\" class=\"plotly-graph-div\" style=\"height:525px; width:100%;\"></div>            <script type=\"text/javascript\">                require([\"plotly\"], function(Plotly) {                    window.PLOTLYENV=window.PLOTLYENV || {};                                    if (document.getElementById(\"b0f23619-8d55-4b0d-90c8-6fb75a8551b1\")) {                    Plotly.newPlot(                        \"b0f23619-8d55-4b0d-90c8-6fb75a8551b1\",                        [{\"hovertemplate\": \"<b>%{hovertext}</b><br><br>country_region=US<br>active=%{marker.size}<br>confirmed=%{y}<extra></extra>\", \"hovertext\": [\"US\"], \"legendgroup\": \"US\", \"marker\": {\"color\": \"#636efa\", \"size\": [4139079.0], \"sizemode\": \"area\", \"sizeref\": 1149.7441666666666, \"symbol\": \"circle\"}, \"mode\": \"markers\", \"name\": \"US\", \"orientation\": \"v\", \"showlegend\": true, \"type\": \"scatter\", \"x\": [4139079.0], \"xaxis\": \"x\", \"y\": [7094145.0], \"yaxis\": \"y\"}, {\"hovertemplate\": \"<b>%{hovertext}</b><br><br>country_region=India<br>active=%{marker.size}<br>confirmed=%{y}<extra></extra>\", \"hovertext\": [\"India\"], \"legendgroup\": \"India\", \"marker\": {\"color\": \"#EF553B\", \"size\": [956402.0], \"sizemode\": \"area\", \"sizeref\": 1149.7441666666666, \"symbol\": \"circle\"}, \"mode\": \"markers\", \"name\": \"India\", \"orientation\": \"v\", \"showlegend\": true, \"type\": \"scatter\", \"x\": [956402.0], \"xaxis\": \"x\", \"y\": [5992532.0], \"yaxis\": \"y\"}, {\"hovertemplate\": \"<b>%{hovertext}</b><br><br>country_region=Spain<br>active=%{marker.size}<br>confirmed=%{y}<extra></extra>\", \"hovertext\": [\"Spain\"], \"legendgroup\": \"Spain\", \"marker\": {\"color\": \"#00cc96\", \"size\": [534873.0], \"sizemode\": \"area\", \"sizeref\": 1149.7441666666666, \"symbol\": \"circle\"}, \"mode\": \"markers\", \"name\": \"Spain\", \"orientation\": \"v\", \"showlegend\": true, \"type\": \"scatter\", \"x\": [534873.0], \"xaxis\": \"x\", \"y\": [716481.0], \"yaxis\": \"y\"}, {\"hovertemplate\": \"<b>%{hovertext}</b><br><br>country_region=France<br>active=%{marker.size}<br>confirmed=%{y}<extra></extra>\", \"hovertext\": [\"France\"], \"legendgroup\": \"France\", \"marker\": {\"color\": \"#ab63fa\", \"size\": [423985.0], \"sizemode\": \"area\", \"sizeref\": 1149.7441666666666, \"symbol\": \"circle\"}, \"mode\": \"markers\", \"name\": \"France\", \"orientation\": \"v\", \"showlegend\": true, \"type\": \"scatter\", \"x\": [423985.0], \"xaxis\": \"x\", \"y\": [552473.0], \"yaxis\": \"y\"}, {\"hovertemplate\": \"<b>%{hovertext}</b><br><br>country_region=Brazil<br>active=%{marker.size}<br>confirmed=%{y}<extra></extra>\", \"hovertext\": [\"Brazil\"], \"legendgroup\": \"Brazil\", \"marker\": {\"color\": \"#FFA15A\", \"size\": [423278.0], \"sizemode\": \"area\", \"sizeref\": 1149.7441666666666, \"symbol\": \"circle\"}, \"mode\": \"markers\", \"name\": \"Brazil\", \"orientation\": \"v\", \"showlegend\": true, \"type\": \"scatter\", \"x\": [423278.0], \"xaxis\": \"x\", \"y\": [4717991.0], \"yaxis\": \"y\"}, {\"hovertemplate\": \"<b>%{hovertext}</b><br><br>country_region=United Kingdom<br>active=%{marker.size}<br>confirmed=%{y}<extra></extra>\", \"hovertext\": [\"United Kingdom\"], \"legendgroup\": \"United Kingdom\", \"marker\": {\"color\": \"#19d3f3\", \"size\": [393100.0], \"sizemode\": \"area\", \"sizeref\": 1149.7441666666666, \"symbol\": \"circle\"}, \"mode\": \"markers\", \"name\": \"United Kingdom\", \"orientation\": \"v\", \"showlegend\": true, \"type\": \"scatter\", \"x\": [393100.0], \"xaxis\": \"x\", \"y\": [437516.0], \"yaxis\": \"y\"}, {\"hovertemplate\": \"<b>%{hovertext}</b><br><br>country_region=Russia<br>active=%{marker.size}<br>confirmed=%{y}<extra></extra>\", \"hovertext\": [\"Russia\"], \"legendgroup\": \"Russia\", \"marker\": {\"color\": \"#FF6692\", \"size\": [186113.0], \"sizemode\": \"area\", \"sizeref\": 1149.7441666666666, \"symbol\": \"circle\"}, \"mode\": \"markers\", \"name\": \"Russia\", \"orientation\": \"v\", \"showlegend\": true, \"type\": \"scatter\", \"x\": [186113.0], \"xaxis\": \"x\", \"y\": [1146273.0], \"yaxis\": \"y\"}, {\"hovertemplate\": \"<b>%{hovertext}</b><br><br>country_region=Argentina<br>active=%{marker.size}<br>confirmed=%{y}<extra></extra>\", \"hovertext\": [\"Argentina\"], \"legendgroup\": \"Argentina\", \"marker\": {\"color\": \"#B6E880\", \"size\": [130452.0], \"sizemode\": \"area\", \"sizeref\": 1149.7441666666666, \"symbol\": \"circle\"}, \"mode\": \"markers\", \"name\": \"Argentina\", \"orientation\": \"v\", \"showlegend\": true, \"type\": \"scatter\", \"x\": [130452.0], \"xaxis\": \"x\", \"y\": [702484.0], \"yaxis\": \"y\"}, {\"hovertemplate\": \"<b>%{hovertext}</b><br><br>country_region=Peru<br>active=%{marker.size}<br>confirmed=%{y}<extra></extra>\", \"hovertext\": [\"Peru\"], \"legendgroup\": \"Peru\", \"marker\": {\"color\": \"#FF97FF\", \"size\": [110164.0], \"sizemode\": \"area\", \"sizeref\": 1149.7441666666666, \"symbol\": \"circle\"}, \"mode\": \"markers\", \"name\": \"Peru\", \"orientation\": \"v\", \"showlegend\": true, \"type\": \"scatter\", \"x\": [110164.0], \"xaxis\": \"x\", \"y\": [800142.0], \"yaxis\": \"y\"}, {\"hovertemplate\": \"<b>%{hovertext}</b><br><br>country_region=Ukraine<br>active=%{marker.size}<br>confirmed=%{y}<extra></extra>\", \"hovertext\": [\"Ukraine\"], \"legendgroup\": \"Ukraine\", \"marker\": {\"color\": \"#FECB52\", \"size\": [108576.0], \"sizemode\": \"area\", \"sizeref\": 1149.7441666666666, \"symbol\": \"circle\"}, \"mode\": \"markers\", \"name\": \"Ukraine\", \"orientation\": \"v\", \"showlegend\": true, \"type\": \"scatter\", \"x\": [108576.0], \"xaxis\": \"x\", \"y\": [203799.0], \"yaxis\": \"y\"}],                        {\"legend\": {\"itemsizing\": \"constant\", \"title\": {\"text\": \"country_region\"}, \"tracegroupgap\": 0}, \"margin\": {\"t\": 60}, \"template\": {\"data\": {\"bar\": [{\"error_x\": {\"color\": \"#2a3f5f\"}, \"error_y\": {\"color\": \"#2a3f5f\"}, \"marker\": {\"line\": {\"color\": \"#E5ECF6\", \"width\": 0.5}}, \"type\": \"bar\"}], \"barpolar\": [{\"marker\": {\"line\": {\"color\": \"#E5ECF6\", \"width\": 0.5}}, \"type\": \"barpolar\"}], \"carpet\": [{\"aaxis\": {\"endlinecolor\": \"#2a3f5f\", \"gridcolor\": \"white\", \"linecolor\": \"white\", \"minorgridcolor\": \"white\", \"startlinecolor\": \"#2a3f5f\"}, \"baxis\": {\"endlinecolor\": \"#2a3f5f\", \"gridcolor\": \"white\", \"linecolor\": \"white\", \"minorgridcolor\": \"white\", \"startlinecolor\": \"#2a3f5f\"}, \"type\": \"carpet\"}], \"choropleth\": [{\"colorbar\": {\"outlinewidth\": 0, \"ticks\": \"\"}, \"type\": \"choropleth\"}], \"contour\": [{\"colorbar\": {\"outlinewidth\": 0, \"ticks\": \"\"}, \"colorscale\": [[0.0, \"#0d0887\"], [0.1111111111111111, \"#46039f\"], [0.2222222222222222, \"#7201a8\"], [0.3333333333333333, \"#9c179e\"], [0.4444444444444444, \"#bd3786\"], [0.5555555555555556, \"#d8576b\"], [0.6666666666666666, \"#ed7953\"], [0.7777777777777778, \"#fb9f3a\"], [0.8888888888888888, \"#fdca26\"], [1.0, \"#f0f921\"]], \"type\": \"contour\"}], \"contourcarpet\": [{\"colorbar\": {\"outlinewidth\": 0, \"ticks\": \"\"}, \"type\": \"contourcarpet\"}], \"heatmap\": [{\"colorbar\": {\"outlinewidth\": 0, \"ticks\": \"\"}, \"colorscale\": [[0.0, \"#0d0887\"], [0.1111111111111111, \"#46039f\"], [0.2222222222222222, \"#7201a8\"], [0.3333333333333333, \"#9c179e\"], [0.4444444444444444, \"#bd3786\"], [0.5555555555555556, \"#d8576b\"], [0.6666666666666666, \"#ed7953\"], [0.7777777777777778, \"#fb9f3a\"], [0.8888888888888888, \"#fdca26\"], [1.0, \"#f0f921\"]], \"type\": \"heatmap\"}], \"heatmapgl\": [{\"colorbar\": {\"outlinewidth\": 0, \"ticks\": \"\"}, \"colorscale\": [[0.0, \"#0d0887\"], [0.1111111111111111, \"#46039f\"], [0.2222222222222222, \"#7201a8\"], [0.3333333333333333, \"#9c179e\"], [0.4444444444444444, \"#bd3786\"], [0.5555555555555556, \"#d8576b\"], [0.6666666666666666, \"#ed7953\"], [0.7777777777777778, \"#fb9f3a\"], [0.8888888888888888, \"#fdca26\"], [1.0, \"#f0f921\"]], \"type\": \"heatmapgl\"}], \"histogram\": [{\"marker\": {\"colorbar\": {\"outlinewidth\": 0, \"ticks\": \"\"}}, \"type\": \"histogram\"}], \"histogram2d\": [{\"colorbar\": {\"outlinewidth\": 0, \"ticks\": \"\"}, \"colorscale\": [[0.0, \"#0d0887\"], [0.1111111111111111, \"#46039f\"], [0.2222222222222222, \"#7201a8\"], [0.3333333333333333, \"#9c179e\"], [0.4444444444444444, \"#bd3786\"], [0.5555555555555556, \"#d8576b\"], [0.6666666666666666, \"#ed7953\"], [0.7777777777777778, \"#fb9f3a\"], [0.8888888888888888, \"#fdca26\"], [1.0, \"#f0f921\"]], \"type\": \"histogram2d\"}], \"histogram2dcontour\": [{\"colorbar\": {\"outlinewidth\": 0, \"ticks\": \"\"}, \"colorscale\": [[0.0, \"#0d0887\"], [0.1111111111111111, \"#46039f\"], [0.2222222222222222, \"#7201a8\"], [0.3333333333333333, \"#9c179e\"], [0.4444444444444444, \"#bd3786\"], [0.5555555555555556, \"#d8576b\"], [0.6666666666666666, \"#ed7953\"], [0.7777777777777778, \"#fb9f3a\"], [0.8888888888888888, \"#fdca26\"], [1.0, \"#f0f921\"]], \"type\": \"histogram2dcontour\"}], \"mesh3d\": [{\"colorbar\": {\"outlinewidth\": 0, \"ticks\": \"\"}, \"type\": \"mesh3d\"}], \"parcoords\": [{\"line\": {\"colorbar\": {\"outlinewidth\": 0, \"ticks\": \"\"}}, \"type\": \"parcoords\"}], \"pie\": [{\"automargin\": true, \"type\": \"pie\"}], \"scatter\": [{\"marker\": {\"colorbar\": {\"outlinewidth\": 0, \"ticks\": \"\"}}, \"type\": \"scatter\"}], \"scatter3d\": [{\"line\": {\"colorbar\": {\"outlinewidth\": 0, \"ticks\": \"\"}}, \"marker\": {\"colorbar\": {\"outlinewidth\": 0, \"ticks\": \"\"}}, \"type\": \"scatter3d\"}], \"scattercarpet\": [{\"marker\": {\"colorbar\": {\"outlinewidth\": 0, \"ticks\": \"\"}}, \"type\": \"scattercarpet\"}], \"scattergeo\": [{\"marker\": {\"colorbar\": {\"outlinewidth\": 0, \"ticks\": \"\"}}, \"type\": \"scattergeo\"}], \"scattergl\": [{\"marker\": {\"colorbar\": {\"outlinewidth\": 0, \"ticks\": \"\"}}, \"type\": \"scattergl\"}], \"scattermapbox\": [{\"marker\": {\"colorbar\": {\"outlinewidth\": 0, \"ticks\": \"\"}}, \"type\": \"scattermapbox\"}], \"scatterpolar\": [{\"marker\": {\"colorbar\": {\"outlinewidth\": 0, \"ticks\": \"\"}}, \"type\": \"scatterpolar\"}], \"scatterpolargl\": [{\"marker\": {\"colorbar\": {\"outlinewidth\": 0, \"ticks\": \"\"}}, \"type\": \"scatterpolargl\"}], \"scatterternary\": [{\"marker\": {\"colorbar\": {\"outlinewidth\": 0, \"ticks\": \"\"}}, \"type\": \"scatterternary\"}], \"surface\": [{\"colorbar\": {\"outlinewidth\": 0, \"ticks\": \"\"}, \"colorscale\": [[0.0, \"#0d0887\"], [0.1111111111111111, \"#46039f\"], [0.2222222222222222, \"#7201a8\"], [0.3333333333333333, \"#9c179e\"], [0.4444444444444444, \"#bd3786\"], [0.5555555555555556, \"#d8576b\"], [0.6666666666666666, \"#ed7953\"], [0.7777777777777778, \"#fb9f3a\"], [0.8888888888888888, \"#fdca26\"], [1.0, \"#f0f921\"]], \"type\": \"surface\"}], \"table\": [{\"cells\": {\"fill\": {\"color\": \"#EBF0F8\"}, \"line\": {\"color\": \"white\"}}, \"header\": {\"fill\": {\"color\": \"#C8D4E3\"}, \"line\": {\"color\": \"white\"}}, \"type\": \"table\"}]}, \"layout\": {\"annotationdefaults\": {\"arrowcolor\": \"#2a3f5f\", \"arrowhead\": 0, \"arrowwidth\": 1}, \"coloraxis\": {\"colorbar\": {\"outlinewidth\": 0, \"ticks\": \"\"}}, \"colorscale\": {\"diverging\": [[0, \"#8e0152\"], [0.1, \"#c51b7d\"], [0.2, \"#de77ae\"], [0.3, \"#f1b6da\"], [0.4, \"#fde0ef\"], [0.5, \"#f7f7f7\"], [0.6, \"#e6f5d0\"], [0.7, \"#b8e186\"], [0.8, \"#7fbc41\"], [0.9, \"#4d9221\"], [1, \"#276419\"]], \"sequential\": [[0.0, \"#0d0887\"], [0.1111111111111111, \"#46039f\"], [0.2222222222222222, \"#7201a8\"], [0.3333333333333333, \"#9c179e\"], [0.4444444444444444, \"#bd3786\"], [0.5555555555555556, \"#d8576b\"], [0.6666666666666666, \"#ed7953\"], [0.7777777777777778, \"#fb9f3a\"], [0.8888888888888888, \"#fdca26\"], [1.0, \"#f0f921\"]], \"sequentialminus\": [[0.0, \"#0d0887\"], [0.1111111111111111, \"#46039f\"], [0.2222222222222222, \"#7201a8\"], [0.3333333333333333, \"#9c179e\"], [0.4444444444444444, \"#bd3786\"], [0.5555555555555556, \"#d8576b\"], [0.6666666666666666, \"#ed7953\"], [0.7777777777777778, \"#fb9f3a\"], [0.8888888888888888, \"#fdca26\"], [1.0, \"#f0f921\"]]}, \"colorway\": [\"#636efa\", \"#EF553B\", \"#00cc96\", \"#ab63fa\", \"#FFA15A\", \"#19d3f3\", \"#FF6692\", \"#B6E880\", \"#FF97FF\", \"#FECB52\"], \"font\": {\"color\": \"#2a3f5f\"}, \"geo\": {\"bgcolor\": \"white\", \"lakecolor\": \"white\", \"landcolor\": \"#E5ECF6\", \"showlakes\": true, \"showland\": true, \"subunitcolor\": \"white\"}, \"hoverlabel\": {\"align\": \"left\"}, \"hovermode\": \"closest\", \"mapbox\": {\"style\": \"light\"}, \"paper_bgcolor\": \"white\", \"plot_bgcolor\": \"#E5ECF6\", \"polar\": {\"angularaxis\": {\"gridcolor\": \"white\", \"linecolor\": \"white\", \"ticks\": \"\"}, \"bgcolor\": \"#E5ECF6\", \"radialaxis\": {\"gridcolor\": \"white\", \"linecolor\": \"white\", \"ticks\": \"\"}}, \"scene\": {\"xaxis\": {\"backgroundcolor\": \"#E5ECF6\", \"gridcolor\": \"white\", \"gridwidth\": 2, \"linecolor\": \"white\", \"showbackground\": true, \"ticks\": \"\", \"zerolinecolor\": \"white\"}, \"yaxis\": {\"backgroundcolor\": \"#E5ECF6\", \"gridcolor\": \"white\", \"gridwidth\": 2, \"linecolor\": \"white\", \"showbackground\": true, \"ticks\": \"\", \"zerolinecolor\": \"white\"}, \"zaxis\": {\"backgroundcolor\": \"#E5ECF6\", \"gridcolor\": \"white\", \"gridwidth\": 2, \"linecolor\": \"white\", \"showbackground\": true, \"ticks\": \"\", \"zerolinecolor\": \"white\"}}, \"shapedefaults\": {\"line\": {\"color\": \"#2a3f5f\"}}, \"ternary\": {\"aaxis\": {\"gridcolor\": \"white\", \"linecolor\": \"white\", \"ticks\": \"\"}, \"baxis\": {\"gridcolor\": \"white\", \"linecolor\": \"white\", \"ticks\": \"\"}, \"bgcolor\": \"#E5ECF6\", \"caxis\": {\"gridcolor\": \"white\", \"linecolor\": \"white\", \"ticks\": \"\"}}, \"title\": {\"x\": 0.05}, \"xaxis\": {\"automargin\": true, \"gridcolor\": \"white\", \"linecolor\": \"white\", \"ticks\": \"\", \"title\": {\"standoff\": 15}, \"zerolinecolor\": \"white\", \"zerolinewidth\": 2}, \"yaxis\": {\"automargin\": true, \"gridcolor\": \"white\", \"linecolor\": \"white\", \"ticks\": \"\", \"title\": {\"standoff\": 15}, \"zerolinecolor\": \"white\", \"zerolinewidth\": 2}}}, \"xaxis\": {\"anchor\": \"y\", \"domain\": [0.0, 1.0], \"title\": {\"text\": \"active\"}, \"type\": \"log\"}, \"yaxis\": {\"anchor\": \"x\", \"domain\": [0.0, 1.0], \"title\": {\"text\": \"confirmed\"}}},                        {\"responsive\": true}                    ).then(function(){\n",
       "                            \n",
       "var gd = document.getElementById('b0f23619-8d55-4b0d-90c8-6fb75a8551b1');\n",
       "var x = new MutationObserver(function (mutations, observer) {{\n",
       "        var display = window.getComputedStyle(gd).display;\n",
       "        if (!display || display === 'none') {{\n",
       "            console.log([gd, 'removed!']);\n",
       "            Plotly.purge(gd);\n",
       "            observer.disconnect();\n",
       "        }}\n",
       "}});\n",
       "\n",
       "// Listen for the removal of the full notebook cells\n",
       "var notebookContainer = gd.closest('#notebook-container');\n",
       "if (notebookContainer) {{\n",
       "    x.observe(notebookContainer, {childList: true});\n",
       "}}\n",
       "\n",
       "// Listen for the clearing of the current output cell\n",
       "var outputEl = gd.closest('.output');\n",
       "if (outputEl) {{\n",
       "    x.observe(outputEl, {childList: true});\n",
       "}}\n",
       "\n",
       "                        })                };                });            </script>        </div>"
      ]
     },
     "metadata": {},
     "output_type": "display_data"
    }
   ],
   "source": [
    "#Active Cases\n",
    "top_10_active = country_df.sort_values(by=\"active\", ascending=False).head(10)\n",
    "fig = px.scatter(top_10_active, \n",
    "                 x=\"active\", y=\"confirmed\",size=\"active\", color=\"country_region\",\n",
    "                 hover_name=\"country_region\", log_x=True, size_max=60)\n",
    "fig.show()"
   ]
  },
  {
   "cell_type": "code",
   "execution_count": 22,
   "metadata": {},
   "outputs": [
    {
     "data": {
      "application/vnd.plotly.v1+json": {
       "config": {
        "plotlyServerURL": "https://plot.ly"
       },
       "data": [
        {
         "hovertemplate": "<b>%{hovertext}</b><br><br>country_region=India<br>recovered=%{marker.size}<br>confirmed=%{y}<extra></extra>",
         "hovertext": [
          "India"
         ],
         "legendgroup": "India",
         "marker": {
          "color": "#636efa",
          "size": [
           4941627
          ],
          "sizemode": "area",
          "sizeref": 1372.6741666666667,
          "symbol": "circle"
         },
         "mode": "markers",
         "name": "India",
         "orientation": "v",
         "showlegend": true,
         "type": "scatter",
         "x": [
          4941627
         ],
         "xaxis": "x",
         "y": [
          5992532
         ],
         "yaxis": "y"
        },
        {
         "hovertemplate": "<b>%{hovertext}</b><br><br>country_region=Brazil<br>recovered=%{marker.size}<br>confirmed=%{y}<extra></extra>",
         "hovertext": [
          "Brazil"
         ],
         "legendgroup": "Brazil",
         "marker": {
          "color": "#EF553B",
          "size": [
           4153307
          ],
          "sizemode": "area",
          "sizeref": 1372.6741666666667,
          "symbol": "circle"
         },
         "mode": "markers",
         "name": "Brazil",
         "orientation": "v",
         "showlegend": true,
         "type": "scatter",
         "x": [
          4153307
         ],
         "xaxis": "x",
         "y": [
          4717991
         ],
         "yaxis": "y"
        },
        {
         "hovertemplate": "<b>%{hovertext}</b><br><br>country_region=US<br>recovered=%{marker.size}<br>confirmed=%{y}<extra></extra>",
         "hovertext": [
          "US"
         ],
         "legendgroup": "US",
         "marker": {
          "color": "#00cc96",
          "size": [
           2750459
          ],
          "sizemode": "area",
          "sizeref": 1372.6741666666667,
          "symbol": "circle"
         },
         "mode": "markers",
         "name": "US",
         "orientation": "v",
         "showlegend": true,
         "type": "scatter",
         "x": [
          2750459
         ],
         "xaxis": "x",
         "y": [
          7094145
         ],
         "yaxis": "y"
        },
        {
         "hovertemplate": "<b>%{hovertext}</b><br><br>country_region=Russia<br>recovered=%{marker.size}<br>confirmed=%{y}<extra></extra>",
         "hovertext": [
          "Russia"
         ],
         "legendgroup": "Russia",
         "marker": {
          "color": "#ab63fa",
          "size": [
           939921
          ],
          "sizemode": "area",
          "sizeref": 1372.6741666666667,
          "symbol": "circle"
         },
         "mode": "markers",
         "name": "Russia",
         "orientation": "v",
         "showlegend": true,
         "type": "scatter",
         "x": [
          939921
         ],
         "xaxis": "x",
         "y": [
          1146273
         ],
         "yaxis": "y"
        },
        {
         "hovertemplate": "<b>%{hovertext}</b><br><br>country_region=Colombia<br>recovered=%{marker.size}<br>confirmed=%{y}<extra></extra>",
         "hovertext": [
          "Colombia"
         ],
         "legendgroup": "Colombia",
         "marker": {
          "color": "#FFA15A",
          "size": [
           700112
          ],
          "sizemode": "area",
          "sizeref": 1372.6741666666667,
          "symbol": "circle"
         },
         "mode": "markers",
         "name": "Colombia",
         "orientation": "v",
         "showlegend": true,
         "type": "scatter",
         "x": [
          700112
         ],
         "xaxis": "x",
         "y": [
          806038
         ],
         "yaxis": "y"
        },
        {
         "hovertemplate": "<b>%{hovertext}</b><br><br>country_region=Peru<br>recovered=%{marker.size}<br>confirmed=%{y}<extra></extra>",
         "hovertext": [
          "Peru"
         ],
         "legendgroup": "Peru",
         "marker": {
          "color": "#19d3f3",
          "size": [
           657836
          ],
          "sizemode": "area",
          "sizeref": 1372.6741666666667,
          "symbol": "circle"
         },
         "mode": "markers",
         "name": "Peru",
         "orientation": "v",
         "showlegend": true,
         "type": "scatter",
         "x": [
          657836
         ],
         "xaxis": "x",
         "y": [
          800142
         ],
         "yaxis": "y"
        },
        {
         "hovertemplate": "<b>%{hovertext}</b><br><br>country_region=Mexico<br>recovered=%{marker.size}<br>confirmed=%{y}<extra></extra>",
         "hovertext": [
          "Mexico"
         ],
         "legendgroup": "Mexico",
         "marker": {
          "color": "#FF6692",
          "size": [
           612361
          ],
          "sizemode": "area",
          "sizeref": 1372.6741666666667,
          "symbol": "circle"
         },
         "mode": "markers",
         "name": "Mexico",
         "orientation": "v",
         "showlegend": true,
         "type": "scatter",
         "x": [
          612361
         ],
         "xaxis": "x",
         "y": [
          726431
         ],
         "yaxis": "y"
        },
        {
         "hovertemplate": "<b>%{hovertext}</b><br><br>country_region=South Africa<br>recovered=%{marker.size}<br>confirmed=%{y}<extra></extra>",
         "hovertext": [
          "South Africa"
         ],
         "legendgroup": "South Africa",
         "marker": {
          "color": "#B6E880",
          "size": [
           601818
          ],
          "sizemode": "area",
          "sizeref": 1372.6741666666667,
          "symbol": "circle"
         },
         "mode": "markers",
         "name": "South Africa",
         "orientation": "v",
         "showlegend": true,
         "type": "scatter",
         "x": [
          601818
         ],
         "xaxis": "x",
         "y": [
          669498
         ],
         "yaxis": "y"
        },
        {
         "hovertemplate": "<b>%{hovertext}</b><br><br>country_region=Argentina<br>recovered=%{marker.size}<br>confirmed=%{y}<extra></extra>",
         "hovertext": [
          "Argentina"
         ],
         "legendgroup": "Argentina",
         "marker": {
          "color": "#FF97FF",
          "size": [
           556489
          ],
          "sizemode": "area",
          "sizeref": 1372.6741666666667,
          "symbol": "circle"
         },
         "mode": "markers",
         "name": "Argentina",
         "orientation": "v",
         "showlegend": true,
         "type": "scatter",
         "x": [
          556489
         ],
         "xaxis": "x",
         "y": [
          702484
         ],
         "yaxis": "y"
        },
        {
         "hovertemplate": "<b>%{hovertext}</b><br><br>country_region=Chile<br>recovered=%{marker.size}<br>confirmed=%{y}<extra></extra>",
         "hovertext": [
          "Chile"
         ],
         "legendgroup": "Chile",
         "marker": {
          "color": "#FECB52",
          "size": [
           431704
          ],
          "sizemode": "area",
          "sizeref": 1372.6741666666667,
          "symbol": "circle"
         },
         "mode": "markers",
         "name": "Chile",
         "orientation": "v",
         "showlegend": true,
         "type": "scatter",
         "x": [
          431704
         ],
         "xaxis": "x",
         "y": [
          457901
         ],
         "yaxis": "y"
        }
       ],
       "layout": {
        "legend": {
         "itemsizing": "constant",
         "title": {
          "text": "country_region"
         },
         "tracegroupgap": 0
        },
        "margin": {
         "t": 60
        },
        "template": {
         "data": {
          "bar": [
           {
            "error_x": {
             "color": "#2a3f5f"
            },
            "error_y": {
             "color": "#2a3f5f"
            },
            "marker": {
             "line": {
              "color": "#E5ECF6",
              "width": 0.5
             }
            },
            "type": "bar"
           }
          ],
          "barpolar": [
           {
            "marker": {
             "line": {
              "color": "#E5ECF6",
              "width": 0.5
             }
            },
            "type": "barpolar"
           }
          ],
          "carpet": [
           {
            "aaxis": {
             "endlinecolor": "#2a3f5f",
             "gridcolor": "white",
             "linecolor": "white",
             "minorgridcolor": "white",
             "startlinecolor": "#2a3f5f"
            },
            "baxis": {
             "endlinecolor": "#2a3f5f",
             "gridcolor": "white",
             "linecolor": "white",
             "minorgridcolor": "white",
             "startlinecolor": "#2a3f5f"
            },
            "type": "carpet"
           }
          ],
          "choropleth": [
           {
            "colorbar": {
             "outlinewidth": 0,
             "ticks": ""
            },
            "type": "choropleth"
           }
          ],
          "contour": [
           {
            "colorbar": {
             "outlinewidth": 0,
             "ticks": ""
            },
            "colorscale": [
             [
              0,
              "#0d0887"
             ],
             [
              0.1111111111111111,
              "#46039f"
             ],
             [
              0.2222222222222222,
              "#7201a8"
             ],
             [
              0.3333333333333333,
              "#9c179e"
             ],
             [
              0.4444444444444444,
              "#bd3786"
             ],
             [
              0.5555555555555556,
              "#d8576b"
             ],
             [
              0.6666666666666666,
              "#ed7953"
             ],
             [
              0.7777777777777778,
              "#fb9f3a"
             ],
             [
              0.8888888888888888,
              "#fdca26"
             ],
             [
              1,
              "#f0f921"
             ]
            ],
            "type": "contour"
           }
          ],
          "contourcarpet": [
           {
            "colorbar": {
             "outlinewidth": 0,
             "ticks": ""
            },
            "type": "contourcarpet"
           }
          ],
          "heatmap": [
           {
            "colorbar": {
             "outlinewidth": 0,
             "ticks": ""
            },
            "colorscale": [
             [
              0,
              "#0d0887"
             ],
             [
              0.1111111111111111,
              "#46039f"
             ],
             [
              0.2222222222222222,
              "#7201a8"
             ],
             [
              0.3333333333333333,
              "#9c179e"
             ],
             [
              0.4444444444444444,
              "#bd3786"
             ],
             [
              0.5555555555555556,
              "#d8576b"
             ],
             [
              0.6666666666666666,
              "#ed7953"
             ],
             [
              0.7777777777777778,
              "#fb9f3a"
             ],
             [
              0.8888888888888888,
              "#fdca26"
             ],
             [
              1,
              "#f0f921"
             ]
            ],
            "type": "heatmap"
           }
          ],
          "heatmapgl": [
           {
            "colorbar": {
             "outlinewidth": 0,
             "ticks": ""
            },
            "colorscale": [
             [
              0,
              "#0d0887"
             ],
             [
              0.1111111111111111,
              "#46039f"
             ],
             [
              0.2222222222222222,
              "#7201a8"
             ],
             [
              0.3333333333333333,
              "#9c179e"
             ],
             [
              0.4444444444444444,
              "#bd3786"
             ],
             [
              0.5555555555555556,
              "#d8576b"
             ],
             [
              0.6666666666666666,
              "#ed7953"
             ],
             [
              0.7777777777777778,
              "#fb9f3a"
             ],
             [
              0.8888888888888888,
              "#fdca26"
             ],
             [
              1,
              "#f0f921"
             ]
            ],
            "type": "heatmapgl"
           }
          ],
          "histogram": [
           {
            "marker": {
             "colorbar": {
              "outlinewidth": 0,
              "ticks": ""
             }
            },
            "type": "histogram"
           }
          ],
          "histogram2d": [
           {
            "colorbar": {
             "outlinewidth": 0,
             "ticks": ""
            },
            "colorscale": [
             [
              0,
              "#0d0887"
             ],
             [
              0.1111111111111111,
              "#46039f"
             ],
             [
              0.2222222222222222,
              "#7201a8"
             ],
             [
              0.3333333333333333,
              "#9c179e"
             ],
             [
              0.4444444444444444,
              "#bd3786"
             ],
             [
              0.5555555555555556,
              "#d8576b"
             ],
             [
              0.6666666666666666,
              "#ed7953"
             ],
             [
              0.7777777777777778,
              "#fb9f3a"
             ],
             [
              0.8888888888888888,
              "#fdca26"
             ],
             [
              1,
              "#f0f921"
             ]
            ],
            "type": "histogram2d"
           }
          ],
          "histogram2dcontour": [
           {
            "colorbar": {
             "outlinewidth": 0,
             "ticks": ""
            },
            "colorscale": [
             [
              0,
              "#0d0887"
             ],
             [
              0.1111111111111111,
              "#46039f"
             ],
             [
              0.2222222222222222,
              "#7201a8"
             ],
             [
              0.3333333333333333,
              "#9c179e"
             ],
             [
              0.4444444444444444,
              "#bd3786"
             ],
             [
              0.5555555555555556,
              "#d8576b"
             ],
             [
              0.6666666666666666,
              "#ed7953"
             ],
             [
              0.7777777777777778,
              "#fb9f3a"
             ],
             [
              0.8888888888888888,
              "#fdca26"
             ],
             [
              1,
              "#f0f921"
             ]
            ],
            "type": "histogram2dcontour"
           }
          ],
          "mesh3d": [
           {
            "colorbar": {
             "outlinewidth": 0,
             "ticks": ""
            },
            "type": "mesh3d"
           }
          ],
          "parcoords": [
           {
            "line": {
             "colorbar": {
              "outlinewidth": 0,
              "ticks": ""
             }
            },
            "type": "parcoords"
           }
          ],
          "pie": [
           {
            "automargin": true,
            "type": "pie"
           }
          ],
          "scatter": [
           {
            "marker": {
             "colorbar": {
              "outlinewidth": 0,
              "ticks": ""
             }
            },
            "type": "scatter"
           }
          ],
          "scatter3d": [
           {
            "line": {
             "colorbar": {
              "outlinewidth": 0,
              "ticks": ""
             }
            },
            "marker": {
             "colorbar": {
              "outlinewidth": 0,
              "ticks": ""
             }
            },
            "type": "scatter3d"
           }
          ],
          "scattercarpet": [
           {
            "marker": {
             "colorbar": {
              "outlinewidth": 0,
              "ticks": ""
             }
            },
            "type": "scattercarpet"
           }
          ],
          "scattergeo": [
           {
            "marker": {
             "colorbar": {
              "outlinewidth": 0,
              "ticks": ""
             }
            },
            "type": "scattergeo"
           }
          ],
          "scattergl": [
           {
            "marker": {
             "colorbar": {
              "outlinewidth": 0,
              "ticks": ""
             }
            },
            "type": "scattergl"
           }
          ],
          "scattermapbox": [
           {
            "marker": {
             "colorbar": {
              "outlinewidth": 0,
              "ticks": ""
             }
            },
            "type": "scattermapbox"
           }
          ],
          "scatterpolar": [
           {
            "marker": {
             "colorbar": {
              "outlinewidth": 0,
              "ticks": ""
             }
            },
            "type": "scatterpolar"
           }
          ],
          "scatterpolargl": [
           {
            "marker": {
             "colorbar": {
              "outlinewidth": 0,
              "ticks": ""
             }
            },
            "type": "scatterpolargl"
           }
          ],
          "scatterternary": [
           {
            "marker": {
             "colorbar": {
              "outlinewidth": 0,
              "ticks": ""
             }
            },
            "type": "scatterternary"
           }
          ],
          "surface": [
           {
            "colorbar": {
             "outlinewidth": 0,
             "ticks": ""
            },
            "colorscale": [
             [
              0,
              "#0d0887"
             ],
             [
              0.1111111111111111,
              "#46039f"
             ],
             [
              0.2222222222222222,
              "#7201a8"
             ],
             [
              0.3333333333333333,
              "#9c179e"
             ],
             [
              0.4444444444444444,
              "#bd3786"
             ],
             [
              0.5555555555555556,
              "#d8576b"
             ],
             [
              0.6666666666666666,
              "#ed7953"
             ],
             [
              0.7777777777777778,
              "#fb9f3a"
             ],
             [
              0.8888888888888888,
              "#fdca26"
             ],
             [
              1,
              "#f0f921"
             ]
            ],
            "type": "surface"
           }
          ],
          "table": [
           {
            "cells": {
             "fill": {
              "color": "#EBF0F8"
             },
             "line": {
              "color": "white"
             }
            },
            "header": {
             "fill": {
              "color": "#C8D4E3"
             },
             "line": {
              "color": "white"
             }
            },
            "type": "table"
           }
          ]
         },
         "layout": {
          "annotationdefaults": {
           "arrowcolor": "#2a3f5f",
           "arrowhead": 0,
           "arrowwidth": 1
          },
          "coloraxis": {
           "colorbar": {
            "outlinewidth": 0,
            "ticks": ""
           }
          },
          "colorscale": {
           "diverging": [
            [
             0,
             "#8e0152"
            ],
            [
             0.1,
             "#c51b7d"
            ],
            [
             0.2,
             "#de77ae"
            ],
            [
             0.3,
             "#f1b6da"
            ],
            [
             0.4,
             "#fde0ef"
            ],
            [
             0.5,
             "#f7f7f7"
            ],
            [
             0.6,
             "#e6f5d0"
            ],
            [
             0.7,
             "#b8e186"
            ],
            [
             0.8,
             "#7fbc41"
            ],
            [
             0.9,
             "#4d9221"
            ],
            [
             1,
             "#276419"
            ]
           ],
           "sequential": [
            [
             0,
             "#0d0887"
            ],
            [
             0.1111111111111111,
             "#46039f"
            ],
            [
             0.2222222222222222,
             "#7201a8"
            ],
            [
             0.3333333333333333,
             "#9c179e"
            ],
            [
             0.4444444444444444,
             "#bd3786"
            ],
            [
             0.5555555555555556,
             "#d8576b"
            ],
            [
             0.6666666666666666,
             "#ed7953"
            ],
            [
             0.7777777777777778,
             "#fb9f3a"
            ],
            [
             0.8888888888888888,
             "#fdca26"
            ],
            [
             1,
             "#f0f921"
            ]
           ],
           "sequentialminus": [
            [
             0,
             "#0d0887"
            ],
            [
             0.1111111111111111,
             "#46039f"
            ],
            [
             0.2222222222222222,
             "#7201a8"
            ],
            [
             0.3333333333333333,
             "#9c179e"
            ],
            [
             0.4444444444444444,
             "#bd3786"
            ],
            [
             0.5555555555555556,
             "#d8576b"
            ],
            [
             0.6666666666666666,
             "#ed7953"
            ],
            [
             0.7777777777777778,
             "#fb9f3a"
            ],
            [
             0.8888888888888888,
             "#fdca26"
            ],
            [
             1,
             "#f0f921"
            ]
           ]
          },
          "colorway": [
           "#636efa",
           "#EF553B",
           "#00cc96",
           "#ab63fa",
           "#FFA15A",
           "#19d3f3",
           "#FF6692",
           "#B6E880",
           "#FF97FF",
           "#FECB52"
          ],
          "font": {
           "color": "#2a3f5f"
          },
          "geo": {
           "bgcolor": "white",
           "lakecolor": "white",
           "landcolor": "#E5ECF6",
           "showlakes": true,
           "showland": true,
           "subunitcolor": "white"
          },
          "hoverlabel": {
           "align": "left"
          },
          "hovermode": "closest",
          "mapbox": {
           "style": "light"
          },
          "paper_bgcolor": "white",
          "plot_bgcolor": "#E5ECF6",
          "polar": {
           "angularaxis": {
            "gridcolor": "white",
            "linecolor": "white",
            "ticks": ""
           },
           "bgcolor": "#E5ECF6",
           "radialaxis": {
            "gridcolor": "white",
            "linecolor": "white",
            "ticks": ""
           }
          },
          "scene": {
           "xaxis": {
            "backgroundcolor": "#E5ECF6",
            "gridcolor": "white",
            "gridwidth": 2,
            "linecolor": "white",
            "showbackground": true,
            "ticks": "",
            "zerolinecolor": "white"
           },
           "yaxis": {
            "backgroundcolor": "#E5ECF6",
            "gridcolor": "white",
            "gridwidth": 2,
            "linecolor": "white",
            "showbackground": true,
            "ticks": "",
            "zerolinecolor": "white"
           },
           "zaxis": {
            "backgroundcolor": "#E5ECF6",
            "gridcolor": "white",
            "gridwidth": 2,
            "linecolor": "white",
            "showbackground": true,
            "ticks": "",
            "zerolinecolor": "white"
           }
          },
          "shapedefaults": {
           "line": {
            "color": "#2a3f5f"
           }
          },
          "ternary": {
           "aaxis": {
            "gridcolor": "white",
            "linecolor": "white",
            "ticks": ""
           },
           "baxis": {
            "gridcolor": "white",
            "linecolor": "white",
            "ticks": ""
           },
           "bgcolor": "#E5ECF6",
           "caxis": {
            "gridcolor": "white",
            "linecolor": "white",
            "ticks": ""
           }
          },
          "title": {
           "x": 0.05
          },
          "xaxis": {
           "automargin": true,
           "gridcolor": "white",
           "linecolor": "white",
           "ticks": "",
           "title": {
            "standoff": 15
           },
           "zerolinecolor": "white",
           "zerolinewidth": 2
          },
          "yaxis": {
           "automargin": true,
           "gridcolor": "white",
           "linecolor": "white",
           "ticks": "",
           "title": {
            "standoff": 15
           },
           "zerolinecolor": "white",
           "zerolinewidth": 2
          }
         }
        },
        "xaxis": {
         "anchor": "y",
         "domain": [
          0,
          1
         ],
         "title": {
          "text": "recovered"
         },
         "type": "log"
        },
        "yaxis": {
         "anchor": "x",
         "domain": [
          0,
          1
         ],
         "title": {
          "text": "confirmed"
         }
        }
       }
      },
      "text/html": [
       "<div>                            <div id=\"4634302e-7d1f-4958-a5d3-734652a61a1f\" class=\"plotly-graph-div\" style=\"height:525px; width:100%;\"></div>            <script type=\"text/javascript\">                require([\"plotly\"], function(Plotly) {                    window.PLOTLYENV=window.PLOTLYENV || {};                                    if (document.getElementById(\"4634302e-7d1f-4958-a5d3-734652a61a1f\")) {                    Plotly.newPlot(                        \"4634302e-7d1f-4958-a5d3-734652a61a1f\",                        [{\"hovertemplate\": \"<b>%{hovertext}</b><br><br>country_region=India<br>recovered=%{marker.size}<br>confirmed=%{y}<extra></extra>\", \"hovertext\": [\"India\"], \"legendgroup\": \"India\", \"marker\": {\"color\": \"#636efa\", \"size\": [4941627.0], \"sizemode\": \"area\", \"sizeref\": 1372.6741666666667, \"symbol\": \"circle\"}, \"mode\": \"markers\", \"name\": \"India\", \"orientation\": \"v\", \"showlegend\": true, \"type\": \"scatter\", \"x\": [4941627.0], \"xaxis\": \"x\", \"y\": [5992532.0], \"yaxis\": \"y\"}, {\"hovertemplate\": \"<b>%{hovertext}</b><br><br>country_region=Brazil<br>recovered=%{marker.size}<br>confirmed=%{y}<extra></extra>\", \"hovertext\": [\"Brazil\"], \"legendgroup\": \"Brazil\", \"marker\": {\"color\": \"#EF553B\", \"size\": [4153307.0], \"sizemode\": \"area\", \"sizeref\": 1372.6741666666667, \"symbol\": \"circle\"}, \"mode\": \"markers\", \"name\": \"Brazil\", \"orientation\": \"v\", \"showlegend\": true, \"type\": \"scatter\", \"x\": [4153307.0], \"xaxis\": \"x\", \"y\": [4717991.0], \"yaxis\": \"y\"}, {\"hovertemplate\": \"<b>%{hovertext}</b><br><br>country_region=US<br>recovered=%{marker.size}<br>confirmed=%{y}<extra></extra>\", \"hovertext\": [\"US\"], \"legendgroup\": \"US\", \"marker\": {\"color\": \"#00cc96\", \"size\": [2750459.0], \"sizemode\": \"area\", \"sizeref\": 1372.6741666666667, \"symbol\": \"circle\"}, \"mode\": \"markers\", \"name\": \"US\", \"orientation\": \"v\", \"showlegend\": true, \"type\": \"scatter\", \"x\": [2750459.0], \"xaxis\": \"x\", \"y\": [7094145.0], \"yaxis\": \"y\"}, {\"hovertemplate\": \"<b>%{hovertext}</b><br><br>country_region=Russia<br>recovered=%{marker.size}<br>confirmed=%{y}<extra></extra>\", \"hovertext\": [\"Russia\"], \"legendgroup\": \"Russia\", \"marker\": {\"color\": \"#ab63fa\", \"size\": [939921.0], \"sizemode\": \"area\", \"sizeref\": 1372.6741666666667, \"symbol\": \"circle\"}, \"mode\": \"markers\", \"name\": \"Russia\", \"orientation\": \"v\", \"showlegend\": true, \"type\": \"scatter\", \"x\": [939921.0], \"xaxis\": \"x\", \"y\": [1146273.0], \"yaxis\": \"y\"}, {\"hovertemplate\": \"<b>%{hovertext}</b><br><br>country_region=Colombia<br>recovered=%{marker.size}<br>confirmed=%{y}<extra></extra>\", \"hovertext\": [\"Colombia\"], \"legendgroup\": \"Colombia\", \"marker\": {\"color\": \"#FFA15A\", \"size\": [700112.0], \"sizemode\": \"area\", \"sizeref\": 1372.6741666666667, \"symbol\": \"circle\"}, \"mode\": \"markers\", \"name\": \"Colombia\", \"orientation\": \"v\", \"showlegend\": true, \"type\": \"scatter\", \"x\": [700112.0], \"xaxis\": \"x\", \"y\": [806038.0], \"yaxis\": \"y\"}, {\"hovertemplate\": \"<b>%{hovertext}</b><br><br>country_region=Peru<br>recovered=%{marker.size}<br>confirmed=%{y}<extra></extra>\", \"hovertext\": [\"Peru\"], \"legendgroup\": \"Peru\", \"marker\": {\"color\": \"#19d3f3\", \"size\": [657836.0], \"sizemode\": \"area\", \"sizeref\": 1372.6741666666667, \"symbol\": \"circle\"}, \"mode\": \"markers\", \"name\": \"Peru\", \"orientation\": \"v\", \"showlegend\": true, \"type\": \"scatter\", \"x\": [657836.0], \"xaxis\": \"x\", \"y\": [800142.0], \"yaxis\": \"y\"}, {\"hovertemplate\": \"<b>%{hovertext}</b><br><br>country_region=Mexico<br>recovered=%{marker.size}<br>confirmed=%{y}<extra></extra>\", \"hovertext\": [\"Mexico\"], \"legendgroup\": \"Mexico\", \"marker\": {\"color\": \"#FF6692\", \"size\": [612361.0], \"sizemode\": \"area\", \"sizeref\": 1372.6741666666667, \"symbol\": \"circle\"}, \"mode\": \"markers\", \"name\": \"Mexico\", \"orientation\": \"v\", \"showlegend\": true, \"type\": \"scatter\", \"x\": [612361.0], \"xaxis\": \"x\", \"y\": [726431.0], \"yaxis\": \"y\"}, {\"hovertemplate\": \"<b>%{hovertext}</b><br><br>country_region=South Africa<br>recovered=%{marker.size}<br>confirmed=%{y}<extra></extra>\", \"hovertext\": [\"South Africa\"], \"legendgroup\": \"South Africa\", \"marker\": {\"color\": \"#B6E880\", \"size\": [601818.0], \"sizemode\": \"area\", \"sizeref\": 1372.6741666666667, \"symbol\": \"circle\"}, \"mode\": \"markers\", \"name\": \"South Africa\", \"orientation\": \"v\", \"showlegend\": true, \"type\": \"scatter\", \"x\": [601818.0], \"xaxis\": \"x\", \"y\": [669498.0], \"yaxis\": \"y\"}, {\"hovertemplate\": \"<b>%{hovertext}</b><br><br>country_region=Argentina<br>recovered=%{marker.size}<br>confirmed=%{y}<extra></extra>\", \"hovertext\": [\"Argentina\"], \"legendgroup\": \"Argentina\", \"marker\": {\"color\": \"#FF97FF\", \"size\": [556489.0], \"sizemode\": \"area\", \"sizeref\": 1372.6741666666667, \"symbol\": \"circle\"}, \"mode\": \"markers\", \"name\": \"Argentina\", \"orientation\": \"v\", \"showlegend\": true, \"type\": \"scatter\", \"x\": [556489.0], \"xaxis\": \"x\", \"y\": [702484.0], \"yaxis\": \"y\"}, {\"hovertemplate\": \"<b>%{hovertext}</b><br><br>country_region=Chile<br>recovered=%{marker.size}<br>confirmed=%{y}<extra></extra>\", \"hovertext\": [\"Chile\"], \"legendgroup\": \"Chile\", \"marker\": {\"color\": \"#FECB52\", \"size\": [431704.0], \"sizemode\": \"area\", \"sizeref\": 1372.6741666666667, \"symbol\": \"circle\"}, \"mode\": \"markers\", \"name\": \"Chile\", \"orientation\": \"v\", \"showlegend\": true, \"type\": \"scatter\", \"x\": [431704.0], \"xaxis\": \"x\", \"y\": [457901.0], \"yaxis\": \"y\"}],                        {\"legend\": {\"itemsizing\": \"constant\", \"title\": {\"text\": \"country_region\"}, \"tracegroupgap\": 0}, \"margin\": {\"t\": 60}, \"template\": {\"data\": {\"bar\": [{\"error_x\": {\"color\": \"#2a3f5f\"}, \"error_y\": {\"color\": \"#2a3f5f\"}, \"marker\": {\"line\": {\"color\": \"#E5ECF6\", \"width\": 0.5}}, \"type\": \"bar\"}], \"barpolar\": [{\"marker\": {\"line\": {\"color\": \"#E5ECF6\", \"width\": 0.5}}, \"type\": \"barpolar\"}], \"carpet\": [{\"aaxis\": {\"endlinecolor\": \"#2a3f5f\", \"gridcolor\": \"white\", \"linecolor\": \"white\", \"minorgridcolor\": \"white\", \"startlinecolor\": \"#2a3f5f\"}, \"baxis\": {\"endlinecolor\": \"#2a3f5f\", \"gridcolor\": \"white\", \"linecolor\": \"white\", \"minorgridcolor\": \"white\", \"startlinecolor\": \"#2a3f5f\"}, \"type\": \"carpet\"}], \"choropleth\": [{\"colorbar\": {\"outlinewidth\": 0, \"ticks\": \"\"}, \"type\": \"choropleth\"}], \"contour\": [{\"colorbar\": {\"outlinewidth\": 0, \"ticks\": \"\"}, \"colorscale\": [[0.0, \"#0d0887\"], [0.1111111111111111, \"#46039f\"], [0.2222222222222222, \"#7201a8\"], [0.3333333333333333, \"#9c179e\"], [0.4444444444444444, \"#bd3786\"], [0.5555555555555556, \"#d8576b\"], [0.6666666666666666, \"#ed7953\"], [0.7777777777777778, \"#fb9f3a\"], [0.8888888888888888, \"#fdca26\"], [1.0, \"#f0f921\"]], \"type\": \"contour\"}], \"contourcarpet\": [{\"colorbar\": {\"outlinewidth\": 0, \"ticks\": \"\"}, \"type\": \"contourcarpet\"}], \"heatmap\": [{\"colorbar\": {\"outlinewidth\": 0, \"ticks\": \"\"}, \"colorscale\": [[0.0, \"#0d0887\"], [0.1111111111111111, \"#46039f\"], [0.2222222222222222, \"#7201a8\"], [0.3333333333333333, \"#9c179e\"], [0.4444444444444444, \"#bd3786\"], [0.5555555555555556, \"#d8576b\"], [0.6666666666666666, \"#ed7953\"], [0.7777777777777778, \"#fb9f3a\"], [0.8888888888888888, \"#fdca26\"], [1.0, \"#f0f921\"]], \"type\": \"heatmap\"}], \"heatmapgl\": [{\"colorbar\": {\"outlinewidth\": 0, \"ticks\": \"\"}, \"colorscale\": [[0.0, \"#0d0887\"], [0.1111111111111111, \"#46039f\"], [0.2222222222222222, \"#7201a8\"], [0.3333333333333333, \"#9c179e\"], [0.4444444444444444, \"#bd3786\"], [0.5555555555555556, \"#d8576b\"], [0.6666666666666666, \"#ed7953\"], [0.7777777777777778, \"#fb9f3a\"], [0.8888888888888888, \"#fdca26\"], [1.0, \"#f0f921\"]], \"type\": \"heatmapgl\"}], \"histogram\": [{\"marker\": {\"colorbar\": {\"outlinewidth\": 0, \"ticks\": \"\"}}, \"type\": \"histogram\"}], \"histogram2d\": [{\"colorbar\": {\"outlinewidth\": 0, \"ticks\": \"\"}, \"colorscale\": [[0.0, \"#0d0887\"], [0.1111111111111111, \"#46039f\"], [0.2222222222222222, \"#7201a8\"], [0.3333333333333333, \"#9c179e\"], [0.4444444444444444, \"#bd3786\"], [0.5555555555555556, \"#d8576b\"], [0.6666666666666666, \"#ed7953\"], [0.7777777777777778, \"#fb9f3a\"], [0.8888888888888888, \"#fdca26\"], [1.0, \"#f0f921\"]], \"type\": \"histogram2d\"}], \"histogram2dcontour\": [{\"colorbar\": {\"outlinewidth\": 0, \"ticks\": \"\"}, \"colorscale\": [[0.0, \"#0d0887\"], [0.1111111111111111, \"#46039f\"], [0.2222222222222222, \"#7201a8\"], [0.3333333333333333, \"#9c179e\"], [0.4444444444444444, \"#bd3786\"], [0.5555555555555556, \"#d8576b\"], [0.6666666666666666, \"#ed7953\"], [0.7777777777777778, \"#fb9f3a\"], [0.8888888888888888, \"#fdca26\"], [1.0, \"#f0f921\"]], \"type\": \"histogram2dcontour\"}], \"mesh3d\": [{\"colorbar\": {\"outlinewidth\": 0, \"ticks\": \"\"}, \"type\": \"mesh3d\"}], \"parcoords\": [{\"line\": {\"colorbar\": {\"outlinewidth\": 0, \"ticks\": \"\"}}, \"type\": \"parcoords\"}], \"pie\": [{\"automargin\": true, \"type\": \"pie\"}], \"scatter\": [{\"marker\": {\"colorbar\": {\"outlinewidth\": 0, \"ticks\": \"\"}}, \"type\": \"scatter\"}], \"scatter3d\": [{\"line\": {\"colorbar\": {\"outlinewidth\": 0, \"ticks\": \"\"}}, \"marker\": {\"colorbar\": {\"outlinewidth\": 0, \"ticks\": \"\"}}, \"type\": \"scatter3d\"}], \"scattercarpet\": [{\"marker\": {\"colorbar\": {\"outlinewidth\": 0, \"ticks\": \"\"}}, \"type\": \"scattercarpet\"}], \"scattergeo\": [{\"marker\": {\"colorbar\": {\"outlinewidth\": 0, \"ticks\": \"\"}}, \"type\": \"scattergeo\"}], \"scattergl\": [{\"marker\": {\"colorbar\": {\"outlinewidth\": 0, \"ticks\": \"\"}}, \"type\": \"scattergl\"}], \"scattermapbox\": [{\"marker\": {\"colorbar\": {\"outlinewidth\": 0, \"ticks\": \"\"}}, \"type\": \"scattermapbox\"}], \"scatterpolar\": [{\"marker\": {\"colorbar\": {\"outlinewidth\": 0, \"ticks\": \"\"}}, \"type\": \"scatterpolar\"}], \"scatterpolargl\": [{\"marker\": {\"colorbar\": {\"outlinewidth\": 0, \"ticks\": \"\"}}, \"type\": \"scatterpolargl\"}], \"scatterternary\": [{\"marker\": {\"colorbar\": {\"outlinewidth\": 0, \"ticks\": \"\"}}, \"type\": \"scatterternary\"}], \"surface\": [{\"colorbar\": {\"outlinewidth\": 0, \"ticks\": \"\"}, \"colorscale\": [[0.0, \"#0d0887\"], [0.1111111111111111, \"#46039f\"], [0.2222222222222222, \"#7201a8\"], [0.3333333333333333, \"#9c179e\"], [0.4444444444444444, \"#bd3786\"], [0.5555555555555556, \"#d8576b\"], [0.6666666666666666, \"#ed7953\"], [0.7777777777777778, \"#fb9f3a\"], [0.8888888888888888, \"#fdca26\"], [1.0, \"#f0f921\"]], \"type\": \"surface\"}], \"table\": [{\"cells\": {\"fill\": {\"color\": \"#EBF0F8\"}, \"line\": {\"color\": \"white\"}}, \"header\": {\"fill\": {\"color\": \"#C8D4E3\"}, \"line\": {\"color\": \"white\"}}, \"type\": \"table\"}]}, \"layout\": {\"annotationdefaults\": {\"arrowcolor\": \"#2a3f5f\", \"arrowhead\": 0, \"arrowwidth\": 1}, \"coloraxis\": {\"colorbar\": {\"outlinewidth\": 0, \"ticks\": \"\"}}, \"colorscale\": {\"diverging\": [[0, \"#8e0152\"], [0.1, \"#c51b7d\"], [0.2, \"#de77ae\"], [0.3, \"#f1b6da\"], [0.4, \"#fde0ef\"], [0.5, \"#f7f7f7\"], [0.6, \"#e6f5d0\"], [0.7, \"#b8e186\"], [0.8, \"#7fbc41\"], [0.9, \"#4d9221\"], [1, \"#276419\"]], \"sequential\": [[0.0, \"#0d0887\"], [0.1111111111111111, \"#46039f\"], [0.2222222222222222, \"#7201a8\"], [0.3333333333333333, \"#9c179e\"], [0.4444444444444444, \"#bd3786\"], [0.5555555555555556, \"#d8576b\"], [0.6666666666666666, \"#ed7953\"], [0.7777777777777778, \"#fb9f3a\"], [0.8888888888888888, \"#fdca26\"], [1.0, \"#f0f921\"]], \"sequentialminus\": [[0.0, \"#0d0887\"], [0.1111111111111111, \"#46039f\"], [0.2222222222222222, \"#7201a8\"], [0.3333333333333333, \"#9c179e\"], [0.4444444444444444, \"#bd3786\"], [0.5555555555555556, \"#d8576b\"], [0.6666666666666666, \"#ed7953\"], [0.7777777777777778, \"#fb9f3a\"], [0.8888888888888888, \"#fdca26\"], [1.0, \"#f0f921\"]]}, \"colorway\": [\"#636efa\", \"#EF553B\", \"#00cc96\", \"#ab63fa\", \"#FFA15A\", \"#19d3f3\", \"#FF6692\", \"#B6E880\", \"#FF97FF\", \"#FECB52\"], \"font\": {\"color\": \"#2a3f5f\"}, \"geo\": {\"bgcolor\": \"white\", \"lakecolor\": \"white\", \"landcolor\": \"#E5ECF6\", \"showlakes\": true, \"showland\": true, \"subunitcolor\": \"white\"}, \"hoverlabel\": {\"align\": \"left\"}, \"hovermode\": \"closest\", \"mapbox\": {\"style\": \"light\"}, \"paper_bgcolor\": \"white\", \"plot_bgcolor\": \"#E5ECF6\", \"polar\": {\"angularaxis\": {\"gridcolor\": \"white\", \"linecolor\": \"white\", \"ticks\": \"\"}, \"bgcolor\": \"#E5ECF6\", \"radialaxis\": {\"gridcolor\": \"white\", \"linecolor\": \"white\", \"ticks\": \"\"}}, \"scene\": {\"xaxis\": {\"backgroundcolor\": \"#E5ECF6\", \"gridcolor\": \"white\", \"gridwidth\": 2, \"linecolor\": \"white\", \"showbackground\": true, \"ticks\": \"\", \"zerolinecolor\": \"white\"}, \"yaxis\": {\"backgroundcolor\": \"#E5ECF6\", \"gridcolor\": \"white\", \"gridwidth\": 2, \"linecolor\": \"white\", \"showbackground\": true, \"ticks\": \"\", \"zerolinecolor\": \"white\"}, \"zaxis\": {\"backgroundcolor\": \"#E5ECF6\", \"gridcolor\": \"white\", \"gridwidth\": 2, \"linecolor\": \"white\", \"showbackground\": true, \"ticks\": \"\", \"zerolinecolor\": \"white\"}}, \"shapedefaults\": {\"line\": {\"color\": \"#2a3f5f\"}}, \"ternary\": {\"aaxis\": {\"gridcolor\": \"white\", \"linecolor\": \"white\", \"ticks\": \"\"}, \"baxis\": {\"gridcolor\": \"white\", \"linecolor\": \"white\", \"ticks\": \"\"}, \"bgcolor\": \"#E5ECF6\", \"caxis\": {\"gridcolor\": \"white\", \"linecolor\": \"white\", \"ticks\": \"\"}}, \"title\": {\"x\": 0.05}, \"xaxis\": {\"automargin\": true, \"gridcolor\": \"white\", \"linecolor\": \"white\", \"ticks\": \"\", \"title\": {\"standoff\": 15}, \"zerolinecolor\": \"white\", \"zerolinewidth\": 2}, \"yaxis\": {\"automargin\": true, \"gridcolor\": \"white\", \"linecolor\": \"white\", \"ticks\": \"\", \"title\": {\"standoff\": 15}, \"zerolinecolor\": \"white\", \"zerolinewidth\": 2}}}, \"xaxis\": {\"anchor\": \"y\", \"domain\": [0.0, 1.0], \"title\": {\"text\": \"recovered\"}, \"type\": \"log\"}, \"yaxis\": {\"anchor\": \"x\", \"domain\": [0.0, 1.0], \"title\": {\"text\": \"confirmed\"}}},                        {\"responsive\": true}                    ).then(function(){\n",
       "                            \n",
       "var gd = document.getElementById('4634302e-7d1f-4958-a5d3-734652a61a1f');\n",
       "var x = new MutationObserver(function (mutations, observer) {{\n",
       "        var display = window.getComputedStyle(gd).display;\n",
       "        if (!display || display === 'none') {{\n",
       "            console.log([gd, 'removed!']);\n",
       "            Plotly.purge(gd);\n",
       "            observer.disconnect();\n",
       "        }}\n",
       "}});\n",
       "\n",
       "// Listen for the removal of the full notebook cells\n",
       "var notebookContainer = gd.closest('#notebook-container');\n",
       "if (notebookContainer) {{\n",
       "    x.observe(notebookContainer, {childList: true});\n",
       "}}\n",
       "\n",
       "// Listen for the clearing of the current output cell\n",
       "var outputEl = gd.closest('.output');\n",
       "if (outputEl) {{\n",
       "    x.observe(outputEl, {childList: true});\n",
       "}}\n",
       "\n",
       "                        })                };                });            </script>        </div>"
      ]
     },
     "metadata": {},
     "output_type": "display_data"
    }
   ],
   "source": [
    "#Active Cases\n",
    "top_10_recovered = country_df.sort_values(by=\"recovered\", ascending=False).head(10)\n",
    "fig = px.scatter(top_10_recovered, \n",
    "                 x=\"recovered\", y=\"confirmed\",size=\"recovered\", color=\"country_region\",\n",
    "                 hover_name=\"country_region\", log_x=True, size_max=60)\n",
    "fig.show()"
   ]
  },
  {
   "cell_type": "code",
   "execution_count": 23,
   "metadata": {},
   "outputs": [
    {
     "data": {
      "text/html": [
       "<div>\n",
       "<style scoped>\n",
       "    .dataframe tbody tr th:only-of-type {\n",
       "        vertical-align: middle;\n",
       "    }\n",
       "\n",
       "    .dataframe tbody tr th {\n",
       "        vertical-align: top;\n",
       "    }\n",
       "\n",
       "    .dataframe thead th {\n",
       "        text-align: right;\n",
       "    }\n",
       "</style>\n",
       "<table border=\"1\" class=\"dataframe\">\n",
       "  <thead>\n",
       "    <tr style=\"text-align: right;\">\n",
       "      <th></th>\n",
       "      <th>country_region</th>\n",
       "      <th>last_update</th>\n",
       "      <th>lat</th>\n",
       "      <th>long_</th>\n",
       "      <th>confirmed</th>\n",
       "      <th>deaths</th>\n",
       "      <th>recovered</th>\n",
       "      <th>active</th>\n",
       "      <th>incident_rate</th>\n",
       "      <th>people_tested</th>\n",
       "      <th>people_hospitalized</th>\n",
       "      <th>mortality_rate</th>\n",
       "      <th>uid</th>\n",
       "      <th>iso3</th>\n",
       "    </tr>\n",
       "  </thead>\n",
       "  <tbody>\n",
       "    <tr>\n",
       "      <th>185</th>\n",
       "      <td>Yemen</td>\n",
       "      <td>2020-09-27 18:23:30</td>\n",
       "      <td>15.55273</td>\n",
       "      <td>48.51639</td>\n",
       "      <td>2030.00000</td>\n",
       "      <td>587.00000</td>\n",
       "      <td>1260.00000</td>\n",
       "      <td>183.00000</td>\n",
       "      <td>6.80615</td>\n",
       "      <td>nan</td>\n",
       "      <td>nan</td>\n",
       "      <td>28.91626</td>\n",
       "      <td>887</td>\n",
       "      <td>YEM</td>\n",
       "    </tr>\n",
       "    <tr>\n",
       "      <th>104</th>\n",
       "      <td>MS Zaandam</td>\n",
       "      <td>2020-09-27 18:23:30</td>\n",
       "      <td>nan</td>\n",
       "      <td>nan</td>\n",
       "      <td>9.00000</td>\n",
       "      <td>2.00000</td>\n",
       "      <td>nan</td>\n",
       "      <td>7.00000</td>\n",
       "      <td>nan</td>\n",
       "      <td>nan</td>\n",
       "      <td>nan</td>\n",
       "      <td>22.22222</td>\n",
       "      <td>8888</td>\n",
       "      <td>NaN</td>\n",
       "    </tr>\n",
       "    <tr>\n",
       "      <th>85</th>\n",
       "      <td>Italy</td>\n",
       "      <td>2020-09-27 18:23:30</td>\n",
       "      <td>41.87190</td>\n",
       "      <td>12.56740</td>\n",
       "      <td>309870.00000</td>\n",
       "      <td>35835.00000</td>\n",
       "      <td>224417.00000</td>\n",
       "      <td>49618.00000</td>\n",
       "      <td>512.50518</td>\n",
       "      <td>nan</td>\n",
       "      <td>nan</td>\n",
       "      <td>11.56453</td>\n",
       "      <td>380</td>\n",
       "      <td>ITA</td>\n",
       "    </tr>\n",
       "    <tr>\n",
       "      <th>113</th>\n",
       "      <td>Mexico</td>\n",
       "      <td>2020-09-27 18:23:30</td>\n",
       "      <td>23.63450</td>\n",
       "      <td>-102.55280</td>\n",
       "      <td>726431.00000</td>\n",
       "      <td>76243.00000</td>\n",
       "      <td>612361.00000</td>\n",
       "      <td>37827.00000</td>\n",
       "      <td>568.44667</td>\n",
       "      <td>nan</td>\n",
       "      <td>nan</td>\n",
       "      <td>10.49556</td>\n",
       "      <td>484</td>\n",
       "      <td>MEX</td>\n",
       "    </tr>\n",
       "    <tr>\n",
       "      <th>184</th>\n",
       "      <td>Western Sahara</td>\n",
       "      <td>2020-09-27 18:23:30</td>\n",
       "      <td>24.21550</td>\n",
       "      <td>-12.88580</td>\n",
       "      <td>10.00000</td>\n",
       "      <td>1.00000</td>\n",
       "      <td>8.00000</td>\n",
       "      <td>1.00000</td>\n",
       "      <td>1.67412</td>\n",
       "      <td>nan</td>\n",
       "      <td>nan</td>\n",
       "      <td>10.00000</td>\n",
       "      <td>732</td>\n",
       "      <td>ESH</td>\n",
       "    </tr>\n",
       "  </tbody>\n",
       "</table>\n",
       "</div>"
      ],
      "text/plain": [
       "     country_region          last_update      lat      long_    confirmed  \\\n",
       "185           Yemen  2020-09-27 18:23:30 15.55273   48.51639   2030.00000   \n",
       "104      MS Zaandam  2020-09-27 18:23:30      nan        nan      9.00000   \n",
       "85            Italy  2020-09-27 18:23:30 41.87190   12.56740 309870.00000   \n",
       "113          Mexico  2020-09-27 18:23:30 23.63450 -102.55280 726431.00000   \n",
       "184  Western Sahara  2020-09-27 18:23:30 24.21550  -12.88580     10.00000   \n",
       "\n",
       "         deaths    recovered      active  incident_rate  people_tested  \\\n",
       "185   587.00000   1260.00000   183.00000        6.80615            nan   \n",
       "104     2.00000          nan     7.00000            nan            nan   \n",
       "85  35835.00000 224417.00000 49618.00000      512.50518            nan   \n",
       "113 76243.00000 612361.00000 37827.00000      568.44667            nan   \n",
       "184     1.00000      8.00000     1.00000        1.67412            nan   \n",
       "\n",
       "     people_hospitalized  mortality_rate   uid iso3  \n",
       "185                  nan        28.91626   887  YEM  \n",
       "104                  nan        22.22222  8888  NaN  \n",
       "85                   nan        11.56453   380  ITA  \n",
       "113                  nan        10.49556   484  MEX  \n",
       "184                  nan        10.00000   732  ESH  "
      ]
     },
     "execution_count": 23,
     "metadata": {},
     "output_type": "execute_result"
    }
   ],
   "source": [
    "country_df.sort_values(by=\"mortality_rate\", ascending=False).head()"
   ]
  },
  {
   "cell_type": "code",
   "execution_count": 24,
   "metadata": {},
   "outputs": [
    {
     "data": {
      "application/vnd.plotly.v1+json": {
       "config": {
        "plotlyServerURL": "https://plot.ly"
       },
       "data": [
        {
         "hovertemplate": "<b>%{hovertext}</b><br><br>country_region=Yemen<br>mortality_rate=%{marker.size}<br>incident_rate=%{y}<extra></extra>",
         "hovertext": [
          "Yemen"
         ],
         "legendgroup": "Yemen",
         "marker": {
          "color": "#636efa",
          "size": [
           28.91625615763547
          ],
          "sizemode": "area",
          "sizeref": 0.008032293377120964,
          "symbol": "circle"
         },
         "mode": "markers",
         "name": "Yemen",
         "orientation": "v",
         "showlegend": true,
         "type": "scatter",
         "x": [
          28.91625615763547
         ],
         "xaxis": "x",
         "y": [
          6.806149594205961
         ],
         "yaxis": "y"
        },
        {
         "hovertemplate": "<b>%{hovertext}</b><br><br>country_region=MS Zaandam<br>mortality_rate=%{marker.size}<br>incident_rate=%{y}<extra></extra>",
         "hovertext": [
          "MS Zaandam"
         ],
         "legendgroup": "MS Zaandam",
         "marker": {
          "color": "#EF553B",
          "size": [
           22.222222222222218
          ],
          "sizemode": "area",
          "sizeref": 0.008032293377120964,
          "symbol": "circle"
         },
         "mode": "markers",
         "name": "MS Zaandam",
         "orientation": "v",
         "showlegend": true,
         "type": "scatter",
         "x": [
          22.222222222222218
         ],
         "xaxis": "x",
         "y": [
          null
         ],
         "yaxis": "y"
        },
        {
         "hovertemplate": "<b>%{hovertext}</b><br><br>country_region=Italy<br>mortality_rate=%{marker.size}<br>incident_rate=%{y}<extra></extra>",
         "hovertext": [
          "Italy"
         ],
         "legendgroup": "Italy",
         "marker": {
          "color": "#00cc96",
          "size": [
           11.564527059734726
          ],
          "sizemode": "area",
          "sizeref": 0.008032293377120964,
          "symbol": "circle"
         },
         "mode": "markers",
         "name": "Italy",
         "orientation": "v",
         "showlegend": true,
         "type": "scatter",
         "x": [
          11.564527059734726
         ],
         "xaxis": "x",
         "y": [
          512.5051793008971
         ],
         "yaxis": "y"
        },
        {
         "hovertemplate": "<b>%{hovertext}</b><br><br>country_region=Mexico<br>mortality_rate=%{marker.size}<br>incident_rate=%{y}<extra></extra>",
         "hovertext": [
          "Mexico"
         ],
         "legendgroup": "Mexico",
         "marker": {
          "color": "#ab63fa",
          "size": [
           10.495559798521814
          ],
          "sizemode": "area",
          "sizeref": 0.008032293377120964,
          "symbol": "circle"
         },
         "mode": "markers",
         "name": "Mexico",
         "orientation": "v",
         "showlegend": true,
         "type": "scatter",
         "x": [
          10.495559798521814
         ],
         "xaxis": "x",
         "y": [
          568.4466744729804
         ],
         "yaxis": "y"
        },
        {
         "hovertemplate": "<b>%{hovertext}</b><br><br>country_region=Western Sahara<br>mortality_rate=%{marker.size}<br>incident_rate=%{y}<extra></extra>",
         "hovertext": [
          "Western Sahara"
         ],
         "legendgroup": "Western Sahara",
         "marker": {
          "color": "#FFA15A",
          "size": [
           10
          ],
          "sizemode": "area",
          "sizeref": 0.008032293377120964,
          "symbol": "circle"
         },
         "mode": "markers",
         "name": "Western Sahara",
         "orientation": "v",
         "showlegend": true,
         "type": "scatter",
         "x": [
          10
         ],
         "xaxis": "x",
         "y": [
          1.674116485025028
         ],
         "yaxis": "y"
        },
        {
         "hovertemplate": "<b>%{hovertext}</b><br><br>country_region=United Kingdom<br>mortality_rate=%{marker.size}<br>incident_rate=%{y}<extra></extra>",
         "hovertext": [
          "United Kingdom"
         ],
         "legendgroup": "United Kingdom",
         "marker": {
          "color": "#19d3f3",
          "size": [
           9.617248283491346
          ],
          "sizemode": "area",
          "sizeref": 0.008032293377120964,
          "symbol": "circle"
         },
         "mode": "markers",
         "name": "United Kingdom",
         "orientation": "v",
         "showlegend": true,
         "type": "scatter",
         "x": [
          9.617248283491346
         ],
         "xaxis": "x",
         "y": [
          644.4863067798187
         ],
         "yaxis": "y"
        },
        {
         "hovertemplate": "<b>%{hovertext}</b><br><br>country_region=Belgium<br>mortality_rate=%{marker.size}<br>incident_rate=%{y}<extra></extra>",
         "hovertext": [
          "Belgium"
         ],
         "legendgroup": "Belgium",
         "marker": {
          "color": "#FF6692",
          "size": [
           8.841963422958608
          ],
          "sizemode": "area",
          "sizeref": 0.008032293377120964,
          "symbol": "circle"
         },
         "mode": "markers",
         "name": "Belgium",
         "orientation": "v",
         "showlegend": true,
         "type": "scatter",
         "x": [
          8.841963422958608
         ],
         "xaxis": "x",
         "y": [
          973.3109362726082
         ],
         "yaxis": "y"
        },
        {
         "hovertemplate": "<b>%{hovertext}</b><br><br>country_region=Ecuador<br>mortality_rate=%{marker.size}<br>incident_rate=%{y}<extra></extra>",
         "hovertext": [
          "Ecuador"
         ],
         "legendgroup": "Ecuador",
         "marker": {
          "color": "#B6E880",
          "size": [
           8.370501755141117
          ],
          "sizemode": "area",
          "sizeref": 0.008032293377120964,
          "symbol": "circle"
         },
         "mode": "markers",
         "name": "Ecuador",
         "orientation": "v",
         "showlegend": true,
         "type": "scatter",
         "x": [
          8.370501755141117
         ],
         "xaxis": "x",
         "y": [
          763.7393966806212
         ],
         "yaxis": "y"
        },
        {
         "hovertemplate": "<b>%{hovertext}</b><br><br>country_region=Chad<br>mortality_rate=%{marker.size}<br>incident_rate=%{y}<extra></extra>",
         "hovertext": [
          "Chad"
         ],
         "legendgroup": "Chad",
         "marker": {
          "color": "#FF97FF",
          "size": [
           7.051826677994902
          ],
          "sizemode": "area",
          "sizeref": 0.008032293377120964,
          "symbol": "circle"
         },
         "mode": "markers",
         "name": "Chad",
         "orientation": "v",
         "showlegend": true,
         "type": "scatter",
         "x": [
          7.051826677994902
         ],
         "xaxis": "x",
         "y": [
          7.1655308863907825
         ],
         "yaxis": "y"
        },
        {
         "hovertemplate": "<b>%{hovertext}</b><br><br>country_region=Sweden<br>mortality_rate=%{marker.size}<br>incident_rate=%{y}<extra></extra>",
         "hovertext": [
          "Sweden"
         ],
         "legendgroup": "Sweden",
         "marker": {
          "color": "#FECB52",
          "size": [
           6.46701054738625
          ],
          "sizemode": "area",
          "sizeref": 0.008032293377120964,
          "symbol": "circle"
         },
         "mode": "markers",
         "name": "Sweden",
         "orientation": "v",
         "showlegend": true,
         "type": "scatter",
         "x": [
          6.46701054738625
         ],
         "xaxis": "x",
         "y": [
          900.2927934395258
         ],
         "yaxis": "y"
        }
       ],
       "layout": {
        "legend": {
         "itemsizing": "constant",
         "title": {
          "text": "country_region"
         },
         "tracegroupgap": 0
        },
        "margin": {
         "t": 60
        },
        "template": {
         "data": {
          "bar": [
           {
            "error_x": {
             "color": "#2a3f5f"
            },
            "error_y": {
             "color": "#2a3f5f"
            },
            "marker": {
             "line": {
              "color": "#E5ECF6",
              "width": 0.5
             }
            },
            "type": "bar"
           }
          ],
          "barpolar": [
           {
            "marker": {
             "line": {
              "color": "#E5ECF6",
              "width": 0.5
             }
            },
            "type": "barpolar"
           }
          ],
          "carpet": [
           {
            "aaxis": {
             "endlinecolor": "#2a3f5f",
             "gridcolor": "white",
             "linecolor": "white",
             "minorgridcolor": "white",
             "startlinecolor": "#2a3f5f"
            },
            "baxis": {
             "endlinecolor": "#2a3f5f",
             "gridcolor": "white",
             "linecolor": "white",
             "minorgridcolor": "white",
             "startlinecolor": "#2a3f5f"
            },
            "type": "carpet"
           }
          ],
          "choropleth": [
           {
            "colorbar": {
             "outlinewidth": 0,
             "ticks": ""
            },
            "type": "choropleth"
           }
          ],
          "contour": [
           {
            "colorbar": {
             "outlinewidth": 0,
             "ticks": ""
            },
            "colorscale": [
             [
              0,
              "#0d0887"
             ],
             [
              0.1111111111111111,
              "#46039f"
             ],
             [
              0.2222222222222222,
              "#7201a8"
             ],
             [
              0.3333333333333333,
              "#9c179e"
             ],
             [
              0.4444444444444444,
              "#bd3786"
             ],
             [
              0.5555555555555556,
              "#d8576b"
             ],
             [
              0.6666666666666666,
              "#ed7953"
             ],
             [
              0.7777777777777778,
              "#fb9f3a"
             ],
             [
              0.8888888888888888,
              "#fdca26"
             ],
             [
              1,
              "#f0f921"
             ]
            ],
            "type": "contour"
           }
          ],
          "contourcarpet": [
           {
            "colorbar": {
             "outlinewidth": 0,
             "ticks": ""
            },
            "type": "contourcarpet"
           }
          ],
          "heatmap": [
           {
            "colorbar": {
             "outlinewidth": 0,
             "ticks": ""
            },
            "colorscale": [
             [
              0,
              "#0d0887"
             ],
             [
              0.1111111111111111,
              "#46039f"
             ],
             [
              0.2222222222222222,
              "#7201a8"
             ],
             [
              0.3333333333333333,
              "#9c179e"
             ],
             [
              0.4444444444444444,
              "#bd3786"
             ],
             [
              0.5555555555555556,
              "#d8576b"
             ],
             [
              0.6666666666666666,
              "#ed7953"
             ],
             [
              0.7777777777777778,
              "#fb9f3a"
             ],
             [
              0.8888888888888888,
              "#fdca26"
             ],
             [
              1,
              "#f0f921"
             ]
            ],
            "type": "heatmap"
           }
          ],
          "heatmapgl": [
           {
            "colorbar": {
             "outlinewidth": 0,
             "ticks": ""
            },
            "colorscale": [
             [
              0,
              "#0d0887"
             ],
             [
              0.1111111111111111,
              "#46039f"
             ],
             [
              0.2222222222222222,
              "#7201a8"
             ],
             [
              0.3333333333333333,
              "#9c179e"
             ],
             [
              0.4444444444444444,
              "#bd3786"
             ],
             [
              0.5555555555555556,
              "#d8576b"
             ],
             [
              0.6666666666666666,
              "#ed7953"
             ],
             [
              0.7777777777777778,
              "#fb9f3a"
             ],
             [
              0.8888888888888888,
              "#fdca26"
             ],
             [
              1,
              "#f0f921"
             ]
            ],
            "type": "heatmapgl"
           }
          ],
          "histogram": [
           {
            "marker": {
             "colorbar": {
              "outlinewidth": 0,
              "ticks": ""
             }
            },
            "type": "histogram"
           }
          ],
          "histogram2d": [
           {
            "colorbar": {
             "outlinewidth": 0,
             "ticks": ""
            },
            "colorscale": [
             [
              0,
              "#0d0887"
             ],
             [
              0.1111111111111111,
              "#46039f"
             ],
             [
              0.2222222222222222,
              "#7201a8"
             ],
             [
              0.3333333333333333,
              "#9c179e"
             ],
             [
              0.4444444444444444,
              "#bd3786"
             ],
             [
              0.5555555555555556,
              "#d8576b"
             ],
             [
              0.6666666666666666,
              "#ed7953"
             ],
             [
              0.7777777777777778,
              "#fb9f3a"
             ],
             [
              0.8888888888888888,
              "#fdca26"
             ],
             [
              1,
              "#f0f921"
             ]
            ],
            "type": "histogram2d"
           }
          ],
          "histogram2dcontour": [
           {
            "colorbar": {
             "outlinewidth": 0,
             "ticks": ""
            },
            "colorscale": [
             [
              0,
              "#0d0887"
             ],
             [
              0.1111111111111111,
              "#46039f"
             ],
             [
              0.2222222222222222,
              "#7201a8"
             ],
             [
              0.3333333333333333,
              "#9c179e"
             ],
             [
              0.4444444444444444,
              "#bd3786"
             ],
             [
              0.5555555555555556,
              "#d8576b"
             ],
             [
              0.6666666666666666,
              "#ed7953"
             ],
             [
              0.7777777777777778,
              "#fb9f3a"
             ],
             [
              0.8888888888888888,
              "#fdca26"
             ],
             [
              1,
              "#f0f921"
             ]
            ],
            "type": "histogram2dcontour"
           }
          ],
          "mesh3d": [
           {
            "colorbar": {
             "outlinewidth": 0,
             "ticks": ""
            },
            "type": "mesh3d"
           }
          ],
          "parcoords": [
           {
            "line": {
             "colorbar": {
              "outlinewidth": 0,
              "ticks": ""
             }
            },
            "type": "parcoords"
           }
          ],
          "pie": [
           {
            "automargin": true,
            "type": "pie"
           }
          ],
          "scatter": [
           {
            "marker": {
             "colorbar": {
              "outlinewidth": 0,
              "ticks": ""
             }
            },
            "type": "scatter"
           }
          ],
          "scatter3d": [
           {
            "line": {
             "colorbar": {
              "outlinewidth": 0,
              "ticks": ""
             }
            },
            "marker": {
             "colorbar": {
              "outlinewidth": 0,
              "ticks": ""
             }
            },
            "type": "scatter3d"
           }
          ],
          "scattercarpet": [
           {
            "marker": {
             "colorbar": {
              "outlinewidth": 0,
              "ticks": ""
             }
            },
            "type": "scattercarpet"
           }
          ],
          "scattergeo": [
           {
            "marker": {
             "colorbar": {
              "outlinewidth": 0,
              "ticks": ""
             }
            },
            "type": "scattergeo"
           }
          ],
          "scattergl": [
           {
            "marker": {
             "colorbar": {
              "outlinewidth": 0,
              "ticks": ""
             }
            },
            "type": "scattergl"
           }
          ],
          "scattermapbox": [
           {
            "marker": {
             "colorbar": {
              "outlinewidth": 0,
              "ticks": ""
             }
            },
            "type": "scattermapbox"
           }
          ],
          "scatterpolar": [
           {
            "marker": {
             "colorbar": {
              "outlinewidth": 0,
              "ticks": ""
             }
            },
            "type": "scatterpolar"
           }
          ],
          "scatterpolargl": [
           {
            "marker": {
             "colorbar": {
              "outlinewidth": 0,
              "ticks": ""
             }
            },
            "type": "scatterpolargl"
           }
          ],
          "scatterternary": [
           {
            "marker": {
             "colorbar": {
              "outlinewidth": 0,
              "ticks": ""
             }
            },
            "type": "scatterternary"
           }
          ],
          "surface": [
           {
            "colorbar": {
             "outlinewidth": 0,
             "ticks": ""
            },
            "colorscale": [
             [
              0,
              "#0d0887"
             ],
             [
              0.1111111111111111,
              "#46039f"
             ],
             [
              0.2222222222222222,
              "#7201a8"
             ],
             [
              0.3333333333333333,
              "#9c179e"
             ],
             [
              0.4444444444444444,
              "#bd3786"
             ],
             [
              0.5555555555555556,
              "#d8576b"
             ],
             [
              0.6666666666666666,
              "#ed7953"
             ],
             [
              0.7777777777777778,
              "#fb9f3a"
             ],
             [
              0.8888888888888888,
              "#fdca26"
             ],
             [
              1,
              "#f0f921"
             ]
            ],
            "type": "surface"
           }
          ],
          "table": [
           {
            "cells": {
             "fill": {
              "color": "#EBF0F8"
             },
             "line": {
              "color": "white"
             }
            },
            "header": {
             "fill": {
              "color": "#C8D4E3"
             },
             "line": {
              "color": "white"
             }
            },
            "type": "table"
           }
          ]
         },
         "layout": {
          "annotationdefaults": {
           "arrowcolor": "#2a3f5f",
           "arrowhead": 0,
           "arrowwidth": 1
          },
          "coloraxis": {
           "colorbar": {
            "outlinewidth": 0,
            "ticks": ""
           }
          },
          "colorscale": {
           "diverging": [
            [
             0,
             "#8e0152"
            ],
            [
             0.1,
             "#c51b7d"
            ],
            [
             0.2,
             "#de77ae"
            ],
            [
             0.3,
             "#f1b6da"
            ],
            [
             0.4,
             "#fde0ef"
            ],
            [
             0.5,
             "#f7f7f7"
            ],
            [
             0.6,
             "#e6f5d0"
            ],
            [
             0.7,
             "#b8e186"
            ],
            [
             0.8,
             "#7fbc41"
            ],
            [
             0.9,
             "#4d9221"
            ],
            [
             1,
             "#276419"
            ]
           ],
           "sequential": [
            [
             0,
             "#0d0887"
            ],
            [
             0.1111111111111111,
             "#46039f"
            ],
            [
             0.2222222222222222,
             "#7201a8"
            ],
            [
             0.3333333333333333,
             "#9c179e"
            ],
            [
             0.4444444444444444,
             "#bd3786"
            ],
            [
             0.5555555555555556,
             "#d8576b"
            ],
            [
             0.6666666666666666,
             "#ed7953"
            ],
            [
             0.7777777777777778,
             "#fb9f3a"
            ],
            [
             0.8888888888888888,
             "#fdca26"
            ],
            [
             1,
             "#f0f921"
            ]
           ],
           "sequentialminus": [
            [
             0,
             "#0d0887"
            ],
            [
             0.1111111111111111,
             "#46039f"
            ],
            [
             0.2222222222222222,
             "#7201a8"
            ],
            [
             0.3333333333333333,
             "#9c179e"
            ],
            [
             0.4444444444444444,
             "#bd3786"
            ],
            [
             0.5555555555555556,
             "#d8576b"
            ],
            [
             0.6666666666666666,
             "#ed7953"
            ],
            [
             0.7777777777777778,
             "#fb9f3a"
            ],
            [
             0.8888888888888888,
             "#fdca26"
            ],
            [
             1,
             "#f0f921"
            ]
           ]
          },
          "colorway": [
           "#636efa",
           "#EF553B",
           "#00cc96",
           "#ab63fa",
           "#FFA15A",
           "#19d3f3",
           "#FF6692",
           "#B6E880",
           "#FF97FF",
           "#FECB52"
          ],
          "font": {
           "color": "#2a3f5f"
          },
          "geo": {
           "bgcolor": "white",
           "lakecolor": "white",
           "landcolor": "#E5ECF6",
           "showlakes": true,
           "showland": true,
           "subunitcolor": "white"
          },
          "hoverlabel": {
           "align": "left"
          },
          "hovermode": "closest",
          "mapbox": {
           "style": "light"
          },
          "paper_bgcolor": "white",
          "plot_bgcolor": "#E5ECF6",
          "polar": {
           "angularaxis": {
            "gridcolor": "white",
            "linecolor": "white",
            "ticks": ""
           },
           "bgcolor": "#E5ECF6",
           "radialaxis": {
            "gridcolor": "white",
            "linecolor": "white",
            "ticks": ""
           }
          },
          "scene": {
           "xaxis": {
            "backgroundcolor": "#E5ECF6",
            "gridcolor": "white",
            "gridwidth": 2,
            "linecolor": "white",
            "showbackground": true,
            "ticks": "",
            "zerolinecolor": "white"
           },
           "yaxis": {
            "backgroundcolor": "#E5ECF6",
            "gridcolor": "white",
            "gridwidth": 2,
            "linecolor": "white",
            "showbackground": true,
            "ticks": "",
            "zerolinecolor": "white"
           },
           "zaxis": {
            "backgroundcolor": "#E5ECF6",
            "gridcolor": "white",
            "gridwidth": 2,
            "linecolor": "white",
            "showbackground": true,
            "ticks": "",
            "zerolinecolor": "white"
           }
          },
          "shapedefaults": {
           "line": {
            "color": "#2a3f5f"
           }
          },
          "ternary": {
           "aaxis": {
            "gridcolor": "white",
            "linecolor": "white",
            "ticks": ""
           },
           "baxis": {
            "gridcolor": "white",
            "linecolor": "white",
            "ticks": ""
           },
           "bgcolor": "#E5ECF6",
           "caxis": {
            "gridcolor": "white",
            "linecolor": "white",
            "ticks": ""
           }
          },
          "title": {
           "x": 0.05
          },
          "xaxis": {
           "automargin": true,
           "gridcolor": "white",
           "linecolor": "white",
           "ticks": "",
           "title": {
            "standoff": 15
           },
           "zerolinecolor": "white",
           "zerolinewidth": 2
          },
          "yaxis": {
           "automargin": true,
           "gridcolor": "white",
           "linecolor": "white",
           "ticks": "",
           "title": {
            "standoff": 15
           },
           "zerolinecolor": "white",
           "zerolinewidth": 2
          }
         }
        },
        "xaxis": {
         "anchor": "y",
         "domain": [
          0,
          1
         ],
         "title": {
          "text": "mortality_rate"
         },
         "type": "log"
        },
        "yaxis": {
         "anchor": "x",
         "domain": [
          0,
          1
         ],
         "title": {
          "text": "incident_rate"
         }
        }
       }
      },
      "text/html": [
       "<div>                            <div id=\"ba1a24ba-2280-4ec5-803e-e09afcdd4e7a\" class=\"plotly-graph-div\" style=\"height:525px; width:100%;\"></div>            <script type=\"text/javascript\">                require([\"plotly\"], function(Plotly) {                    window.PLOTLYENV=window.PLOTLYENV || {};                                    if (document.getElementById(\"ba1a24ba-2280-4ec5-803e-e09afcdd4e7a\")) {                    Plotly.newPlot(                        \"ba1a24ba-2280-4ec5-803e-e09afcdd4e7a\",                        [{\"hovertemplate\": \"<b>%{hovertext}</b><br><br>country_region=Yemen<br>mortality_rate=%{marker.size}<br>incident_rate=%{y}<extra></extra>\", \"hovertext\": [\"Yemen\"], \"legendgroup\": \"Yemen\", \"marker\": {\"color\": \"#636efa\", \"size\": [28.91625615763547], \"sizemode\": \"area\", \"sizeref\": 0.008032293377120964, \"symbol\": \"circle\"}, \"mode\": \"markers\", \"name\": \"Yemen\", \"orientation\": \"v\", \"showlegend\": true, \"type\": \"scatter\", \"x\": [28.91625615763547], \"xaxis\": \"x\", \"y\": [6.806149594205961], \"yaxis\": \"y\"}, {\"hovertemplate\": \"<b>%{hovertext}</b><br><br>country_region=MS Zaandam<br>mortality_rate=%{marker.size}<br>incident_rate=%{y}<extra></extra>\", \"hovertext\": [\"MS Zaandam\"], \"legendgroup\": \"MS Zaandam\", \"marker\": {\"color\": \"#EF553B\", \"size\": [22.222222222222218], \"sizemode\": \"area\", \"sizeref\": 0.008032293377120964, \"symbol\": \"circle\"}, \"mode\": \"markers\", \"name\": \"MS Zaandam\", \"orientation\": \"v\", \"showlegend\": true, \"type\": \"scatter\", \"x\": [22.222222222222218], \"xaxis\": \"x\", \"y\": [null], \"yaxis\": \"y\"}, {\"hovertemplate\": \"<b>%{hovertext}</b><br><br>country_region=Italy<br>mortality_rate=%{marker.size}<br>incident_rate=%{y}<extra></extra>\", \"hovertext\": [\"Italy\"], \"legendgroup\": \"Italy\", \"marker\": {\"color\": \"#00cc96\", \"size\": [11.564527059734726], \"sizemode\": \"area\", \"sizeref\": 0.008032293377120964, \"symbol\": \"circle\"}, \"mode\": \"markers\", \"name\": \"Italy\", \"orientation\": \"v\", \"showlegend\": true, \"type\": \"scatter\", \"x\": [11.564527059734726], \"xaxis\": \"x\", \"y\": [512.5051793008971], \"yaxis\": \"y\"}, {\"hovertemplate\": \"<b>%{hovertext}</b><br><br>country_region=Mexico<br>mortality_rate=%{marker.size}<br>incident_rate=%{y}<extra></extra>\", \"hovertext\": [\"Mexico\"], \"legendgroup\": \"Mexico\", \"marker\": {\"color\": \"#ab63fa\", \"size\": [10.495559798521814], \"sizemode\": \"area\", \"sizeref\": 0.008032293377120964, \"symbol\": \"circle\"}, \"mode\": \"markers\", \"name\": \"Mexico\", \"orientation\": \"v\", \"showlegend\": true, \"type\": \"scatter\", \"x\": [10.495559798521814], \"xaxis\": \"x\", \"y\": [568.4466744729804], \"yaxis\": \"y\"}, {\"hovertemplate\": \"<b>%{hovertext}</b><br><br>country_region=Western Sahara<br>mortality_rate=%{marker.size}<br>incident_rate=%{y}<extra></extra>\", \"hovertext\": [\"Western Sahara\"], \"legendgroup\": \"Western Sahara\", \"marker\": {\"color\": \"#FFA15A\", \"size\": [10.0], \"sizemode\": \"area\", \"sizeref\": 0.008032293377120964, \"symbol\": \"circle\"}, \"mode\": \"markers\", \"name\": \"Western Sahara\", \"orientation\": \"v\", \"showlegend\": true, \"type\": \"scatter\", \"x\": [10.0], \"xaxis\": \"x\", \"y\": [1.674116485025028], \"yaxis\": \"y\"}, {\"hovertemplate\": \"<b>%{hovertext}</b><br><br>country_region=United Kingdom<br>mortality_rate=%{marker.size}<br>incident_rate=%{y}<extra></extra>\", \"hovertext\": [\"United Kingdom\"], \"legendgroup\": \"United Kingdom\", \"marker\": {\"color\": \"#19d3f3\", \"size\": [9.617248283491346], \"sizemode\": \"area\", \"sizeref\": 0.008032293377120964, \"symbol\": \"circle\"}, \"mode\": \"markers\", \"name\": \"United Kingdom\", \"orientation\": \"v\", \"showlegend\": true, \"type\": \"scatter\", \"x\": [9.617248283491346], \"xaxis\": \"x\", \"y\": [644.4863067798187], \"yaxis\": \"y\"}, {\"hovertemplate\": \"<b>%{hovertext}</b><br><br>country_region=Belgium<br>mortality_rate=%{marker.size}<br>incident_rate=%{y}<extra></extra>\", \"hovertext\": [\"Belgium\"], \"legendgroup\": \"Belgium\", \"marker\": {\"color\": \"#FF6692\", \"size\": [8.841963422958608], \"sizemode\": \"area\", \"sizeref\": 0.008032293377120964, \"symbol\": \"circle\"}, \"mode\": \"markers\", \"name\": \"Belgium\", \"orientation\": \"v\", \"showlegend\": true, \"type\": \"scatter\", \"x\": [8.841963422958608], \"xaxis\": \"x\", \"y\": [973.3109362726082], \"yaxis\": \"y\"}, {\"hovertemplate\": \"<b>%{hovertext}</b><br><br>country_region=Ecuador<br>mortality_rate=%{marker.size}<br>incident_rate=%{y}<extra></extra>\", \"hovertext\": [\"Ecuador\"], \"legendgroup\": \"Ecuador\", \"marker\": {\"color\": \"#B6E880\", \"size\": [8.370501755141117], \"sizemode\": \"area\", \"sizeref\": 0.008032293377120964, \"symbol\": \"circle\"}, \"mode\": \"markers\", \"name\": \"Ecuador\", \"orientation\": \"v\", \"showlegend\": true, \"type\": \"scatter\", \"x\": [8.370501755141117], \"xaxis\": \"x\", \"y\": [763.7393966806212], \"yaxis\": \"y\"}, {\"hovertemplate\": \"<b>%{hovertext}</b><br><br>country_region=Chad<br>mortality_rate=%{marker.size}<br>incident_rate=%{y}<extra></extra>\", \"hovertext\": [\"Chad\"], \"legendgroup\": \"Chad\", \"marker\": {\"color\": \"#FF97FF\", \"size\": [7.051826677994902], \"sizemode\": \"area\", \"sizeref\": 0.008032293377120964, \"symbol\": \"circle\"}, \"mode\": \"markers\", \"name\": \"Chad\", \"orientation\": \"v\", \"showlegend\": true, \"type\": \"scatter\", \"x\": [7.051826677994902], \"xaxis\": \"x\", \"y\": [7.1655308863907825], \"yaxis\": \"y\"}, {\"hovertemplate\": \"<b>%{hovertext}</b><br><br>country_region=Sweden<br>mortality_rate=%{marker.size}<br>incident_rate=%{y}<extra></extra>\", \"hovertext\": [\"Sweden\"], \"legendgroup\": \"Sweden\", \"marker\": {\"color\": \"#FECB52\", \"size\": [6.46701054738625], \"sizemode\": \"area\", \"sizeref\": 0.008032293377120964, \"symbol\": \"circle\"}, \"mode\": \"markers\", \"name\": \"Sweden\", \"orientation\": \"v\", \"showlegend\": true, \"type\": \"scatter\", \"x\": [6.46701054738625], \"xaxis\": \"x\", \"y\": [900.2927934395258], \"yaxis\": \"y\"}],                        {\"legend\": {\"itemsizing\": \"constant\", \"title\": {\"text\": \"country_region\"}, \"tracegroupgap\": 0}, \"margin\": {\"t\": 60}, \"template\": {\"data\": {\"bar\": [{\"error_x\": {\"color\": \"#2a3f5f\"}, \"error_y\": {\"color\": \"#2a3f5f\"}, \"marker\": {\"line\": {\"color\": \"#E5ECF6\", \"width\": 0.5}}, \"type\": \"bar\"}], \"barpolar\": [{\"marker\": {\"line\": {\"color\": \"#E5ECF6\", \"width\": 0.5}}, \"type\": \"barpolar\"}], \"carpet\": [{\"aaxis\": {\"endlinecolor\": \"#2a3f5f\", \"gridcolor\": \"white\", \"linecolor\": \"white\", \"minorgridcolor\": \"white\", \"startlinecolor\": \"#2a3f5f\"}, \"baxis\": {\"endlinecolor\": \"#2a3f5f\", \"gridcolor\": \"white\", \"linecolor\": \"white\", \"minorgridcolor\": \"white\", \"startlinecolor\": \"#2a3f5f\"}, \"type\": \"carpet\"}], \"choropleth\": [{\"colorbar\": {\"outlinewidth\": 0, \"ticks\": \"\"}, \"type\": \"choropleth\"}], \"contour\": [{\"colorbar\": {\"outlinewidth\": 0, \"ticks\": \"\"}, \"colorscale\": [[0.0, \"#0d0887\"], [0.1111111111111111, \"#46039f\"], [0.2222222222222222, \"#7201a8\"], [0.3333333333333333, \"#9c179e\"], [0.4444444444444444, \"#bd3786\"], [0.5555555555555556, \"#d8576b\"], [0.6666666666666666, \"#ed7953\"], [0.7777777777777778, \"#fb9f3a\"], [0.8888888888888888, \"#fdca26\"], [1.0, \"#f0f921\"]], \"type\": \"contour\"}], \"contourcarpet\": [{\"colorbar\": {\"outlinewidth\": 0, \"ticks\": \"\"}, \"type\": \"contourcarpet\"}], \"heatmap\": [{\"colorbar\": {\"outlinewidth\": 0, \"ticks\": \"\"}, \"colorscale\": [[0.0, \"#0d0887\"], [0.1111111111111111, \"#46039f\"], [0.2222222222222222, \"#7201a8\"], [0.3333333333333333, \"#9c179e\"], [0.4444444444444444, \"#bd3786\"], [0.5555555555555556, \"#d8576b\"], [0.6666666666666666, \"#ed7953\"], [0.7777777777777778, \"#fb9f3a\"], [0.8888888888888888, \"#fdca26\"], [1.0, \"#f0f921\"]], \"type\": \"heatmap\"}], \"heatmapgl\": [{\"colorbar\": {\"outlinewidth\": 0, \"ticks\": \"\"}, \"colorscale\": [[0.0, \"#0d0887\"], [0.1111111111111111, \"#46039f\"], [0.2222222222222222, \"#7201a8\"], [0.3333333333333333, \"#9c179e\"], [0.4444444444444444, \"#bd3786\"], [0.5555555555555556, \"#d8576b\"], [0.6666666666666666, \"#ed7953\"], [0.7777777777777778, \"#fb9f3a\"], [0.8888888888888888, \"#fdca26\"], [1.0, \"#f0f921\"]], \"type\": \"heatmapgl\"}], \"histogram\": [{\"marker\": {\"colorbar\": {\"outlinewidth\": 0, \"ticks\": \"\"}}, \"type\": \"histogram\"}], \"histogram2d\": [{\"colorbar\": {\"outlinewidth\": 0, \"ticks\": \"\"}, \"colorscale\": [[0.0, \"#0d0887\"], [0.1111111111111111, \"#46039f\"], [0.2222222222222222, \"#7201a8\"], [0.3333333333333333, \"#9c179e\"], [0.4444444444444444, \"#bd3786\"], [0.5555555555555556, \"#d8576b\"], [0.6666666666666666, \"#ed7953\"], [0.7777777777777778, \"#fb9f3a\"], [0.8888888888888888, \"#fdca26\"], [1.0, \"#f0f921\"]], \"type\": \"histogram2d\"}], \"histogram2dcontour\": [{\"colorbar\": {\"outlinewidth\": 0, \"ticks\": \"\"}, \"colorscale\": [[0.0, \"#0d0887\"], [0.1111111111111111, \"#46039f\"], [0.2222222222222222, \"#7201a8\"], [0.3333333333333333, \"#9c179e\"], [0.4444444444444444, \"#bd3786\"], [0.5555555555555556, \"#d8576b\"], [0.6666666666666666, \"#ed7953\"], [0.7777777777777778, \"#fb9f3a\"], [0.8888888888888888, \"#fdca26\"], [1.0, \"#f0f921\"]], \"type\": \"histogram2dcontour\"}], \"mesh3d\": [{\"colorbar\": {\"outlinewidth\": 0, \"ticks\": \"\"}, \"type\": \"mesh3d\"}], \"parcoords\": [{\"line\": {\"colorbar\": {\"outlinewidth\": 0, \"ticks\": \"\"}}, \"type\": \"parcoords\"}], \"pie\": [{\"automargin\": true, \"type\": \"pie\"}], \"scatter\": [{\"marker\": {\"colorbar\": {\"outlinewidth\": 0, \"ticks\": \"\"}}, \"type\": \"scatter\"}], \"scatter3d\": [{\"line\": {\"colorbar\": {\"outlinewidth\": 0, \"ticks\": \"\"}}, \"marker\": {\"colorbar\": {\"outlinewidth\": 0, \"ticks\": \"\"}}, \"type\": \"scatter3d\"}], \"scattercarpet\": [{\"marker\": {\"colorbar\": {\"outlinewidth\": 0, \"ticks\": \"\"}}, \"type\": \"scattercarpet\"}], \"scattergeo\": [{\"marker\": {\"colorbar\": {\"outlinewidth\": 0, \"ticks\": \"\"}}, \"type\": \"scattergeo\"}], \"scattergl\": [{\"marker\": {\"colorbar\": {\"outlinewidth\": 0, \"ticks\": \"\"}}, \"type\": \"scattergl\"}], \"scattermapbox\": [{\"marker\": {\"colorbar\": {\"outlinewidth\": 0, \"ticks\": \"\"}}, \"type\": \"scattermapbox\"}], \"scatterpolar\": [{\"marker\": {\"colorbar\": {\"outlinewidth\": 0, \"ticks\": \"\"}}, \"type\": \"scatterpolar\"}], \"scatterpolargl\": [{\"marker\": {\"colorbar\": {\"outlinewidth\": 0, \"ticks\": \"\"}}, \"type\": \"scatterpolargl\"}], \"scatterternary\": [{\"marker\": {\"colorbar\": {\"outlinewidth\": 0, \"ticks\": \"\"}}, \"type\": \"scatterternary\"}], \"surface\": [{\"colorbar\": {\"outlinewidth\": 0, \"ticks\": \"\"}, \"colorscale\": [[0.0, \"#0d0887\"], [0.1111111111111111, \"#46039f\"], [0.2222222222222222, \"#7201a8\"], [0.3333333333333333, \"#9c179e\"], [0.4444444444444444, \"#bd3786\"], [0.5555555555555556, \"#d8576b\"], [0.6666666666666666, \"#ed7953\"], [0.7777777777777778, \"#fb9f3a\"], [0.8888888888888888, \"#fdca26\"], [1.0, \"#f0f921\"]], \"type\": \"surface\"}], \"table\": [{\"cells\": {\"fill\": {\"color\": \"#EBF0F8\"}, \"line\": {\"color\": \"white\"}}, \"header\": {\"fill\": {\"color\": \"#C8D4E3\"}, \"line\": {\"color\": \"white\"}}, \"type\": \"table\"}]}, \"layout\": {\"annotationdefaults\": {\"arrowcolor\": \"#2a3f5f\", \"arrowhead\": 0, \"arrowwidth\": 1}, \"coloraxis\": {\"colorbar\": {\"outlinewidth\": 0, \"ticks\": \"\"}}, \"colorscale\": {\"diverging\": [[0, \"#8e0152\"], [0.1, \"#c51b7d\"], [0.2, \"#de77ae\"], [0.3, \"#f1b6da\"], [0.4, \"#fde0ef\"], [0.5, \"#f7f7f7\"], [0.6, \"#e6f5d0\"], [0.7, \"#b8e186\"], [0.8, \"#7fbc41\"], [0.9, \"#4d9221\"], [1, \"#276419\"]], \"sequential\": [[0.0, \"#0d0887\"], [0.1111111111111111, \"#46039f\"], [0.2222222222222222, \"#7201a8\"], [0.3333333333333333, \"#9c179e\"], [0.4444444444444444, \"#bd3786\"], [0.5555555555555556, \"#d8576b\"], [0.6666666666666666, \"#ed7953\"], [0.7777777777777778, \"#fb9f3a\"], [0.8888888888888888, \"#fdca26\"], [1.0, \"#f0f921\"]], \"sequentialminus\": [[0.0, \"#0d0887\"], [0.1111111111111111, \"#46039f\"], [0.2222222222222222, \"#7201a8\"], [0.3333333333333333, \"#9c179e\"], [0.4444444444444444, \"#bd3786\"], [0.5555555555555556, \"#d8576b\"], [0.6666666666666666, \"#ed7953\"], [0.7777777777777778, \"#fb9f3a\"], [0.8888888888888888, \"#fdca26\"], [1.0, \"#f0f921\"]]}, \"colorway\": [\"#636efa\", \"#EF553B\", \"#00cc96\", \"#ab63fa\", \"#FFA15A\", \"#19d3f3\", \"#FF6692\", \"#B6E880\", \"#FF97FF\", \"#FECB52\"], \"font\": {\"color\": \"#2a3f5f\"}, \"geo\": {\"bgcolor\": \"white\", \"lakecolor\": \"white\", \"landcolor\": \"#E5ECF6\", \"showlakes\": true, \"showland\": true, \"subunitcolor\": \"white\"}, \"hoverlabel\": {\"align\": \"left\"}, \"hovermode\": \"closest\", \"mapbox\": {\"style\": \"light\"}, \"paper_bgcolor\": \"white\", \"plot_bgcolor\": \"#E5ECF6\", \"polar\": {\"angularaxis\": {\"gridcolor\": \"white\", \"linecolor\": \"white\", \"ticks\": \"\"}, \"bgcolor\": \"#E5ECF6\", \"radialaxis\": {\"gridcolor\": \"white\", \"linecolor\": \"white\", \"ticks\": \"\"}}, \"scene\": {\"xaxis\": {\"backgroundcolor\": \"#E5ECF6\", \"gridcolor\": \"white\", \"gridwidth\": 2, \"linecolor\": \"white\", \"showbackground\": true, \"ticks\": \"\", \"zerolinecolor\": \"white\"}, \"yaxis\": {\"backgroundcolor\": \"#E5ECF6\", \"gridcolor\": \"white\", \"gridwidth\": 2, \"linecolor\": \"white\", \"showbackground\": true, \"ticks\": \"\", \"zerolinecolor\": \"white\"}, \"zaxis\": {\"backgroundcolor\": \"#E5ECF6\", \"gridcolor\": \"white\", \"gridwidth\": 2, \"linecolor\": \"white\", \"showbackground\": true, \"ticks\": \"\", \"zerolinecolor\": \"white\"}}, \"shapedefaults\": {\"line\": {\"color\": \"#2a3f5f\"}}, \"ternary\": {\"aaxis\": {\"gridcolor\": \"white\", \"linecolor\": \"white\", \"ticks\": \"\"}, \"baxis\": {\"gridcolor\": \"white\", \"linecolor\": \"white\", \"ticks\": \"\"}, \"bgcolor\": \"#E5ECF6\", \"caxis\": {\"gridcolor\": \"white\", \"linecolor\": \"white\", \"ticks\": \"\"}}, \"title\": {\"x\": 0.05}, \"xaxis\": {\"automargin\": true, \"gridcolor\": \"white\", \"linecolor\": \"white\", \"ticks\": \"\", \"title\": {\"standoff\": 15}, \"zerolinecolor\": \"white\", \"zerolinewidth\": 2}, \"yaxis\": {\"automargin\": true, \"gridcolor\": \"white\", \"linecolor\": \"white\", \"ticks\": \"\", \"title\": {\"standoff\": 15}, \"zerolinecolor\": \"white\", \"zerolinewidth\": 2}}}, \"xaxis\": {\"anchor\": \"y\", \"domain\": [0.0, 1.0], \"title\": {\"text\": \"mortality_rate\"}, \"type\": \"log\"}, \"yaxis\": {\"anchor\": \"x\", \"domain\": [0.0, 1.0], \"title\": {\"text\": \"incident_rate\"}}},                        {\"responsive\": true}                    ).then(function(){\n",
       "                            \n",
       "var gd = document.getElementById('ba1a24ba-2280-4ec5-803e-e09afcdd4e7a');\n",
       "var x = new MutationObserver(function (mutations, observer) {{\n",
       "        var display = window.getComputedStyle(gd).display;\n",
       "        if (!display || display === 'none') {{\n",
       "            console.log([gd, 'removed!']);\n",
       "            Plotly.purge(gd);\n",
       "            observer.disconnect();\n",
       "        }}\n",
       "}});\n",
       "\n",
       "// Listen for the removal of the full notebook cells\n",
       "var notebookContainer = gd.closest('#notebook-container');\n",
       "if (notebookContainer) {{\n",
       "    x.observe(notebookContainer, {childList: true});\n",
       "}}\n",
       "\n",
       "// Listen for the clearing of the current output cell\n",
       "var outputEl = gd.closest('.output');\n",
       "if (outputEl) {{\n",
       "    x.observe(outputEl, {childList: true});\n",
       "}}\n",
       "\n",
       "                        })                };                });            </script>        </div>"
      ]
     },
     "metadata": {},
     "output_type": "display_data"
    }
   ],
   "source": [
    "#Mortality Rate\n",
    "top_10_mortality_rate = country_df.sort_values(by=\"mortality_rate\", ascending=False).head(10)\n",
    "fig = px.scatter(top_10_mortality_rate, \n",
    "                 x=\"mortality_rate\", y=\"incident_rate\",size=\"mortality_rate\", color=\"country_region\",\n",
    "                 hover_name=\"country_region\", log_x=True, size_max=60)\n",
    "fig.show()"
   ]
  },
  {
   "cell_type": "code",
   "execution_count": 25,
   "metadata": {},
   "outputs": [
    {
     "data": {
      "text/html": [
       "<div>\n",
       "<style scoped>\n",
       "    .dataframe tbody tr th:only-of-type {\n",
       "        vertical-align: middle;\n",
       "    }\n",
       "\n",
       "    .dataframe tbody tr th {\n",
       "        vertical-align: top;\n",
       "    }\n",
       "\n",
       "    .dataframe thead th {\n",
       "        text-align: right;\n",
       "    }\n",
       "</style>\n",
       "<table border=\"1\" class=\"dataframe\">\n",
       "  <thead>\n",
       "    <tr style=\"text-align: right;\">\n",
       "      <th></th>\n",
       "      <th>country_region</th>\n",
       "      <th>last_update</th>\n",
       "      <th>lat</th>\n",
       "      <th>long_</th>\n",
       "      <th>confirmed</th>\n",
       "      <th>deaths</th>\n",
       "      <th>recovered</th>\n",
       "      <th>active</th>\n",
       "      <th>incident_rate</th>\n",
       "      <th>people_tested</th>\n",
       "      <th>people_hospitalized</th>\n",
       "      <th>mortality_rate</th>\n",
       "      <th>uid</th>\n",
       "      <th>iso3</th>\n",
       "    </tr>\n",
       "  </thead>\n",
       "  <tbody>\n",
       "    <tr>\n",
       "      <th>0</th>\n",
       "      <td>Afghanistan</td>\n",
       "      <td>2020-09-27 18:23:30</td>\n",
       "      <td>33.93911</td>\n",
       "      <td>67.70995</td>\n",
       "      <td>39227.00000</td>\n",
       "      <td>1453.00000</td>\n",
       "      <td>32642.00000</td>\n",
       "      <td>5132.00000</td>\n",
       "      <td>100.76720</td>\n",
       "      <td>nan</td>\n",
       "      <td>nan</td>\n",
       "      <td>3.70408</td>\n",
       "      <td>4</td>\n",
       "      <td>AFG</td>\n",
       "    </tr>\n",
       "    <tr>\n",
       "      <th>1</th>\n",
       "      <td>Albania</td>\n",
       "      <td>2020-09-27 18:23:30</td>\n",
       "      <td>41.15330</td>\n",
       "      <td>20.16830</td>\n",
       "      <td>13259.00000</td>\n",
       "      <td>377.00000</td>\n",
       "      <td>7397.00000</td>\n",
       "      <td>5485.00000</td>\n",
       "      <td>460.73389</td>\n",
       "      <td>nan</td>\n",
       "      <td>nan</td>\n",
       "      <td>2.84335</td>\n",
       "      <td>8</td>\n",
       "      <td>ALB</td>\n",
       "    </tr>\n",
       "    <tr>\n",
       "      <th>2</th>\n",
       "      <td>Algeria</td>\n",
       "      <td>2020-09-27 18:23:30</td>\n",
       "      <td>28.03390</td>\n",
       "      <td>1.65960</td>\n",
       "      <td>51067.00000</td>\n",
       "      <td>1714.00000</td>\n",
       "      <td>35860.00000</td>\n",
       "      <td>13493.00000</td>\n",
       "      <td>116.45561</td>\n",
       "      <td>nan</td>\n",
       "      <td>nan</td>\n",
       "      <td>3.35637</td>\n",
       "      <td>12</td>\n",
       "      <td>DZA</td>\n",
       "    </tr>\n",
       "    <tr>\n",
       "      <th>3</th>\n",
       "      <td>Andorra</td>\n",
       "      <td>2020-09-27 18:23:30</td>\n",
       "      <td>42.50630</td>\n",
       "      <td>1.52180</td>\n",
       "      <td>1836.00000</td>\n",
       "      <td>53.00000</td>\n",
       "      <td>1263.00000</td>\n",
       "      <td>520.00000</td>\n",
       "      <td>2376.23762</td>\n",
       "      <td>nan</td>\n",
       "      <td>nan</td>\n",
       "      <td>2.88671</td>\n",
       "      <td>20</td>\n",
       "      <td>AND</td>\n",
       "    </tr>\n",
       "    <tr>\n",
       "      <th>4</th>\n",
       "      <td>Angola</td>\n",
       "      <td>2020-09-27 18:23:30</td>\n",
       "      <td>-11.20270</td>\n",
       "      <td>17.87390</td>\n",
       "      <td>4672.00000</td>\n",
       "      <td>171.00000</td>\n",
       "      <td>1639.00000</td>\n",
       "      <td>2862.00000</td>\n",
       "      <td>14.21518</td>\n",
       "      <td>nan</td>\n",
       "      <td>nan</td>\n",
       "      <td>3.66010</td>\n",
       "      <td>24</td>\n",
       "      <td>AGO</td>\n",
       "    </tr>\n",
       "  </tbody>\n",
       "</table>\n",
       "</div>"
      ],
      "text/plain": [
       "  country_region          last_update       lat    long_   confirmed  \\\n",
       "0    Afghanistan  2020-09-27 18:23:30  33.93911 67.70995 39227.00000   \n",
       "1        Albania  2020-09-27 18:23:30  41.15330 20.16830 13259.00000   \n",
       "2        Algeria  2020-09-27 18:23:30  28.03390  1.65960 51067.00000   \n",
       "3        Andorra  2020-09-27 18:23:30  42.50630  1.52180  1836.00000   \n",
       "4         Angola  2020-09-27 18:23:30 -11.20270 17.87390  4672.00000   \n",
       "\n",
       "      deaths   recovered      active  incident_rate  people_tested  \\\n",
       "0 1453.00000 32642.00000  5132.00000      100.76720            nan   \n",
       "1  377.00000  7397.00000  5485.00000      460.73389            nan   \n",
       "2 1714.00000 35860.00000 13493.00000      116.45561            nan   \n",
       "3   53.00000  1263.00000   520.00000     2376.23762            nan   \n",
       "4  171.00000  1639.00000  2862.00000       14.21518            nan   \n",
       "\n",
       "   people_hospitalized  mortality_rate  uid iso3  \n",
       "0                  nan         3.70408    4  AFG  \n",
       "1                  nan         2.84335    8  ALB  \n",
       "2                  nan         3.35637   12  DZA  \n",
       "3                  nan         2.88671   20  AND  \n",
       "4                  nan         3.66010   24  AGO  "
      ]
     },
     "execution_count": 25,
     "metadata": {},
     "output_type": "execute_result"
    }
   ],
   "source": [
    "country_df.head()"
   ]
  },
  {
   "cell_type": "code",
   "execution_count": 26,
   "metadata": {},
   "outputs": [
    {
     "data": {
      "text/plain": [
       "Index(['country_region', 'last_update', 'lat', 'long_', 'confirmed', 'deaths',\n",
       "       'recovered', 'active', 'incident_rate', 'people_tested',\n",
       "       'people_hospitalized', 'mortality_rate', 'uid', 'iso3'],\n",
       "      dtype='object')"
      ]
     },
     "execution_count": 26,
     "metadata": {},
     "output_type": "execute_result"
    }
   ],
   "source": [
    "country_df.columns"
   ]
  },
  {
   "cell_type": "code",
   "execution_count": 27,
   "metadata": {},
   "outputs": [],
   "source": [
    "import folium"
   ]
  },
  {
   "cell_type": "code",
   "execution_count": 28,
   "metadata": {},
   "outputs": [],
   "source": [
    "# Filter only those that have lat and long_ values\n",
    "country_df = country_df[~country_df['lat'].isnull()]\n",
    "country_df = country_df[~country_df['long_'].isnull()]"
   ]
  },
  {
   "cell_type": "code",
   "execution_count": 29,
   "metadata": {},
   "outputs": [
    {
     "name": "stdout",
     "output_type": "stream",
     "text": [
      "7094145.0\n",
      "10.0\n",
      "7094135.0\n",
      "0.005516528794560577 39144.999998590385\n"
     ]
    }
   ],
   "source": [
    "max_confirmed = country_df['confirmed'].max()\n",
    "min_confirmed = country_df['confirmed'].min()\n",
    "print(max_confirmed)\n",
    "print(min_confirmed)\n",
    "print(max_confirmed-min_confirmed)\n",
    "normalized_radius = (39145-min_confirmed)/(max_confirmed-min_confirmed)\n",
    "print(normalized_radius,39145-min_confirmed/(max_confirmed-min_confirmed))"
   ]
  },
  {
   "cell_type": "code",
   "execution_count": 30,
   "metadata": {},
   "outputs": [
    {
     "data": {
      "text/html": [
       "<div style=\"width:100%;\"><div style=\"position:relative;width:100%;height:0;padding-bottom:60%;\"><span style=\"color:#565656\">Make this Notebook Trusted to load map: File -> Trust Notebook</span><iframe src=\"about:blank\" style=\"position:absolute;width:100%;height:100%;left:0;top:0;border:none !important;\" data-html=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 onload=\"this.contentDocument.open();this.contentDocument.write(atob(this.getAttribute('data-html')));this.contentDocument.close();\" allowfullscreen webkitallowfullscreen mozallowfullscreen></iframe></div></div>"
      ],
      "text/plain": [
       "<folium.folium.Map at 0x7fb6ef98b350>"
      ]
     },
     "execution_count": 30,
     "metadata": {},
     "output_type": "execute_result"
    }
   ],
   "source": [
    "m = folium.Map()\n",
    "\n",
    "for country_region, lat, long_, confirmed, deaths, recovered,mortality_rate in zip(country_df['country_region'],\n",
    "                                      country_df['lat'],\n",
    "                                      country_df['long_'],\n",
    "                                      country_df['confirmed'],\n",
    "                                      country_df['deaths'],\n",
    "                                      country_df['recovered'],\n",
    "                                      country_df['mortality_rate']\n",
    "                                     ):\n",
    "\n",
    "    folium.Circle(\n",
    "        #Normalize and augment \n",
    "        radius=((confirmed-min_confirmed)/(max_confirmed-min_confirmed))*1000000,\n",
    "        location=[lat, long_],\n",
    "        popup=country_region,\n",
    "        color='crimson',\n",
    "        fill=True,\n",
    "        fill_color = 'red',\n",
    "        tooltip = f\"Country:{country_region}<br/>Confirmed:{confirmed}<br/>Death:{deaths}<br/>Death Rate:{mortality_rate}\"\n",
    "    ).add_to(m)\n",
    "\n",
    "m"
   ]
  }
 ],
 "metadata": {
  "kernelspec": {
   "display_name": "covid-19",
   "language": "python",
   "name": "covid-19"
  },
  "language_info": {
   "codemirror_mode": {
    "name": "ipython",
    "version": 3
   },
   "file_extension": ".py",
   "mimetype": "text/x-python",
   "name": "python",
   "nbconvert_exporter": "python",
   "pygments_lexer": "ipython3",
   "version": "3.7.9"
  }
 },
 "nbformat": 4,
 "nbformat_minor": 4
}
